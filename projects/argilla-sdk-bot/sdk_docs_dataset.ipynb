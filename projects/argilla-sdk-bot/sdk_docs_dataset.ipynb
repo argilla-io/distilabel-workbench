{
 "cells": [
  {
   "cell_type": "code",
   "execution_count": 1,
   "id": "1fdf98be-8287-4ddd-a088-03fa6c064870",
   "metadata": {},
   "outputs": [
    {
     "name": "stdout",
     "output_type": "stream",
     "text": [
      "Collecting markdown-it-py\n",
      "  Using cached markdown_it_py-3.0.0-py3-none-any.whl.metadata (6.9 kB)\n",
      "Collecting mdurl~=0.1 (from markdown-it-py)\n",
      "  Using cached mdurl-0.1.2-py3-none-any.whl.metadata (1.6 kB)\n",
      "Using cached markdown_it_py-3.0.0-py3-none-any.whl (87 kB)\n",
      "Using cached mdurl-0.1.2-py3-none-any.whl (10.0 kB)\n",
      "Installing collected packages: mdurl, markdown-it-py\n",
      "Successfully installed markdown-it-py-3.0.0 mdurl-0.1.2\n"
     ]
    }
   ],
   "source": [
    "!pip install markdown-it-py"
   ]
  },
  {
   "cell_type": "code",
   "execution_count": 2,
   "id": "0a2df04a-0722-457e-b91c-47a3652f4c23",
   "metadata": {},
   "outputs": [
    {
     "name": "stdout",
     "output_type": "stream",
     "text": [
      "Collecting PyGithub\n",
      "  Downloading PyGithub-2.3.0-py3-none-any.whl.metadata (3.8 kB)\n",
      "Collecting pynacl>=1.4.0 (from PyGithub)\n",
      "  Downloading PyNaCl-1.5.0-cp36-abi3-macosx_10_10_universal2.whl.metadata (8.7 kB)\n",
      "Requirement already satisfied: requests>=2.14.0 in ./.venv/lib/python3.11/site-packages (from PyGithub) (2.32.3)\n",
      "Collecting pyjwt>=2.4.0 (from pyjwt[crypto]>=2.4.0->PyGithub)\n",
      "  Downloading PyJWT-2.8.0-py3-none-any.whl.metadata (4.2 kB)\n",
      "Requirement already satisfied: typing-extensions>=4.0.0 in ./.venv/lib/python3.11/site-packages (from PyGithub) (4.12.1)\n",
      "Requirement already satisfied: urllib3>=1.26.0 in ./.venv/lib/python3.11/site-packages (from PyGithub) (2.2.1)\n",
      "Collecting Deprecated (from PyGithub)\n",
      "  Using cached Deprecated-1.2.14-py2.py3-none-any.whl.metadata (5.4 kB)\n",
      "Collecting cryptography>=3.4.0 (from pyjwt[crypto]>=2.4.0->PyGithub)\n",
      "  Downloading cryptography-42.0.8-cp39-abi3-macosx_10_12_universal2.whl.metadata (5.3 kB)\n",
      "Requirement already satisfied: cffi>=1.4.1 in ./.venv/lib/python3.11/site-packages (from pynacl>=1.4.0->PyGithub) (1.16.0)\n",
      "Requirement already satisfied: charset-normalizer<4,>=2 in ./.venv/lib/python3.11/site-packages (from requests>=2.14.0->PyGithub) (3.3.2)\n",
      "Requirement already satisfied: idna<4,>=2.5 in ./.venv/lib/python3.11/site-packages (from requests>=2.14.0->PyGithub) (3.7)\n",
      "Requirement already satisfied: certifi>=2017.4.17 in ./.venv/lib/python3.11/site-packages (from requests>=2.14.0->PyGithub) (2024.6.2)\n",
      "Collecting wrapt<2,>=1.10 (from Deprecated->PyGithub)\n",
      "  Downloading wrapt-1.16.0-cp311-cp311-macosx_11_0_arm64.whl.metadata (6.6 kB)\n",
      "Requirement already satisfied: pycparser in ./.venv/lib/python3.11/site-packages (from cffi>=1.4.1->pynacl>=1.4.0->PyGithub) (2.22)\n",
      "Downloading PyGithub-2.3.0-py3-none-any.whl (354 kB)\n",
      "\u001b[2K   \u001b[38;2;114;156;31m━━━━━━━━━━━━━━━━━━━━━━━━━━━━━━━━━━━━━━━━\u001b[0m \u001b[32m354.4/354.4 kB\u001b[0m \u001b[31m7.3 MB/s\u001b[0m eta \u001b[36m0:00:00\u001b[0m MB/s\u001b[0m eta \u001b[36m0:00:01\u001b[0m\n",
      "\u001b[?25hDownloading PyJWT-2.8.0-py3-none-any.whl (22 kB)\n",
      "Using cached PyNaCl-1.5.0-cp36-abi3-macosx_10_10_universal2.whl (349 kB)\n",
      "Using cached Deprecated-1.2.14-py2.py3-none-any.whl (9.6 kB)\n",
      "Downloading cryptography-42.0.8-cp39-abi3-macosx_10_12_universal2.whl (5.9 MB)\n",
      "\u001b[2K   \u001b[38;2;114;156;31m━━━━━━━━━━━━━━━━━━━━━━━━━━━━━━━━━━━━━━━━\u001b[0m \u001b[32m5.9/5.9 MB\u001b[0m \u001b[31m47.4 MB/s\u001b[0m eta \u001b[36m0:00:00\u001b[0m31m53.2 MB/s\u001b[0m eta \u001b[36m0:00:01\u001b[0m\n",
      "\u001b[?25hDownloading wrapt-1.16.0-cp311-cp311-macosx_11_0_arm64.whl (38 kB)\n",
      "Installing collected packages: wrapt, pyjwt, pynacl, Deprecated, cryptography, PyGithub\n",
      "Successfully installed Deprecated-1.2.14 PyGithub-2.3.0 cryptography-42.0.8 pyjwt-2.8.0 pynacl-1.5.0 wrapt-1.16.0\n"
     ]
    }
   ],
   "source": [
    "!pip install PyGithub"
   ]
  },
  {
   "cell_type": "code",
   "execution_count": 10,
   "id": "cdb6893b-55b0-4af1-a61a-1021c51b90a3",
   "metadata": {},
   "outputs": [],
   "source": [
    "# Copy: https://github.com/Nordgaren/Github-Folder-Downloader/blob/master/gitdl.py\n",
    "from github import Github, Repository, ContentFile\n",
    "import requests\n",
    "import os\n",
    "\n",
    "def download(c: ContentFile, out: str):\n",
    "    r = requests.get(c.download_url)\n",
    "    output_path = f'{out}/{c.path}'\n",
    "    os.makedirs(os.path.dirname(output_path), exist_ok=True)\n",
    "    with open(output_path, 'wb') as f:\n",
    "        print(f'downloading {c.path} to {out}')\n",
    "        f.write(r.content)\n",
    "\n",
    "\n",
    "def download_folder(repo: Repository, folder: str, out: str, recursive: bool):\n",
    "    contents = repo.get_contents(folder)\n",
    "    for c in contents:\n",
    "        if c.download_url is None:\n",
    "            if recursive:\n",
    "                download_folder(repo, c.path, out, recursive)\n",
    "            continue\n",
    "        download(c, out)"
   ]
  },
  {
   "cell_type": "code",
   "execution_count": null,
   "id": "e4432ebf-37b9-43d1-8cb5-247c6aadad56",
   "metadata": {},
   "outputs": [],
   "source": [
    "g = Github()\n",
    "repo = g.get_repo(\"argilla-io/argilla-python\")"
   ]
  },
  {
   "cell_type": "code",
   "execution_count": 11,
   "id": "3a90e462-9b2b-401b-b842-c2fcdf38bd55",
   "metadata": {},
   "outputs": [
    {
     "name": "stdout",
     "output_type": "stream",
     "text": [
      "downloading docs/assets/favicon.ico to ./argilla_sdk_docs\n",
      "downloading docs/assets/images/community/contributing/argilla-slack.png to ./argilla_sdk_docs\n",
      "downloading docs/assets/images/community/contributing/channels.PNG to ./argilla_sdk_docs\n",
      "downloading docs/assets/images/community/contributing/compare-across-forks.PNG to ./argilla_sdk_docs\n",
      "downloading docs/assets/images/community/contributing/compare-pull-request.PNG to ./argilla_sdk_docs\n",
      "downloading docs/assets/images/community/contributing/create-branch-together.png to ./argilla_sdk_docs\n",
      "downloading docs/assets/images/community/contributing/create-branch.PNG to ./argilla_sdk_docs\n",
      "downloading docs/assets/images/community/contributing/create-fork.PNG to ./argilla_sdk_docs\n",
      "downloading docs/assets/images/community/contributing/edit-file.PNG to ./argilla_sdk_docs\n",
      "downloading docs/assets/images/community/contributing/fork-bar.PNG to ./argilla_sdk_docs\n",
      "downloading docs/assets/images/community/contributing/issue-feature-template.PNG to ./argilla_sdk_docs\n",
      "downloading docs/assets/images/community/contributing/issues-page.PNG to ./argilla_sdk_docs\n",
      "downloading docs/assets/images/community/contributing/pull-request-feature.PNG to ./argilla_sdk_docs\n",
      "downloading docs/assets/images/community/contributing/pull-request.PNG to ./argilla_sdk_docs\n",
      "downloading docs/assets/images/community/contributing/templates-issues.PNG to ./argilla_sdk_docs\n",
      "downloading docs/assets/images/how_to_guides/dataset/fields.png to ./argilla_sdk_docs\n",
      "downloading docs/assets/images/how_to_guides/dataset/float_metadata.png to ./argilla_sdk_docs\n",
      "downloading docs/assets/images/how_to_guides/dataset/guidelines.png to ./argilla_sdk_docs\n",
      "downloading docs/assets/images/how_to_guides/dataset/guidelines_description.png to ./argilla_sdk_docs\n",
      "downloading docs/assets/images/how_to_guides/dataset/integer_metadata.png to ./argilla_sdk_docs\n",
      "downloading docs/assets/images/how_to_guides/dataset/label_question.png to ./argilla_sdk_docs\n",
      "downloading docs/assets/images/how_to_guides/dataset/multilabel_question.png to ./argilla_sdk_docs\n",
      "downloading docs/assets/images/how_to_guides/dataset/ranking_question.png to ./argilla_sdk_docs\n",
      "downloading docs/assets/images/how_to_guides/dataset/rating_question.png to ./argilla_sdk_docs\n",
      "downloading docs/assets/images/how_to_guides/dataset/span_question.png to ./argilla_sdk_docs\n",
      "downloading docs/assets/images/how_to_guides/dataset/term_metadata.png to ./argilla_sdk_docs\n",
      "downloading docs/assets/images/how_to_guides/dataset/text_question.png to ./argilla_sdk_docs\n",
      "downloading docs/assets/images/how_to_guides/dataset/vectors.png to ./argilla_sdk_docs\n",
      "downloading docs/assets/logo.svg to ./argilla_sdk_docs\n",
      "downloading docs/assets/og-doc.png to ./argilla_sdk_docs\n",
      "downloading docs/community/contributor.md to ./argilla_sdk_docs\n",
      "downloading docs/community/index.md to ./argilla_sdk_docs\n",
      "downloading docs/getting_started/faq.md to ./argilla_sdk_docs\n",
      "downloading docs/getting_started/installation.md to ./argilla_sdk_docs\n",
      "downloading docs/getting_started/quickstart.md to ./argilla_sdk_docs\n",
      "downloading docs/guides/how_to_guides/dataset.md to ./argilla_sdk_docs\n",
      "downloading docs/guides/how_to_guides/index.md to ./argilla_sdk_docs\n",
      "downloading docs/guides/how_to_guides/query_export.md to ./argilla_sdk_docs\n",
      "downloading docs/guides/how_to_guides/record.md to ./argilla_sdk_docs\n",
      "downloading docs/guides/how_to_guides/user.md to ./argilla_sdk_docs\n",
      "downloading docs/guides/how_to_guides/workspace.md to ./argilla_sdk_docs\n",
      "downloading docs/index.md to ./argilla_sdk_docs\n",
      "downloading docs/reference/argilla_sdk/SUMMARY.md to ./argilla_sdk_docs\n",
      "downloading docs/reference/argilla_sdk/client.md to ./argilla_sdk_docs\n",
      "downloading docs/reference/argilla_sdk/datasets/dataset_records.md to ./argilla_sdk_docs\n",
      "downloading docs/reference/argilla_sdk/datasets/datasets.md to ./argilla_sdk_docs\n",
      "downloading docs/reference/argilla_sdk/records/metadata.md to ./argilla_sdk_docs\n",
      "downloading docs/reference/argilla_sdk/records/records.md to ./argilla_sdk_docs\n",
      "downloading docs/reference/argilla_sdk/records/responses.md to ./argilla_sdk_docs\n",
      "downloading docs/reference/argilla_sdk/records/suggestions.md to ./argilla_sdk_docs\n",
      "downloading docs/reference/argilla_sdk/records/vectors.md to ./argilla_sdk_docs\n",
      "downloading docs/reference/argilla_sdk/search.md to ./argilla_sdk_docs\n",
      "downloading docs/reference/argilla_sdk/settings/fields.md to ./argilla_sdk_docs\n",
      "downloading docs/reference/argilla_sdk/settings/metadata_property.md to ./argilla_sdk_docs\n",
      "downloading docs/reference/argilla_sdk/settings/questions.md to ./argilla_sdk_docs\n",
      "downloading docs/reference/argilla_sdk/settings/settings.md to ./argilla_sdk_docs\n",
      "downloading docs/reference/argilla_sdk/settings/vectors.md to ./argilla_sdk_docs\n",
      "downloading docs/reference/argilla_sdk/users.md to ./argilla_sdk_docs\n",
      "downloading docs/reference/argilla_sdk/workspaces.md to ./argilla_sdk_docs\n",
      "downloading docs/scripts/gen_ref_pages.py to ./argilla_sdk_docs\n",
      "downloading docs/stylesheets/extra.css to ./argilla_sdk_docs\n",
      "downloading docs/stylesheets/fonts/FontAwesome.otf to ./argilla_sdk_docs\n",
      "downloading docs/stylesheets/fonts/fontawesome-webfont.eot to ./argilla_sdk_docs\n",
      "downloading docs/stylesheets/fonts/fontawesome-webfont.svg to ./argilla_sdk_docs\n",
      "downloading docs/stylesheets/fonts/fontawesome-webfont.ttf to ./argilla_sdk_docs\n",
      "downloading docs/stylesheets/fonts/fontawesome-webfont.woff to ./argilla_sdk_docs\n",
      "downloading docs/stylesheets/fonts/fontawesome-webfont.woff2 to ./argilla_sdk_docs\n",
      "downloading docs/stylesheets/old.css to ./argilla_sdk_docs\n"
     ]
    }
   ],
   "source": [
    "download_folder(repo, \"docs\", \"./argilla_sdk_docs\", True)"
   ]
  },
  {
   "cell_type": "code",
   "execution_count": 12,
   "id": "0578cd40-8ca3-42bf-ba8e-0a9935db11b1",
   "metadata": {},
   "outputs": [],
   "source": [
    "from pathlib import Path\n",
    "from markdown_it import MarkdownIt\n",
    "\n",
    "md = MarkdownIt(\"zero\")\n"
   ]
  },
  {
   "cell_type": "code",
   "execution_count": 14,
   "id": "47a991aa-ebe1-4416-876a-77a8f9bfe7f2",
   "metadata": {},
   "outputs": [],
   "source": [
    "docs_path = Path(\"argilla_sdk_docs/docs\")"
   ]
  },
  {
   "cell_type": "code",
   "execution_count": 22,
   "id": "2681a430-f881-4cfb-89e7-daf6c29b2bdb",
   "metadata": {},
   "outputs": [],
   "source": [
    "md_files = list(docs_path.glob(\"**/*.md\"))"
   ]
  },
  {
   "cell_type": "code",
   "execution_count": 28,
   "id": "5147f703-a627-4d3e-a1cc-fdf874f1f85d",
   "metadata": {},
   "outputs": [],
   "source": [
    "def read_file(filename: Path) -> str:\n",
    "    \"\"\"Read a whole markdown file to a string.\"\"\"\n",
    "    with open(filename, \"r\") as f:\n",
    "        return f.read()"
   ]
  },
  {
   "cell_type": "code",
   "execution_count": 29,
   "id": "66f9ef8f-c640-4ea9-8dd3-8bddd9dc6101",
   "metadata": {},
   "outputs": [],
   "source": [
    "contents = read_file(md_files[0])"
   ]
  },
  {
   "cell_type": "code",
   "execution_count": 31,
   "id": "3c4e8b1e-9911-418a-9cc9-0fa523e16cb2",
   "metadata": {},
   "outputs": [],
   "source": [
    "md_tokens = md.parse(contents)"
   ]
  },
  {
   "cell_type": "code",
   "execution_count": 33,
   "id": "2ac59574-cb13-4e95-9556-0c4d75cf8806",
   "metadata": {},
   "outputs": [],
   "source": [
    "def is_front_matter(text: str) -> bool:\n",
    "    \"\"\"Check if a token pertains to the front matter.\n",
    "\n",
    "    The check seeks if the string starts with '---' and\n",
    "    the word `title` after a single line jump (it will fail if some\n",
    "    space is inserted between them), and ends with '---'.\n",
    "\n",
    "    Args:\n",
    "        text (str):\n",
    "            text obtained in the Token's content.\n",
    "            Expects to be applied to the tokens from a markdown parsed.\n",
    "\n",
    "    Returns:\n",
    "        bool\n",
    "    \"\"\"\n",
    "    return text.startswith(\"---\\n\") and text.endswith(\"\\n---\")\n",
    "\n",
    "\n",
    "def is_figure(text: str) -> bool:\n",
    "    \"\"\"Check if a paragraph is just a picture in the doc.\n",
    "\n",
    "    Some lines may contain just a picture, and there is no\n",
    "    reason to translate those.\n",
    "    i.e.\n",
    "    '![helpner](/images/helpner-arch-part1.png)'\n",
    "    The type of check is not perfect, it just fits my needs.\n",
    "\n",
    "    Args:\n",
    "        text (str): text obtained in the Token's content.\n",
    "\n",
    "    Returns:\n",
    "        bool:\n",
    "    \"\"\"\n",
    "    text = text.strip()\n",
    "    return text.startswith(\"![\") and text.endswith(\")\")\n",
    "\n",
    "\n",
    "def is_code(text: str) -> bool:\n",
    "    \"\"\"Check if a blob of text is a chunk of code.\n",
    "\n",
    "    Args:\n",
    "        text (str): text obtained in the Token's content.\n",
    "\n",
    "    Returns:\n",
    "        bool\n",
    "    \"\"\"\n",
    "    text = text.strip()\n",
    "    return text.startswith(\"```\") and text.endswith(\"```\")\n",
    "\n",
    "\n",
    "def is_comment(text: str) -> bool:\n",
    "    text = text.strip()\n",
    "    return text.startswith(\"<!--\") and text.endswith(\"-->\")"
   ]
  },
  {
   "cell_type": "code",
   "execution_count": 484,
   "id": "262cbde9-60ed-47bf-8440-97234dc3df35",
   "metadata": {},
   "outputs": [],
   "source": [
    "def get_text_pieces(md_tokens):\n",
    "    text_pieces = []\n",
    "    for t in md_tokens:\n",
    "        if t.type == \"inline\":\n",
    "            if any(\n",
    "                (\n",
    "                    is_front_matter(t.content),\n",
    "                    is_figure(t.content),\n",
    "                    #is_code(t.content),\n",
    "                    is_comment(t.content),\n",
    "                )\n",
    "            ):\n",
    "                continue\n",
    "            text_pieces.append(t.content)\n",
    "    return text_pieces"
   ]
  },
  {
   "cell_type": "code",
   "execution_count": 519,
   "id": "0d4c3694-b401-408d-9d87-9c798b8e8bfa",
   "metadata": {},
   "outputs": [],
   "source": [
    "#!pip install nltk"
   ]
  },
  {
   "cell_type": "code",
   "execution_count": 520,
   "id": "de7da367-d53b-42a3-b818-bce9bbed19eb",
   "metadata": {},
   "outputs": [
    {
     "data": {
      "text/plain": [
       "['# Installation',\n",
       " '## Install the SDK with pip',\n",
       " 'Since this package is not yet published on PyPi, you can install it directly from the repository:',\n",
       " '```console\\npip install git+https://github.com/argilla-io/argilla-python.git\\n```',\n",
       " '## Run the Argilla server',\n",
       " 'If you have already deployed Argilla Server, you can skip this step. Otherwise, you can quickly deploy it in two different ways:',\n",
       " '!!! note\\n    You can use this SDK with any stable release of argilla server >= 1.27.',\n",
       " '* Using a [HF Space](https://huggingface.co/new-space?template=argilla/argilla-template-space).\\n* Locally with Docker.',\n",
       " '```console\\ndocker run -d --name quickstart -p 6900:6900 argilla/argilla-quickstart:latest\\n```',\n",
       " '## Connect to the Argilla server',\n",
       " 'Get your `<api_url>`:',\n",
       " '* If you are using HF Spaces, it should be constructed as follows: `https://[your-owner-name]-[your_space_name].hf.space`\\n* If you are using Docker, it is the URL shown in your browser (by default `http://localhost:6900`)',\n",
       " 'Get your `<api_key>` in `My Settings` in the Argilla UI (by default owner.apikey).',\n",
       " '!!! note\\n    Make sure to replace `<api_url>` and `<api_key>` with your actual values. If you are using a private HF Space, you need to specify your `HF_TOKEN` which can be found [here](https://huggingface.co/settings/tokens).',\n",
       " '```python\\nimport argilla_sdk as rg',\n",
       " 'client = rg.Argilla(\\n    api_url=\"<api_url>\",\\n    api_key=\"<api_key>\",\\n    # extra_headers={\"Authorization\": f\"Bearer {HF_TOKEN}\"}\\n)\\n```',\n",
       " '## Developer documentation',\n",
       " 'If you want to contribute to the development of the SDK, you can follow the instructions below.',\n",
       " '### Installation',\n",
       " 'To install the development dependencies, run the following commands:',\n",
       " '```console\\n# Install pdm (https://github.com/pdm-project/pdm)\\npip install pdm',\n",
       " '# Install the package in editable mode\\npip install -e .',\n",
       " '# Install the development dependencies with pdm\\npdm install --dev\\n```',\n",
       " '### Generating documentation',\n",
       " 'To generate the docs you will need to install the development dependencies, and run the following command to create the development server with `mkdocs`:',\n",
       " '```console\\nmkdocs serve\\n```',\n",
       " 'You will find the built documentation in `http://localhost:8000/argilla-python/`.']"
      ]
     },
     "execution_count": 520,
     "metadata": {},
     "output_type": "execute_result"
    }
   ],
   "source": [
    "text_pieces"
   ]
  },
  {
   "cell_type": "code",
   "execution_count": 361,
   "id": "680647b6-0379-4d16-8a2d-d3faef784ff7",
   "metadata": {},
   "outputs": [
    {
     "name": "stderr",
     "output_type": "stream",
     "text": [
      "[nltk_data] Downloading package punkt to /Users/agus/nltk_data...\n",
      "[nltk_data]   Unzipping tokenizers/punkt.zip.\n"
     ]
    },
    {
     "data": {
      "text/plain": [
       "True"
      ]
     },
     "execution_count": 361,
     "metadata": {},
     "output_type": "execute_result"
    }
   ],
   "source": [
    "import nltk\n",
    "nltk.download('punkt')"
   ]
  },
  {
   "cell_type": "code",
   "execution_count": 481,
   "id": "2a5f881e-a0cb-4dac-aa15-12db99d80005",
   "metadata": {},
   "outputs": [],
   "source": [
    "from typing import List\n",
    "\n",
    "def chunk_texts(text_pieces: List[str], max_chars: int = 512):\n",
    "    chunks = []\n",
    "    current_chunk = []\n",
    "    current_chars = 0\n",
    "\n",
    "    for text in text_pieces:\n",
    "        if len(text) > max_chars:\n",
    "            sentences = nltk.sent_tokenize(text)\n",
    "            if len(sentences) > 1:\n",
    "                # To avoid infinite recursion\n",
    "                pieces = chunk_texts(sentences, max_chars)\n",
    "                chunks.extend(pieces)\n",
    "            else:\n",
    "                current_chunk.extend(sentences)\n",
    "                chunks.extend(sentences)\n",
    "\n",
    "        elif current_chars + len(text) > max_chars:\n",
    "            chunks.append(\". \".join(current_chunk))\n",
    "            current_chunk = [text]\n",
    "            current_chars = len(text)\n",
    "        \n",
    "        else:\n",
    "            current_chunk.append(text)\n",
    "            current_chars += len(text)\n",
    "\n",
    "    if current_chunk:\n",
    "        chunks.append(\". \".join(current_chunk))\n",
    "\n",
    "    return chunks\n"
   ]
  },
  {
   "cell_type": "code",
   "execution_count": 482,
   "id": "1455b432-3e2a-433c-8651-05a26c256878",
   "metadata": {},
   "outputs": [
    {
     "data": {
      "text/plain": [
       "[255,\n",
       " 223,\n",
       " 226,\n",
       " 68,\n",
       " 244,\n",
       " 226,\n",
       " 57,\n",
       " 260,\n",
       " 153,\n",
       " 188,\n",
       " 249,\n",
       " 120,\n",
       " 236,\n",
       " 384,\n",
       " 342,\n",
       " 728,\n",
       " 208,\n",
       " 109,\n",
       " 276,\n",
       " 278,\n",
       " 797,\n",
       " 101,\n",
       " 142]"
      ]
     },
     "execution_count": 482,
     "metadata": {},
     "output_type": "execute_result"
    }
   ],
   "source": [
    "max_chars = 256\n",
    "chunks = chunk_texts(text_pieces, max_chars=max_chars)\n",
    "[len(c) for c in chunks]\n",
    "#chunks"
   ]
  },
  {
   "cell_type": "code",
   "execution_count": 487,
   "id": "e46498cb-57db-4c16-8fb9-b2335f159c00",
   "metadata": {},
   "outputs": [],
   "source": [
    "#!pip install datasets"
   ]
  },
  {
   "cell_type": "code",
   "execution_count": 488,
   "id": "50ac6ae3-a487-4e9c-a582-c3c49452a63c",
   "metadata": {},
   "outputs": [
    {
     "name": "stderr",
     "output_type": "stream",
     "text": [
      "/Users/agus/github_repos/argilla-io/distilabel-workbench/projects/argilla-sdk-bot/.venv/lib/python3.11/site-packages/tqdm/auto.py:21: TqdmWarning: IProgress not found. Please update jupyter and ipywidgets. See https://ipywidgets.readthedocs.io/en/stable/user_install.html\n",
      "  from .autonotebook import tqdm as notebook_tqdm\n"
     ]
    }
   ],
   "source": [
    "from datasets import Dataset"
   ]
  },
  {
   "cell_type": "code",
   "execution_count": 493,
   "id": "1e163e4b-1c08-42d7-b55d-d088dbecbe50",
   "metadata": {},
   "outputs": [],
   "source": [
    "max_chars = 512\n",
    "\n",
    "data = {}\n",
    "\n",
    "for file in md_files:\n",
    "    contents = read_file(file)\n",
    "    md_tokens = md.parse(contents)\n",
    "    text_pieces = get_text_pieces(md_tokens)\n",
    "    chunks = chunk_texts(text_pieces, max_chars=max_chars)\n",
    "    data[str(file)] = chunks"
   ]
  },
  {
   "cell_type": "code",
   "execution_count": 511,
   "id": "bd15b64d-e3e3-4187-9ef5-257f90cc3ad8",
   "metadata": {},
   "outputs": [],
   "source": [
    "data\n",
    "df = pd.DataFrame.from_records([(k, v) for k, values in data.items() for v in values], columns=[\"filename\", \"chunks\"])\n",
    "ds = Dataset.from_pandas(df)"
   ]
  },
  {
   "cell_type": "code",
   "execution_count": 514,
   "id": "dbc15c8d-9268-4454-b734-ac86fcb1935d",
   "metadata": {},
   "outputs": [
    {
     "name": "stderr",
     "output_type": "stream",
     "text": [
      "Uploading the dataset shards:   0%|                                                                                                                                                                                                   | 0/1 [00:00<?, ?it/s]\n",
      "Creating parquet from Arrow format: 100%|████████████████████████████████████████████████████████████████████████████████████████████████████████████████████████████████████████████████████████████████████████████████████| 1/1 [00:00<00:00, 441.55ba/s]\u001b[A\n",
      "Uploading the dataset shards: 100%|███████████████████████████████████████████████████████████████████████████████████████████████████████████████████████████████████████████████████████████████████████████████████████████| 1/1 [00:01<00:00,  1.07s/it]\n"
     ]
    },
    {
     "data": {
      "text/plain": [
       "CommitInfo(commit_url='https://huggingface.co/datasets/plaguss/argilla_sdk_docs_raw/commit/5f16ab3b169a56f0765be0fad96e7145e74209a4', commit_message='Upload dataset', commit_description='', oid='5f16ab3b169a56f0765be0fad96e7145e74209a4', pr_url=None, pr_revision=None, pr_num=None)"
      ]
     },
     "execution_count": 514,
     "metadata": {},
     "output_type": "execute_result"
    }
   ],
   "source": [
    "ds.push_to_hub(\"plaguss/argilla_sdk_docs_raw\", private=False)"
   ]
  }
 ],
 "metadata": {
  "kernelspec": {
   "display_name": "Python 3 (ipykernel)",
   "language": "python",
   "name": "python3"
  },
  "language_info": {
   "codemirror_mode": {
    "name": "ipython",
    "version": 3
   },
   "file_extension": ".py",
   "mimetype": "text/x-python",
   "name": "python",
   "nbconvert_exporter": "python",
   "pygments_lexer": "ipython3",
   "version": "3.11.8"
  }
 },
 "nbformat": 4,
 "nbformat_minor": 5
}
