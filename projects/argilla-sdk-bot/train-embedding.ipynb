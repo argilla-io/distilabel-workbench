{
 "cells": [
  {
   "cell_type": "markdown",
   "id": "25b911ac-bfae-4bc4-a018-b663f8946960",
   "metadata": {},
   "source": [
    "## Training our embedding model"
   ]
  },
  {
   "cell_type": "markdown",
   "id": "db3f4110-ccd5-4c83-8d3f-7c9c34970a9f",
   "metadata": {},
   "source": [
    "### Thanks to [philschmid's](https://www.philschmid.de/fine-tune-embedding-model-for-rag) blog."
   ]
  },
  {
   "cell_type": "code",
   "execution_count": 4,
   "id": "44e82cb2-7e63-47f1-8feb-7e28984aca91",
   "metadata": {},
   "outputs": [],
   "source": [
    "from datasets import load_dataset\n"
   ]
  },
  {
   "cell_type": "code",
   "execution_count": 7,
   "id": "78ddcb26-9c66-4ffb-b9b7-1a2b5ebe9bba",
   "metadata": {},
   "outputs": [
    {
     "name": "stderr",
     "output_type": "stream",
     "text": [
      "Downloading readme: 100%|████████████████████████████████████████████████████████████████████████████████████████████████████████████████████████████████████████████████████████████████████████████████████████████████| 2.69k/2.69k [00:00<00:00, 7.70MB/s]\n",
      "Downloading data: 100%|█████████████████████████████████████████████████████████████████████████████████████████████████████████████████████████████████████████████████████████████████████████████████████████████████████| 116k/116k [00:00<00:00, 188kB/s]\n",
      "Generating train split: 100%|█████████████████████████████████████████████████████████████████████████████████████████████████████████████████████████████████████████████████████████████████████████████████████| 303/303 [00:00<00:00, 51777.31 examples/s]\n"
     ]
    }
   ],
   "source": [
    " \n",
    "# Load dataset from the hub\n",
    "#dataset = load_dataset(\"philschmid/finanical-rag-embedding-dataset\", split=\"train\")\n",
    "dataset = load_dataset(\"plaguss/argilla_sdk_docs_queries\", split=\"train\")\n",
    "\n",
    "dataset = dataset.select_columns([\"anchor\", \"positive\", \"negative\"])\n",
    "\n",
    "# Add an id column to the dataset\n",
    "dataset = dataset.add_column(\"id\", range(len(dataset)))\n",
    " \n",
    "# split dataset into a 10% test set\n",
    "dataset = dataset.train_test_split(test_size=0.1)\n",
    " \n",
    "# save datasets to disk\n",
    "dataset[\"train\"].to_json(\"train_dataset.json\", orient=\"records\")\n",
    "dataset[\"test\"].to_json(\"test_dataset.json\", orient=\"records\")"
   ]
  },
  {
   "cell_type": "code",
   "execution_count": 21,
   "id": "7e02c7f8-16e7-42cc-a94e-1e520316fa8b",
   "metadata": {},
   "outputs": [],
   "source": [
    "#!pip install \"sentence-transformers>=3\""
   ]
  },
  {
   "cell_type": "code",
   "execution_count": 15,
   "id": "45c45438-5504-4b34-a870-d550f0fd844b",
   "metadata": {},
   "outputs": [],
   "source": [
    "import torch\n",
    "from sentence_transformers import SentenceTransformer\n",
    "from sentence_transformers.evaluation import (\n",
    "    InformationRetrievalEvaluator,\n",
    "    SequentialEvaluator,\n",
    ")\n",
    "from sentence_transformers.util import cos_sim\n",
    "\n",
    " \n",
    "model_id = \"BAAI/bge-base-en-v1.5\"  # Hugging Face model ID\n",
    "matryoshka_dimensions = [768, 512, 256, 128, 64]  # Important: large to small\n",
    "\n",
    "device = \"mps\" if torch.backends.mps.is_available() else \"cuda\" if torch.cuda.is_available() else \"cpu\"\n",
    "\n",
    "# Load a model\n",
    "#model = SentenceTransformer(model_id, device=device)\n"
   ]
  },
  {
   "cell_type": "code",
   "execution_count": 16,
   "id": "10090aeb-d290-4b88-8496-9eeb713352c5",
   "metadata": {},
   "outputs": [],
   "source": [
    "# load test dataset\n",
    "from datasets import load_dataset, concatenate_datasets\n",
    "\n",
    "test_dataset = load_dataset(\"json\", data_files=\"test_dataset.json\", split=\"train\")\n",
    "train_dataset = load_dataset(\"json\", data_files=\"train_dataset.json\", split=\"train\")\n",
    "corpus_dataset = concatenate_datasets([train_dataset, test_dataset])"
   ]
  },
  {
   "cell_type": "code",
   "execution_count": 17,
   "id": "a80586fb-df4d-4c7e-a712-dee6581ddb76",
   "metadata": {},
   "outputs": [],
   "source": [
    "# Convert the datasets to dictionaries\n",
    "corpus = dict(\n",
    "    zip(corpus_dataset[\"id\"], corpus_dataset[\"positive\"])\n",
    ")  # Our corpus (cid => document)\n",
    "queries = dict(\n",
    "    zip(test_dataset[\"id\"], test_dataset[\"anchor\"])\n",
    ")  # Our queries (qid => question)\n",
    " \n",
    "# Create a mapping of relevant document (1 in our case) for each query\n",
    "relevant_docs = {}  # Query ID to relevant documents (qid => set([relevant_cids])\n",
    "for q_id in queries:\n",
    "    relevant_docs[q_id] = [q_id]\n",
    " \n",
    " \n",
    "matryoshka_evaluators = []\n",
    "# Iterate over the different dimensions\n",
    "for dim in matryoshka_dimensions:\n",
    "    ir_evaluator = InformationRetrievalEvaluator(\n",
    "        queries=queries,\n",
    "        corpus=corpus,\n",
    "        relevant_docs=relevant_docs,\n",
    "        name=f\"dim_{dim}\",\n",
    "        truncate_dim=dim,  # Truncate the embeddings to a certain dimension\n",
    "        score_functions={\"cosine\": cos_sim},\n",
    "    )\n",
    "    matryoshka_evaluators.append(ir_evaluator)\n",
    " \n",
    "# Create a sequential evaluator\n",
    "evaluator = SequentialEvaluator(matryoshka_evaluators)"
   ]
  },
  {
   "cell_type": "markdown",
   "id": "0941004c-4021-4dea-996a-e7c7cca8481e",
   "metadata": {},
   "source": [
    "### Evaluate the model"
   ]
  },
  {
   "cell_type": "code",
   "execution_count": 35,
   "id": "6a687ed1-5bd0-4ece-9bd0-3caaedf19824",
   "metadata": {},
   "outputs": [
    {
     "name": "stdout",
     "output_type": "stream",
     "text": [
      "dim_768_cosine_ndcg@10: 0.5153423131803574\n",
      "dim_512_cosine_ndcg@10: 0.5211842985928868\n",
      "dim_256_cosine_ndcg@10: 0.49776638430926967\n",
      "dim_128_cosine_ndcg@10: 0.4949869696541296\n",
      "dim_64_cosine_ndcg@10: 0.39089386000752063\n"
     ]
    }
   ],
   "source": [
    "# Evaluate the model\n",
    "results = evaluator(model)\n",
    " \n",
    "# # COMMENT IN for full results\n",
    "# print(results)\n",
    " \n",
    "# Print the main score\n",
    "for dim in matryoshka_dimensions:\n",
    "    key = f\"dim_{dim}_cosine_ndcg@10\"\n",
    "    print\n",
    "    print(f\"{key}: {results[key]}\")"
   ]
  },
  {
   "cell_type": "code",
   "execution_count": 1,
   "id": "1a2d939a-e38d-4060-8a18-ff125eb21065",
   "metadata": {},
   "outputs": [
    {
     "name": "stderr",
     "output_type": "stream",
     "text": [
      "/Users/agus/github_repos/argilla-io/distilabel-workbench/projects/argilla-sdk-bot/.venv/lib/python3.11/site-packages/sentence_transformers/cross_encoder/CrossEncoder.py:11: TqdmWarning: IProgress not found. Please update jupyter and ipywidgets. See https://ipywidgets.readthedocs.io/en/stable/user_install.html\n",
      "  from tqdm.autonotebook import tqdm, trange\n",
      "/Users/agus/github_repos/argilla-io/distilabel-workbench/projects/argilla-sdk-bot/.venv/lib/python3.11/site-packages/huggingface_hub/file_download.py:1132: FutureWarning: `resume_download` is deprecated and will be removed in version 1.0.0. Downloads always resume when possible. If you want to force a new download, use `force_download=True`.\n",
      "  warnings.warn(\n"
     ]
    }
   ],
   "source": [
    "from sentence_transformers import SentenceTransformerModelCardData, SentenceTransformer\n",
    " \n",
    "# Hugging Face model ID: https://huggingface.co/BAAI/bge-base-en-v1.5\n",
    "model_id = \"BAAI/bge-base-en-v1.5\"\n",
    " \n",
    "# load model with SDPA for using Flash Attention 2\n",
    "model = SentenceTransformer(\n",
    "    model_id,\n",
    "    #model_kwargs={\"attn_implementation\": \"sdpa\"},  # sdpa will be used by default if available\n",
    "    model_card_data=SentenceTransformerModelCardData(\n",
    "        language=\"en\",\n",
    "        license=\"apache-2.0\",\n",
    "        model_name=\"BGE base ArgillaSDK Matryoshka\",\n",
    "    ),\n",
    ")"
   ]
  },
  {
   "cell_type": "code",
   "execution_count": 2,
   "id": "9777219e-2860-4a26-ac01-ae262559b301",
   "metadata": {},
   "outputs": [],
   "source": [
    "from sentence_transformers.losses import MatryoshkaLoss, TripletLoss\n",
    " \n",
    "matryoshka_dimensions = [768, 512, 256, 128, 64]  # Important: large to small\n",
    "inner_train_loss = TripletLoss(model)\n",
    "train_loss = MatryoshkaLoss(\n",
    "    model, inner_train_loss, matryoshka_dims=matryoshka_dimensions\n",
    ")"
   ]
  },
  {
   "cell_type": "markdown",
   "id": "87769601-e3cf-4d2b-b6f4-472a0988de83",
   "metadata": {},
   "source": [
    "## Define training strategy"
   ]
  },
  {
   "cell_type": "code",
   "execution_count": 24,
   "id": "91a2fc6f-7fcc-44c8-be23-aa5ae8f07735",
   "metadata": {},
   "outputs": [],
   "source": [
    "from sentence_transformers import SentenceTransformerTrainingArguments\n",
    "from sentence_transformers.training_args import BatchSamplers\n",
    " \n",
    "# load train dataset again\n",
    "train_dataset = load_dataset(\"json\", data_files=\"train_dataset.json\", split=\"train\")\n",
    " \n",
    "# define training arguments\n",
    "args = SentenceTransformerTrainingArguments(\n",
    "    output_dir=\"bge-base-argilla-sdk-matryoshka\", # output directory and hugging face model ID\n",
    "    num_train_epochs=1,                         # number of epochs\n",
    "    per_device_train_batch_size=8,             # train batch size\n",
    "    gradient_accumulation_steps=4,             # for a global batch size of 512\n",
    "    per_device_eval_batch_size=4,              # evaluation batch size\n",
    "    warmup_ratio=0.1,                           # warmup ratio\n",
    "    learning_rate=2e-5,                         # learning rate, 2e-5 is a good value\n",
    "    lr_scheduler_type=\"cosine\",                 # use constant learning rate scheduler\n",
    "# NOTE: In colab we can work with the optimizer at least, but neither tf32 nor bf16\n",
    "#    optim=\"adamw_torch_fused\",                  # use fused adamw optimizer\n",
    "#    tf32=True,                                  # use tf32 precision\n",
    "#    bf16=True,                                  # use bf16 precision\n",
    "    #batch_sampler=BatchSamplers.NO_DUPLICATES,  # MultipleNegativesRankingLoss benefits from no duplicate samples in a batch\n",
    "    eval_strategy=\"epoch\",                      # evaluate after each epoch\n",
    "    save_strategy=\"epoch\",                      # save after each epoch\n",
    "    logging_steps=5,                            # log every 10 steps\n",
    "    save_total_limit=1,                         # save only the last 3 models\n",
    "    load_best_model_at_end=True,                # load the best model when training ends\n",
    "    metric_for_best_model=\"eval_dim_128_cosine_ndcg@10\",  # Optimizing for the best ndcg@10 score for the 128 dimension\n",
    ")"
   ]
  },
  {
   "cell_type": "markdown",
   "id": "1d7c7770-82a5-4dec-a5b2-ef88dfeaf4f6",
   "metadata": {},
   "source": [
    "### Remove None from datasets"
   ]
  },
  {
   "cell_type": "code",
   "execution_count": 27,
   "id": "1715084b-495e-475b-abe0-32c61c1a8772",
   "metadata": {},
   "outputs": [],
   "source": [
    "\n",
    "from datasets import Dataset\n",
    "\n",
    "train_dataset_cleaned = train_dataset.select_columns(\n",
    "    [\"anchor\", \"positive\", \"negative\"]\n",
    ").to_pandas().dropna()\n",
    "test_dataset_cleaned = test_dataset.select_columns(\n",
    "    [\"anchor\", \"positive\", \"negative\"]\n",
    ").to_pandas().dropna()\n",
    "\n",
    "train_dataset_cleaned = Dataset.from_pandas(train_dataset_cleaned, preserve_index=False)\n",
    "test_dataset_cleaned = Dataset.from_pandas(test_dataset_cleaned, preserve_index=False)\n"
   ]
  },
  {
   "cell_type": "code",
   "execution_count": 25,
   "id": "d8e04175-40a6-4b05-b36a-cd78fc209ddb",
   "metadata": {},
   "outputs": [],
   "source": [
    "from sentence_transformers import SentenceTransformerTrainer\n",
    " \n",
    "trainer = SentenceTransformerTrainer(\n",
    "    model=model, # bg-base-en-v1\n",
    "    args=args,  # training arguments\n",
    "    train_dataset=train_dataset.select_columns(\n",
    "        [\"anchor\", \"positive\", \"negative\"]\n",
    "    ),  # training dataset\n",
    "    loss=train_loss,\n",
    "    evaluator=evaluator,\n",
    ")"
   ]
  },
  {
   "cell_type": "code",
   "execution_count": null,
   "id": "4f2742e6-688d-4132-bd7a-77d59b32855e",
   "metadata": {},
   "outputs": [],
   "source": [
    "# start training, the model will be automatically saved to the hub and the output directory\n",
    "trainer.train()\n",
    " \n",
    "# save the best model\n",
    "trainer.save_model()\n",
    " \n",
    "# push model to hub\n",
    "trainer.model.push_to_hub(\"bge-base-argilla-sdk-matryoshka\")\n",
    "#trainer.model.push_to_hub(\"plaguss/bge-base-argilla-sdk-matryoshka\")"
   ]
  },
  {
   "cell_type": "code",
   "execution_count": 30,
   "id": "6851b74d-3d67-479a-80b5-f5c0b3092278",
   "metadata": {},
   "outputs": [
    {
     "name": "stdout",
     "output_type": "stream",
     "text": [
      "dim_768_cosine_ndcg@10: 0.5352320153800773\n",
      "dim_512_cosine_ndcg@10: 0.5176046093106605\n",
      "dim_256_cosine_ndcg@10: 0.49580604952815305\n",
      "dim_128_cosine_ndcg@10: 0.5237086560541941\n",
      "dim_64_cosine_ndcg@10: 0.4372671769727556\n"
     ]
    }
   ],
   "source": [
    "from sentence_transformers import SentenceTransformer\n",
    "\n",
    "fine_tuned_model = SentenceTransformer(\n",
    "    \"plaguss/bge-base-argilla-sdk-matryoshka\", device=device\n",
    ")\n",
    "# Evaluate the model\n",
    "results = evaluator(fine_tuned_model)\n",
    " \n",
    "# # COMMENT IN for full results\n",
    "# print(results)\n",
    " \n",
    "# Print the main score\n",
    "for dim in matryoshka_dimensions:\n",
    "    key = f\"dim_{dim}_cosine_ndcg@10\"\n",
    "    print(f\"{key}: {results[key]}\")"
   ]
  }
 ],
 "metadata": {
  "kernelspec": {
   "display_name": "Python 3 (ipykernel)",
   "language": "python",
   "name": "python3"
  },
  "language_info": {
   "codemirror_mode": {
    "name": "ipython",
    "version": 3
   },
   "file_extension": ".py",
   "mimetype": "text/x-python",
   "name": "python",
   "nbconvert_exporter": "python",
   "pygments_lexer": "ipython3",
   "version": "3.11.8"
  }
 },
 "nbformat": 4,
 "nbformat_minor": 5
}
