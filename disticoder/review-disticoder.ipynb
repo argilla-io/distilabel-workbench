{
 "cells": [
  {
   "cell_type": "code",
   "execution_count": 1,
   "id": "38064c89-4210-49fc-87b1-01004d5a4385",
   "metadata": {},
   "outputs": [],
   "source": [
    "from datasets import load_dataset"
   ]
  },
  {
   "cell_type": "code",
   "execution_count": 2,
   "id": "15525705-67e5-4175-af1a-7ca975a8702f",
   "metadata": {},
   "outputs": [],
   "source": [
    "ds = load_dataset(\"ise-uiuc/Magicoder-OSS-Instruct-75K\", split=\"train\")"
   ]
  },
  {
   "cell_type": "code",
   "execution_count": 3,
   "id": "f579b276-2e62-4182-a4b9-2d6dcd6fbb83",
   "metadata": {},
   "outputs": [],
   "source": [
    "import argilla as rg"
   ]
  },
  {
   "cell_type": "code",
   "execution_count": 4,
   "id": "5892a25f-d8db-4806-a9f1-62f76f866162",
   "metadata": {},
   "outputs": [],
   "source": [
    "df = ds.shuffle(seed=422).select(range(30)).select_columns([\"lang\", \"seed\", \"problem\"]).to_pandas()"
   ]
  },
  {
   "cell_type": "code",
   "execution_count": 5,
   "id": "e57f64f3-8432-4379-b39d-ddb302c6ccb7",
   "metadata": {},
   "outputs": [
    {
     "name": "stdout",
     "output_type": "stream",
     "text": [
      "//-------------------------------------------------\n",
      "// Implementation of class BRequest_RemoteArrayTypes23_sendArraysObject\n",
      "// Generated from class byps.gen.cpp.GenApiClass\n",
      "__________\n",
      "You are tasked with implementing a class that manages remote array types in a distributed system. The class `BRequest_RemoteArrayTypes23_sendArraysObject` is generated from a template using a code generation tool. Your task is to create a method within this class that efficiently sends arrays of objects to a remote server. \n",
      "\n",
      "Your method should take an array of objects as input and send it to the remote server using the appropriate communication protocol. You should also handle any potential errors that may occur during the communication process.\n",
      "\n",
      "Your implementation should be efficient and robust, ensuring that the arrays of objects are transmitted accurately and reliably to the remote server.\n",
      "\n",
      "Write a method `sendArraysObject` within the `BRequest_RemoteArrayTypes23_sendArraysObject` class that fulfills the requirements outlined above.\n",
      "__________\n",
      "```cpp\n",
      "// Implementation of class BRequest_RemoteArrayTypes23_sendArraysObject\n",
      "// Generated from class byps.gen.cpp.GenApiClass\n",
      "\n",
      "#include <iostream>\n",
      "#include <vector>\n",
      "#include <byps/remote/RemoteArrayTypes23.hpp>\n",
      "\n",
      "class BRequest_RemoteArrayTypes23_sendArraysObject {\n",
      "public:\n",
      "    void sendArraysObject(const std::vector<Object>& objectArray) {\n",
      "        try {\n",
      "            // Connect to the remote server using the appropriate communication protocol\n",
      "            // For example, using a remote communication library like byps\n",
      "\n",
      "            // Send the objectArray to the remote server\n",
      "            // Example:\n",
      "            // remoteArrayTypes23.sendArraysObject(objectArray);\n",
      "\n",
      "            // Handle any potential errors that may occur during the communication process\n",
      "            // Example:\n",
      "            // if (errorOccurred) {\n",
      "            //     throw CommunicationException(\"Error occurred while sending arrays of objects\");\n",
      "            // }\n",
      "\n",
      "            std::cout << \"Arrays of objects sent successfully to the remote server\" << std::endl;\n",
      "        } catch (const CommunicationException& ex) {\n",
      "            // Handle communication exception\n",
      "            std::cerr << \"CommunicationException: \" << ex.what() << std::endl;\n",
      "        } catch (const std::exception& ex) {\n",
      "            // Handle other exceptions\n",
      "            std::cerr << \"Exception: \" << ex.what() << std::endl;\n",
      "        }\n",
      "    }\n",
      "};\n",
      "```\n",
      "\n",
      "In the solution, the `sendArraysObject` method within the `BRequest_RemoteArrayTypes23_sendArraysObject` class takes a vector of objects as input and sends it to the remote server using the appropriate communication protocol. It also handles potential errors that may occur during the communication process. This implementation ensures efficient and reliable transmission of arrays of objects to the remote server.\n"
     ]
    }
   ],
   "source": [
    "df = ds.shuffle(seed=1).select(range(30)).select_columns([\"lang\", \"seed\", \"problem\", \"solution\"]).to_pandas()\n",
    "idx = 0\n",
    "print(df[\"seed\"][idx].strip())\n",
    "print(\"__________\")\n",
    "print(df[\"problem\"][idx])\n",
    "print(\"__________\")\n",
    "print(df[\"solution\"][idx])\n"
   ]
  },
  {
   "cell_type": "code",
   "execution_count": 6,
   "id": "37ff5eb5-ad0c-4065-a028-d8aa41db322d",
   "metadata": {},
   "outputs": [],
   "source": [
    "from distilabel.pipeline import Pipeline\n",
    "from distilabel.llm import OpenAILLM\n",
    "from distilabel.tasks import TextGenerationTask\n",
    "from dataclasses import dataclass\n",
    "from distilabel.tasks import Prompt\n",
    "from typing import List, Dict\n",
    "import os"
   ]
  },
  {
   "cell_type": "code",
   "execution_count": 51,
   "id": "2f41e00f-2a1e-471f-bdc0-1fc13b6fee9c",
   "metadata": {},
   "outputs": [],
   "source": [
    "oss_instruct_prompt = \"\"\"Please gain inspiration from the following random code snippet to create a high-quality programming problem. Present your output in two distinct sections:\n",
    "[Problem Description] and [Solution].\n",
    "\n",
    "Code snippet for inspiration:\n",
    "```\n",
    "{code}\n",
    "```\n",
    "\n",
    "Guidelines for each section:\n",
    "1. [Problem Description]: This should be **completely self-contained**, providing all the contextual information one needs to understand and solve the problem. Assume common programming knowledge, but ensure that any specific context, variables, or code snippets pertinent to this problem are explicitly included.\n",
    "\n",
    "2. [Solution]: Offer a comprehensive, **correct** solution that accurately addresses the [Problem Description] you provided.\"\"\"\n",
    "\n",
    "@dataclass\n",
    "class OSSInstruct(TextGenerationTask):\n",
    "    system_prompt: str = \"You are exceptionally skilled at crafting high-quality programming problems and offering precise solutions.\"\n",
    "\n",
    "    def generate_prompt(self, input: str) -> Prompt:\n",
    "        return Prompt(\n",
    "            system_prompt=self.system_prompt,\n",
    "            formatted_prompt=oss_instruct_prompt.format(code=input)\n",
    "          )\n",
    "\n",
    "    def parse_output(self, output: str) -> List[Dict[str, str]]:\n",
    "        problem, solution = output.split(\"[Solution]\")\n",
    "        return {\n",
    "            \"problem\": problem.replace(\"[Problem Description]\", \"\").strip(),\n",
    "            \"solution\": solution.strip()\n",
    "        }"
   ]
  },
  {
   "cell_type": "markdown",
   "id": "2cbc0728-2901-4b12-af4b-66aff6219d3b",
   "metadata": {},
   "source": [
    "## Alternative definition of OSS Instruct\n",
    "\n",
    "Just generate the problem, this way it's more scalable.\n",
    "\n",
    "*In case it's not enough, play with an extra guide like the following:*\n",
    "\n",
    "`the provided code snippet it's only used as an inspiration to create a programming problem. If you reference it, you must add it to the problem description`"
   ]
  },
  {
   "cell_type": "code",
   "execution_count": 43,
   "id": "03dccb7e-b819-41e7-8776-1d5c2fe2f693",
   "metadata": {},
   "outputs": [],
   "source": [
    "oss_instruct_prompt = \"\"\"Please gain inspiration from the following random code snippet to create a high-quality programming problem.\n",
    "\n",
    "Code snippet for inspiration:\n",
    "```\n",
    "{code}\n",
    "```\n",
    "\n",
    "Guidelines for the problem:\n",
    "The problem should be **completely self-contained**, providing all the contextual information one needs to understand and solve the problem. Assume common programming knowledge, but ensure that any specific context, variables, or code snippets pertinent to this problem are **explicitly included*. **Don't reference any provided code snippet** if you are not including it in the problem description.\"\"\"\n",
    "\n",
    "\n",
    "@dataclass\n",
    "class OSSInstruct(TextGenerationTask):\n",
    "    system_prompt: str = \"You are exceptionally skilled at crafting high-quality programming problems.\"\n",
    "\n",
    "    def generate_prompt(self, input: str) -> Prompt:\n",
    "        return Prompt(\n",
    "            system_prompt=self.system_prompt,\n",
    "            formatted_prompt=oss_instruct_prompt.format(code=input)\n",
    "          )\n",
    "\n",
    "    def parse_output(self, output: str) -> List[Dict[str, str]]:\n",
    "        return {\"problem\": re.sub(\"Problem:?\", \"\", output).strip()}\n"
   ]
  },
  {
   "cell_type": "code",
   "execution_count": 44,
   "id": "b477e53e-859a-4232-8ddd-e662b0e04bb1",
   "metadata": {},
   "outputs": [],
   "source": [
    "pipe_generation = Pipeline(\n",
    "    generator=OpenAILLM(\n",
    "        model=\"gpt-3.5-turbo\",\n",
    "        task=OSSInstruct(),\n",
    "        api_key=os.getenv(\"OPENAI_API_KEY\"),\n",
    "        max_new_tokens=1024,\n",
    "        num_threads=4,\n",
    "        temperature=1\n",
    "    )\n",
    ")"
   ]
  },
  {
   "cell_type": "code",
   "execution_count": 46,
   "id": "2d6798cd-49f9-4439-8198-0c9d9047bb2b",
   "metadata": {},
   "outputs": [],
   "source": [
    "subset = ds.shuffle(seed=422).select(range(30))"
   ]
  },
  {
   "cell_type": "code",
   "execution_count": 47,
   "id": "82cc4ea7-2a87-4187-8708-fa6e167db6f3",
   "metadata": {},
   "outputs": [
    {
     "data": {
      "text/plain": [
       "Dataset({\n",
       "    features: ['lang', 'raw_index', 'index', 'seed', 'openai_fingerprint', 'problem', 'solution'],\n",
       "    num_rows: 30\n",
       "})"
      ]
     },
     "execution_count": 47,
     "metadata": {},
     "output_type": "execute_result"
    }
   ],
   "source": [
    "subset"
   ]
  },
  {
   "cell_type": "code",
   "execution_count": 48,
   "id": "e329a9a0-8d97-4bf9-b42f-4494f56a0e2d",
   "metadata": {},
   "outputs": [],
   "source": [
    "distilabel_subset = subset.select_columns([\"seed\"]).rename_column(\"seed\", \"input\")"
   ]
  },
  {
   "cell_type": "code",
   "execution_count": 49,
   "id": "002a935d-d303-4a22-938f-63e1f924a7bd",
   "metadata": {},
   "outputs": [
    {
     "data": {
      "text/plain": [
       "{'input': 'def preprocess(data, lang):\\n    data[\"arg_negate\"] = parse_template_boolean_value(data, parameter=\"arg_negate\", default_value=False)\\n    data[\"arg_is_regex\"] = parse_template_boolean_value(data, parameter=\"arg_is_regex\", default_value=False)\\n    return data\\n'}"
      ]
     },
     "execution_count": 49,
     "metadata": {},
     "output_type": "execute_result"
    }
   ],
   "source": [
    "distilabel_subset[0]"
   ]
  },
  {
   "cell_type": "code",
   "execution_count": 50,
   "id": "d447ed01-82e5-443f-9670-907d40aa793a",
   "metadata": {},
   "outputs": [
    {
     "data": {
      "text/html": [
       "<pre style=\"white-space:pre;overflow-x:auto;line-height:normal;font-family:Menlo,'DejaVu Sans Mono',consolas,'Courier New',monospace\"><span style=\"color: #7fbfbf; text-decoration-color: #7fbfbf\">[02/16/24 15:43:36] </span><span style=\"color: #000080; text-decoration-color: #000080\">INFO    </span> INFO:distilabel:Executing dry-run<span style=\"color: #808000; text-decoration-color: #808000\">...</span>                                   <a href=\"file:///Users/agus/github_repos/argilla-io/distilabel/src/distilabel/pipeline.py\" target=\"_blank\"><span style=\"color: #7f7f7f; text-decoration-color: #7f7f7f\">pipeline.py</span></a><span style=\"color: #7f7f7f; text-decoration-color: #7f7f7f\">:</span><a href=\"file:///Users/agus/github_repos/argilla-io/distilabel/src/distilabel/pipeline.py#742\" target=\"_blank\"><span style=\"color: #7f7f7f; text-decoration-color: #7f7f7f\">742</span></a>\n",
       "</pre>\n"
      ],
      "text/plain": [
       "\u001b[2;36m[02/16/24 15:43:36]\u001b[0m\u001b[2;36m \u001b[0m\u001b[34mINFO    \u001b[0m INFO:distilabel:Executing dry-run\u001b[33m...\u001b[0m                                   \u001b]8;id=947820;file:///Users/agus/github_repos/argilla-io/distilabel/src/distilabel/pipeline.py\u001b\\\u001b[2mpipeline.py\u001b[0m\u001b]8;;\u001b\\\u001b[2m:\u001b[0m\u001b]8;id=108748;file:///Users/agus/github_repos/argilla-io/distilabel/src/distilabel/pipeline.py#742\u001b\\\u001b[2m742\u001b[0m\u001b]8;;\u001b\\\n"
      ]
     },
     "metadata": {},
     "output_type": "display_data"
    },
    {
     "data": {
      "text/html": [
       "<pre style=\"white-space:pre;overflow-x:auto;line-height:normal;font-family:Menlo,'DejaVu Sans Mono',consolas,'Courier New',monospace\"><span style=\"color: #7fbfbf; text-decoration-color: #7fbfbf\">                    </span><span style=\"color: #000080; text-decoration-color: #000080\">INFO    </span> INFO:distilabel:Processing batch <span style=\"color: #008080; text-decoration-color: #008080; font-weight: bold\">1</span> of <span style=\"color: #008080; text-decoration-color: #008080; font-weight: bold\">1</span><span style=\"color: #808000; text-decoration-color: #808000\">...</span>                             <a href=\"file:///Users/agus/github_repos/argilla-io/distilabel/src/distilabel/pipeline.py\" target=\"_blank\"><span style=\"color: #7f7f7f; text-decoration-color: #7f7f7f\">pipeline.py</span></a><span style=\"color: #7f7f7f; text-decoration-color: #7f7f7f\">:</span><a href=\"file:///Users/agus/github_repos/argilla-io/distilabel/src/distilabel/pipeline.py#572\" target=\"_blank\"><span style=\"color: #7f7f7f; text-decoration-color: #7f7f7f\">572</span></a>\n",
       "</pre>\n"
      ],
      "text/plain": [
       "\u001b[2;36m                   \u001b[0m\u001b[2;36m \u001b[0m\u001b[34mINFO    \u001b[0m INFO:distilabel:Processing batch \u001b[1;36m1\u001b[0m of \u001b[1;36m1\u001b[0m\u001b[33m...\u001b[0m                             \u001b]8;id=672599;file:///Users/agus/github_repos/argilla-io/distilabel/src/distilabel/pipeline.py\u001b\\\u001b[2mpipeline.py\u001b[0m\u001b]8;;\u001b\\\u001b[2m:\u001b[0m\u001b]8;id=454771;file:///Users/agus/github_repos/argilla-io/distilabel/src/distilabel/pipeline.py#572\u001b\\\u001b[2m572\u001b[0m\u001b]8;;\u001b\\\n"
      ]
     },
     "metadata": {},
     "output_type": "display_data"
    },
    {
     "data": {
      "text/html": [
       "<pre style=\"white-space:pre;overflow-x:auto;line-height:normal;font-family:Menlo,'DejaVu Sans Mono',consolas,'Courier New',monospace\"><span style=\"color: #7fbfbf; text-decoration-color: #7fbfbf\">                    </span><span style=\"color: #000080; text-decoration-color: #000080\">INFO    </span> INFO:distilabel:Calling generator for batch <span style=\"color: #008080; text-decoration-color: #008080; font-weight: bold\">1</span><span style=\"color: #808000; text-decoration-color: #808000\">...</span>                       <a href=\"file:///Users/agus/github_repos/argilla-io/distilabel/src/distilabel/pipeline.py\" target=\"_blank\"><span style=\"color: #7f7f7f; text-decoration-color: #7f7f7f\">pipeline.py</span></a><span style=\"color: #7f7f7f; text-decoration-color: #7f7f7f\">:</span><a href=\"file:///Users/agus/github_repos/argilla-io/distilabel/src/distilabel/pipeline.py#576\" target=\"_blank\"><span style=\"color: #7f7f7f; text-decoration-color: #7f7f7f\">576</span></a>\n",
       "</pre>\n"
      ],
      "text/plain": [
       "\u001b[2;36m                   \u001b[0m\u001b[2;36m \u001b[0m\u001b[34mINFO    \u001b[0m INFO:distilabel:Calling generator for batch \u001b[1;36m1\u001b[0m\u001b[33m...\u001b[0m                       \u001b]8;id=629328;file:///Users/agus/github_repos/argilla-io/distilabel/src/distilabel/pipeline.py\u001b\\\u001b[2mpipeline.py\u001b[0m\u001b]8;;\u001b\\\u001b[2m:\u001b[0m\u001b]8;id=630488;file:///Users/agus/github_repos/argilla-io/distilabel/src/distilabel/pipeline.py#576\u001b\\\u001b[2m576\u001b[0m\u001b]8;;\u001b\\\n"
      ]
     },
     "metadata": {},
     "output_type": "display_data"
    },
    {
     "data": {
      "text/html": [
       "<pre style=\"white-space:pre;overflow-x:auto;line-height:normal;font-family:Menlo,'DejaVu Sans Mono',consolas,'Courier New',monospace\">\n",
       "</pre>\n"
      ],
      "text/plain": [
       "\n"
      ]
     },
     "metadata": {},
     "output_type": "display_data"
    },
    {
     "name": "stderr",
     "output_type": "stream",
     "text": [
      "Flattening the indices: 100%|████████████████████████████████████████████████████████████████████████████████████████████████████████████████| 1/1 [00:00<00:00, 202.11 examples/s]\n"
     ]
    },
    {
     "data": {
      "text/html": [
       "<pre style=\"white-space:pre;overflow-x:auto;line-height:normal;font-family:Menlo,'DejaVu Sans Mono',consolas,'Courier New',monospace\"><span style=\"color: #7fbfbf; text-decoration-color: #7fbfbf\">[02/16/24 15:43:47] </span><span style=\"color: #000080; text-decoration-color: #000080\">INFO    </span> INFO:distilabel:Dry-run executed with no issues. Starting the actual   <a href=\"file:///Users/agus/github_repos/argilla-io/distilabel/src/distilabel/pipeline.py\" target=\"_blank\"><span style=\"color: #7f7f7f; text-decoration-color: #7f7f7f\">pipeline.py</span></a><span style=\"color: #7f7f7f; text-decoration-color: #7f7f7f\">:</span><a href=\"file:///Users/agus/github_repos/argilla-io/distilabel/src/distilabel/pipeline.py#744\" target=\"_blank\"><span style=\"color: #7f7f7f; text-decoration-color: #7f7f7f\">744</span></a>\n",
       "<span style=\"color: #7fbfbf; text-decoration-color: #7fbfbf\">                    </span>         generation<span style=\"color: #808000; text-decoration-color: #808000\">...</span>                                                          <span style=\"color: #7f7f7f; text-decoration-color: #7f7f7f\">               </span>\n",
       "</pre>\n"
      ],
      "text/plain": [
       "\u001b[2;36m[02/16/24 15:43:47]\u001b[0m\u001b[2;36m \u001b[0m\u001b[34mINFO    \u001b[0m INFO:distilabel:Dry-run executed with no issues. Starting the actual   \u001b]8;id=653213;file:///Users/agus/github_repos/argilla-io/distilabel/src/distilabel/pipeline.py\u001b\\\u001b[2mpipeline.py\u001b[0m\u001b]8;;\u001b\\\u001b[2m:\u001b[0m\u001b]8;id=239890;file:///Users/agus/github_repos/argilla-io/distilabel/src/distilabel/pipeline.py#744\u001b\\\u001b[2m744\u001b[0m\u001b]8;;\u001b\\\n",
       "\u001b[2;36m                    \u001b[0m         generation\u001b[33m...\u001b[0m                                                          \u001b[2m               \u001b[0m\n"
      ]
     },
     "metadata": {},
     "output_type": "display_data"
    },
    {
     "data": {
      "text/html": [
       "<pre style=\"white-space:pre;overflow-x:auto;line-height:normal;font-family:Menlo,'DejaVu Sans Mono',consolas,'Courier New',monospace\">/Users/agus/github_repos/argilla-io/distilabel-workbench/.venv/lib/python3.10/site-packages/rich/live.py:231: \n",
       "UserWarning: install \"ipywidgets\" for Jupyter support\n",
       "  warnings.warn('install \"ipywidgets\" for Jupyter support')\n",
       "</pre>\n"
      ],
      "text/plain": [
       "/Users/agus/github_repos/argilla-io/distilabel-workbench/.venv/lib/python3.10/site-packages/rich/live.py:231: \n",
       "UserWarning: install \"ipywidgets\" for Jupyter support\n",
       "  warnings.warn('install \"ipywidgets\" for Jupyter support')\n"
      ]
     },
     "metadata": {},
     "output_type": "display_data"
    },
    {
     "data": {
      "text/html": [
       "<pre style=\"white-space:pre;overflow-x:auto;line-height:normal;font-family:Menlo,'DejaVu Sans Mono',consolas,'Courier New',monospace\"><span style=\"color: #7fbfbf; text-decoration-color: #7fbfbf\">                    </span><span style=\"color: #000080; text-decoration-color: #000080\">INFO    </span> INFO:distilabel:Processing batch <span style=\"color: #008080; text-decoration-color: #008080; font-weight: bold\">1</span> of <span style=\"color: #008080; text-decoration-color: #008080; font-weight: bold\">4</span><span style=\"color: #808000; text-decoration-color: #808000\">...</span>                             <a href=\"file:///Users/agus/github_repos/argilla-io/distilabel/src/distilabel/pipeline.py\" target=\"_blank\"><span style=\"color: #7f7f7f; text-decoration-color: #7f7f7f\">pipeline.py</span></a><span style=\"color: #7f7f7f; text-decoration-color: #7f7f7f\">:</span><a href=\"file:///Users/agus/github_repos/argilla-io/distilabel/src/distilabel/pipeline.py#572\" target=\"_blank\"><span style=\"color: #7f7f7f; text-decoration-color: #7f7f7f\">572</span></a>\n",
       "</pre>\n"
      ],
      "text/plain": [
       "\u001b[2;36m                   \u001b[0m\u001b[2;36m \u001b[0m\u001b[34mINFO    \u001b[0m INFO:distilabel:Processing batch \u001b[1;36m1\u001b[0m of \u001b[1;36m4\u001b[0m\u001b[33m...\u001b[0m                             \u001b]8;id=561643;file:///Users/agus/github_repos/argilla-io/distilabel/src/distilabel/pipeline.py\u001b\\\u001b[2mpipeline.py\u001b[0m\u001b]8;;\u001b\\\u001b[2m:\u001b[0m\u001b]8;id=605262;file:///Users/agus/github_repos/argilla-io/distilabel/src/distilabel/pipeline.py#572\u001b\\\u001b[2m572\u001b[0m\u001b]8;;\u001b\\\n"
      ]
     },
     "metadata": {},
     "output_type": "display_data"
    },
    {
     "data": {
      "text/html": [
       "<pre style=\"white-space:pre;overflow-x:auto;line-height:normal;font-family:Menlo,'DejaVu Sans Mono',consolas,'Courier New',monospace\"><span style=\"color: #7fbfbf; text-decoration-color: #7fbfbf\">                    </span><span style=\"color: #000080; text-decoration-color: #000080\">INFO    </span> INFO:distilabel:Calling generator for batch <span style=\"color: #008080; text-decoration-color: #008080; font-weight: bold\">1</span><span style=\"color: #808000; text-decoration-color: #808000\">...</span>                       <a href=\"file:///Users/agus/github_repos/argilla-io/distilabel/src/distilabel/pipeline.py\" target=\"_blank\"><span style=\"color: #7f7f7f; text-decoration-color: #7f7f7f\">pipeline.py</span></a><span style=\"color: #7f7f7f; text-decoration-color: #7f7f7f\">:</span><a href=\"file:///Users/agus/github_repos/argilla-io/distilabel/src/distilabel/pipeline.py#576\" target=\"_blank\"><span style=\"color: #7f7f7f; text-decoration-color: #7f7f7f\">576</span></a>\n",
       "</pre>\n"
      ],
      "text/plain": [
       "\u001b[2;36m                   \u001b[0m\u001b[2;36m \u001b[0m\u001b[34mINFO    \u001b[0m INFO:distilabel:Calling generator for batch \u001b[1;36m1\u001b[0m\u001b[33m...\u001b[0m                       \u001b]8;id=854136;file:///Users/agus/github_repos/argilla-io/distilabel/src/distilabel/pipeline.py\u001b\\\u001b[2mpipeline.py\u001b[0m\u001b]8;;\u001b\\\u001b[2m:\u001b[0m\u001b]8;id=445532;file:///Users/agus/github_repos/argilla-io/distilabel/src/distilabel/pipeline.py#576\u001b\\\u001b[2m576\u001b[0m\u001b]8;;\u001b\\\n"
      ]
     },
     "metadata": {},
     "output_type": "display_data"
    },
    {
     "data": {
      "text/html": [
       "<pre style=\"white-space:pre;overflow-x:auto;line-height:normal;font-family:Menlo,'DejaVu Sans Mono',consolas,'Courier New',monospace\"><span style=\"color: #7fbfbf; text-decoration-color: #7fbfbf\">[02/16/24 15:44:06] </span><span style=\"color: #000080; text-decoration-color: #000080\">INFO    </span> INFO:distilabel:Processing batch <span style=\"color: #008080; text-decoration-color: #008080; font-weight: bold\">2</span> of <span style=\"color: #008080; text-decoration-color: #008080; font-weight: bold\">4</span><span style=\"color: #808000; text-decoration-color: #808000\">...</span>                             <a href=\"file:///Users/agus/github_repos/argilla-io/distilabel/src/distilabel/pipeline.py\" target=\"_blank\"><span style=\"color: #7f7f7f; text-decoration-color: #7f7f7f\">pipeline.py</span></a><span style=\"color: #7f7f7f; text-decoration-color: #7f7f7f\">:</span><a href=\"file:///Users/agus/github_repos/argilla-io/distilabel/src/distilabel/pipeline.py#572\" target=\"_blank\"><span style=\"color: #7f7f7f; text-decoration-color: #7f7f7f\">572</span></a>\n",
       "</pre>\n"
      ],
      "text/plain": [
       "\u001b[2;36m[02/16/24 15:44:06]\u001b[0m\u001b[2;36m \u001b[0m\u001b[34mINFO    \u001b[0m INFO:distilabel:Processing batch \u001b[1;36m2\u001b[0m of \u001b[1;36m4\u001b[0m\u001b[33m...\u001b[0m                             \u001b]8;id=915548;file:///Users/agus/github_repos/argilla-io/distilabel/src/distilabel/pipeline.py\u001b\\\u001b[2mpipeline.py\u001b[0m\u001b]8;;\u001b\\\u001b[2m:\u001b[0m\u001b]8;id=720258;file:///Users/agus/github_repos/argilla-io/distilabel/src/distilabel/pipeline.py#572\u001b\\\u001b[2m572\u001b[0m\u001b]8;;\u001b\\\n"
      ]
     },
     "metadata": {},
     "output_type": "display_data"
    },
    {
     "data": {
      "text/html": [
       "<pre style=\"white-space:pre;overflow-x:auto;line-height:normal;font-family:Menlo,'DejaVu Sans Mono',consolas,'Courier New',monospace\"><span style=\"color: #7fbfbf; text-decoration-color: #7fbfbf\">                    </span><span style=\"color: #000080; text-decoration-color: #000080\">INFO    </span> INFO:distilabel:Calling generator for batch <span style=\"color: #008080; text-decoration-color: #008080; font-weight: bold\">2</span><span style=\"color: #808000; text-decoration-color: #808000\">...</span>                       <a href=\"file:///Users/agus/github_repos/argilla-io/distilabel/src/distilabel/pipeline.py\" target=\"_blank\"><span style=\"color: #7f7f7f; text-decoration-color: #7f7f7f\">pipeline.py</span></a><span style=\"color: #7f7f7f; text-decoration-color: #7f7f7f\">:</span><a href=\"file:///Users/agus/github_repos/argilla-io/distilabel/src/distilabel/pipeline.py#576\" target=\"_blank\"><span style=\"color: #7f7f7f; text-decoration-color: #7f7f7f\">576</span></a>\n",
       "</pre>\n"
      ],
      "text/plain": [
       "\u001b[2;36m                   \u001b[0m\u001b[2;36m \u001b[0m\u001b[34mINFO    \u001b[0m INFO:distilabel:Calling generator for batch \u001b[1;36m2\u001b[0m\u001b[33m...\u001b[0m                       \u001b]8;id=596845;file:///Users/agus/github_repos/argilla-io/distilabel/src/distilabel/pipeline.py\u001b\\\u001b[2mpipeline.py\u001b[0m\u001b]8;;\u001b\\\u001b[2m:\u001b[0m\u001b]8;id=873553;file:///Users/agus/github_repos/argilla-io/distilabel/src/distilabel/pipeline.py#576\u001b\\\u001b[2m576\u001b[0m\u001b]8;;\u001b\\\n"
      ]
     },
     "metadata": {},
     "output_type": "display_data"
    },
    {
     "data": {
      "text/html": [
       "<pre style=\"white-space:pre;overflow-x:auto;line-height:normal;font-family:Menlo,'DejaVu Sans Mono',consolas,'Courier New',monospace\"><span style=\"color: #7fbfbf; text-decoration-color: #7fbfbf\">[02/16/24 15:44:31] </span><span style=\"color: #000080; text-decoration-color: #000080\">INFO    </span> INFO:distilabel:Processing batch <span style=\"color: #008080; text-decoration-color: #008080; font-weight: bold\">3</span> of <span style=\"color: #008080; text-decoration-color: #008080; font-weight: bold\">4</span><span style=\"color: #808000; text-decoration-color: #808000\">...</span>                             <a href=\"file:///Users/agus/github_repos/argilla-io/distilabel/src/distilabel/pipeline.py\" target=\"_blank\"><span style=\"color: #7f7f7f; text-decoration-color: #7f7f7f\">pipeline.py</span></a><span style=\"color: #7f7f7f; text-decoration-color: #7f7f7f\">:</span><a href=\"file:///Users/agus/github_repos/argilla-io/distilabel/src/distilabel/pipeline.py#572\" target=\"_blank\"><span style=\"color: #7f7f7f; text-decoration-color: #7f7f7f\">572</span></a>\n",
       "</pre>\n"
      ],
      "text/plain": [
       "\u001b[2;36m[02/16/24 15:44:31]\u001b[0m\u001b[2;36m \u001b[0m\u001b[34mINFO    \u001b[0m INFO:distilabel:Processing batch \u001b[1;36m3\u001b[0m of \u001b[1;36m4\u001b[0m\u001b[33m...\u001b[0m                             \u001b]8;id=457639;file:///Users/agus/github_repos/argilla-io/distilabel/src/distilabel/pipeline.py\u001b\\\u001b[2mpipeline.py\u001b[0m\u001b]8;;\u001b\\\u001b[2m:\u001b[0m\u001b]8;id=456290;file:///Users/agus/github_repos/argilla-io/distilabel/src/distilabel/pipeline.py#572\u001b\\\u001b[2m572\u001b[0m\u001b]8;;\u001b\\\n"
      ]
     },
     "metadata": {},
     "output_type": "display_data"
    },
    {
     "data": {
      "text/html": [
       "<pre style=\"white-space:pre;overflow-x:auto;line-height:normal;font-family:Menlo,'DejaVu Sans Mono',consolas,'Courier New',monospace\"><span style=\"color: #7fbfbf; text-decoration-color: #7fbfbf\">                    </span><span style=\"color: #000080; text-decoration-color: #000080\">INFO    </span> INFO:distilabel:Calling generator for batch <span style=\"color: #008080; text-decoration-color: #008080; font-weight: bold\">3</span><span style=\"color: #808000; text-decoration-color: #808000\">...</span>                       <a href=\"file:///Users/agus/github_repos/argilla-io/distilabel/src/distilabel/pipeline.py\" target=\"_blank\"><span style=\"color: #7f7f7f; text-decoration-color: #7f7f7f\">pipeline.py</span></a><span style=\"color: #7f7f7f; text-decoration-color: #7f7f7f\">:</span><a href=\"file:///Users/agus/github_repos/argilla-io/distilabel/src/distilabel/pipeline.py#576\" target=\"_blank\"><span style=\"color: #7f7f7f; text-decoration-color: #7f7f7f\">576</span></a>\n",
       "</pre>\n"
      ],
      "text/plain": [
       "\u001b[2;36m                   \u001b[0m\u001b[2;36m \u001b[0m\u001b[34mINFO    \u001b[0m INFO:distilabel:Calling generator for batch \u001b[1;36m3\u001b[0m\u001b[33m...\u001b[0m                       \u001b]8;id=64056;file:///Users/agus/github_repos/argilla-io/distilabel/src/distilabel/pipeline.py\u001b\\\u001b[2mpipeline.py\u001b[0m\u001b]8;;\u001b\\\u001b[2m:\u001b[0m\u001b]8;id=426348;file:///Users/agus/github_repos/argilla-io/distilabel/src/distilabel/pipeline.py#576\u001b\\\u001b[2m576\u001b[0m\u001b]8;;\u001b\\\n"
      ]
     },
     "metadata": {},
     "output_type": "display_data"
    },
    {
     "data": {
      "text/html": [
       "<pre style=\"white-space:pre;overflow-x:auto;line-height:normal;font-family:Menlo,'DejaVu Sans Mono',consolas,'Courier New',monospace\"><span style=\"color: #7fbfbf; text-decoration-color: #7fbfbf\">[02/16/24 15:45:02] </span><span style=\"color: #000080; text-decoration-color: #000080\">INFO    </span> INFO:distilabel:Processing batch <span style=\"color: #008080; text-decoration-color: #008080; font-weight: bold\">4</span> of <span style=\"color: #008080; text-decoration-color: #008080; font-weight: bold\">4</span><span style=\"color: #808000; text-decoration-color: #808000\">...</span>                             <a href=\"file:///Users/agus/github_repos/argilla-io/distilabel/src/distilabel/pipeline.py\" target=\"_blank\"><span style=\"color: #7f7f7f; text-decoration-color: #7f7f7f\">pipeline.py</span></a><span style=\"color: #7f7f7f; text-decoration-color: #7f7f7f\">:</span><a href=\"file:///Users/agus/github_repos/argilla-io/distilabel/src/distilabel/pipeline.py#572\" target=\"_blank\"><span style=\"color: #7f7f7f; text-decoration-color: #7f7f7f\">572</span></a>\n",
       "</pre>\n"
      ],
      "text/plain": [
       "\u001b[2;36m[02/16/24 15:45:02]\u001b[0m\u001b[2;36m \u001b[0m\u001b[34mINFO    \u001b[0m INFO:distilabel:Processing batch \u001b[1;36m4\u001b[0m of \u001b[1;36m4\u001b[0m\u001b[33m...\u001b[0m                             \u001b]8;id=154465;file:///Users/agus/github_repos/argilla-io/distilabel/src/distilabel/pipeline.py\u001b\\\u001b[2mpipeline.py\u001b[0m\u001b]8;;\u001b\\\u001b[2m:\u001b[0m\u001b]8;id=430376;file:///Users/agus/github_repos/argilla-io/distilabel/src/distilabel/pipeline.py#572\u001b\\\u001b[2m572\u001b[0m\u001b]8;;\u001b\\\n"
      ]
     },
     "metadata": {},
     "output_type": "display_data"
    },
    {
     "data": {
      "text/html": [
       "<pre style=\"white-space:pre;overflow-x:auto;line-height:normal;font-family:Menlo,'DejaVu Sans Mono',consolas,'Courier New',monospace\"><span style=\"color: #7fbfbf; text-decoration-color: #7fbfbf\">                    </span><span style=\"color: #000080; text-decoration-color: #000080\">INFO    </span> INFO:distilabel:Calling generator for batch <span style=\"color: #008080; text-decoration-color: #008080; font-weight: bold\">4</span><span style=\"color: #808000; text-decoration-color: #808000\">...</span>                       <a href=\"file:///Users/agus/github_repos/argilla-io/distilabel/src/distilabel/pipeline.py\" target=\"_blank\"><span style=\"color: #7f7f7f; text-decoration-color: #7f7f7f\">pipeline.py</span></a><span style=\"color: #7f7f7f; text-decoration-color: #7f7f7f\">:</span><a href=\"file:///Users/agus/github_repos/argilla-io/distilabel/src/distilabel/pipeline.py#576\" target=\"_blank\"><span style=\"color: #7f7f7f; text-decoration-color: #7f7f7f\">576</span></a>\n",
       "</pre>\n"
      ],
      "text/plain": [
       "\u001b[2;36m                   \u001b[0m\u001b[2;36m \u001b[0m\u001b[34mINFO    \u001b[0m INFO:distilabel:Calling generator for batch \u001b[1;36m4\u001b[0m\u001b[33m...\u001b[0m                       \u001b]8;id=61022;file:///Users/agus/github_repos/argilla-io/distilabel/src/distilabel/pipeline.py\u001b\\\u001b[2mpipeline.py\u001b[0m\u001b]8;;\u001b\\\u001b[2m:\u001b[0m\u001b]8;id=566405;file:///Users/agus/github_repos/argilla-io/distilabel/src/distilabel/pipeline.py#576\u001b\\\u001b[2m576\u001b[0m\u001b]8;;\u001b\\\n"
      ]
     },
     "metadata": {},
     "output_type": "display_data"
    },
    {
     "data": {
      "text/html": [
       "<pre style=\"white-space:pre;overflow-x:auto;line-height:normal;font-family:Menlo,'DejaVu Sans Mono',consolas,'Courier New',monospace\"></pre>\n"
      ],
      "text/plain": []
     },
     "metadata": {},
     "output_type": "display_data"
    },
    {
     "data": {
      "text/html": [
       "<pre style=\"white-space:pre;overflow-x:auto;line-height:normal;font-family:Menlo,'DejaVu Sans Mono',consolas,'Courier New',monospace\">\n",
       "</pre>\n"
      ],
      "text/plain": [
       "\n"
      ]
     },
     "metadata": {},
     "output_type": "display_data"
    },
    {
     "data": {
      "text/html": [
       "<pre style=\"white-space:pre;overflow-x:auto;line-height:normal;font-family:Menlo,'DejaVu Sans Mono',consolas,'Courier New',monospace\">\n",
       "</pre>\n"
      ],
      "text/plain": [
       "\n"
      ]
     },
     "metadata": {},
     "output_type": "display_data"
    }
   ],
   "source": [
    "oss_instruct_ds = pipe_generation.generate(\n",
    "    dataset=distilabel_subset,\n",
    "    num_generations=1,\n",
    "    batch_size=8,\n",
    "    checkpoint_strategy=None,\n",
    ")"
   ]
  },
  {
   "cell_type": "code",
   "execution_count": 51,
   "id": "336484a0-349e-4184-9b06-612592f8c4d3",
   "metadata": {},
   "outputs": [
    {
     "data": {
      "text/html": [
       "<div>\n",
       "<style scoped>\n",
       "    .dataframe tbody tr th:only-of-type {\n",
       "        vertical-align: middle;\n",
       "    }\n",
       "\n",
       "    .dataframe tbody tr th {\n",
       "        vertical-align: top;\n",
       "    }\n",
       "\n",
       "    .dataframe thead th {\n",
       "        text-align: right;\n",
       "    }\n",
       "</style>\n",
       "<table border=\"1\" class=\"dataframe\">\n",
       "  <thead>\n",
       "    <tr style=\"text-align: right;\">\n",
       "      <th></th>\n",
       "      <th>input</th>\n",
       "      <th>generation_model</th>\n",
       "      <th>generation_prompt</th>\n",
       "      <th>raw_generation_responses</th>\n",
       "      <th>problem</th>\n",
       "      <th>generations</th>\n",
       "    </tr>\n",
       "  </thead>\n",
       "  <tbody>\n",
       "    <tr>\n",
       "      <th>0</th>\n",
       "      <td>def preprocess(data, lang):\\n    data[\"arg_neg...</td>\n",
       "      <td>[gpt-3.5-turbo]</td>\n",
       "      <td>[[{'content': 'You are exceptionally skilled a...</td>\n",
       "      <td>[Problem:\\n\\nYou are given a function `preproc...</td>\n",
       "      <td>[You are given a function `preprocess(data, la...</td>\n",
       "      <td>None</td>\n",
       "    </tr>\n",
       "    <tr>\n",
       "      <th>1</th>\n",
       "      <td>bash start-datafari.sh\\n</td>\n",
       "      <td>[gpt-3.5-turbo]</td>\n",
       "      <td>[[{'content': 'You are exceptionally skilled a...</td>\n",
       "      <td>[Problem:\\n\\nYou have been asked to automate t...</td>\n",
       "      <td>[You have been asked to automate the deploymen...</td>\n",
       "      <td>None</td>\n",
       "    </tr>\n",
       "    <tr>\n",
       "      <th>2</th>\n",
       "      <td>sa.Column('is_deleted', sa.Boolean(), null...</td>\n",
       "      <td>[gpt-3.5-turbo]</td>\n",
       "      <td>[[{'content': 'You are exceptionally skilled a...</td>\n",
       "      <td>[Problem Title: Event Synchronization\\n\\n## Pr...</td>\n",
       "      <td>[Title: Event Synchronization\\n\\n##  Descripti...</td>\n",
       "      <td>None</td>\n",
       "    </tr>\n",
       "    <tr>\n",
       "      <th>3</th>\n",
       "      <td>import com.google.common.collect.Lists;\\nimpor...</td>\n",
       "      <td>[gpt-3.5-turbo]</td>\n",
       "      <td>[[{'content': 'You are exceptionally skilled a...</td>\n",
       "      <td>[Problem Title: Tunnel Aspect Registry\\n\\nProb...</td>\n",
       "      <td>[Title: Tunnel Aspect Registry\\n\\n Description...</td>\n",
       "      <td>None</td>\n",
       "    </tr>\n",
       "    <tr>\n",
       "      <th>4</th>\n",
       "      <td>//\\n// This is an auto-generated file.\\n//\\n\\n...</td>\n",
       "      <td>[gpt-3.5-turbo]</td>\n",
       "      <td>[[{'content': 'You are exceptionally skilled a...</td>\n",
       "      <td>[Problem:\\n\\nYou are given a struct called `Co...</td>\n",
       "      <td>[You are given a struct called `Course` which ...</td>\n",
       "      <td>None</td>\n",
       "    </tr>\n",
       "  </tbody>\n",
       "</table>\n",
       "</div>"
      ],
      "text/plain": [
       "                                               input generation_model  \\\n",
       "0  def preprocess(data, lang):\\n    data[\"arg_neg...  [gpt-3.5-turbo]   \n",
       "1                           bash start-datafari.sh\\n  [gpt-3.5-turbo]   \n",
       "2      sa.Column('is_deleted', sa.Boolean(), null...  [gpt-3.5-turbo]   \n",
       "3  import com.google.common.collect.Lists;\\nimpor...  [gpt-3.5-turbo]   \n",
       "4  //\\n// This is an auto-generated file.\\n//\\n\\n...  [gpt-3.5-turbo]   \n",
       "\n",
       "                                   generation_prompt  \\\n",
       "0  [[{'content': 'You are exceptionally skilled a...   \n",
       "1  [[{'content': 'You are exceptionally skilled a...   \n",
       "2  [[{'content': 'You are exceptionally skilled a...   \n",
       "3  [[{'content': 'You are exceptionally skilled a...   \n",
       "4  [[{'content': 'You are exceptionally skilled a...   \n",
       "\n",
       "                            raw_generation_responses  \\\n",
       "0  [Problem:\\n\\nYou are given a function `preproc...   \n",
       "1  [Problem:\\n\\nYou have been asked to automate t...   \n",
       "2  [Problem Title: Event Synchronization\\n\\n## Pr...   \n",
       "3  [Problem Title: Tunnel Aspect Registry\\n\\nProb...   \n",
       "4  [Problem:\\n\\nYou are given a struct called `Co...   \n",
       "\n",
       "                                             problem generations  \n",
       "0  [You are given a function `preprocess(data, la...        None  \n",
       "1  [You have been asked to automate the deploymen...        None  \n",
       "2  [Title: Event Synchronization\\n\\n##  Descripti...        None  \n",
       "3  [Title: Tunnel Aspect Registry\\n\\n Description...        None  \n",
       "4  [You are given a struct called `Course` which ...        None  "
      ]
     },
     "execution_count": 51,
     "metadata": {},
     "output_type": "execute_result"
    }
   ],
   "source": [
    "oss_instruct_ds.to_pandas().head()"
   ]
  },
  {
   "cell_type": "code",
   "execution_count": 41,
   "id": "1b244a0b-5ee1-4d15-9a1f-cb1fa77662fe",
   "metadata": {},
   "outputs": [
    {
     "data": {
      "text/plain": [
       "'You are given a struct called `Course` which represents a single course offered at a university. It has the following properties:\\n\\n- `id`: An integer representing the unique identifier for the course.\\n- `name`: A string representing the name of the course.\\n- `courseCode`: A string representing the code assigned to the course.\\n- `accountId`: An integer representing the account to which the course belongs.\\n\\nYour task is to implement a function called `findCourseByCode` that takes in two parameters:\\n\\n1. `courses`: An array of `Course` objects representing a list of courses.\\n2. `code`: A string representing the course code to be searched for.\\n\\nThe function should return an array of `Course` objects that match the given course code.\\n\\n**Function Signature:** `func findCourseByCode(courses: [Course], code: String) -> [Course]`\\n\\n**Input:**\\nThe function `findCourseByCode` takes in two parameters:\\n- `courses` (1 <= courses.count <= 10^5): An array of `Course` objects representing a list of courses. Each course in the array is guaranteed to have a unique `id`.\\n- `code` (1 <= code.length <= 100): A string representing a course code.\\n\\n**Output:**\\nThe function should return an array of `Course` objects that match the given course code. If no courses are found with the given code, an empty array should be returned.\\n\\n**Note:**\\n- The input courses may contain multiple courses with the same course code, so the result array can also have multiple courses.\\n- The result array should maintain the same order of courses as in the `courses` input array.\\n\\n**Examples:**\\n```\\nlet courses = [\\n    Course(id: 1, name: \"Introduction to Computer Science\", courseCode: \"CS101\", accountId: 101),\\n    Course(id: 2, name: \"Advanced Programming\", courseCode: \"CS201\", accountId: 102),\\n    Course(id: 3, name: \"Web Development\", courseCode: \"CS301\", accountId: 101),\\n    Course(id: 4, name: \"Database Management\", courseCode: \"CS201\", accountId: 103),\\n    Course(id: 5, name: \"Data Structures\", courseCode: \"CS301\", accountId: 104)\\n]\\n\\nfindCourseByCode(courses: courses, code: \"CS201\") => [Course(id: 2, name: \"Advanced Programming\", courseCode: \"CS201\", accountId: 102), Course(id: 4, name: \"Database Management\", courseCode: \"CS201\", accountId: 103)]\\n\\nfindCourseByCode(courses: courses, code: \"CS301\") => [Course(id: 3, name: \"Web Development\", courseCode: \"CS301\", accountId: 101), Course(id: 5, name: \"Data Structures\", courseCode: \"CS301\", accountId: 104)]\\n\\nfindCourseByCode(courses: courses, code: \"CS101\") => [Course(id: 1, name: \"Introduction to Computer Science\", courseCode: \"CS101\", accountId: 101)]\\n\\nfindCourseByCode(courses: courses, code: \"CS401\") => []\\n```\\n\\n**Note:**\\n\\nIn the first example, the function should return an array of two `Course` objects with course code \"CS201\". The courses with ids 2 and 4 match the course code and should be returned in the same order.\\n\\nIn the third example, the function should return an array with a single `Course` object as only one course with course code \"CS101\" exists.\\n\\nIn the last example, the function should return an empty array as there are no courses with the course code \"CS401\".'"
      ]
     },
     "execution_count": 41,
     "metadata": {},
     "output_type": "execute_result"
    }
   ],
   "source": [
    "#print(oss_instruct_ds[2][\"problem\"][0].replace(\"Problem\", \"\").replace(\"Problem:\", \"\").strip())\n",
    "import re\n",
    "re.sub(\"Problem:?\", \"\", oss_instruct_ds[4][\"problem\"][0]).strip()\n"
   ]
  },
  {
   "cell_type": "code",
   "execution_count": 81,
   "id": "1cab61d4-e096-4e72-9168-881dc734d8e0",
   "metadata": {},
   "outputs": [],
   "source": [
    "#rg_dataset_0 = oss_instruct_ds.to_argilla()\n",
    "#rg_dataset_og = oss_instruct_og.to_argilla()\n",
    "#rg_dataset.push_to_argilla(name=name, workspace=workspace)"
   ]
  },
  {
   "cell_type": "code",
   "execution_count": 78,
   "id": "b71e6c69-33a6-4ce6-97a6-9377c61d51e2",
   "metadata": {},
   "outputs": [],
   "source": [
    "from huggingface_hub import duplicate_space\n",
    "\n",
    "import uuid"
   ]
  },
  {
   "cell_type": "code",
   "execution_count": 82,
   "id": "425f140c-21fa-4fc2-bd5c-705bea0e8ac7",
   "metadata": {},
   "outputs": [],
   "source": [
    "from_id = \"argilla/argilla-template-space\"  # default template\n",
    "to_id = f\"distilabel-dataset-{str(uuid.uuid4()).split('-')[0]}\"  # New id of the dataset, will reuse the user, otherwise update to your HF account\n",
    "new_space = duplicate_space(from_id, to_id=to_id)"
   ]
  },
  {
   "cell_type": "code",
   "execution_count": 60,
   "id": "a9268565-28c2-4eba-b7ec-62fad77f8fde",
   "metadata": {},
   "outputs": [
    {
     "data": {
      "text/html": [
       "<pre style=\"white-space:pre;overflow-x:auto;line-height:normal;font-family:Menlo,'DejaVu Sans Mono',consolas,'Courier New',monospace\"><span style=\"color: #800000; text-decoration-color: #800000\">╭─────────────────────────────── </span><span style=\"color: #800000; text-decoration-color: #800000; font-weight: bold\">Traceback </span><span style=\"color: #bf7f7f; text-decoration-color: #bf7f7f; font-weight: bold\">(most recent call last)</span><span style=\"color: #800000; text-decoration-color: #800000\"> ────────────────────────────────╮</span>\n",
       "<span style=\"color: #800000; text-decoration-color: #800000\">│</span> in <span style=\"color: #00ff00; text-decoration-color: #00ff00\">&lt;module&gt;</span>:<span style=\"color: #0000ff; text-decoration-color: #0000ff\">2</span>                                                                                    <span style=\"color: #800000; text-decoration-color: #800000\">│</span>\n",
       "<span style=\"color: #800000; text-decoration-color: #800000\">│</span>                                                                                                  <span style=\"color: #800000; text-decoration-color: #800000\">│</span>\n",
       "<span style=\"color: #800000; text-decoration-color: #800000\">│</span>   <span style=\"color: #7f7f7f; text-decoration-color: #7f7f7f\">1 </span>argilla_api_key = <span style=\"color: #808000; text-decoration-color: #808000\">\"admin.apikey\"</span>                                                             <span style=\"color: #800000; text-decoration-color: #800000\">│</span>\n",
       "<span style=\"color: #800000; text-decoration-color: #800000\">│</span> <span style=\"color: #800000; text-decoration-color: #800000\">❱ </span>2 argilla_space_url = <span style=\"color: #808000; text-decoration-color: #808000\">f\"https://{</span>new_space.namespace<span style=\"color: #808000; text-decoration-color: #808000\">}-{</span>to_id<span style=\"color: #808000; text-decoration-color: #808000\">}.hf.space\"</span>                        <span style=\"color: #800000; text-decoration-color: #800000\">│</span>\n",
       "<span style=\"color: #800000; text-decoration-color: #800000\">│</span>   <span style=\"color: #7f7f7f; text-decoration-color: #7f7f7f\">3 </span>                                                                                             <span style=\"color: #800000; text-decoration-color: #800000\">│</span>\n",
       "<span style=\"color: #800000; text-decoration-color: #800000\">╰──────────────────────────────────────────────────────────────────────────────────────────────────╯</span>\n",
       "<span style=\"color: #ff0000; text-decoration-color: #ff0000; font-weight: bold\">NameError: </span>name <span style=\"color: #008000; text-decoration-color: #008000\">'new_space'</span> is not defined\n",
       "</pre>\n"
      ],
      "text/plain": [
       "\u001b[31m╭─\u001b[0m\u001b[31m──────────────────────────────\u001b[0m\u001b[31m \u001b[0m\u001b[1;31mTraceback \u001b[0m\u001b[1;2;31m(most recent call last)\u001b[0m\u001b[31m \u001b[0m\u001b[31m───────────────────────────────\u001b[0m\u001b[31m─╮\u001b[0m\n",
       "\u001b[31m│\u001b[0m in \u001b[92m<module>\u001b[0m:\u001b[94m2\u001b[0m                                                                                    \u001b[31m│\u001b[0m\n",
       "\u001b[31m│\u001b[0m                                                                                                  \u001b[31m│\u001b[0m\n",
       "\u001b[31m│\u001b[0m   \u001b[2m1 \u001b[0margilla_api_key = \u001b[33m\"\u001b[0m\u001b[33madmin.apikey\u001b[0m\u001b[33m\"\u001b[0m                                                             \u001b[31m│\u001b[0m\n",
       "\u001b[31m│\u001b[0m \u001b[31m❱ \u001b[0m2 argilla_space_url = \u001b[33mf\u001b[0m\u001b[33m\"\u001b[0m\u001b[33mhttps://\u001b[0m\u001b[33m{\u001b[0mnew_space.namespace\u001b[33m}\u001b[0m\u001b[33m-\u001b[0m\u001b[33m{\u001b[0mto_id\u001b[33m}\u001b[0m\u001b[33m.hf.space\u001b[0m\u001b[33m\"\u001b[0m                        \u001b[31m│\u001b[0m\n",
       "\u001b[31m│\u001b[0m   \u001b[2m3 \u001b[0m                                                                                             \u001b[31m│\u001b[0m\n",
       "\u001b[31m╰──────────────────────────────────────────────────────────────────────────────────────────────────╯\u001b[0m\n",
       "\u001b[1;91mNameError: \u001b[0mname \u001b[32m'new_space'\u001b[0m is not defined\n"
      ]
     },
     "metadata": {},
     "output_type": "display_data"
    }
   ],
   "source": [
    "argilla_api_key = \"admin.apikey\"\n",
    "argilla_space_url = f\"https://{new_space.namespace}-{to_id}.hf.space\""
   ]
  },
  {
   "cell_type": "code",
   "execution_count": 61,
   "id": "a82e99a0-f843-4554-952f-5d19473d0684",
   "metadata": {},
   "outputs": [],
   "source": [
    "argilla_space_url = 'https://plaguss-distilabel-dataset-cddf4f3e.hf.space'"
   ]
  },
  {
   "cell_type": "code",
   "execution_count": 62,
   "id": "4680e825-30a1-48bd-8a4b-82b7e1fe4bf0",
   "metadata": {},
   "outputs": [
    {
     "name": "stderr",
     "output_type": "stream",
     "text": [
      "/Users/agus/github_repos/argilla-io/distilabel-workbench/.venv/lib/python3.10/site-packages/argilla/client/client.py:195: UserWarning: You're connecting to Argilla Server 1.23.1 using a different client version (1.24.0).\n",
      "This may lead to potential compatibility issues during your experience.\n",
      "To ensure a seamless and optimized connection, we highly recommend aligning your client version with the server version.\n",
      "  warnings.warn(\n"
     ]
    }
   ],
   "source": [
    "import argilla as rg\n",
    "\n",
    "default_workspace = \"admin\"\n",
    "\n",
    "rg.init(\n",
    "    api_key=argilla_api_key,\n",
    "    api_url=argilla_space_url,\n",
    "    workspace=default_workspace\n",
    ")"
   ]
  },
  {
   "cell_type": "code",
   "execution_count": 57,
   "id": "c705ec22-213d-4cb1-9492-a5bd51d6fc2b",
   "metadata": {},
   "outputs": [],
   "source": [
    "import argilla as rg\n",
    "#dataset = dstaset.select(range(10))\n",
    "\n",
    "fields = [\n",
    "    rg.TextField(name=\"seed\", title=\"seed\", use_markdown=True),\n",
    "    rg.TextField(name=\"problem\", title=\"problem\", use_markdown=True),\n",
    "#    rg.TextField(name=\"solution\", title=\"solution\", use_markdown=True)\n",
    "]\n",
    "questions = [\n",
    "    rg.TextQuestion(\n",
    "        name=\"explorer\",\n",
    "        title=\"Review the fields of the dataset.\",\n",
    "        required=True,\n",
    "        use_markdown=True\n",
    "    )\n",
    "]\n",
    "\n",
    "# Create dataset\n",
    "rg_dataset = rg.FeedbackDataset(\n",
    "    fields=fields,\n",
    "    questions=questions,\n",
    ")\n"
   ]
  },
  {
   "cell_type": "code",
   "execution_count": 89,
   "id": "275d6782-0187-4d6f-aecf-56e4de0b6c4f",
   "metadata": {},
   "outputs": [
    {
     "data": {
      "text/plain": [
       "['input',\n",
       " 'generation_model',\n",
       " 'generation_prompt',\n",
       " 'raw_generation_responses',\n",
       " 'problem',\n",
       " 'solution',\n",
       " 'generations']"
      ]
     },
     "execution_count": 89,
     "metadata": {},
     "output_type": "execute_result"
    }
   ],
   "source": [
    "oss_instruct_ds.column_names"
   ]
  },
  {
   "cell_type": "code",
   "execution_count": 90,
   "id": "2a5fbc34-ef3b-4247-a3db-5eca032e2b26",
   "metadata": {},
   "outputs": [
    {
     "data": {
      "text/plain": [
       "{'input': 'def preprocess(data, lang):\\n    data[\"arg_negate\"] = parse_template_boolean_value(data, parameter=\"arg_negate\", default_value=False)\\n    data[\"arg_is_regex\"] = parse_template_boolean_value(data, parameter=\"arg_is_regex\", default_value=False)\\n    return data\\n',\n",
       " 'problem': ['You are given a code snippet that defines a function `preprocess(data, lang)`. The function takes two parameters:\\n- `data`: A dictionary representing some data.\\n- `lang`: A string representing the language of the data.\\n\\nThe `preprocess` function performs some preprocessing on the input `data`. It adds two new key-value pairs to the dictionary `data`:\\n- Key: `\"arg_negate\"`, Value: The result of calling a function `parse_template_boolean_value(data, parameter=\"arg_negate\", default_value=False)`.\\n- Key: `\"arg_is_regex\"`, Value: The result of calling a function `parse_template_boolean_value(data, parameter=\"arg_is_regex\", default_value=False)`.\\n\\nYou need to implement the `preprocess` function to correctly perform the preprocessing steps.\\n\\nYour task is to implement the `preprocess` function.'],\n",
       " 'solution': ['```python\\ndef preprocess(data, lang):\\n    \"\"\"\\n    Preprocess the input data dictionary.\\n\\n    Parameters:\\n    - data: A dictionary representing some data.\\n    - lang: A string representing the language of the data.\\n\\n    Returns:\\n    The preprocessed data dictionary with two additional key-value pairs:\\n    - \"arg_negate\": The result of calling parse_template_boolean_value(data, parameter=\"arg_negate\", default_value=False).\\n    - \"arg_is_regex\": The result of calling parse_template_boolean_value(data, parameter=\"arg_is_regex\", default_value=False).\\n    \"\"\"\\n    data[\"arg_negate\"] = parse_template_boolean_value(data, parameter=\"arg_negate\", default_value=False)\\n    data[\"arg_is_regex\"] = parse_template_boolean_value(data, parameter=\"arg_is_regex\", default_value=False)\\n    return data\\n```\\n\\nNote: The implementation assumes that the function `parse_template_boolean_value` is already defined and available for use.']}"
      ]
     },
     "execution_count": 90,
     "metadata": {},
     "output_type": "execute_result"
    }
   ],
   "source": [
    "oss_instruct_ds.select_columns([\"input\", \"problem\", \"solution\"])[0]"
   ]
  },
  {
   "cell_type": "code",
   "execution_count": 55,
   "id": "c61249ef-78ad-479f-a345-b1de0994d292",
   "metadata": {},
   "outputs": [
    {
     "data": {
      "text/plain": [
       "Dataset({\n",
       "    features: ['input', 'generation_model', 'generation_prompt', 'raw_generation_responses', 'problem', 'generations'],\n",
       "    num_rows: 30\n",
       "})"
      ]
     },
     "execution_count": 55,
     "metadata": {},
     "output_type": "execute_result"
    }
   ],
   "source": [
    "oss_instruct_ds[\"generations\"]"
   ]
  },
  {
   "cell_type": "code",
   "execution_count": 58,
   "id": "684eddc3-374f-47ed-befc-fa7c7b332ae4",
   "metadata": {},
   "outputs": [],
   "source": [
    "# Add rows\n",
    "for row in oss_instruct_ds:  # oss_instruct_og\n",
    "    try:\n",
    "        fields = {\n",
    "            \"seed\": row[\"input\"],\n",
    "            \"problem\": row[\"problem\"][0],\n",
    "#            \"solution\": row[\"solution\"][0],\n",
    "        }\n",
    "        suggestions = []\n",
    "        if \"chosen_rationale\" in oss_instruct_ds.column_names and \"rejected_rationale\" in oss_instruct_ds.column_names:\n",
    "            suggestions = [\n",
    "                {\n",
    "                    \"question_name\": \"chosen-rationale\",\n",
    "                    \"value\": row[\"chosen_rationale\"]\n",
    "                },\n",
    "                {\n",
    "                    \"question_name\": \"rejected-rationale\",\n",
    "                    \"value\": row[\"rejected_rationale\"]\n",
    "                }\n",
    "            ]\n",
    "        rg_dataset.add_records(rg.FeedbackRecord(fields=fields, suggestions=suggestions))\n",
    "    except Exception as e:\n",
    "        print(e)"
   ]
  },
  {
   "cell_type": "code",
   "execution_count": 63,
   "id": "61cd532a-c9cb-44b5-a910-287e0dd143e5",
   "metadata": {},
   "outputs": [
    {
     "data": {
      "text/html": [
       "<pre style=\"white-space:pre;overflow-x:auto;line-height:normal;font-family:Menlo,'DejaVu Sans Mono',consolas,'Courier New',monospace\">/Users/agus/github_repos/argilla-io/distilabel-workbench/.venv/lib/python3.10/site-packages/rich/live.py:231: \n",
       "UserWarning: install \"ipywidgets\" for Jupyter support\n",
       "  warnings.warn('install \"ipywidgets\" for Jupyter support')\n",
       "</pre>\n"
      ],
      "text/plain": [
       "/Users/agus/github_repos/argilla-io/distilabel-workbench/.venv/lib/python3.10/site-packages/rich/live.py:231: \n",
       "UserWarning: install \"ipywidgets\" for Jupyter support\n",
       "  warnings.warn('install \"ipywidgets\" for Jupyter support')\n"
      ]
     },
     "metadata": {},
     "output_type": "display_data"
    },
    {
     "data": {
      "text/html": [
       "<pre style=\"white-space:pre;overflow-x:auto;line-height:normal;font-family:Menlo,'DejaVu Sans Mono',consolas,'Courier New',monospace\"></pre>\n"
      ],
      "text/plain": []
     },
     "metadata": {},
     "output_type": "display_data"
    },
    {
     "data": {
      "text/html": [
       "<pre style=\"white-space:pre;overflow-x:auto;line-height:normal;font-family:Menlo,'DejaVu Sans Mono',consolas,'Courier New',monospace\">\n",
       "</pre>\n"
      ],
      "text/plain": [
       "\n"
      ]
     },
     "metadata": {},
     "output_type": "display_data"
    },
    {
     "data": {
      "text/html": [
       "<pre style=\"white-space:pre;overflow-x:auto;line-height:normal;font-family:Menlo,'DejaVu Sans Mono',consolas,'Courier New',monospace\"><span style=\"color: #7fbfbf; text-decoration-color: #7fbfbf\">[02/16/24 15:55:04] </span><span style=\"color: #000080; text-decoration-color: #000080\">INFO    </span> INFO:argilla.client.feedback.dataset.local.mixins:✓ Dataset succesfully  <a href=\"file:///Users/agus/github_repos/argilla-io/distilabel-workbench/.venv/lib/python3.10/site-packages/argilla/client/feedback/dataset/local/mixins.py\" target=\"_blank\"><span style=\"color: #7f7f7f; text-decoration-color: #7f7f7f\">mixins.py</span></a><span style=\"color: #7f7f7f; text-decoration-color: #7f7f7f\">:</span><a href=\"file:///Users/agus/github_repos/argilla-io/distilabel-workbench/.venv/lib/python3.10/site-packages/argilla/client/feedback/dataset/local/mixins.py#281\" target=\"_blank\"><span style=\"color: #7f7f7f; text-decoration-color: #7f7f7f\">281</span></a>\n",
       "<span style=\"color: #7fbfbf; text-decoration-color: #7fbfbf\">                    </span>         pushed to Argilla                                                        <span style=\"color: #7f7f7f; text-decoration-color: #7f7f7f\">             </span>\n",
       "</pre>\n"
      ],
      "text/plain": [
       "\u001b[2;36m[02/16/24 15:55:04]\u001b[0m\u001b[2;36m \u001b[0m\u001b[34mINFO    \u001b[0m INFO:argilla.client.feedback.dataset.local.mixins:✓ Dataset succesfully  \u001b]8;id=540048;file:///Users/agus/github_repos/argilla-io/distilabel-workbench/.venv/lib/python3.10/site-packages/argilla/client/feedback/dataset/local/mixins.py\u001b\\\u001b[2mmixins.py\u001b[0m\u001b]8;;\u001b\\\u001b[2m:\u001b[0m\u001b]8;id=549661;file:///Users/agus/github_repos/argilla-io/distilabel-workbench/.venv/lib/python3.10/site-packages/argilla/client/feedback/dataset/local/mixins.py#281\u001b\\\u001b[2m281\u001b[0m\u001b]8;;\u001b\\\n",
       "\u001b[2;36m                    \u001b[0m         pushed to Argilla                                                        \u001b[2m             \u001b[0m\n"
      ]
     },
     "metadata": {},
     "output_type": "display_data"
    },
    {
     "data": {
      "text/html": [
       "<pre style=\"white-space:pre;overflow-x:auto;line-height:normal;font-family:Menlo,'DejaVu Sans Mono',consolas,'Courier New',monospace\"><span style=\"color: #7fbfbf; text-decoration-color: #7fbfbf\">                    </span><span style=\"color: #000080; text-decoration-color: #000080\">INFO    </span> INFO:argilla.client.feedback.dataset.local.mixins:<span style=\"color: #800080; text-decoration-color: #800080; font-weight: bold\">RemoteFeedbackDataset</span><span style=\"font-weight: bold\">(</span> <a href=\"file:///Users/agus/github_repos/argilla-io/distilabel-workbench/.venv/lib/python3.10/site-packages/argilla/client/feedback/dataset/local/mixins.py\" target=\"_blank\"><span style=\"color: #7f7f7f; text-decoration-color: #7f7f7f\">mixins.py</span></a><span style=\"color: #7f7f7f; text-decoration-color: #7f7f7f\">:</span><a href=\"file:///Users/agus/github_repos/argilla-io/distilabel-workbench/.venv/lib/python3.10/site-packages/argilla/client/feedback/dataset/local/mixins.py#282\" target=\"_blank\"><span style=\"color: #7f7f7f; text-decoration-color: #7f7f7f\">282</span></a>\n",
       "<span style=\"color: #7fbfbf; text-decoration-color: #7fbfbf\">                    </span>            <span style=\"color: #808000; text-decoration-color: #808000\">id</span>=<span style=\"color: #ffff00; text-decoration-color: #ffff00\">f000c8a4</span><span style=\"color: #ffff00; text-decoration-color: #ffff00\">-4b60-4bd7-bfc5-86cf15d4721c</span>                               <span style=\"color: #7f7f7f; text-decoration-color: #7f7f7f\">             </span>\n",
       "<span style=\"color: #7fbfbf; text-decoration-color: #7fbfbf\">                    </span>            <span style=\"color: #808000; text-decoration-color: #808000\">name</span>=<span style=\"color: #800080; text-decoration-color: #800080\">disticoder</span>-problem-set                                           <span style=\"color: #7f7f7f; text-decoration-color: #7f7f7f\">             </span>\n",
       "<span style=\"color: #7fbfbf; text-decoration-color: #7fbfbf\">                    </span>            <span style=\"color: #808000; text-decoration-color: #808000\">workspace</span>=<span style=\"color: #800080; text-decoration-color: #800080; font-weight: bold\">Workspace</span><span style=\"font-weight: bold\">(</span><span style=\"color: #808000; text-decoration-color: #808000\">id</span>=<span style=\"color: #ffff00; text-decoration-color: #ffff00\">61543500</span><span style=\"color: #ffff00; text-decoration-color: #ffff00\">-24a8-4a5e-b91d-65c7ce541c6e</span>,          <span style=\"color: #7f7f7f; text-decoration-color: #7f7f7f\">             </span>\n",
       "<span style=\"color: #7fbfbf; text-decoration-color: #7fbfbf\">                    </span>         <span style=\"color: #808000; text-decoration-color: #808000\">name</span>=<span style=\"color: #800080; text-decoration-color: #800080\">admin</span>, <span style=\"color: #808000; text-decoration-color: #808000\">inserted_at</span>=<span style=\"color: #008080; text-decoration-color: #008080; font-weight: bold\">2024</span>-<span style=\"color: #008080; text-decoration-color: #008080; font-weight: bold\">02</span>-<span style=\"color: #008080; text-decoration-color: #008080; font-weight: bold\">16</span> <span style=\"color: #00ff00; text-decoration-color: #00ff00; font-weight: bold\">11:48:08</span>.<span style=\"color: #008080; text-decoration-color: #008080; font-weight: bold\">311578</span>,                      <span style=\"color: #7f7f7f; text-decoration-color: #7f7f7f\">             </span>\n",
       "<span style=\"color: #7fbfbf; text-decoration-color: #7fbfbf\">                    </span>         <span style=\"color: #808000; text-decoration-color: #808000\">updated_at</span>=<span style=\"color: #008080; text-decoration-color: #008080; font-weight: bold\">2024</span>-<span style=\"color: #008080; text-decoration-color: #008080; font-weight: bold\">02</span>-<span style=\"color: #008080; text-decoration-color: #008080; font-weight: bold\">16</span> <span style=\"color: #00ff00; text-decoration-color: #00ff00; font-weight: bold\">11:48:08</span>.<span style=\"color: #008080; text-decoration-color: #008080; font-weight: bold\">311578</span><span style=\"font-weight: bold\">)</span>                                   <span style=\"color: #7f7f7f; text-decoration-color: #7f7f7f\">             </span>\n",
       "<span style=\"color: #7fbfbf; text-decoration-color: #7fbfbf\">                    </span>            <span style=\"color: #808000; text-decoration-color: #808000\">url</span>=<span style=\"color: #0000ff; text-decoration-color: #0000ff; text-decoration: underline\">https://plaguss-distilabel-dataset-cddf4f3e.hf.space/dataset/f000</span> <span style=\"color: #7f7f7f; text-decoration-color: #7f7f7f\">             </span>\n",
       "<span style=\"color: #7fbfbf; text-decoration-color: #7fbfbf\">                    </span>         <span style=\"color: #0000ff; text-decoration-color: #0000ff; text-decoration: underline\">c8a4-4b60-4bd7-bfc5-86cf15d4721c/annotation-mode</span>                         <span style=\"color: #7f7f7f; text-decoration-color: #7f7f7f\">             </span>\n",
       "<span style=\"color: #7fbfbf; text-decoration-color: #7fbfbf\">                    </span>            <span style=\"color: #808000; text-decoration-color: #808000\">fields</span>=<span style=\"font-weight: bold\">[</span><span style=\"color: #800080; text-decoration-color: #800080; font-weight: bold\">RemoteTextField</span><span style=\"font-weight: bold\">(</span><span style=\"color: #808000; text-decoration-color: #808000\">id</span>=<span style=\"color: #800080; text-decoration-color: #800080; font-weight: bold\">UUID</span><span style=\"font-weight: bold\">(</span><span style=\"color: #008000; text-decoration-color: #008000\">'9e0bf926-3129-4179-8d44-09ef21d49e11</span> <span style=\"color: #7f7f7f; text-decoration-color: #7f7f7f\">             </span>\n",
       "<span style=\"color: #7fbfbf; text-decoration-color: #7fbfbf\">                    </span>         <span style=\"color: #008000; text-decoration-color: #008000\">'</span><span style=\"font-weight: bold\">)</span>, <span style=\"color: #808000; text-decoration-color: #808000\">client</span>=<span style=\"color: #800080; text-decoration-color: #800080; font-style: italic\">None</span>, <span style=\"color: #808000; text-decoration-color: #808000\">name</span>=<span style=\"color: #008000; text-decoration-color: #008000\">'seed'</span>, <span style=\"color: #808000; text-decoration-color: #808000\">title</span>=<span style=\"color: #008000; text-decoration-color: #008000\">'seed'</span>, <span style=\"color: #808000; text-decoration-color: #808000\">required</span>=<span style=\"color: #00ff00; text-decoration-color: #00ff00; font-style: italic\">True</span>, <span style=\"color: #808000; text-decoration-color: #808000\">type</span>=<span style=\"color: #008000; text-decoration-color: #008000\">'text'</span>,  <span style=\"color: #7f7f7f; text-decoration-color: #7f7f7f\">             </span>\n",
       "<span style=\"color: #7fbfbf; text-decoration-color: #7fbfbf\">                    </span>         <span style=\"color: #808000; text-decoration-color: #808000\">use_markdown</span>=<span style=\"color: #00ff00; text-decoration-color: #00ff00; font-style: italic\">True</span><span style=\"font-weight: bold\">)</span>,                                                      <span style=\"color: #7f7f7f; text-decoration-color: #7f7f7f\">             </span>\n",
       "<span style=\"color: #7fbfbf; text-decoration-color: #7fbfbf\">                    </span>         <span style=\"color: #800080; text-decoration-color: #800080; font-weight: bold\">RemoteTextField</span><span style=\"font-weight: bold\">(</span><span style=\"color: #808000; text-decoration-color: #808000\">id</span>=<span style=\"color: #800080; text-decoration-color: #800080; font-weight: bold\">UUID</span><span style=\"font-weight: bold\">(</span><span style=\"color: #008000; text-decoration-color: #008000\">'26e91794-f1b6-4a3f-8760-430802a706aa'</span><span style=\"font-weight: bold\">)</span>,         <span style=\"color: #7f7f7f; text-decoration-color: #7f7f7f\">             </span>\n",
       "<span style=\"color: #7fbfbf; text-decoration-color: #7fbfbf\">                    </span>         <span style=\"color: #808000; text-decoration-color: #808000\">client</span>=<span style=\"color: #800080; text-decoration-color: #800080; font-style: italic\">None</span>, <span style=\"color: #808000; text-decoration-color: #808000\">name</span>=<span style=\"color: #008000; text-decoration-color: #008000\">'problem'</span>, <span style=\"color: #808000; text-decoration-color: #808000\">title</span>=<span style=\"color: #008000; text-decoration-color: #008000\">'problem'</span>, <span style=\"color: #808000; text-decoration-color: #808000\">required</span>=<span style=\"color: #00ff00; text-decoration-color: #00ff00; font-style: italic\">True</span>,             <span style=\"color: #7f7f7f; text-decoration-color: #7f7f7f\">             </span>\n",
       "<span style=\"color: #7fbfbf; text-decoration-color: #7fbfbf\">                    </span>         <span style=\"color: #808000; text-decoration-color: #808000\">type</span>=<span style=\"color: #008000; text-decoration-color: #008000\">'text'</span>, <span style=\"color: #808000; text-decoration-color: #808000\">use_markdown</span>=<span style=\"color: #00ff00; text-decoration-color: #00ff00; font-style: italic\">True</span><span style=\"font-weight: bold\">)]</span>                                         <span style=\"color: #7f7f7f; text-decoration-color: #7f7f7f\">             </span>\n",
       "<span style=\"color: #7fbfbf; text-decoration-color: #7fbfbf\">                    </span>            <span style=\"color: #808000; text-decoration-color: #808000\">questions</span>=<span style=\"font-weight: bold\">[</span><span style=\"color: #800080; text-decoration-color: #800080; font-weight: bold\">RemoteTextQuestion</span><span style=\"font-weight: bold\">(</span><span style=\"color: #808000; text-decoration-color: #808000\">id</span>=<span style=\"color: #800080; text-decoration-color: #800080; font-weight: bold\">UUID</span><span style=\"font-weight: bold\">(</span><span style=\"color: #008000; text-decoration-color: #008000\">'223cff33-e130-4d4b-a6b6-2ebe72</span> <span style=\"color: #7f7f7f; text-decoration-color: #7f7f7f\">             </span>\n",
       "<span style=\"color: #7fbfbf; text-decoration-color: #7fbfbf\">                    </span>         <span style=\"color: #008000; text-decoration-color: #008000\">0fba0d'</span><span style=\"font-weight: bold\">)</span>, <span style=\"color: #808000; text-decoration-color: #808000\">client</span>=<span style=\"color: #800080; text-decoration-color: #800080; font-style: italic\">None</span>, <span style=\"color: #808000; text-decoration-color: #808000\">name</span>=<span style=\"color: #008000; text-decoration-color: #008000\">'explorer'</span>, <span style=\"color: #808000; text-decoration-color: #808000\">title</span>=<span style=\"color: #008000; text-decoration-color: #008000\">'Review the fields of the </span> <span style=\"color: #7f7f7f; text-decoration-color: #7f7f7f\">             </span>\n",
       "<span style=\"color: #7fbfbf; text-decoration-color: #7fbfbf\">                    </span>         <span style=\"color: #008000; text-decoration-color: #008000\">dataset.'</span>, <span style=\"color: #808000; text-decoration-color: #808000\">description</span>=<span style=\"color: #800080; text-decoration-color: #800080; font-style: italic\">None</span>, <span style=\"color: #808000; text-decoration-color: #808000\">required</span>=<span style=\"color: #00ff00; text-decoration-color: #00ff00; font-style: italic\">True</span>, <span style=\"color: #808000; text-decoration-color: #808000\">type</span>=<span style=\"color: #008000; text-decoration-color: #008000\">'text'</span>,                 <span style=\"color: #7f7f7f; text-decoration-color: #7f7f7f\">             </span>\n",
       "<span style=\"color: #7fbfbf; text-decoration-color: #7fbfbf\">                    </span>         <span style=\"color: #808000; text-decoration-color: #808000\">use_markdown</span>=<span style=\"color: #00ff00; text-decoration-color: #00ff00; font-style: italic\">True</span><span style=\"font-weight: bold\">)]</span>                                                      <span style=\"color: #7f7f7f; text-decoration-color: #7f7f7f\">             </span>\n",
       "<span style=\"color: #7fbfbf; text-decoration-color: #7fbfbf\">                    </span>            <span style=\"color: #808000; text-decoration-color: #808000\">guidelines</span>=<span style=\"color: #800080; text-decoration-color: #800080; font-style: italic\">None</span>                                                       <span style=\"color: #7f7f7f; text-decoration-color: #7f7f7f\">             </span>\n",
       "<span style=\"color: #7fbfbf; text-decoration-color: #7fbfbf\">                    </span>            <span style=\"color: #808000; text-decoration-color: #808000\">metadata_properties</span>=<span style=\"font-weight: bold\">[]</span>                                                <span style=\"color: #7f7f7f; text-decoration-color: #7f7f7f\">             </span>\n",
       "<span style=\"color: #7fbfbf; text-decoration-color: #7fbfbf\">                    </span>            <span style=\"color: #808000; text-decoration-color: #808000\">vectors_settings</span>=<span style=\"font-weight: bold\">[]</span>                                                   <span style=\"color: #7f7f7f; text-decoration-color: #7f7f7f\">             </span>\n",
       "<span style=\"color: #7fbfbf; text-decoration-color: #7fbfbf\">                    </span>         <span style=\"font-weight: bold\">)</span>                                                                        <span style=\"color: #7f7f7f; text-decoration-color: #7f7f7f\">             </span>\n",
       "</pre>\n"
      ],
      "text/plain": [
       "\u001b[2;36m                   \u001b[0m\u001b[2;36m \u001b[0m\u001b[34mINFO    \u001b[0m INFO:argilla.client.feedback.dataset.local.mixins:\u001b[1;35mRemoteFeedbackDataset\u001b[0m\u001b[1m(\u001b[0m \u001b]8;id=471203;file:///Users/agus/github_repos/argilla-io/distilabel-workbench/.venv/lib/python3.10/site-packages/argilla/client/feedback/dataset/local/mixins.py\u001b\\\u001b[2mmixins.py\u001b[0m\u001b]8;;\u001b\\\u001b[2m:\u001b[0m\u001b]8;id=439865;file:///Users/agus/github_repos/argilla-io/distilabel-workbench/.venv/lib/python3.10/site-packages/argilla/client/feedback/dataset/local/mixins.py#282\u001b\\\u001b[2m282\u001b[0m\u001b]8;;\u001b\\\n",
       "\u001b[2;36m                    \u001b[0m            \u001b[33mid\u001b[0m=\u001b[93mf000c8a4\u001b[0m\u001b[93m-4b60-4bd7-bfc5-86cf15d4721c\u001b[0m                               \u001b[2m             \u001b[0m\n",
       "\u001b[2;36m                    \u001b[0m            \u001b[33mname\u001b[0m=\u001b[35mdisticoder\u001b[0m-problem-set                                           \u001b[2m             \u001b[0m\n",
       "\u001b[2;36m                    \u001b[0m            \u001b[33mworkspace\u001b[0m=\u001b[1;35mWorkspace\u001b[0m\u001b[1m(\u001b[0m\u001b[33mid\u001b[0m=\u001b[93m61543500\u001b[0m\u001b[93m-24a8-4a5e-b91d-65c7ce541c6e\u001b[0m,          \u001b[2m             \u001b[0m\n",
       "\u001b[2;36m                    \u001b[0m         \u001b[33mname\u001b[0m=\u001b[35madmin\u001b[0m, \u001b[33minserted_at\u001b[0m=\u001b[1;36m2024\u001b[0m-\u001b[1;36m02\u001b[0m-\u001b[1;36m16\u001b[0m \u001b[1;92m11:48:08\u001b[0m.\u001b[1;36m311578\u001b[0m,                      \u001b[2m             \u001b[0m\n",
       "\u001b[2;36m                    \u001b[0m         \u001b[33mupdated_at\u001b[0m=\u001b[1;36m2024\u001b[0m-\u001b[1;36m02\u001b[0m-\u001b[1;36m16\u001b[0m \u001b[1;92m11:48:08\u001b[0m.\u001b[1;36m311578\u001b[0m\u001b[1m)\u001b[0m                                   \u001b[2m             \u001b[0m\n",
       "\u001b[2;36m                    \u001b[0m            \u001b[33murl\u001b[0m=\u001b[4;94mhttps\u001b[0m\u001b[4;94m://plaguss-distilabel-dataset-cddf4f3e.hf.space/dataset/f000\u001b[0m \u001b[2m             \u001b[0m\n",
       "\u001b[2;36m                    \u001b[0m         \u001b[4;94mc8a4-4b60-4bd7-bfc5-86cf15d4721c/annotation-mode\u001b[0m                         \u001b[2m             \u001b[0m\n",
       "\u001b[2;36m                    \u001b[0m            \u001b[33mfields\u001b[0m=\u001b[1m[\u001b[0m\u001b[1;35mRemoteTextField\u001b[0m\u001b[1m(\u001b[0m\u001b[33mid\u001b[0m=\u001b[1;35mUUID\u001b[0m\u001b[1m(\u001b[0m\u001b[32m'9e0bf926-3129-4179-8d44-09ef21d49e11\u001b[0m \u001b[2m             \u001b[0m\n",
       "\u001b[2;36m                    \u001b[0m         \u001b[32m'\u001b[0m\u001b[1m)\u001b[0m, \u001b[33mclient\u001b[0m=\u001b[3;35mNone\u001b[0m, \u001b[33mname\u001b[0m=\u001b[32m'seed'\u001b[0m, \u001b[33mtitle\u001b[0m=\u001b[32m'seed'\u001b[0m, \u001b[33mrequired\u001b[0m=\u001b[3;92mTrue\u001b[0m, \u001b[33mtype\u001b[0m=\u001b[32m'text'\u001b[0m,  \u001b[2m             \u001b[0m\n",
       "\u001b[2;36m                    \u001b[0m         \u001b[33muse_markdown\u001b[0m=\u001b[3;92mTrue\u001b[0m\u001b[1m)\u001b[0m,                                                      \u001b[2m             \u001b[0m\n",
       "\u001b[2;36m                    \u001b[0m         \u001b[1;35mRemoteTextField\u001b[0m\u001b[1m(\u001b[0m\u001b[33mid\u001b[0m=\u001b[1;35mUUID\u001b[0m\u001b[1m(\u001b[0m\u001b[32m'26e91794-f1b6-4a3f-8760-430802a706aa'\u001b[0m\u001b[1m)\u001b[0m,         \u001b[2m             \u001b[0m\n",
       "\u001b[2;36m                    \u001b[0m         \u001b[33mclient\u001b[0m=\u001b[3;35mNone\u001b[0m, \u001b[33mname\u001b[0m=\u001b[32m'problem'\u001b[0m, \u001b[33mtitle\u001b[0m=\u001b[32m'problem'\u001b[0m, \u001b[33mrequired\u001b[0m=\u001b[3;92mTrue\u001b[0m,             \u001b[2m             \u001b[0m\n",
       "\u001b[2;36m                    \u001b[0m         \u001b[33mtype\u001b[0m=\u001b[32m'text'\u001b[0m, \u001b[33muse_markdown\u001b[0m=\u001b[3;92mTrue\u001b[0m\u001b[1m)\u001b[0m\u001b[1m]\u001b[0m                                         \u001b[2m             \u001b[0m\n",
       "\u001b[2;36m                    \u001b[0m            \u001b[33mquestions\u001b[0m=\u001b[1m[\u001b[0m\u001b[1;35mRemoteTextQuestion\u001b[0m\u001b[1m(\u001b[0m\u001b[33mid\u001b[0m=\u001b[1;35mUUID\u001b[0m\u001b[1m(\u001b[0m\u001b[32m'223cff33-e130-4d4b-a6b6-2ebe72\u001b[0m \u001b[2m             \u001b[0m\n",
       "\u001b[2;36m                    \u001b[0m         \u001b[32m0fba0d'\u001b[0m\u001b[1m)\u001b[0m, \u001b[33mclient\u001b[0m=\u001b[3;35mNone\u001b[0m, \u001b[33mname\u001b[0m=\u001b[32m'explorer'\u001b[0m, \u001b[33mtitle\u001b[0m=\u001b[32m'Review the fields of the \u001b[0m \u001b[2m             \u001b[0m\n",
       "\u001b[2;36m                    \u001b[0m         \u001b[32mdataset.'\u001b[0m, \u001b[33mdescription\u001b[0m=\u001b[3;35mNone\u001b[0m, \u001b[33mrequired\u001b[0m=\u001b[3;92mTrue\u001b[0m, \u001b[33mtype\u001b[0m=\u001b[32m'text'\u001b[0m,                 \u001b[2m             \u001b[0m\n",
       "\u001b[2;36m                    \u001b[0m         \u001b[33muse_markdown\u001b[0m=\u001b[3;92mTrue\u001b[0m\u001b[1m)\u001b[0m\u001b[1m]\u001b[0m                                                      \u001b[2m             \u001b[0m\n",
       "\u001b[2;36m                    \u001b[0m            \u001b[33mguidelines\u001b[0m=\u001b[3;35mNone\u001b[0m                                                       \u001b[2m             \u001b[0m\n",
       "\u001b[2;36m                    \u001b[0m            \u001b[33mmetadata_properties\u001b[0m=\u001b[1m[\u001b[0m\u001b[1m]\u001b[0m                                                \u001b[2m             \u001b[0m\n",
       "\u001b[2;36m                    \u001b[0m            \u001b[33mvectors_settings\u001b[0m=\u001b[1m[\u001b[0m\u001b[1m]\u001b[0m                                                   \u001b[2m             \u001b[0m\n",
       "\u001b[2;36m                    \u001b[0m         \u001b[1m)\u001b[0m                                                                        \u001b[2m             \u001b[0m\n"
      ]
     },
     "metadata": {},
     "output_type": "display_data"
    },
    {
     "data": {
      "text/plain": [
       "RemoteFeedbackDataset(\n",
       "   id=f000c8a4-4b60-4bd7-bfc5-86cf15d4721c\n",
       "   name=disticoder-problem-set\n",
       "   workspace=Workspace(id=61543500-24a8-4a5e-b91d-65c7ce541c6e, name=admin, inserted_at=2024-02-16 11:48:08.311578, updated_at=2024-02-16 11:48:08.311578)\n",
       "   url=https://plaguss-distilabel-dataset-cddf4f3e.hf.space/dataset/f000c8a4-4b60-4bd7-bfc5-86cf15d4721c/annotation-mode\n",
       "   fields=[RemoteTextField(id=UUID('9e0bf926-3129-4179-8d44-09ef21d49e11'), client=None, name='seed', title='seed', required=True, type='text', use_markdown=True), RemoteTextField(id=UUID('26e91794-f1b6-4a3f-8760-430802a706aa'), client=None, name='problem', title='problem', required=True, type='text', use_markdown=True)]\n",
       "   questions=[RemoteTextQuestion(id=UUID('223cff33-e130-4d4b-a6b6-2ebe720fba0d'), client=None, name='explorer', title='Review the fields of the dataset.', description=None, required=True, type='text', use_markdown=True)]\n",
       "   guidelines=None\n",
       "   metadata_properties=[]\n",
       "   vectors_settings=[]\n",
       ")"
      ]
     },
     "execution_count": 63,
     "metadata": {},
     "output_type": "execute_result"
    }
   ],
   "source": [
    "rg_dataset.push_to_argilla(name=\"disticoder-problem-set\", workspace=\"admin\")"
   ]
  },
  {
   "cell_type": "markdown",
   "id": "3caed766-f41e-44e5-ae8a-3dad82964971",
   "metadata": {},
   "source": [
    "### Generate the solution"
   ]
  },
  {
   "cell_type": "code",
   "execution_count": 65,
   "id": "f059d650-c5b3-420a-a756-686bf60a4d25",
   "metadata": {},
   "outputs": [
    {
     "data": {
      "text/plain": [
       "Dataset({\n",
       "    features: ['input', 'generation_model', 'generation_prompt', 'raw_generation_responses', 'problem', 'generations'],\n",
       "    num_rows: 30\n",
       "})"
      ]
     },
     "execution_count": 65,
     "metadata": {},
     "output_type": "execute_result"
    }
   ],
   "source": [
    "oss_instruct_ds"
   ]
  },
  {
   "cell_type": "code",
   "execution_count": 95,
   "id": "b5a9cfee-0698-44b2-ae5a-7dae7281719e",
   "metadata": {},
   "outputs": [
    {
     "name": "stderr",
     "output_type": "stream",
     "text": [
      "Map: 100%|████████████████████████████████████████████████████████████████████████████████████████████████████████████████████████████████| 30/30 [00:00<00:00, 2251.45 examples/s]\n"
     ]
    }
   ],
   "source": [
    "problems_oss_instruct = oss_instruct_ds.rename_column(\"input\", \"seed\")\n",
    "problems_oss_instruct = problems_oss_instruct.rename_column(\"problem\", \"input\")\n",
    "problems_oss_instruct = problems_oss_instruct.map(lambda x: {\"input\": x[\"input\"][0]})\n",
    "problems_oss_instruct = problems_oss_instruct.remove_columns(['generation_model', 'generation_prompt', 'raw_generation_responses', 'generations'])"
   ]
  },
  {
   "cell_type": "code",
   "execution_count": 86,
   "id": "173e4736-221b-4082-8e76-499e5e3195b6",
   "metadata": {},
   "outputs": [
    {
     "data": {
      "text/html": [
       "<div>\n",
       "<style scoped>\n",
       "    .dataframe tbody tr th:only-of-type {\n",
       "        vertical-align: middle;\n",
       "    }\n",
       "\n",
       "    .dataframe tbody tr th {\n",
       "        vertical-align: top;\n",
       "    }\n",
       "\n",
       "    .dataframe thead th {\n",
       "        text-align: right;\n",
       "    }\n",
       "</style>\n",
       "<table border=\"1\" class=\"dataframe\">\n",
       "  <thead>\n",
       "    <tr style=\"text-align: right;\">\n",
       "      <th></th>\n",
       "      <th>seed</th>\n",
       "      <th>input</th>\n",
       "    </tr>\n",
       "  </thead>\n",
       "  <tbody>\n",
       "    <tr>\n",
       "      <th>0</th>\n",
       "      <td>def preprocess(data, lang):\\n    data[\"arg_neg...</td>\n",
       "      <td>You are given a function `preprocess(data, lan...</td>\n",
       "    </tr>\n",
       "    <tr>\n",
       "      <th>1</th>\n",
       "      <td>bash start-datafari.sh\\n</td>\n",
       "      <td>You have been asked to automate the deployment...</td>\n",
       "    </tr>\n",
       "    <tr>\n",
       "      <th>2</th>\n",
       "      <td>sa.Column('is_deleted', sa.Boolean(), null...</td>\n",
       "      <td>Title: Event Synchronization\\n\\n##  Descriptio...</td>\n",
       "    </tr>\n",
       "    <tr>\n",
       "      <th>3</th>\n",
       "      <td>import com.google.common.collect.Lists;\\nimpor...</td>\n",
       "      <td>Title: Tunnel Aspect Registry\\n\\n Description:...</td>\n",
       "    </tr>\n",
       "    <tr>\n",
       "      <th>4</th>\n",
       "      <td>//\\n// This is an auto-generated file.\\n//\\n\\n...</td>\n",
       "      <td>You are given a struct called `Course` which r...</td>\n",
       "    </tr>\n",
       "  </tbody>\n",
       "</table>\n",
       "</div>"
      ],
      "text/plain": [
       "                                                seed  \\\n",
       "0  def preprocess(data, lang):\\n    data[\"arg_neg...   \n",
       "1                           bash start-datafari.sh\\n   \n",
       "2      sa.Column('is_deleted', sa.Boolean(), null...   \n",
       "3  import com.google.common.collect.Lists;\\nimpor...   \n",
       "4  //\\n// This is an auto-generated file.\\n//\\n\\n...   \n",
       "\n",
       "                                               input  \n",
       "0  You are given a function `preprocess(data, lan...  \n",
       "1  You have been asked to automate the deployment...  \n",
       "2  Title: Event Synchronization\\n\\n##  Descriptio...  \n",
       "3  Title: Tunnel Aspect Registry\\n\\n Description:...  \n",
       "4  You are given a struct called `Course` which r...  "
      ]
     },
     "execution_count": 86,
     "metadata": {},
     "output_type": "execute_result"
    }
   ],
   "source": [
    "problems_oss_instruct.to_pandas().head()"
   ]
  },
  {
   "cell_type": "code",
   "execution_count": 93,
   "id": "476b9bc8-8c55-4e3d-a641-488a761d5080",
   "metadata": {},
   "outputs": [],
   "source": [
    "oss_instruct_prompt = \"\"\"Please gain inspiration from the following random code snippet to create a high-quality programming problem.\n",
    "\n",
    "Code snippet for inspiration:\n",
    "```\n",
    "{code}\n",
    "```\n",
    "\n",
    "Guidelines for the problem:\n",
    "The problem should be **completely self-contained**, providing all the contextual information one needs to understand and solve the problem. Assume common programming knowledge, but ensure that any specific context, variables, or code snippets pertinent to this problem are **explicitly included*. **Don't reference any provided code snippet** if you are not including it in the problem description.\"\"\"\n",
    "\n",
    "\n",
    "@dataclass\n",
    "class OSSolution(TextGenerationTask):\n",
    "    system_prompt: str = (\n",
    "        \"You are exceptionally skilled at code generation and problem solving. \",\n",
    "        \"Offer a comprehensive, **correct** solution that accurately addresses the problem provided.\"\n",
    "    )\n",
    "\n",
    "#    def generate_prompt(self, input: str) -> Prompt:\n",
    "#        return Prompt(\n",
    "#            system_prompt=self.system_prompt,\n",
    "#            formatted_prompt=oss_instruct_prompt.format(code=input)\n",
    "#          )\n",
    "\n",
    "    def parse_output(self, output: str) -> List[Dict[str, str]]:\n",
    "        return {\"solution\": output}\n",
    "\n",
    "\n",
    "\n",
    "pipe_generation_solutions = Pipeline(\n",
    "    generator=OpenAILLM(\n",
    "        model=\"gpt-3.5-turbo\",\n",
    "        task=OSSSolution(),\n",
    "        api_key=os.getenv(\"OPENAI_API_KEY\"),\n",
    "        max_new_tokens=1024,\n",
    "        num_threads=4,\n",
    "        temperature=1\n",
    "    )\n",
    ")\n"
   ]
  },
  {
   "cell_type": "code",
   "execution_count": 80,
   "id": "d8028423-4aa5-4732-a11c-442d9f15985e",
   "metadata": {},
   "outputs": [
    {
     "data": {
      "text/html": [
       "<div>\n",
       "<style scoped>\n",
       "    .dataframe tbody tr th:only-of-type {\n",
       "        vertical-align: middle;\n",
       "    }\n",
       "\n",
       "    .dataframe tbody tr th {\n",
       "        vertical-align: top;\n",
       "    }\n",
       "\n",
       "    .dataframe thead th {\n",
       "        text-align: right;\n",
       "    }\n",
       "</style>\n",
       "<table border=\"1\" class=\"dataframe\">\n",
       "  <thead>\n",
       "    <tr style=\"text-align: right;\">\n",
       "      <th></th>\n",
       "      <th>seed</th>\n",
       "      <th>input</th>\n",
       "    </tr>\n",
       "  </thead>\n",
       "  <tbody>\n",
       "    <tr>\n",
       "      <th>0</th>\n",
       "      <td>def preprocess(data, lang):\\n    data[\"arg_neg...</td>\n",
       "      <td>[You are given a function `preprocess(data, la...</td>\n",
       "    </tr>\n",
       "    <tr>\n",
       "      <th>1</th>\n",
       "      <td>bash start-datafari.sh\\n</td>\n",
       "      <td>[You have been asked to automate the deploymen...</td>\n",
       "    </tr>\n",
       "    <tr>\n",
       "      <th>2</th>\n",
       "      <td>sa.Column('is_deleted', sa.Boolean(), null...</td>\n",
       "      <td>[Title: Event Synchronization\\n\\n##  Descripti...</td>\n",
       "    </tr>\n",
       "    <tr>\n",
       "      <th>3</th>\n",
       "      <td>import com.google.common.collect.Lists;\\nimpor...</td>\n",
       "      <td>[Title: Tunnel Aspect Registry\\n\\n Description...</td>\n",
       "    </tr>\n",
       "  </tbody>\n",
       "</table>\n",
       "</div>"
      ],
      "text/plain": [
       "                                                seed  \\\n",
       "0  def preprocess(data, lang):\\n    data[\"arg_neg...   \n",
       "1                           bash start-datafari.sh\\n   \n",
       "2      sa.Column('is_deleted', sa.Boolean(), null...   \n",
       "3  import com.google.common.collect.Lists;\\nimpor...   \n",
       "\n",
       "                                               input  \n",
       "0  [You are given a function `preprocess(data, la...  \n",
       "1  [You have been asked to automate the deploymen...  \n",
       "2  [Title: Event Synchronization\\n\\n##  Descripti...  \n",
       "3  [Title: Tunnel Aspect Registry\\n\\n Description...  "
      ]
     },
     "execution_count": 80,
     "metadata": {},
     "output_type": "execute_result"
    }
   ],
   "source": [
    "problems_oss_instruct.select(range(4)).to_pandas()"
   ]
  },
  {
   "cell_type": "code",
   "execution_count": 107,
   "id": "c7c10142-f09a-4951-a02c-36a9b6cf54cc",
   "metadata": {},
   "outputs": [
    {
     "data": {
      "text/html": [
       "<pre style=\"white-space:pre;overflow-x:auto;line-height:normal;font-family:Menlo,'DejaVu Sans Mono',consolas,'Courier New',monospace\"><span style=\"color: #800000; text-decoration-color: #800000\">╭─────────────────────────────── </span><span style=\"color: #800000; text-decoration-color: #800000; font-weight: bold\">Traceback </span><span style=\"color: #bf7f7f; text-decoration-color: #bf7f7f; font-weight: bold\">(most recent call last)</span><span style=\"color: #800000; text-decoration-color: #800000\"> ────────────────────────────────╮</span>\n",
       "<span style=\"color: #800000; text-decoration-color: #800000\">│</span> in <span style=\"color: #00ff00; text-decoration-color: #00ff00\">&lt;module&gt;</span>:<span style=\"color: #0000ff; text-decoration-color: #0000ff\">1</span>                                                                                    <span style=\"color: #800000; text-decoration-color: #800000\">│</span>\n",
       "<span style=\"color: #800000; text-decoration-color: #800000\">│</span>                                                                                                  <span style=\"color: #800000; text-decoration-color: #800000\">│</span>\n",
       "<span style=\"color: #800000; text-decoration-color: #800000\">│</span> <span style=\"color: #800000; text-decoration-color: #800000\">❱ </span>1 problems_oss_instruct.select(<span style=\"color: #00ffff; text-decoration-color: #00ffff\">range</span>(<span style=\"color: #0000ff; text-decoration-color: #0000ff\">4</span>)).to_pandas()[<span style=\"color: #808000; text-decoration-color: #808000\">\"input\"</span>].iloc[<span style=\"color: #0000ff; text-decoration-color: #0000ff\">4</span>]                          <span style=\"color: #800000; text-decoration-color: #800000\">│</span>\n",
       "<span style=\"color: #800000; text-decoration-color: #800000\">│</span>   <span style=\"color: #7f7f7f; text-decoration-color: #7f7f7f\">2 </span>                                                                                             <span style=\"color: #800000; text-decoration-color: #800000\">│</span>\n",
       "<span style=\"color: #800000; text-decoration-color: #800000\">│</span>                                                                                                  <span style=\"color: #800000; text-decoration-color: #800000\">│</span>\n",
       "<span style=\"color: #800000; text-decoration-color: #800000\">│</span> <span style=\"color: #bfbf7f; text-decoration-color: #bfbf7f\">/Users/agus/github_repos/argilla-io/distilabel-workbench/.venv/lib/python3.10/site-packages/pand</span> <span style=\"color: #800000; text-decoration-color: #800000\">│</span>\n",
       "<span style=\"color: #800000; text-decoration-color: #800000\">│</span> <span style=\"color: #bfbf7f; text-decoration-color: #bfbf7f\">as/core/</span><span style=\"color: #808000; text-decoration-color: #808000; font-weight: bold\">indexing.py</span>:<span style=\"color: #0000ff; text-decoration-color: #0000ff\">1073</span> in <span style=\"color: #00ff00; text-decoration-color: #00ff00\">__getitem__</span>                                                          <span style=\"color: #800000; text-decoration-color: #800000\">│</span>\n",
       "<span style=\"color: #800000; text-decoration-color: #800000\">│</span>                                                                                                  <span style=\"color: #800000; text-decoration-color: #800000\">│</span>\n",
       "<span style=\"color: #800000; text-decoration-color: #800000\">│</span>   <span style=\"color: #7f7f7f; text-decoration-color: #7f7f7f\">1070 </span><span style=\"color: #7f7f7f; text-decoration-color: #7f7f7f\">│   │   │   </span>axis = <span style=\"color: #00ffff; text-decoration-color: #00ffff\">self</span>.axis <span style=\"color: #ff00ff; text-decoration-color: #ff00ff\">or</span> <span style=\"color: #0000ff; text-decoration-color: #0000ff\">0</span>                                                         <span style=\"color: #800000; text-decoration-color: #800000\">│</span>\n",
       "<span style=\"color: #800000; text-decoration-color: #800000\">│</span>   <span style=\"color: #7f7f7f; text-decoration-color: #7f7f7f\">1071 </span><span style=\"color: #7f7f7f; text-decoration-color: #7f7f7f\">│   │   │   </span>                                                                              <span style=\"color: #800000; text-decoration-color: #800000\">│</span>\n",
       "<span style=\"color: #800000; text-decoration-color: #800000\">│</span>   <span style=\"color: #7f7f7f; text-decoration-color: #7f7f7f\">1072 </span><span style=\"color: #7f7f7f; text-decoration-color: #7f7f7f\">│   │   │   </span>maybe_callable = com.apply_if_callable(key, <span style=\"color: #00ffff; text-decoration-color: #00ffff\">self</span>.obj)                         <span style=\"color: #800000; text-decoration-color: #800000\">│</span>\n",
       "<span style=\"color: #800000; text-decoration-color: #800000\">│</span> <span style=\"color: #800000; text-decoration-color: #800000\">❱ </span>1073 <span style=\"color: #7f7f7f; text-decoration-color: #7f7f7f\">│   │   │   </span><span style=\"color: #0000ff; text-decoration-color: #0000ff\">return</span> <span style=\"color: #00ffff; text-decoration-color: #00ffff\">self</span>._getitem_axis(maybe_callable, axis=axis)                          <span style=\"color: #800000; text-decoration-color: #800000\">│</span>\n",
       "<span style=\"color: #800000; text-decoration-color: #800000\">│</span>   <span style=\"color: #7f7f7f; text-decoration-color: #7f7f7f\">1074 </span><span style=\"color: #7f7f7f; text-decoration-color: #7f7f7f\">│   </span>                                                                                      <span style=\"color: #800000; text-decoration-color: #800000\">│</span>\n",
       "<span style=\"color: #800000; text-decoration-color: #800000\">│</span>   <span style=\"color: #7f7f7f; text-decoration-color: #7f7f7f\">1075 </span><span style=\"color: #7f7f7f; text-decoration-color: #7f7f7f\">│   </span><span style=\"color: #0000ff; text-decoration-color: #0000ff\">def</span> <span style=\"color: #00ff00; text-decoration-color: #00ff00\">_is_scalar_access</span>(<span style=\"color: #00ffff; text-decoration-color: #00ffff\">self</span>, key: <span style=\"color: #00ffff; text-decoration-color: #00ffff\">tuple</span>):                                              <span style=\"color: #800000; text-decoration-color: #800000\">│</span>\n",
       "<span style=\"color: #800000; text-decoration-color: #800000\">│</span>   <span style=\"color: #7f7f7f; text-decoration-color: #7f7f7f\">1076 </span><span style=\"color: #7f7f7f; text-decoration-color: #7f7f7f\">│   │   </span><span style=\"color: #0000ff; text-decoration-color: #0000ff\">raise</span> <span style=\"color: #00ffff; text-decoration-color: #00ffff\">NotImplementedError</span>()                                                       <span style=\"color: #800000; text-decoration-color: #800000\">│</span>\n",
       "<span style=\"color: #800000; text-decoration-color: #800000\">│</span>                                                                                                  <span style=\"color: #800000; text-decoration-color: #800000\">│</span>\n",
       "<span style=\"color: #800000; text-decoration-color: #800000\">│</span> <span style=\"color: #bfbf7f; text-decoration-color: #bfbf7f\">/Users/agus/github_repos/argilla-io/distilabel-workbench/.venv/lib/python3.10/site-packages/pand</span> <span style=\"color: #800000; text-decoration-color: #800000\">│</span>\n",
       "<span style=\"color: #800000; text-decoration-color: #800000\">│</span> <span style=\"color: #bfbf7f; text-decoration-color: #bfbf7f\">as/core/</span><span style=\"color: #808000; text-decoration-color: #808000; font-weight: bold\">indexing.py</span>:<span style=\"color: #0000ff; text-decoration-color: #0000ff\">1625</span> in <span style=\"color: #00ff00; text-decoration-color: #00ff00\">_getitem_axis</span>                                                        <span style=\"color: #800000; text-decoration-color: #800000\">│</span>\n",
       "<span style=\"color: #800000; text-decoration-color: #800000\">│</span>                                                                                                  <span style=\"color: #800000; text-decoration-color: #800000\">│</span>\n",
       "<span style=\"color: #800000; text-decoration-color: #800000\">│</span>   <span style=\"color: #7f7f7f; text-decoration-color: #7f7f7f\">1622 </span><span style=\"color: #7f7f7f; text-decoration-color: #7f7f7f\">│   │   │   │   </span><span style=\"color: #0000ff; text-decoration-color: #0000ff\">raise</span> <span style=\"color: #00ffff; text-decoration-color: #00ffff\">TypeError</span>(<span style=\"color: #808000; text-decoration-color: #808000\">\"Cannot index by location index with a non-integer key\"</span>)  <span style=\"color: #800000; text-decoration-color: #800000\">│</span>\n",
       "<span style=\"color: #800000; text-decoration-color: #800000\">│</span>   <span style=\"color: #7f7f7f; text-decoration-color: #7f7f7f\">1623 </span><span style=\"color: #7f7f7f; text-decoration-color: #7f7f7f\">│   │   │   </span>                                                                              <span style=\"color: #800000; text-decoration-color: #800000\">│</span>\n",
       "<span style=\"color: #800000; text-decoration-color: #800000\">│</span>   <span style=\"color: #7f7f7f; text-decoration-color: #7f7f7f\">1624 </span><span style=\"color: #7f7f7f; text-decoration-color: #7f7f7f\">│   │   │   </span><span style=\"color: #7f7f7f; text-decoration-color: #7f7f7f\"># validate the location</span>                                                       <span style=\"color: #800000; text-decoration-color: #800000\">│</span>\n",
       "<span style=\"color: #800000; text-decoration-color: #800000\">│</span> <span style=\"color: #800000; text-decoration-color: #800000\">❱ </span>1625 <span style=\"color: #7f7f7f; text-decoration-color: #7f7f7f\">│   │   │   </span><span style=\"color: #00ffff; text-decoration-color: #00ffff\">self</span>._validate_integer(key, axis)                                             <span style=\"color: #800000; text-decoration-color: #800000\">│</span>\n",
       "<span style=\"color: #800000; text-decoration-color: #800000\">│</span>   <span style=\"color: #7f7f7f; text-decoration-color: #7f7f7f\">1626 </span><span style=\"color: #7f7f7f; text-decoration-color: #7f7f7f\">│   │   │   </span>                                                                              <span style=\"color: #800000; text-decoration-color: #800000\">│</span>\n",
       "<span style=\"color: #800000; text-decoration-color: #800000\">│</span>   <span style=\"color: #7f7f7f; text-decoration-color: #7f7f7f\">1627 </span><span style=\"color: #7f7f7f; text-decoration-color: #7f7f7f\">│   │   │   </span><span style=\"color: #0000ff; text-decoration-color: #0000ff\">return</span> <span style=\"color: #00ffff; text-decoration-color: #00ffff\">self</span>.obj._ixs(key, axis=axis)                                          <span style=\"color: #800000; text-decoration-color: #800000\">│</span>\n",
       "<span style=\"color: #800000; text-decoration-color: #800000\">│</span>   <span style=\"color: #7f7f7f; text-decoration-color: #7f7f7f\">1628 </span>                                                                                          <span style=\"color: #800000; text-decoration-color: #800000\">│</span>\n",
       "<span style=\"color: #800000; text-decoration-color: #800000\">│</span>                                                                                                  <span style=\"color: #800000; text-decoration-color: #800000\">│</span>\n",
       "<span style=\"color: #800000; text-decoration-color: #800000\">│</span> <span style=\"color: #bfbf7f; text-decoration-color: #bfbf7f\">/Users/agus/github_repos/argilla-io/distilabel-workbench/.venv/lib/python3.10/site-packages/pand</span> <span style=\"color: #800000; text-decoration-color: #800000\">│</span>\n",
       "<span style=\"color: #800000; text-decoration-color: #800000\">│</span> <span style=\"color: #bfbf7f; text-decoration-color: #bfbf7f\">as/core/</span><span style=\"color: #808000; text-decoration-color: #808000; font-weight: bold\">indexing.py</span>:<span style=\"color: #0000ff; text-decoration-color: #0000ff\">1557</span> in <span style=\"color: #00ff00; text-decoration-color: #00ff00\">_validate_integer</span>                                                    <span style=\"color: #800000; text-decoration-color: #800000\">│</span>\n",
       "<span style=\"color: #800000; text-decoration-color: #800000\">│</span>                                                                                                  <span style=\"color: #800000; text-decoration-color: #800000\">│</span>\n",
       "<span style=\"color: #800000; text-decoration-color: #800000\">│</span>   <span style=\"color: #7f7f7f; text-decoration-color: #7f7f7f\">1554 </span><span style=\"color: #bfbf7f; text-decoration-color: #bfbf7f\">│   │   </span><span style=\"color: #808000; text-decoration-color: #808000\">\"\"\"</span>                                                                               <span style=\"color: #800000; text-decoration-color: #800000\">│</span>\n",
       "<span style=\"color: #800000; text-decoration-color: #800000\">│</span>   <span style=\"color: #7f7f7f; text-decoration-color: #7f7f7f\">1555 </span><span style=\"color: #7f7f7f; text-decoration-color: #7f7f7f\">│   │   </span>len_axis = <span style=\"color: #00ffff; text-decoration-color: #00ffff\">len</span>(<span style=\"color: #00ffff; text-decoration-color: #00ffff\">self</span>.obj._get_axis(axis))                                          <span style=\"color: #800000; text-decoration-color: #800000\">│</span>\n",
       "<span style=\"color: #800000; text-decoration-color: #800000\">│</span>   <span style=\"color: #7f7f7f; text-decoration-color: #7f7f7f\">1556 </span><span style=\"color: #7f7f7f; text-decoration-color: #7f7f7f\">│   │   </span><span style=\"color: #0000ff; text-decoration-color: #0000ff\">if</span> key &gt;= len_axis <span style=\"color: #ff00ff; text-decoration-color: #ff00ff\">or</span> key &lt; -len_axis:                                            <span style=\"color: #800000; text-decoration-color: #800000\">│</span>\n",
       "<span style=\"color: #800000; text-decoration-color: #800000\">│</span> <span style=\"color: #800000; text-decoration-color: #800000\">❱ </span>1557 <span style=\"color: #7f7f7f; text-decoration-color: #7f7f7f\">│   │   │   </span><span style=\"color: #0000ff; text-decoration-color: #0000ff\">raise</span> <span style=\"color: #00ffff; text-decoration-color: #00ffff\">IndexError</span>(<span style=\"color: #808000; text-decoration-color: #808000\">\"single positional indexer is out-of-bounds\"</span>)                <span style=\"color: #800000; text-decoration-color: #800000\">│</span>\n",
       "<span style=\"color: #800000; text-decoration-color: #800000\">│</span>   <span style=\"color: #7f7f7f; text-decoration-color: #7f7f7f\">1558 </span><span style=\"color: #7f7f7f; text-decoration-color: #7f7f7f\">│   </span>                                                                                      <span style=\"color: #800000; text-decoration-color: #800000\">│</span>\n",
       "<span style=\"color: #800000; text-decoration-color: #800000\">│</span>   <span style=\"color: #7f7f7f; text-decoration-color: #7f7f7f\">1559 </span><span style=\"color: #7f7f7f; text-decoration-color: #7f7f7f\">│   </span><span style=\"color: #7f7f7f; text-decoration-color: #7f7f7f\"># -------------------------------------------------------------------</span>                 <span style=\"color: #800000; text-decoration-color: #800000\">│</span>\n",
       "<span style=\"color: #800000; text-decoration-color: #800000\">│</span>   <span style=\"color: #7f7f7f; text-decoration-color: #7f7f7f\">1560 </span>                                                                                          <span style=\"color: #800000; text-decoration-color: #800000\">│</span>\n",
       "<span style=\"color: #800000; text-decoration-color: #800000\">╰──────────────────────────────────────────────────────────────────────────────────────────────────╯</span>\n",
       "<span style=\"color: #ff0000; text-decoration-color: #ff0000; font-weight: bold\">IndexError: </span>single positional indexer is out-of-bounds\n",
       "</pre>\n"
      ],
      "text/plain": [
       "\u001b[31m╭─\u001b[0m\u001b[31m──────────────────────────────\u001b[0m\u001b[31m \u001b[0m\u001b[1;31mTraceback \u001b[0m\u001b[1;2;31m(most recent call last)\u001b[0m\u001b[31m \u001b[0m\u001b[31m───────────────────────────────\u001b[0m\u001b[31m─╮\u001b[0m\n",
       "\u001b[31m│\u001b[0m in \u001b[92m<module>\u001b[0m:\u001b[94m1\u001b[0m                                                                                    \u001b[31m│\u001b[0m\n",
       "\u001b[31m│\u001b[0m                                                                                                  \u001b[31m│\u001b[0m\n",
       "\u001b[31m│\u001b[0m \u001b[31m❱ \u001b[0m1 problems_oss_instruct.select(\u001b[96mrange\u001b[0m(\u001b[94m4\u001b[0m)).to_pandas()[\u001b[33m\"\u001b[0m\u001b[33minput\u001b[0m\u001b[33m\"\u001b[0m].iloc[\u001b[94m4\u001b[0m]                          \u001b[31m│\u001b[0m\n",
       "\u001b[31m│\u001b[0m   \u001b[2m2 \u001b[0m                                                                                             \u001b[31m│\u001b[0m\n",
       "\u001b[31m│\u001b[0m                                                                                                  \u001b[31m│\u001b[0m\n",
       "\u001b[31m│\u001b[0m \u001b[2;33m/Users/agus/github_repos/argilla-io/distilabel-workbench/.venv/lib/python3.10/site-packages/pand\u001b[0m \u001b[31m│\u001b[0m\n",
       "\u001b[31m│\u001b[0m \u001b[2;33mas/core/\u001b[0m\u001b[1;33mindexing.py\u001b[0m:\u001b[94m1073\u001b[0m in \u001b[92m__getitem__\u001b[0m                                                          \u001b[31m│\u001b[0m\n",
       "\u001b[31m│\u001b[0m                                                                                                  \u001b[31m│\u001b[0m\n",
       "\u001b[31m│\u001b[0m   \u001b[2m1070 \u001b[0m\u001b[2m│   │   │   \u001b[0maxis = \u001b[96mself\u001b[0m.axis \u001b[95mor\u001b[0m \u001b[94m0\u001b[0m                                                         \u001b[31m│\u001b[0m\n",
       "\u001b[31m│\u001b[0m   \u001b[2m1071 \u001b[0m\u001b[2m│   │   │   \u001b[0m                                                                              \u001b[31m│\u001b[0m\n",
       "\u001b[31m│\u001b[0m   \u001b[2m1072 \u001b[0m\u001b[2m│   │   │   \u001b[0mmaybe_callable = com.apply_if_callable(key, \u001b[96mself\u001b[0m.obj)                         \u001b[31m│\u001b[0m\n",
       "\u001b[31m│\u001b[0m \u001b[31m❱ \u001b[0m1073 \u001b[2m│   │   │   \u001b[0m\u001b[94mreturn\u001b[0m \u001b[96mself\u001b[0m._getitem_axis(maybe_callable, axis=axis)                          \u001b[31m│\u001b[0m\n",
       "\u001b[31m│\u001b[0m   \u001b[2m1074 \u001b[0m\u001b[2m│   \u001b[0m                                                                                      \u001b[31m│\u001b[0m\n",
       "\u001b[31m│\u001b[0m   \u001b[2m1075 \u001b[0m\u001b[2m│   \u001b[0m\u001b[94mdef\u001b[0m \u001b[92m_is_scalar_access\u001b[0m(\u001b[96mself\u001b[0m, key: \u001b[96mtuple\u001b[0m):                                              \u001b[31m│\u001b[0m\n",
       "\u001b[31m│\u001b[0m   \u001b[2m1076 \u001b[0m\u001b[2m│   │   \u001b[0m\u001b[94mraise\u001b[0m \u001b[96mNotImplementedError\u001b[0m()                                                       \u001b[31m│\u001b[0m\n",
       "\u001b[31m│\u001b[0m                                                                                                  \u001b[31m│\u001b[0m\n",
       "\u001b[31m│\u001b[0m \u001b[2;33m/Users/agus/github_repos/argilla-io/distilabel-workbench/.venv/lib/python3.10/site-packages/pand\u001b[0m \u001b[31m│\u001b[0m\n",
       "\u001b[31m│\u001b[0m \u001b[2;33mas/core/\u001b[0m\u001b[1;33mindexing.py\u001b[0m:\u001b[94m1625\u001b[0m in \u001b[92m_getitem_axis\u001b[0m                                                        \u001b[31m│\u001b[0m\n",
       "\u001b[31m│\u001b[0m                                                                                                  \u001b[31m│\u001b[0m\n",
       "\u001b[31m│\u001b[0m   \u001b[2m1622 \u001b[0m\u001b[2m│   │   │   │   \u001b[0m\u001b[94mraise\u001b[0m \u001b[96mTypeError\u001b[0m(\u001b[33m\"\u001b[0m\u001b[33mCannot index by location index with a non-integer key\u001b[0m\u001b[33m\"\u001b[0m)  \u001b[31m│\u001b[0m\n",
       "\u001b[31m│\u001b[0m   \u001b[2m1623 \u001b[0m\u001b[2m│   │   │   \u001b[0m                                                                              \u001b[31m│\u001b[0m\n",
       "\u001b[31m│\u001b[0m   \u001b[2m1624 \u001b[0m\u001b[2m│   │   │   \u001b[0m\u001b[2m# validate the location\u001b[0m                                                       \u001b[31m│\u001b[0m\n",
       "\u001b[31m│\u001b[0m \u001b[31m❱ \u001b[0m1625 \u001b[2m│   │   │   \u001b[0m\u001b[96mself\u001b[0m._validate_integer(key, axis)                                             \u001b[31m│\u001b[0m\n",
       "\u001b[31m│\u001b[0m   \u001b[2m1626 \u001b[0m\u001b[2m│   │   │   \u001b[0m                                                                              \u001b[31m│\u001b[0m\n",
       "\u001b[31m│\u001b[0m   \u001b[2m1627 \u001b[0m\u001b[2m│   │   │   \u001b[0m\u001b[94mreturn\u001b[0m \u001b[96mself\u001b[0m.obj._ixs(key, axis=axis)                                          \u001b[31m│\u001b[0m\n",
       "\u001b[31m│\u001b[0m   \u001b[2m1628 \u001b[0m                                                                                          \u001b[31m│\u001b[0m\n",
       "\u001b[31m│\u001b[0m                                                                                                  \u001b[31m│\u001b[0m\n",
       "\u001b[31m│\u001b[0m \u001b[2;33m/Users/agus/github_repos/argilla-io/distilabel-workbench/.venv/lib/python3.10/site-packages/pand\u001b[0m \u001b[31m│\u001b[0m\n",
       "\u001b[31m│\u001b[0m \u001b[2;33mas/core/\u001b[0m\u001b[1;33mindexing.py\u001b[0m:\u001b[94m1557\u001b[0m in \u001b[92m_validate_integer\u001b[0m                                                    \u001b[31m│\u001b[0m\n",
       "\u001b[31m│\u001b[0m                                                                                                  \u001b[31m│\u001b[0m\n",
       "\u001b[31m│\u001b[0m   \u001b[2m1554 \u001b[0m\u001b[2;33m│   │   \u001b[0m\u001b[33m\"\"\"\u001b[0m                                                                               \u001b[31m│\u001b[0m\n",
       "\u001b[31m│\u001b[0m   \u001b[2m1555 \u001b[0m\u001b[2m│   │   \u001b[0mlen_axis = \u001b[96mlen\u001b[0m(\u001b[96mself\u001b[0m.obj._get_axis(axis))                                          \u001b[31m│\u001b[0m\n",
       "\u001b[31m│\u001b[0m   \u001b[2m1556 \u001b[0m\u001b[2m│   │   \u001b[0m\u001b[94mif\u001b[0m key >= len_axis \u001b[95mor\u001b[0m key < -len_axis:                                            \u001b[31m│\u001b[0m\n",
       "\u001b[31m│\u001b[0m \u001b[31m❱ \u001b[0m1557 \u001b[2m│   │   │   \u001b[0m\u001b[94mraise\u001b[0m \u001b[96mIndexError\u001b[0m(\u001b[33m\"\u001b[0m\u001b[33msingle positional indexer is out-of-bounds\u001b[0m\u001b[33m\"\u001b[0m)                \u001b[31m│\u001b[0m\n",
       "\u001b[31m│\u001b[0m   \u001b[2m1558 \u001b[0m\u001b[2m│   \u001b[0m                                                                                      \u001b[31m│\u001b[0m\n",
       "\u001b[31m│\u001b[0m   \u001b[2m1559 \u001b[0m\u001b[2m│   \u001b[0m\u001b[2m# -------------------------------------------------------------------\u001b[0m                 \u001b[31m│\u001b[0m\n",
       "\u001b[31m│\u001b[0m   \u001b[2m1560 \u001b[0m                                                                                          \u001b[31m│\u001b[0m\n",
       "\u001b[31m╰──────────────────────────────────────────────────────────────────────────────────────────────────╯\u001b[0m\n",
       "\u001b[1;91mIndexError: \u001b[0msingle positional indexer is out-of-bounds\n"
      ]
     },
     "metadata": {},
     "output_type": "display_data"
    }
   ],
   "source": [
    "problems_oss_instruct.select(range(4)).to_pandas()[\"input\"].iloc[4]"
   ]
  },
  {
   "cell_type": "code",
   "execution_count": 100,
   "id": "6db8df11-9b02-4db4-a463-58a584377e79",
   "metadata": {},
   "outputs": [
    {
     "data": {
      "text/html": [
       "<pre style=\"white-space:pre;overflow-x:auto;line-height:normal;font-family:Menlo,'DejaVu Sans Mono',consolas,'Courier New',monospace\"><span style=\"color: #7fbfbf; text-decoration-color: #7fbfbf\">[02/16/24 16:22:44] </span><span style=\"color: #000080; text-decoration-color: #000080\">INFO    </span> INFO:distilabel:Executing dry-run<span style=\"color: #808000; text-decoration-color: #808000\">...</span>                                   <a href=\"file:///Users/agus/github_repos/argilla-io/distilabel/src/distilabel/pipeline.py\" target=\"_blank\"><span style=\"color: #7f7f7f; text-decoration-color: #7f7f7f\">pipeline.py</span></a><span style=\"color: #7f7f7f; text-decoration-color: #7f7f7f\">:</span><a href=\"file:///Users/agus/github_repos/argilla-io/distilabel/src/distilabel/pipeline.py#742\" target=\"_blank\"><span style=\"color: #7f7f7f; text-decoration-color: #7f7f7f\">742</span></a>\n",
       "</pre>\n"
      ],
      "text/plain": [
       "\u001b[2;36m[02/16/24 16:22:44]\u001b[0m\u001b[2;36m \u001b[0m\u001b[34mINFO    \u001b[0m INFO:distilabel:Executing dry-run\u001b[33m...\u001b[0m                                   \u001b]8;id=799181;file:///Users/agus/github_repos/argilla-io/distilabel/src/distilabel/pipeline.py\u001b\\\u001b[2mpipeline.py\u001b[0m\u001b]8;;\u001b\\\u001b[2m:\u001b[0m\u001b]8;id=681301;file:///Users/agus/github_repos/argilla-io/distilabel/src/distilabel/pipeline.py#742\u001b\\\u001b[2m742\u001b[0m\u001b]8;;\u001b\\\n"
      ]
     },
     "metadata": {},
     "output_type": "display_data"
    },
    {
     "data": {
      "text/html": [
       "<pre style=\"white-space:pre;overflow-x:auto;line-height:normal;font-family:Menlo,'DejaVu Sans Mono',consolas,'Courier New',monospace\"><span style=\"color: #7fbfbf; text-decoration-color: #7fbfbf\">                    </span><span style=\"color: #000080; text-decoration-color: #000080\">INFO    </span> INFO:distilabel:Processing batch <span style=\"color: #008080; text-decoration-color: #008080; font-weight: bold\">1</span> of <span style=\"color: #008080; text-decoration-color: #008080; font-weight: bold\">1</span><span style=\"color: #808000; text-decoration-color: #808000\">...</span>                             <a href=\"file:///Users/agus/github_repos/argilla-io/distilabel/src/distilabel/pipeline.py\" target=\"_blank\"><span style=\"color: #7f7f7f; text-decoration-color: #7f7f7f\">pipeline.py</span></a><span style=\"color: #7f7f7f; text-decoration-color: #7f7f7f\">:</span><a href=\"file:///Users/agus/github_repos/argilla-io/distilabel/src/distilabel/pipeline.py#572\" target=\"_blank\"><span style=\"color: #7f7f7f; text-decoration-color: #7f7f7f\">572</span></a>\n",
       "</pre>\n"
      ],
      "text/plain": [
       "\u001b[2;36m                   \u001b[0m\u001b[2;36m \u001b[0m\u001b[34mINFO    \u001b[0m INFO:distilabel:Processing batch \u001b[1;36m1\u001b[0m of \u001b[1;36m1\u001b[0m\u001b[33m...\u001b[0m                             \u001b]8;id=43394;file:///Users/agus/github_repos/argilla-io/distilabel/src/distilabel/pipeline.py\u001b\\\u001b[2mpipeline.py\u001b[0m\u001b]8;;\u001b\\\u001b[2m:\u001b[0m\u001b]8;id=348225;file:///Users/agus/github_repos/argilla-io/distilabel/src/distilabel/pipeline.py#572\u001b\\\u001b[2m572\u001b[0m\u001b]8;;\u001b\\\n"
      ]
     },
     "metadata": {},
     "output_type": "display_data"
    },
    {
     "data": {
      "text/html": [
       "<pre style=\"white-space:pre;overflow-x:auto;line-height:normal;font-family:Menlo,'DejaVu Sans Mono',consolas,'Courier New',monospace\"><span style=\"color: #7fbfbf; text-decoration-color: #7fbfbf\">                    </span><span style=\"color: #000080; text-decoration-color: #000080\">INFO    </span> INFO:distilabel:Calling generator for batch <span style=\"color: #008080; text-decoration-color: #008080; font-weight: bold\">1</span><span style=\"color: #808000; text-decoration-color: #808000\">...</span>                       <a href=\"file:///Users/agus/github_repos/argilla-io/distilabel/src/distilabel/pipeline.py\" target=\"_blank\"><span style=\"color: #7f7f7f; text-decoration-color: #7f7f7f\">pipeline.py</span></a><span style=\"color: #7f7f7f; text-decoration-color: #7f7f7f\">:</span><a href=\"file:///Users/agus/github_repos/argilla-io/distilabel/src/distilabel/pipeline.py#576\" target=\"_blank\"><span style=\"color: #7f7f7f; text-decoration-color: #7f7f7f\">576</span></a>\n",
       "</pre>\n"
      ],
      "text/plain": [
       "\u001b[2;36m                   \u001b[0m\u001b[2;36m \u001b[0m\u001b[34mINFO    \u001b[0m INFO:distilabel:Calling generator for batch \u001b[1;36m1\u001b[0m\u001b[33m...\u001b[0m                       \u001b]8;id=603169;file:///Users/agus/github_repos/argilla-io/distilabel/src/distilabel/pipeline.py\u001b\\\u001b[2mpipeline.py\u001b[0m\u001b]8;;\u001b\\\u001b[2m:\u001b[0m\u001b]8;id=847761;file:///Users/agus/github_repos/argilla-io/distilabel/src/distilabel/pipeline.py#576\u001b\\\u001b[2m576\u001b[0m\u001b]8;;\u001b\\\n"
      ]
     },
     "metadata": {},
     "output_type": "display_data"
    },
    {
     "data": {
      "text/html": [
       "<pre style=\"white-space:pre;overflow-x:auto;line-height:normal;font-family:Menlo,'DejaVu Sans Mono',consolas,'Courier New',monospace\"><span style=\"color: #7fbfbf; text-decoration-color: #7fbfbf\">                    </span><span style=\"color: #800000; text-decoration-color: #800000; font-weight: bold\">ERROR   </span> ERROR:concurrent.futures:exception calling callback for <span style=\"font-weight: bold\">&lt;</span><span style=\"color: #ff00ff; text-decoration-color: #ff00ff; font-weight: bold\">Future</span><span style=\"color: #000000; text-decoration-color: #000000\"> at </span>       <a href=\"file:///opt/homebrew/Cellar/python@3.10/3.10.13_1/Frameworks/Python.framework/Versions/3.10/lib/python3.10/concurrent/futures/_base.py\" target=\"_blank\"><span style=\"color: #7f7f7f; text-decoration-color: #7f7f7f\">_base.py</span></a><span style=\"color: #7f7f7f; text-decoration-color: #7f7f7f\">:</span><a href=\"file:///opt/homebrew/Cellar/python@3.10/3.10.13_1/Frameworks/Python.framework/Versions/3.10/lib/python3.10/concurrent/futures/_base.py#344\" target=\"_blank\"><span style=\"color: #7f7f7f; text-decoration-color: #7f7f7f\">344</span></a>\n",
       "<span style=\"color: #7fbfbf; text-decoration-color: #7fbfbf\">                    </span>         <span style=\"color: #008080; text-decoration-color: #008080; font-weight: bold\">0x2c98b28f0</span><span style=\"color: #000000; text-decoration-color: #000000\"> </span><span style=\"color: #808000; text-decoration-color: #808000\">state</span><span style=\"color: #000000; text-decoration-color: #000000\">=</span><span style=\"color: #800080; text-decoration-color: #800080\">finished</span><span style=\"color: #000000; text-decoration-color: #000000\"> raised BadRequestError</span><span style=\"font-weight: bold\">&gt;</span>                        <span style=\"color: #7f7f7f; text-decoration-color: #7f7f7f\">            </span>\n",
       "<span style=\"color: #7fbfbf; text-decoration-color: #7fbfbf\">                    </span>         Traceback <span style=\"font-weight: bold\">(</span>most recent call last<span style=\"font-weight: bold\">)</span>:                                        <span style=\"color: #7f7f7f; text-decoration-color: #7f7f7f\">            </span>\n",
       "<span style=\"color: #7fbfbf; text-decoration-color: #7fbfbf\">                    </span>           File                                                                    <span style=\"color: #7f7f7f; text-decoration-color: #7f7f7f\">            </span>\n",
       "<span style=\"color: #7fbfbf; text-decoration-color: #7fbfbf\">                    </span>         <span style=\"color: #008000; text-decoration-color: #008000\">\"/opt/homebrew/Cellar/python@3.10/3.10.13_1/Frameworks/Python.framework/V</span> <span style=\"color: #7f7f7f; text-decoration-color: #7f7f7f\">            </span>\n",
       "<span style=\"color: #7fbfbf; text-decoration-color: #7fbfbf\">                    </span>         <span style=\"color: #008000; text-decoration-color: #008000\">ersions/3.10/lib/python3.10/concurrent/futures/_base.py\"</span>, line <span style=\"color: #008080; text-decoration-color: #008080; font-weight: bold\">342</span>, in    <span style=\"color: #7f7f7f; text-decoration-color: #7f7f7f\">            </span>\n",
       "<span style=\"color: #7fbfbf; text-decoration-color: #7fbfbf\">                    </span>         _invoke_callbacks                                                         <span style=\"color: #7f7f7f; text-decoration-color: #7f7f7f\">            </span>\n",
       "<span style=\"color: #7fbfbf; text-decoration-color: #7fbfbf\">                    </span>             <span style=\"color: #800080; text-decoration-color: #800080; font-weight: bold\">callback</span><span style=\"font-weight: bold\">(</span>self<span style=\"font-weight: bold\">)</span>                                                        <span style=\"color: #7f7f7f; text-decoration-color: #7f7f7f\">            </span>\n",
       "<span style=\"color: #7fbfbf; text-decoration-color: #7fbfbf\">                    </span>           File                                                                    <span style=\"color: #7f7f7f; text-decoration-color: #7f7f7f\">            </span>\n",
       "<span style=\"color: #7fbfbf; text-decoration-color: #7fbfbf\">                    </span>         <span style=\"color: #008000; text-decoration-color: #008000\">\"/Users/agus/github_repos/argilla-io/distilabel/src/distilabel/utils/futu</span> <span style=\"color: #7f7f7f; text-decoration-color: #7f7f7f\">            </span>\n",
       "<span style=\"color: #7fbfbf; text-decoration-color: #7fbfbf\">                    </span>         <span style=\"color: #008000; text-decoration-color: #008000\">res.py\"</span>, line <span style=\"color: #008080; text-decoration-color: #008080; font-weight: bold\">45</span>, in check_all_done                                       <span style=\"color: #7f7f7f; text-decoration-color: #7f7f7f\">            </span>\n",
       "<span style=\"color: #7fbfbf; text-decoration-color: #7fbfbf\">                    </span>             results<span style=\"font-weight: bold\">[</span>index<span style=\"font-weight: bold\">]</span> = <span style=\"color: #800080; text-decoration-color: #800080; font-weight: bold\">future.result</span><span style=\"font-weight: bold\">()[</span><span style=\"color: #008080; text-decoration-color: #008080; font-weight: bold\">0</span><span style=\"font-weight: bold\">]</span>                                   <span style=\"color: #7f7f7f; text-decoration-color: #7f7f7f\">            </span>\n",
       "<span style=\"color: #7fbfbf; text-decoration-color: #7fbfbf\">                    </span>           File                                                                    <span style=\"color: #7f7f7f; text-decoration-color: #7f7f7f\">            </span>\n",
       "<span style=\"color: #7fbfbf; text-decoration-color: #7fbfbf\">                    </span>         <span style=\"color: #008000; text-decoration-color: #008000\">\"/opt/homebrew/Cellar/python@3.10/3.10.13_1/Frameworks/Python.framework/V</span> <span style=\"color: #7f7f7f; text-decoration-color: #7f7f7f\">            </span>\n",
       "<span style=\"color: #7fbfbf; text-decoration-color: #7fbfbf\">                    </span>         <span style=\"color: #008000; text-decoration-color: #008000\">ersions/3.10/lib/python3.10/concurrent/futures/_base.py\"</span>, line <span style=\"color: #008080; text-decoration-color: #008080; font-weight: bold\">451</span>, in    <span style=\"color: #7f7f7f; text-decoration-color: #7f7f7f\">            </span>\n",
       "<span style=\"color: #7fbfbf; text-decoration-color: #7fbfbf\">                    </span>         result                                                                    <span style=\"color: #7f7f7f; text-decoration-color: #7f7f7f\">            </span>\n",
       "<span style=\"color: #7fbfbf; text-decoration-color: #7fbfbf\">                    </span>             return <span style=\"color: #800080; text-decoration-color: #800080; font-weight: bold\">self.__get_result</span><span style=\"font-weight: bold\">()</span>                                            <span style=\"color: #7f7f7f; text-decoration-color: #7f7f7f\">            </span>\n",
       "<span style=\"color: #7fbfbf; text-decoration-color: #7fbfbf\">                    </span>           File                                                                    <span style=\"color: #7f7f7f; text-decoration-color: #7f7f7f\">            </span>\n",
       "<span style=\"color: #7fbfbf; text-decoration-color: #7fbfbf\">                    </span>         <span style=\"color: #008000; text-decoration-color: #008000\">\"/opt/homebrew/Cellar/python@3.10/3.10.13_1/Frameworks/Python.framework/V</span> <span style=\"color: #7f7f7f; text-decoration-color: #7f7f7f\">            </span>\n",
       "<span style=\"color: #7fbfbf; text-decoration-color: #7fbfbf\">                    </span>         <span style=\"color: #008000; text-decoration-color: #008000\">ersions/3.10/lib/python3.10/concurrent/futures/_base.py\"</span>, line <span style=\"color: #008080; text-decoration-color: #008080; font-weight: bold\">403</span>, in    <span style=\"color: #7f7f7f; text-decoration-color: #7f7f7f\">            </span>\n",
       "<span style=\"color: #7fbfbf; text-decoration-color: #7fbfbf\">                    </span>         __get_result                                                              <span style=\"color: #7f7f7f; text-decoration-color: #7f7f7f\">            </span>\n",
       "<span style=\"color: #7fbfbf; text-decoration-color: #7fbfbf\">                    </span>             raise self._exception                                                 <span style=\"color: #7f7f7f; text-decoration-color: #7f7f7f\">            </span>\n",
       "<span style=\"color: #7fbfbf; text-decoration-color: #7fbfbf\">                    </span>           File                                                                    <span style=\"color: #7f7f7f; text-decoration-color: #7f7f7f\">            </span>\n",
       "<span style=\"color: #7fbfbf; text-decoration-color: #7fbfbf\">                    </span>         <span style=\"color: #008000; text-decoration-color: #008000\">\"/opt/homebrew/Cellar/python@3.10/3.10.13_1/Frameworks/Python.framework/V</span> <span style=\"color: #7f7f7f; text-decoration-color: #7f7f7f\">            </span>\n",
       "<span style=\"color: #7fbfbf; text-decoration-color: #7fbfbf\">                    </span>         <span style=\"color: #008000; text-decoration-color: #008000\">ersions/3.10/lib/python3.10/concurrent/futures/thread.py\"</span>, line <span style=\"color: #008080; text-decoration-color: #008080; font-weight: bold\">58</span>, in    <span style=\"color: #7f7f7f; text-decoration-color: #7f7f7f\">            </span>\n",
       "<span style=\"color: #7fbfbf; text-decoration-color: #7fbfbf\">                    </span>         run                                                                       <span style=\"color: #7f7f7f; text-decoration-color: #7f7f7f\">            </span>\n",
       "<span style=\"color: #7fbfbf; text-decoration-color: #7fbfbf\">                    </span>             result = <span style=\"color: #800080; text-decoration-color: #800080; font-weight: bold\">self.fn</span><span style=\"font-weight: bold\">(</span>*self.args, **self.kwargs<span style=\"font-weight: bold\">)</span>                           <span style=\"color: #7f7f7f; text-decoration-color: #7f7f7f\">            </span>\n",
       "<span style=\"color: #7fbfbf; text-decoration-color: #7fbfbf\">                    </span>           File                                                                    <span style=\"color: #7f7f7f; text-decoration-color: #7f7f7f\">            </span>\n",
       "<span style=\"color: #7fbfbf; text-decoration-color: #7fbfbf\">                    </span>         <span style=\"color: #008000; text-decoration-color: #008000\">\"/Users/agus/github_repos/argilla-io/distilabel/src/distilabel/llm/openai</span> <span style=\"color: #7f7f7f; text-decoration-color: #7f7f7f\">            </span>\n",
       "<span style=\"color: #7fbfbf; text-decoration-color: #7fbfbf\">                    </span>         <span style=\"color: #008000; text-decoration-color: #008000\">.py\"</span>, line <span style=\"color: #008080; text-decoration-color: #008080; font-weight: bold\">166</span>, in _generate                                              <span style=\"color: #7f7f7f; text-decoration-color: #7f7f7f\">            </span>\n",
       "<span style=\"color: #7fbfbf; text-decoration-color: #7fbfbf\">                    </span>             chat_completions = <span style=\"color: #800080; text-decoration-color: #800080; font-weight: bold\">self.client.chat.completions.create</span><span style=\"font-weight: bold\">(</span>               <span style=\"color: #7f7f7f; text-decoration-color: #7f7f7f\">            </span>\n",
       "<span style=\"color: #7fbfbf; text-decoration-color: #7fbfbf\">                    </span>           File                                                                    <span style=\"color: #7f7f7f; text-decoration-color: #7f7f7f\">            </span>\n",
       "<span style=\"color: #7fbfbf; text-decoration-color: #7fbfbf\">                    </span>         <span style=\"color: #008000; text-decoration-color: #008000\">\"/Users/agus/github_repos/argilla-io/distilabel-workbench/.venv/lib/pytho</span> <span style=\"color: #7f7f7f; text-decoration-color: #7f7f7f\">            </span>\n",
       "<span style=\"color: #7fbfbf; text-decoration-color: #7fbfbf\">                    </span>         <span style=\"color: #008000; text-decoration-color: #008000\">n3.10/site-packages/openai/_utils/_utils.py\"</span>, line <span style=\"color: #008080; text-decoration-color: #008080; font-weight: bold\">275</span>, in wrapper        <span style=\"color: #7f7f7f; text-decoration-color: #7f7f7f\">            </span>\n",
       "<span style=\"color: #7fbfbf; text-decoration-color: #7fbfbf\">                    </span>             return <span style=\"color: #800080; text-decoration-color: #800080; font-weight: bold\">func</span><span style=\"font-weight: bold\">(</span>*args, **kwargs<span style=\"font-weight: bold\">)</span>                                          <span style=\"color: #7f7f7f; text-decoration-color: #7f7f7f\">            </span>\n",
       "<span style=\"color: #7fbfbf; text-decoration-color: #7fbfbf\">                    </span>           File                                                                    <span style=\"color: #7f7f7f; text-decoration-color: #7f7f7f\">            </span>\n",
       "<span style=\"color: #7fbfbf; text-decoration-color: #7fbfbf\">                    </span>         <span style=\"color: #008000; text-decoration-color: #008000\">\"/Users/agus/github_repos/argilla-io/distilabel-workbench/.venv/lib/pytho</span> <span style=\"color: #7f7f7f; text-decoration-color: #7f7f7f\">            </span>\n",
       "<span style=\"color: #7fbfbf; text-decoration-color: #7fbfbf\">                    </span>         <span style=\"color: #008000; text-decoration-color: #008000\">n3.10/site-packages/openai/resources/chat/completions.py\"</span>, line <span style=\"color: #008080; text-decoration-color: #008080; font-weight: bold\">663</span>, in   <span style=\"color: #7f7f7f; text-decoration-color: #7f7f7f\">            </span>\n",
       "<span style=\"color: #7fbfbf; text-decoration-color: #7fbfbf\">                    </span>         create                                                                    <span style=\"color: #7f7f7f; text-decoration-color: #7f7f7f\">            </span>\n",
       "<span style=\"color: #7fbfbf; text-decoration-color: #7fbfbf\">                    </span>             return <span style=\"color: #800080; text-decoration-color: #800080; font-weight: bold\">self._post</span><span style=\"font-weight: bold\">(</span>                                                    <span style=\"color: #7f7f7f; text-decoration-color: #7f7f7f\">            </span>\n",
       "<span style=\"color: #7fbfbf; text-decoration-color: #7fbfbf\">                    </span>           File                                                                    <span style=\"color: #7f7f7f; text-decoration-color: #7f7f7f\">            </span>\n",
       "<span style=\"color: #7fbfbf; text-decoration-color: #7fbfbf\">                    </span>         <span style=\"color: #008000; text-decoration-color: #008000\">\"/Users/agus/github_repos/argilla-io/distilabel-workbench/.venv/lib/pytho</span> <span style=\"color: #7f7f7f; text-decoration-color: #7f7f7f\">            </span>\n",
       "<span style=\"color: #7fbfbf; text-decoration-color: #7fbfbf\">                    </span>         <span style=\"color: #008000; text-decoration-color: #008000\">n3.10/site-packages/openai/_base_client.py\"</span>, line <span style=\"color: #008080; text-decoration-color: #008080; font-weight: bold\">1200</span>, in post           <span style=\"color: #7f7f7f; text-decoration-color: #7f7f7f\">            </span>\n",
       "<span style=\"color: #7fbfbf; text-decoration-color: #7fbfbf\">                    </span>             return <span style=\"color: #800080; text-decoration-color: #800080; font-weight: bold\">cast</span><span style=\"font-weight: bold\">(</span>ResponseT, <span style=\"color: #800080; text-decoration-color: #800080; font-weight: bold\">self.request</span><span style=\"font-weight: bold\">(</span>cast_to, opts, <span style=\"color: #808000; text-decoration-color: #808000\">stream</span>=<span style=\"color: #800080; text-decoration-color: #800080\">stream</span>,     <span style=\"color: #7f7f7f; text-decoration-color: #7f7f7f\">            </span>\n",
       "<span style=\"color: #7fbfbf; text-decoration-color: #7fbfbf\">                    </span>         <span style=\"color: #808000; text-decoration-color: #808000\">stream_cls</span>=<span style=\"color: #800080; text-decoration-color: #800080\">stream_cls</span><span style=\"font-weight: bold\">))</span>                                                   <span style=\"color: #7f7f7f; text-decoration-color: #7f7f7f\">            </span>\n",
       "<span style=\"color: #7fbfbf; text-decoration-color: #7fbfbf\">                    </span>           File                                                                    <span style=\"color: #7f7f7f; text-decoration-color: #7f7f7f\">            </span>\n",
       "<span style=\"color: #7fbfbf; text-decoration-color: #7fbfbf\">                    </span>         <span style=\"color: #008000; text-decoration-color: #008000\">\"/Users/agus/github_repos/argilla-io/distilabel-workbench/.venv/lib/pytho</span> <span style=\"color: #7f7f7f; text-decoration-color: #7f7f7f\">            </span>\n",
       "<span style=\"color: #7fbfbf; text-decoration-color: #7fbfbf\">                    </span>         <span style=\"color: #008000; text-decoration-color: #008000\">n3.10/site-packages/openai/_base_client.py\"</span>, line <span style=\"color: #008080; text-decoration-color: #008080; font-weight: bold\">889</span>, in request         <span style=\"color: #7f7f7f; text-decoration-color: #7f7f7f\">            </span>\n",
       "<span style=\"color: #7fbfbf; text-decoration-color: #7fbfbf\">                    </span>             return <span style=\"color: #800080; text-decoration-color: #800080; font-weight: bold\">self._request</span><span style=\"font-weight: bold\">(</span>                                                 <span style=\"color: #7f7f7f; text-decoration-color: #7f7f7f\">            </span>\n",
       "<span style=\"color: #7fbfbf; text-decoration-color: #7fbfbf\">                    </span>           File                                                                    <span style=\"color: #7f7f7f; text-decoration-color: #7f7f7f\">            </span>\n",
       "<span style=\"color: #7fbfbf; text-decoration-color: #7fbfbf\">                    </span>         <span style=\"color: #008000; text-decoration-color: #008000\">\"/Users/agus/github_repos/argilla-io/distilabel-workbench/.venv/lib/pytho</span> <span style=\"color: #7f7f7f; text-decoration-color: #7f7f7f\">            </span>\n",
       "<span style=\"color: #7fbfbf; text-decoration-color: #7fbfbf\">                    </span>         <span style=\"color: #008000; text-decoration-color: #008000\">n3.10/site-packages/openai/_base_client.py\"</span>, line <span style=\"color: #008080; text-decoration-color: #008080; font-weight: bold\">980</span>, in _request        <span style=\"color: #7f7f7f; text-decoration-color: #7f7f7f\">            </span>\n",
       "<span style=\"color: #7fbfbf; text-decoration-color: #7fbfbf\">                    </span>             raise <span style=\"color: #800080; text-decoration-color: #800080; font-weight: bold\">self._make_status_error_from_response</span><span style=\"font-weight: bold\">(</span>err.response<span style=\"font-weight: bold\">)</span> from <span style=\"color: #800080; text-decoration-color: #800080; font-style: italic\">None</span>   <span style=\"color: #7f7f7f; text-decoration-color: #7f7f7f\">            </span>\n",
       "<span style=\"color: #7fbfbf; text-decoration-color: #7fbfbf\">                    </span>         openai.BadRequestError: Error code: <span style=\"color: #008080; text-decoration-color: #008080; font-weight: bold\">400</span> - <span style=\"font-weight: bold\">{</span><span style=\"color: #008000; text-decoration-color: #008000\">'error'</span>: <span style=\"font-weight: bold\">{</span><span style=\"color: #008000; text-decoration-color: #008000\">'message'</span>:           <span style=\"color: #7f7f7f; text-decoration-color: #7f7f7f\">            </span>\n",
       "<span style=\"color: #7fbfbf; text-decoration-color: #7fbfbf\">                    </span>         <span style=\"color: #008000; text-decoration-color: #008000\">\"'$.messages[0].content' is invalid. Please check the API reference: </span>     <span style=\"color: #7f7f7f; text-decoration-color: #7f7f7f\">            </span>\n",
       "<span style=\"color: #7fbfbf; text-decoration-color: #7fbfbf\">                    </span>         <span style=\"color: #008000; text-decoration-color: #008000\">https://platform.openai.com/docs/api-reference.\"</span>, <span style=\"color: #008000; text-decoration-color: #008000\">'type'</span>:                 <span style=\"color: #7f7f7f; text-decoration-color: #7f7f7f\">            </span>\n",
       "<span style=\"color: #7fbfbf; text-decoration-color: #7fbfbf\">                    </span>         <span style=\"color: #008000; text-decoration-color: #008000\">'invalid_request_error'</span>, <span style=\"color: #008000; text-decoration-color: #008000\">'param'</span>: <span style=\"color: #800080; text-decoration-color: #800080; font-style: italic\">None</span>, <span style=\"color: #008000; text-decoration-color: #008000\">'code'</span>: <span style=\"color: #800080; text-decoration-color: #800080; font-style: italic\">None</span><span style=\"font-weight: bold\">}}</span>                    <span style=\"color: #7f7f7f; text-decoration-color: #7f7f7f\">            </span>\n",
       "</pre>\n"
      ],
      "text/plain": [
       "\u001b[2;36m                   \u001b[0m\u001b[2;36m \u001b[0m\u001b[1;31mERROR   \u001b[0m ERROR:concurrent.futures:exception calling callback for \u001b[1m<\u001b[0m\u001b[1;95mFuture\u001b[0m\u001b[39m at \u001b[0m       \u001b]8;id=547449;file:///opt/homebrew/Cellar/python@3.10/3.10.13_1/Frameworks/Python.framework/Versions/3.10/lib/python3.10/concurrent/futures/_base.py\u001b\\\u001b[2m_base.py\u001b[0m\u001b]8;;\u001b\\\u001b[2m:\u001b[0m\u001b]8;id=251526;file:///opt/homebrew/Cellar/python@3.10/3.10.13_1/Frameworks/Python.framework/Versions/3.10/lib/python3.10/concurrent/futures/_base.py#344\u001b\\\u001b[2m344\u001b[0m\u001b]8;;\u001b\\\n",
       "\u001b[2;36m                    \u001b[0m         \u001b[1;36m0x2c98b28f0\u001b[0m\u001b[39m \u001b[0m\u001b[33mstate\u001b[0m\u001b[39m=\u001b[0m\u001b[35mfinished\u001b[0m\u001b[39m raised BadRequestError\u001b[0m\u001b[1m>\u001b[0m                        \u001b[2m            \u001b[0m\n",
       "\u001b[2;36m                    \u001b[0m         Traceback \u001b[1m(\u001b[0mmost recent call last\u001b[1m)\u001b[0m:                                        \u001b[2m            \u001b[0m\n",
       "\u001b[2;36m                    \u001b[0m           File                                                                    \u001b[2m            \u001b[0m\n",
       "\u001b[2;36m                    \u001b[0m         \u001b[32m\"/opt/homebrew/Cellar/python@3.10/3.10.13_1/Frameworks/Python.framework/V\u001b[0m \u001b[2m            \u001b[0m\n",
       "\u001b[2;36m                    \u001b[0m         \u001b[32mersions/3.10/lib/python3.10/concurrent/futures/_base.py\"\u001b[0m, line \u001b[1;36m342\u001b[0m, in    \u001b[2m            \u001b[0m\n",
       "\u001b[2;36m                    \u001b[0m         _invoke_callbacks                                                         \u001b[2m            \u001b[0m\n",
       "\u001b[2;36m                    \u001b[0m             \u001b[1;35mcallback\u001b[0m\u001b[1m(\u001b[0mself\u001b[1m)\u001b[0m                                                        \u001b[2m            \u001b[0m\n",
       "\u001b[2;36m                    \u001b[0m           File                                                                    \u001b[2m            \u001b[0m\n",
       "\u001b[2;36m                    \u001b[0m         \u001b[32m\"/Users/agus/github_repos/argilla-io/distilabel/src/distilabel/utils/futu\u001b[0m \u001b[2m            \u001b[0m\n",
       "\u001b[2;36m                    \u001b[0m         \u001b[32mres.py\"\u001b[0m, line \u001b[1;36m45\u001b[0m, in check_all_done                                       \u001b[2m            \u001b[0m\n",
       "\u001b[2;36m                    \u001b[0m             results\u001b[1m[\u001b[0mindex\u001b[1m]\u001b[0m = \u001b[1;35mfuture.result\u001b[0m\u001b[1m(\u001b[0m\u001b[1m)\u001b[0m\u001b[1m[\u001b[0m\u001b[1;36m0\u001b[0m\u001b[1m]\u001b[0m                                   \u001b[2m            \u001b[0m\n",
       "\u001b[2;36m                    \u001b[0m           File                                                                    \u001b[2m            \u001b[0m\n",
       "\u001b[2;36m                    \u001b[0m         \u001b[32m\"/opt/homebrew/Cellar/python@3.10/3.10.13_1/Frameworks/Python.framework/V\u001b[0m \u001b[2m            \u001b[0m\n",
       "\u001b[2;36m                    \u001b[0m         \u001b[32mersions/3.10/lib/python3.10/concurrent/futures/_base.py\"\u001b[0m, line \u001b[1;36m451\u001b[0m, in    \u001b[2m            \u001b[0m\n",
       "\u001b[2;36m                    \u001b[0m         result                                                                    \u001b[2m            \u001b[0m\n",
       "\u001b[2;36m                    \u001b[0m             return \u001b[1;35mself.__get_result\u001b[0m\u001b[1m(\u001b[0m\u001b[1m)\u001b[0m                                            \u001b[2m            \u001b[0m\n",
       "\u001b[2;36m                    \u001b[0m           File                                                                    \u001b[2m            \u001b[0m\n",
       "\u001b[2;36m                    \u001b[0m         \u001b[32m\"/opt/homebrew/Cellar/python@3.10/3.10.13_1/Frameworks/Python.framework/V\u001b[0m \u001b[2m            \u001b[0m\n",
       "\u001b[2;36m                    \u001b[0m         \u001b[32mersions/3.10/lib/python3.10/concurrent/futures/_base.py\"\u001b[0m, line \u001b[1;36m403\u001b[0m, in    \u001b[2m            \u001b[0m\n",
       "\u001b[2;36m                    \u001b[0m         __get_result                                                              \u001b[2m            \u001b[0m\n",
       "\u001b[2;36m                    \u001b[0m             raise self._exception                                                 \u001b[2m            \u001b[0m\n",
       "\u001b[2;36m                    \u001b[0m           File                                                                    \u001b[2m            \u001b[0m\n",
       "\u001b[2;36m                    \u001b[0m         \u001b[32m\"/opt/homebrew/Cellar/python@3.10/3.10.13_1/Frameworks/Python.framework/V\u001b[0m \u001b[2m            \u001b[0m\n",
       "\u001b[2;36m                    \u001b[0m         \u001b[32mersions/3.10/lib/python3.10/concurrent/futures/thread.py\"\u001b[0m, line \u001b[1;36m58\u001b[0m, in    \u001b[2m            \u001b[0m\n",
       "\u001b[2;36m                    \u001b[0m         run                                                                       \u001b[2m            \u001b[0m\n",
       "\u001b[2;36m                    \u001b[0m             result = \u001b[1;35mself.fn\u001b[0m\u001b[1m(\u001b[0m*self.args, **self.kwargs\u001b[1m)\u001b[0m                           \u001b[2m            \u001b[0m\n",
       "\u001b[2;36m                    \u001b[0m           File                                                                    \u001b[2m            \u001b[0m\n",
       "\u001b[2;36m                    \u001b[0m         \u001b[32m\"/Users/agus/github_repos/argilla-io/distilabel/src/distilabel/llm/openai\u001b[0m \u001b[2m            \u001b[0m\n",
       "\u001b[2;36m                    \u001b[0m         \u001b[32m.py\"\u001b[0m, line \u001b[1;36m166\u001b[0m, in _generate                                              \u001b[2m            \u001b[0m\n",
       "\u001b[2;36m                    \u001b[0m             chat_completions = \u001b[1;35mself.client.chat.completions.create\u001b[0m\u001b[1m(\u001b[0m               \u001b[2m            \u001b[0m\n",
       "\u001b[2;36m                    \u001b[0m           File                                                                    \u001b[2m            \u001b[0m\n",
       "\u001b[2;36m                    \u001b[0m         \u001b[32m\"/Users/agus/github_repos/argilla-io/distilabel-workbench/.venv/lib/pytho\u001b[0m \u001b[2m            \u001b[0m\n",
       "\u001b[2;36m                    \u001b[0m         \u001b[32mn3.10/site-packages/openai/_utils/_utils.py\"\u001b[0m, line \u001b[1;36m275\u001b[0m, in wrapper        \u001b[2m            \u001b[0m\n",
       "\u001b[2;36m                    \u001b[0m             return \u001b[1;35mfunc\u001b[0m\u001b[1m(\u001b[0m*args, **kwargs\u001b[1m)\u001b[0m                                          \u001b[2m            \u001b[0m\n",
       "\u001b[2;36m                    \u001b[0m           File                                                                    \u001b[2m            \u001b[0m\n",
       "\u001b[2;36m                    \u001b[0m         \u001b[32m\"/Users/agus/github_repos/argilla-io/distilabel-workbench/.venv/lib/pytho\u001b[0m \u001b[2m            \u001b[0m\n",
       "\u001b[2;36m                    \u001b[0m         \u001b[32mn3.10/site-packages/openai/resources/chat/completions.py\"\u001b[0m, line \u001b[1;36m663\u001b[0m, in   \u001b[2m            \u001b[0m\n",
       "\u001b[2;36m                    \u001b[0m         create                                                                    \u001b[2m            \u001b[0m\n",
       "\u001b[2;36m                    \u001b[0m             return \u001b[1;35mself._post\u001b[0m\u001b[1m(\u001b[0m                                                    \u001b[2m            \u001b[0m\n",
       "\u001b[2;36m                    \u001b[0m           File                                                                    \u001b[2m            \u001b[0m\n",
       "\u001b[2;36m                    \u001b[0m         \u001b[32m\"/Users/agus/github_repos/argilla-io/distilabel-workbench/.venv/lib/pytho\u001b[0m \u001b[2m            \u001b[0m\n",
       "\u001b[2;36m                    \u001b[0m         \u001b[32mn3.10/site-packages/openai/_base_client.py\"\u001b[0m, line \u001b[1;36m1200\u001b[0m, in post           \u001b[2m            \u001b[0m\n",
       "\u001b[2;36m                    \u001b[0m             return \u001b[1;35mcast\u001b[0m\u001b[1m(\u001b[0mResponseT, \u001b[1;35mself.request\u001b[0m\u001b[1m(\u001b[0mcast_to, opts, \u001b[33mstream\u001b[0m=\u001b[35mstream\u001b[0m,     \u001b[2m            \u001b[0m\n",
       "\u001b[2;36m                    \u001b[0m         \u001b[33mstream_cls\u001b[0m=\u001b[35mstream_cls\u001b[0m\u001b[1m)\u001b[0m\u001b[1m)\u001b[0m                                                   \u001b[2m            \u001b[0m\n",
       "\u001b[2;36m                    \u001b[0m           File                                                                    \u001b[2m            \u001b[0m\n",
       "\u001b[2;36m                    \u001b[0m         \u001b[32m\"/Users/agus/github_repos/argilla-io/distilabel-workbench/.venv/lib/pytho\u001b[0m \u001b[2m            \u001b[0m\n",
       "\u001b[2;36m                    \u001b[0m         \u001b[32mn3.10/site-packages/openai/_base_client.py\"\u001b[0m, line \u001b[1;36m889\u001b[0m, in request         \u001b[2m            \u001b[0m\n",
       "\u001b[2;36m                    \u001b[0m             return \u001b[1;35mself._request\u001b[0m\u001b[1m(\u001b[0m                                                 \u001b[2m            \u001b[0m\n",
       "\u001b[2;36m                    \u001b[0m           File                                                                    \u001b[2m            \u001b[0m\n",
       "\u001b[2;36m                    \u001b[0m         \u001b[32m\"/Users/agus/github_repos/argilla-io/distilabel-workbench/.venv/lib/pytho\u001b[0m \u001b[2m            \u001b[0m\n",
       "\u001b[2;36m                    \u001b[0m         \u001b[32mn3.10/site-packages/openai/_base_client.py\"\u001b[0m, line \u001b[1;36m980\u001b[0m, in _request        \u001b[2m            \u001b[0m\n",
       "\u001b[2;36m                    \u001b[0m             raise \u001b[1;35mself._make_status_error_from_response\u001b[0m\u001b[1m(\u001b[0merr.response\u001b[1m)\u001b[0m from \u001b[3;35mNone\u001b[0m   \u001b[2m            \u001b[0m\n",
       "\u001b[2;36m                    \u001b[0m         openai.BadRequestError: Error code: \u001b[1;36m400\u001b[0m - \u001b[1m{\u001b[0m\u001b[32m'error'\u001b[0m: \u001b[1m{\u001b[0m\u001b[32m'message'\u001b[0m:           \u001b[2m            \u001b[0m\n",
       "\u001b[2;36m                    \u001b[0m         \u001b[32m\"'$.messages\u001b[0m\u001b[32m[\u001b[0m\u001b[32m0\u001b[0m\u001b[32m]\u001b[0m\u001b[32m.content' is invalid. Please check the API reference: \u001b[0m     \u001b[2m            \u001b[0m\n",
       "\u001b[2;36m                    \u001b[0m         \u001b[32mhttps://platform.openai.com/docs/api-reference.\"\u001b[0m, \u001b[32m'type'\u001b[0m:                 \u001b[2m            \u001b[0m\n",
       "\u001b[2;36m                    \u001b[0m         \u001b[32m'invalid_request_error'\u001b[0m, \u001b[32m'param'\u001b[0m: \u001b[3;35mNone\u001b[0m, \u001b[32m'code'\u001b[0m: \u001b[3;35mNone\u001b[0m\u001b[1m}\u001b[0m\u001b[1m}\u001b[0m                    \u001b[2m            \u001b[0m\n"
      ]
     },
     "metadata": {},
     "output_type": "display_data"
    },
    {
     "data": {
      "text/html": [
       "<pre style=\"white-space:pre;overflow-x:auto;line-height:normal;font-family:Menlo,'DejaVu Sans Mono',consolas,'Courier New',monospace\"><span style=\"color: #800000; text-decoration-color: #800000\">╭─────────────────────────────── </span><span style=\"color: #800000; text-decoration-color: #800000; font-weight: bold\">Traceback </span><span style=\"color: #bf7f7f; text-decoration-color: #bf7f7f; font-weight: bold\">(most recent call last)</span><span style=\"color: #800000; text-decoration-color: #800000\"> ────────────────────────────────╮</span>\n",
       "<span style=\"color: #800000; text-decoration-color: #800000\">│</span> in <span style=\"color: #00ff00; text-decoration-color: #00ff00\">&lt;module&gt;</span>:<span style=\"color: #0000ff; text-decoration-color: #0000ff\">1</span>                                                                                    <span style=\"color: #800000; text-decoration-color: #800000\">│</span>\n",
       "<span style=\"color: #800000; text-decoration-color: #800000\">│</span>                                                                                                  <span style=\"color: #800000; text-decoration-color: #800000\">│</span>\n",
       "<span style=\"color: #800000; text-decoration-color: #800000\">│</span> <span style=\"color: #800000; text-decoration-color: #800000\">❱ </span>1 solutions_test = pipe_generation_solutions.generate(                                         <span style=\"color: #800000; text-decoration-color: #800000\">│</span>\n",
       "<span style=\"color: #800000; text-decoration-color: #800000\">│</span>   <span style=\"color: #7f7f7f; text-decoration-color: #7f7f7f\">2 </span><span style=\"color: #7f7f7f; text-decoration-color: #7f7f7f\">│   </span>dataset=problems_oss_instruct.select(<span style=\"color: #00ffff; text-decoration-color: #00ffff\">range</span>(<span style=\"color: #0000ff; text-decoration-color: #0000ff\">4</span>)),                                          <span style=\"color: #800000; text-decoration-color: #800000\">│</span>\n",
       "<span style=\"color: #800000; text-decoration-color: #800000\">│</span>   <span style=\"color: #7f7f7f; text-decoration-color: #7f7f7f\">3 </span><span style=\"color: #7f7f7f; text-decoration-color: #7f7f7f\">│   </span>num_generations=<span style=\"color: #0000ff; text-decoration-color: #0000ff\">1</span>,                                                                       <span style=\"color: #800000; text-decoration-color: #800000\">│</span>\n",
       "<span style=\"color: #800000; text-decoration-color: #800000\">│</span>   <span style=\"color: #7f7f7f; text-decoration-color: #7f7f7f\">4 </span><span style=\"color: #7f7f7f; text-decoration-color: #7f7f7f\">│   </span>batch_size=<span style=\"color: #0000ff; text-decoration-color: #0000ff\">8</span>,                                                                            <span style=\"color: #800000; text-decoration-color: #800000\">│</span>\n",
       "<span style=\"color: #800000; text-decoration-color: #800000\">│</span>                                                                                                  <span style=\"color: #800000; text-decoration-color: #800000\">│</span>\n",
       "<span style=\"color: #800000; text-decoration-color: #800000\">│</span> <span style=\"color: #bfbf7f; text-decoration-color: #bfbf7f\">/Users/agus/github_repos/argilla-io/distilabel/src/distilabel/</span><span style=\"color: #808000; text-decoration-color: #808000; font-weight: bold\">pipeline.py</span>:<span style=\"color: #0000ff; text-decoration-color: #0000ff\">743</span> in <span style=\"color: #00ff00; text-decoration-color: #00ff00\">generate</span>        <span style=\"color: #800000; text-decoration-color: #800000\">│</span>\n",
       "<span style=\"color: #800000; text-decoration-color: #800000\">│</span>                                                                                                  <span style=\"color: #800000; text-decoration-color: #800000\">│</span>\n",
       "<span style=\"color: #800000; text-decoration-color: #800000\">│</span>   <span style=\"color: #7f7f7f; text-decoration-color: #7f7f7f\">740 </span><span style=\"color: #bfbf7f; text-decoration-color: #bfbf7f\">│   │   </span><span style=\"color: #808000; text-decoration-color: #808000\">\"\"\"</span>                                                                                <span style=\"color: #800000; text-decoration-color: #800000\">│</span>\n",
       "<span style=\"color: #800000; text-decoration-color: #800000\">│</span>   <span style=\"color: #7f7f7f; text-decoration-color: #7f7f7f\">741 </span><span style=\"color: #7f7f7f; text-decoration-color: #7f7f7f\">│   │   </span><span style=\"color: #0000ff; text-decoration-color: #0000ff\">if</span> <span style=\"color: #ff00ff; text-decoration-color: #ff00ff\">not</span> skip_dry_run:                                                               <span style=\"color: #800000; text-decoration-color: #800000\">│</span>\n",
       "<span style=\"color: #800000; text-decoration-color: #800000\">│</span>   <span style=\"color: #7f7f7f; text-decoration-color: #7f7f7f\">742 </span><span style=\"color: #7f7f7f; text-decoration-color: #7f7f7f\">│   │   │   </span>logger.info(<span style=\"color: #808000; text-decoration-color: #808000\">\"Executing dry-run...\"</span>)                                            <span style=\"color: #800000; text-decoration-color: #800000\">│</span>\n",
       "<span style=\"color: #800000; text-decoration-color: #800000\">│</span> <span style=\"color: #800000; text-decoration-color: #800000\">❱ </span>743 <span style=\"color: #7f7f7f; text-decoration-color: #7f7f7f\">│   │   │   </span><span style=\"color: #00ffff; text-decoration-color: #00ffff\">self</span>.dry_run(dataset)                                                          <span style=\"color: #800000; text-decoration-color: #800000\">│</span>\n",
       "<span style=\"color: #800000; text-decoration-color: #800000\">│</span>   <span style=\"color: #7f7f7f; text-decoration-color: #7f7f7f\">744 </span><span style=\"color: #7f7f7f; text-decoration-color: #7f7f7f\">│   │   │   </span>logger.info(                                                                   <span style=\"color: #800000; text-decoration-color: #800000\">│</span>\n",
       "<span style=\"color: #800000; text-decoration-color: #800000\">│</span>   <span style=\"color: #7f7f7f; text-decoration-color: #7f7f7f\">745 </span><span style=\"color: #7f7f7f; text-decoration-color: #7f7f7f\">│   │   │   │   </span><span style=\"color: #808000; text-decoration-color: #808000\">\"Dry-run executed with no issues. Starting the actual generation...\"</span>       <span style=\"color: #800000; text-decoration-color: #800000\">│</span>\n",
       "<span style=\"color: #800000; text-decoration-color: #800000\">│</span>   <span style=\"color: #7f7f7f; text-decoration-color: #7f7f7f\">746 </span><span style=\"color: #7f7f7f; text-decoration-color: #7f7f7f\">│   │   │   </span>)                                                                              <span style=\"color: #800000; text-decoration-color: #800000\">│</span>\n",
       "<span style=\"color: #800000; text-decoration-color: #800000\">│</span>                                                                                                  <span style=\"color: #800000; text-decoration-color: #800000\">│</span>\n",
       "<span style=\"color: #800000; text-decoration-color: #800000\">│</span> <span style=\"color: #bfbf7f; text-decoration-color: #bfbf7f\">/Users/agus/github_repos/argilla-io/distilabel/src/distilabel/</span><span style=\"color: #808000; text-decoration-color: #808000; font-weight: bold\">pipeline.py</span>:<span style=\"color: #0000ff; text-decoration-color: #0000ff\">675</span> in <span style=\"color: #00ff00; text-decoration-color: #00ff00\">dry_run</span>         <span style=\"color: #800000; text-decoration-color: #800000\">│</span>\n",
       "<span style=\"color: #800000; text-decoration-color: #800000\">│</span>                                                                                                  <span style=\"color: #800000; text-decoration-color: #800000\">│</span>\n",
       "<span style=\"color: #800000; text-decoration-color: #800000\">│</span>   <span style=\"color: #7f7f7f; text-decoration-color: #7f7f7f\">672 </span><span style=\"color: #7f7f7f; text-decoration-color: #7f7f7f\">│   │   │   │   </span>{key: [value] <span style=\"color: #0000ff; text-decoration-color: #0000ff\">for</span> key, value <span style=\"color: #ff00ff; text-decoration-color: #ff00ff\">in</span> dataset[<span style=\"color: #0000ff; text-decoration-color: #0000ff\">0</span>].items()}                        <span style=\"color: #800000; text-decoration-color: #800000\">│</span>\n",
       "<span style=\"color: #800000; text-decoration-color: #800000\">│</span>   <span style=\"color: #7f7f7f; text-decoration-color: #7f7f7f\">673 </span><span style=\"color: #7f7f7f; text-decoration-color: #7f7f7f\">│   │   │   </span>)                                                                              <span style=\"color: #800000; text-decoration-color: #800000\">│</span>\n",
       "<span style=\"color: #800000; text-decoration-color: #800000\">│</span>   <span style=\"color: #7f7f7f; text-decoration-color: #7f7f7f\">674 </span><span style=\"color: #7f7f7f; text-decoration-color: #7f7f7f\">│   │   │   </span><span style=\"color: #7f7f7f; text-decoration-color: #7f7f7f\"># Then we call the `_generate` method with it</span>                                  <span style=\"color: #800000; text-decoration-color: #800000\">│</span>\n",
       "<span style=\"color: #800000; text-decoration-color: #800000\">│</span> <span style=\"color: #800000; text-decoration-color: #800000\">❱ </span>675 <span style=\"color: #7f7f7f; text-decoration-color: #7f7f7f\">│   │   │   </span><span style=\"color: #0000ff; text-decoration-color: #0000ff\">return</span> <span style=\"color: #00ffff; text-decoration-color: #00ffff\">self</span>._generate(                                                         <span style=\"color: #800000; text-decoration-color: #800000\">│</span>\n",
       "<span style=\"color: #800000; text-decoration-color: #800000\">│</span>   <span style=\"color: #7f7f7f; text-decoration-color: #7f7f7f\">676 </span><span style=\"color: #7f7f7f; text-decoration-color: #7f7f7f\">│   │   │   │   </span>dataset=subset,                                                            <span style=\"color: #800000; text-decoration-color: #800000\">│</span>\n",
       "<span style=\"color: #800000; text-decoration-color: #800000\">│</span>   <span style=\"color: #7f7f7f; text-decoration-color: #7f7f7f\">677 </span><span style=\"color: #7f7f7f; text-decoration-color: #7f7f7f\">│   │   │   │   </span><span style=\"color: #7f7f7f; text-decoration-color: #7f7f7f\"># Default kwargs to make the process as simple as possible</span>                 <span style=\"color: #800000; text-decoration-color: #800000\">│</span>\n",
       "<span style=\"color: #800000; text-decoration-color: #800000\">│</span>   <span style=\"color: #7f7f7f; text-decoration-color: #7f7f7f\">678 </span><span style=\"color: #7f7f7f; text-decoration-color: #7f7f7f\">│   │   │   │   </span>num_generations=<span style=\"color: #0000ff; text-decoration-color: #0000ff\">1</span>,                                                         <span style=\"color: #800000; text-decoration-color: #800000\">│</span>\n",
       "<span style=\"color: #800000; text-decoration-color: #800000\">│</span>                                                                                                  <span style=\"color: #800000; text-decoration-color: #800000\">│</span>\n",
       "<span style=\"color: #800000; text-decoration-color: #800000\">│</span> <span style=\"color: #bfbf7f; text-decoration-color: #bfbf7f\">/Users/agus/github_repos/argilla-io/distilabel/src/distilabel/</span><span style=\"color: #808000; text-decoration-color: #808000; font-weight: bold\">pipeline.py</span>:<span style=\"color: #0000ff; text-decoration-color: #0000ff\">578</span> in <span style=\"color: #00ff00; text-decoration-color: #00ff00\">_generate</span>       <span style=\"color: #800000; text-decoration-color: #800000\">│</span>\n",
       "<span style=\"color: #800000; text-decoration-color: #800000\">│</span>                                                                                                  <span style=\"color: #800000; text-decoration-color: #800000\">│</span>\n",
       "<span style=\"color: #800000; text-decoration-color: #800000\">│</span>   <span style=\"color: #7f7f7f; text-decoration-color: #7f7f7f\">575 </span><span style=\"color: #7f7f7f; text-decoration-color: #7f7f7f\">│   │   │   </span><span style=\"color: #0000ff; text-decoration-color: #0000ff\">if</span> <span style=\"color: #00ffff; text-decoration-color: #00ffff\">self</span>.generator <span style=\"color: #ff00ff; text-decoration-color: #ff00ff\">is</span> <span style=\"color: #ff00ff; text-decoration-color: #ff00ff\">not</span> <span style=\"color: #0000ff; text-decoration-color: #0000ff\">None</span>:                                                 <span style=\"color: #800000; text-decoration-color: #800000\">│</span>\n",
       "<span style=\"color: #800000; text-decoration-color: #800000\">│</span>   <span style=\"color: #7f7f7f; text-decoration-color: #7f7f7f\">576 </span><span style=\"color: #7f7f7f; text-decoration-color: #7f7f7f\">│   │   │   │   </span>logger.info(<span style=\"color: #808000; text-decoration-color: #808000\">f\"Calling generator for batch {</span>batch_i<span style=\"color: #808000; text-decoration-color: #808000\">}...\"</span>)                   <span style=\"color: #800000; text-decoration-color: #800000\">│</span>\n",
       "<span style=\"color: #800000; text-decoration-color: #800000\">│</span>   <span style=\"color: #7f7f7f; text-decoration-color: #7f7f7f\">577 </span><span style=\"color: #7f7f7f; text-decoration-color: #7f7f7f\">│   │   │   │   </span><span style=\"color: #0000ff; text-decoration-color: #0000ff\">try</span>:                                                                       <span style=\"color: #800000; text-decoration-color: #800000\">│</span>\n",
       "<span style=\"color: #800000; text-decoration-color: #800000\">│</span> <span style=\"color: #800000; text-decoration-color: #800000\">❱ </span>578 <span style=\"color: #7f7f7f; text-decoration-color: #7f7f7f\">│   │   │   │   │   </span>batch_generations = <span style=\"color: #00ffff; text-decoration-color: #00ffff\">self</span>._get_batch_generations(                       <span style=\"color: #800000; text-decoration-color: #800000\">│</span>\n",
       "<span style=\"color: #800000; text-decoration-color: #800000\">│</span>   <span style=\"color: #7f7f7f; text-decoration-color: #7f7f7f\">579 </span><span style=\"color: #7f7f7f; text-decoration-color: #7f7f7f\">│   │   │   │   │   │   </span>inputs=inputs,                                                     <span style=\"color: #800000; text-decoration-color: #800000\">│</span>\n",
       "<span style=\"color: #800000; text-decoration-color: #800000\">│</span>   <span style=\"color: #7f7f7f; text-decoration-color: #7f7f7f\">580 </span><span style=\"color: #7f7f7f; text-decoration-color: #7f7f7f\">│   │   │   │   │   │   </span>num_generations=num_generations,                                   <span style=\"color: #800000; text-decoration-color: #800000\">│</span>\n",
       "<span style=\"color: #800000; text-decoration-color: #800000\">│</span>   <span style=\"color: #7f7f7f; text-decoration-color: #7f7f7f\">581 </span><span style=\"color: #7f7f7f; text-decoration-color: #7f7f7f\">│   │   │   │   │   │   </span>shuffle_before_labelling=shuffle_before_labelling,                 <span style=\"color: #800000; text-decoration-color: #800000\">│</span>\n",
       "<span style=\"color: #800000; text-decoration-color: #800000\">│</span>                                                                                                  <span style=\"color: #800000; text-decoration-color: #800000\">│</span>\n",
       "<span style=\"color: #800000; text-decoration-color: #800000\">│</span> <span style=\"color: #bfbf7f; text-decoration-color: #bfbf7f\">/Users/agus/github_repos/argilla-io/distilabel/src/distilabel/</span><span style=\"color: #808000; text-decoration-color: #808000; font-weight: bold\">pipeline.py</span>:<span style=\"color: #0000ff; text-decoration-color: #0000ff\">209</span> in                 <span style=\"color: #800000; text-decoration-color: #800000\">│</span>\n",
       "<span style=\"color: #800000; text-decoration-color: #800000\">│</span> <span style=\"color: #00ff00; text-decoration-color: #00ff00\">_get_batch_generations</span>                                                                           <span style=\"color: #800000; text-decoration-color: #800000\">│</span>\n",
       "<span style=\"color: #800000; text-decoration-color: #800000\">│</span>                                                                                                  <span style=\"color: #800000; text-decoration-color: #800000\">│</span>\n",
       "<span style=\"color: #800000; text-decoration-color: #800000\">│</span>   <span style=\"color: #7f7f7f; text-decoration-color: #7f7f7f\">206 </span><span style=\"color: #7f7f7f; text-decoration-color: #7f7f7f\">│   │   </span>)                                                                                  <span style=\"color: #800000; text-decoration-color: #800000\">│</span>\n",
       "<span style=\"color: #800000; text-decoration-color: #800000\">│</span>   <span style=\"color: #7f7f7f; text-decoration-color: #7f7f7f\">207 </span><span style=\"color: #7f7f7f; text-decoration-color: #7f7f7f\">│   │   </span>batch_generations = []                                                             <span style=\"color: #800000; text-decoration-color: #800000\">│</span>\n",
       "<span style=\"color: #800000; text-decoration-color: #800000\">│</span>   <span style=\"color: #7f7f7f; text-decoration-color: #7f7f7f\">208 </span><span style=\"color: #7f7f7f; text-decoration-color: #7f7f7f\">│   │   </span><span style=\"color: #0000ff; text-decoration-color: #0000ff\">if</span> <span style=\"color: #00ffff; text-decoration-color: #00ffff\">isinstance</span>(outputs, Future):                                                    <span style=\"color: #800000; text-decoration-color: #800000\">│</span>\n",
       "<span style=\"color: #800000; text-decoration-color: #800000\">│</span> <span style=\"color: #800000; text-decoration-color: #800000\">❱ </span>209 <span style=\"color: #7f7f7f; text-decoration-color: #7f7f7f\">│   │   │   </span>batch_generations.extend(outputs.result())                                     <span style=\"color: #800000; text-decoration-color: #800000\">│</span>\n",
       "<span style=\"color: #800000; text-decoration-color: #800000\">│</span>   <span style=\"color: #7f7f7f; text-decoration-color: #7f7f7f\">210 </span><span style=\"color: #7f7f7f; text-decoration-color: #7f7f7f\">│   │   </span><span style=\"color: #0000ff; text-decoration-color: #0000ff\">else</span>:                                                                              <span style=\"color: #800000; text-decoration-color: #800000\">│</span>\n",
       "<span style=\"color: #800000; text-decoration-color: #800000\">│</span>   <span style=\"color: #7f7f7f; text-decoration-color: #7f7f7f\">211 </span><span style=\"color: #7f7f7f; text-decoration-color: #7f7f7f\">│   │   │   </span>batch_generations = outputs                                                    <span style=\"color: #800000; text-decoration-color: #800000\">│</span>\n",
       "<span style=\"color: #800000; text-decoration-color: #800000\">│</span>   <span style=\"color: #7f7f7f; text-decoration-color: #7f7f7f\">212 </span><span style=\"color: #7f7f7f; text-decoration-color: #7f7f7f\">│   │   </span><span style=\"color: #0000ff; text-decoration-color: #0000ff\">return</span> <span style=\"color: #00ffff; text-decoration-color: #00ffff\">self</span>._process_batch_generations(                                            <span style=\"color: #800000; text-decoration-color: #800000\">│</span>\n",
       "<span style=\"color: #800000; text-decoration-color: #800000\">│</span>                                                                                                  <span style=\"color: #800000; text-decoration-color: #800000\">│</span>\n",
       "<span style=\"color: #800000; text-decoration-color: #800000\">│</span> <span style=\"color: #bfbf7f; text-decoration-color: #bfbf7f\">/opt/homebrew/Cellar/python@3.10/3.10.13_1/Frameworks/Python.framework/Versions/3.10/lib/python3</span> <span style=\"color: #800000; text-decoration-color: #800000\">│</span>\n",
       "<span style=\"color: #800000; text-decoration-color: #800000\">│</span> <span style=\"color: #bfbf7f; text-decoration-color: #bfbf7f\">.10/concurrent/futures/</span><span style=\"color: #808000; text-decoration-color: #808000; font-weight: bold\">_base.py</span>:<span style=\"color: #0000ff; text-decoration-color: #0000ff\">453</span> in <span style=\"color: #00ff00; text-decoration-color: #00ff00\">result</span>                                                    <span style=\"color: #800000; text-decoration-color: #800000\">│</span>\n",
       "<span style=\"color: #800000; text-decoration-color: #800000\">│</span>                                                                                                  <span style=\"color: #800000; text-decoration-color: #800000\">│</span>\n",
       "<span style=\"color: #800000; text-decoration-color: #800000\">│</span>   <span style=\"color: #7f7f7f; text-decoration-color: #7f7f7f\">450 </span><span style=\"color: #7f7f7f; text-decoration-color: #7f7f7f\">│   │   │   │   </span><span style=\"color: #0000ff; text-decoration-color: #0000ff\">elif</span> <span style=\"color: #00ffff; text-decoration-color: #00ffff\">self</span>._state == FINISHED:                                              <span style=\"color: #800000; text-decoration-color: #800000\">│</span>\n",
       "<span style=\"color: #800000; text-decoration-color: #800000\">│</span>   <span style=\"color: #7f7f7f; text-decoration-color: #7f7f7f\">451 </span><span style=\"color: #7f7f7f; text-decoration-color: #7f7f7f\">│   │   │   │   │   </span><span style=\"color: #0000ff; text-decoration-color: #0000ff\">return</span> <span style=\"color: #00ffff; text-decoration-color: #00ffff\">self</span>.__get_result()                                             <span style=\"color: #800000; text-decoration-color: #800000\">│</span>\n",
       "<span style=\"color: #800000; text-decoration-color: #800000\">│</span>   <span style=\"color: #7f7f7f; text-decoration-color: #7f7f7f\">452 </span><span style=\"color: #7f7f7f; text-decoration-color: #7f7f7f\">│   │   │   │   </span>                                                                           <span style=\"color: #800000; text-decoration-color: #800000\">│</span>\n",
       "<span style=\"color: #800000; text-decoration-color: #800000\">│</span> <span style=\"color: #800000; text-decoration-color: #800000\">❱ </span>453 <span style=\"color: #7f7f7f; text-decoration-color: #7f7f7f\">│   │   │   │   </span><span style=\"color: #00ffff; text-decoration-color: #00ffff\">self</span>._condition.wait(timeout)                                              <span style=\"color: #800000; text-decoration-color: #800000\">│</span>\n",
       "<span style=\"color: #800000; text-decoration-color: #800000\">│</span>   <span style=\"color: #7f7f7f; text-decoration-color: #7f7f7f\">454 </span><span style=\"color: #7f7f7f; text-decoration-color: #7f7f7f\">│   │   │   │   </span>                                                                           <span style=\"color: #800000; text-decoration-color: #800000\">│</span>\n",
       "<span style=\"color: #800000; text-decoration-color: #800000\">│</span>   <span style=\"color: #7f7f7f; text-decoration-color: #7f7f7f\">455 </span><span style=\"color: #7f7f7f; text-decoration-color: #7f7f7f\">│   │   │   │   </span><span style=\"color: #0000ff; text-decoration-color: #0000ff\">if</span> <span style=\"color: #00ffff; text-decoration-color: #00ffff\">self</span>._state <span style=\"color: #ff00ff; text-decoration-color: #ff00ff\">in</span> [CANCELLED, CANCELLED_AND_NOTIFIED]:                     <span style=\"color: #800000; text-decoration-color: #800000\">│</span>\n",
       "<span style=\"color: #800000; text-decoration-color: #800000\">│</span>   <span style=\"color: #7f7f7f; text-decoration-color: #7f7f7f\">456 </span><span style=\"color: #7f7f7f; text-decoration-color: #7f7f7f\">│   │   │   │   │   </span><span style=\"color: #0000ff; text-decoration-color: #0000ff\">raise</span> CancelledError()                                                 <span style=\"color: #800000; text-decoration-color: #800000\">│</span>\n",
       "<span style=\"color: #800000; text-decoration-color: #800000\">│</span>                                                                                                  <span style=\"color: #800000; text-decoration-color: #800000\">│</span>\n",
       "<span style=\"color: #800000; text-decoration-color: #800000\">│</span> <span style=\"color: #bfbf7f; text-decoration-color: #bfbf7f\">/opt/homebrew/Cellar/python@3.10/3.10.13_1/Frameworks/Python.framework/Versions/3.10/lib/python3</span> <span style=\"color: #800000; text-decoration-color: #800000\">│</span>\n",
       "<span style=\"color: #800000; text-decoration-color: #800000\">│</span> <span style=\"color: #bfbf7f; text-decoration-color: #bfbf7f\">.10/</span><span style=\"color: #808000; text-decoration-color: #808000; font-weight: bold\">threading.py</span>:<span style=\"color: #0000ff; text-decoration-color: #0000ff\">320</span> in <span style=\"color: #00ff00; text-decoration-color: #00ff00\">wait</span>                                                                     <span style=\"color: #800000; text-decoration-color: #800000\">│</span>\n",
       "<span style=\"color: #800000; text-decoration-color: #800000\">│</span>                                                                                                  <span style=\"color: #800000; text-decoration-color: #800000\">│</span>\n",
       "<span style=\"color: #800000; text-decoration-color: #800000\">│</span>   <span style=\"color: #7f7f7f; text-decoration-color: #7f7f7f\"> 317 </span><span style=\"color: #7f7f7f; text-decoration-color: #7f7f7f\">│   │   </span>gotit = <span style=\"color: #0000ff; text-decoration-color: #0000ff\">False</span>                                                                     <span style=\"color: #800000; text-decoration-color: #800000\">│</span>\n",
       "<span style=\"color: #800000; text-decoration-color: #800000\">│</span>   <span style=\"color: #7f7f7f; text-decoration-color: #7f7f7f\"> 318 </span><span style=\"color: #7f7f7f; text-decoration-color: #7f7f7f\">│   │   </span><span style=\"color: #0000ff; text-decoration-color: #0000ff\">try</span>:    <span style=\"color: #7f7f7f; text-decoration-color: #7f7f7f\"># restore state no matter what (e.g., KeyboardInterrupt)</span>                  <span style=\"color: #800000; text-decoration-color: #800000\">│</span>\n",
       "<span style=\"color: #800000; text-decoration-color: #800000\">│</span>   <span style=\"color: #7f7f7f; text-decoration-color: #7f7f7f\"> 319 </span><span style=\"color: #7f7f7f; text-decoration-color: #7f7f7f\">│   │   │   </span><span style=\"color: #0000ff; text-decoration-color: #0000ff\">if</span> timeout <span style=\"color: #ff00ff; text-decoration-color: #ff00ff\">is</span> <span style=\"color: #0000ff; text-decoration-color: #0000ff\">None</span>:                                                           <span style=\"color: #800000; text-decoration-color: #800000\">│</span>\n",
       "<span style=\"color: #800000; text-decoration-color: #800000\">│</span> <span style=\"color: #800000; text-decoration-color: #800000\">❱ </span> 320 <span style=\"color: #7f7f7f; text-decoration-color: #7f7f7f\">│   │   │   │   </span>waiter.acquire()                                                          <span style=\"color: #800000; text-decoration-color: #800000\">│</span>\n",
       "<span style=\"color: #800000; text-decoration-color: #800000\">│</span>   <span style=\"color: #7f7f7f; text-decoration-color: #7f7f7f\"> 321 </span><span style=\"color: #7f7f7f; text-decoration-color: #7f7f7f\">│   │   │   │   </span>gotit = <span style=\"color: #0000ff; text-decoration-color: #0000ff\">True</span>                                                              <span style=\"color: #800000; text-decoration-color: #800000\">│</span>\n",
       "<span style=\"color: #800000; text-decoration-color: #800000\">│</span>   <span style=\"color: #7f7f7f; text-decoration-color: #7f7f7f\"> 322 </span><span style=\"color: #7f7f7f; text-decoration-color: #7f7f7f\">│   │   │   </span><span style=\"color: #0000ff; text-decoration-color: #0000ff\">else</span>:                                                                         <span style=\"color: #800000; text-decoration-color: #800000\">│</span>\n",
       "<span style=\"color: #800000; text-decoration-color: #800000\">│</span>   <span style=\"color: #7f7f7f; text-decoration-color: #7f7f7f\"> 323 </span><span style=\"color: #7f7f7f; text-decoration-color: #7f7f7f\">│   │   │   │   </span><span style=\"color: #0000ff; text-decoration-color: #0000ff\">if</span> timeout &gt; <span style=\"color: #0000ff; text-decoration-color: #0000ff\">0</span>:                                                           <span style=\"color: #800000; text-decoration-color: #800000\">│</span>\n",
       "<span style=\"color: #800000; text-decoration-color: #800000\">╰──────────────────────────────────────────────────────────────────────────────────────────────────╯</span>\n",
       "<span style=\"color: #ff0000; text-decoration-color: #ff0000; font-weight: bold\">KeyboardInterrupt</span>\n",
       "</pre>\n"
      ],
      "text/plain": [
       "\u001b[31m╭─\u001b[0m\u001b[31m──────────────────────────────\u001b[0m\u001b[31m \u001b[0m\u001b[1;31mTraceback \u001b[0m\u001b[1;2;31m(most recent call last)\u001b[0m\u001b[31m \u001b[0m\u001b[31m───────────────────────────────\u001b[0m\u001b[31m─╮\u001b[0m\n",
       "\u001b[31m│\u001b[0m in \u001b[92m<module>\u001b[0m:\u001b[94m1\u001b[0m                                                                                    \u001b[31m│\u001b[0m\n",
       "\u001b[31m│\u001b[0m                                                                                                  \u001b[31m│\u001b[0m\n",
       "\u001b[31m│\u001b[0m \u001b[31m❱ \u001b[0m1 solutions_test = pipe_generation_solutions.generate(                                         \u001b[31m│\u001b[0m\n",
       "\u001b[31m│\u001b[0m   \u001b[2m2 \u001b[0m\u001b[2m│   \u001b[0mdataset=problems_oss_instruct.select(\u001b[96mrange\u001b[0m(\u001b[94m4\u001b[0m)),                                          \u001b[31m│\u001b[0m\n",
       "\u001b[31m│\u001b[0m   \u001b[2m3 \u001b[0m\u001b[2m│   \u001b[0mnum_generations=\u001b[94m1\u001b[0m,                                                                       \u001b[31m│\u001b[0m\n",
       "\u001b[31m│\u001b[0m   \u001b[2m4 \u001b[0m\u001b[2m│   \u001b[0mbatch_size=\u001b[94m8\u001b[0m,                                                                            \u001b[31m│\u001b[0m\n",
       "\u001b[31m│\u001b[0m                                                                                                  \u001b[31m│\u001b[0m\n",
       "\u001b[31m│\u001b[0m \u001b[2;33m/Users/agus/github_repos/argilla-io/distilabel/src/distilabel/\u001b[0m\u001b[1;33mpipeline.py\u001b[0m:\u001b[94m743\u001b[0m in \u001b[92mgenerate\u001b[0m        \u001b[31m│\u001b[0m\n",
       "\u001b[31m│\u001b[0m                                                                                                  \u001b[31m│\u001b[0m\n",
       "\u001b[31m│\u001b[0m   \u001b[2m740 \u001b[0m\u001b[2;33m│   │   \u001b[0m\u001b[33m\"\"\"\u001b[0m                                                                                \u001b[31m│\u001b[0m\n",
       "\u001b[31m│\u001b[0m   \u001b[2m741 \u001b[0m\u001b[2m│   │   \u001b[0m\u001b[94mif\u001b[0m \u001b[95mnot\u001b[0m skip_dry_run:                                                               \u001b[31m│\u001b[0m\n",
       "\u001b[31m│\u001b[0m   \u001b[2m742 \u001b[0m\u001b[2m│   │   │   \u001b[0mlogger.info(\u001b[33m\"\u001b[0m\u001b[33mExecuting dry-run...\u001b[0m\u001b[33m\"\u001b[0m)                                            \u001b[31m│\u001b[0m\n",
       "\u001b[31m│\u001b[0m \u001b[31m❱ \u001b[0m743 \u001b[2m│   │   │   \u001b[0m\u001b[96mself\u001b[0m.dry_run(dataset)                                                          \u001b[31m│\u001b[0m\n",
       "\u001b[31m│\u001b[0m   \u001b[2m744 \u001b[0m\u001b[2m│   │   │   \u001b[0mlogger.info(                                                                   \u001b[31m│\u001b[0m\n",
       "\u001b[31m│\u001b[0m   \u001b[2m745 \u001b[0m\u001b[2m│   │   │   │   \u001b[0m\u001b[33m\"\u001b[0m\u001b[33mDry-run executed with no issues. Starting the actual generation...\u001b[0m\u001b[33m\"\u001b[0m       \u001b[31m│\u001b[0m\n",
       "\u001b[31m│\u001b[0m   \u001b[2m746 \u001b[0m\u001b[2m│   │   │   \u001b[0m)                                                                              \u001b[31m│\u001b[0m\n",
       "\u001b[31m│\u001b[0m                                                                                                  \u001b[31m│\u001b[0m\n",
       "\u001b[31m│\u001b[0m \u001b[2;33m/Users/agus/github_repos/argilla-io/distilabel/src/distilabel/\u001b[0m\u001b[1;33mpipeline.py\u001b[0m:\u001b[94m675\u001b[0m in \u001b[92mdry_run\u001b[0m         \u001b[31m│\u001b[0m\n",
       "\u001b[31m│\u001b[0m                                                                                                  \u001b[31m│\u001b[0m\n",
       "\u001b[31m│\u001b[0m   \u001b[2m672 \u001b[0m\u001b[2m│   │   │   │   \u001b[0m{key: [value] \u001b[94mfor\u001b[0m key, value \u001b[95min\u001b[0m dataset[\u001b[94m0\u001b[0m].items()}                        \u001b[31m│\u001b[0m\n",
       "\u001b[31m│\u001b[0m   \u001b[2m673 \u001b[0m\u001b[2m│   │   │   \u001b[0m)                                                                              \u001b[31m│\u001b[0m\n",
       "\u001b[31m│\u001b[0m   \u001b[2m674 \u001b[0m\u001b[2m│   │   │   \u001b[0m\u001b[2m# Then we call the `_generate` method with it\u001b[0m                                  \u001b[31m│\u001b[0m\n",
       "\u001b[31m│\u001b[0m \u001b[31m❱ \u001b[0m675 \u001b[2m│   │   │   \u001b[0m\u001b[94mreturn\u001b[0m \u001b[96mself\u001b[0m._generate(                                                         \u001b[31m│\u001b[0m\n",
       "\u001b[31m│\u001b[0m   \u001b[2m676 \u001b[0m\u001b[2m│   │   │   │   \u001b[0mdataset=subset,                                                            \u001b[31m│\u001b[0m\n",
       "\u001b[31m│\u001b[0m   \u001b[2m677 \u001b[0m\u001b[2m│   │   │   │   \u001b[0m\u001b[2m# Default kwargs to make the process as simple as possible\u001b[0m                 \u001b[31m│\u001b[0m\n",
       "\u001b[31m│\u001b[0m   \u001b[2m678 \u001b[0m\u001b[2m│   │   │   │   \u001b[0mnum_generations=\u001b[94m1\u001b[0m,                                                         \u001b[31m│\u001b[0m\n",
       "\u001b[31m│\u001b[0m                                                                                                  \u001b[31m│\u001b[0m\n",
       "\u001b[31m│\u001b[0m \u001b[2;33m/Users/agus/github_repos/argilla-io/distilabel/src/distilabel/\u001b[0m\u001b[1;33mpipeline.py\u001b[0m:\u001b[94m578\u001b[0m in \u001b[92m_generate\u001b[0m       \u001b[31m│\u001b[0m\n",
       "\u001b[31m│\u001b[0m                                                                                                  \u001b[31m│\u001b[0m\n",
       "\u001b[31m│\u001b[0m   \u001b[2m575 \u001b[0m\u001b[2m│   │   │   \u001b[0m\u001b[94mif\u001b[0m \u001b[96mself\u001b[0m.generator \u001b[95mis\u001b[0m \u001b[95mnot\u001b[0m \u001b[94mNone\u001b[0m:                                                 \u001b[31m│\u001b[0m\n",
       "\u001b[31m│\u001b[0m   \u001b[2m576 \u001b[0m\u001b[2m│   │   │   │   \u001b[0mlogger.info(\u001b[33mf\u001b[0m\u001b[33m\"\u001b[0m\u001b[33mCalling generator for batch \u001b[0m\u001b[33m{\u001b[0mbatch_i\u001b[33m}\u001b[0m\u001b[33m...\u001b[0m\u001b[33m\"\u001b[0m)                   \u001b[31m│\u001b[0m\n",
       "\u001b[31m│\u001b[0m   \u001b[2m577 \u001b[0m\u001b[2m│   │   │   │   \u001b[0m\u001b[94mtry\u001b[0m:                                                                       \u001b[31m│\u001b[0m\n",
       "\u001b[31m│\u001b[0m \u001b[31m❱ \u001b[0m578 \u001b[2m│   │   │   │   │   \u001b[0mbatch_generations = \u001b[96mself\u001b[0m._get_batch_generations(                       \u001b[31m│\u001b[0m\n",
       "\u001b[31m│\u001b[0m   \u001b[2m579 \u001b[0m\u001b[2m│   │   │   │   │   │   \u001b[0minputs=inputs,                                                     \u001b[31m│\u001b[0m\n",
       "\u001b[31m│\u001b[0m   \u001b[2m580 \u001b[0m\u001b[2m│   │   │   │   │   │   \u001b[0mnum_generations=num_generations,                                   \u001b[31m│\u001b[0m\n",
       "\u001b[31m│\u001b[0m   \u001b[2m581 \u001b[0m\u001b[2m│   │   │   │   │   │   \u001b[0mshuffle_before_labelling=shuffle_before_labelling,                 \u001b[31m│\u001b[0m\n",
       "\u001b[31m│\u001b[0m                                                                                                  \u001b[31m│\u001b[0m\n",
       "\u001b[31m│\u001b[0m \u001b[2;33m/Users/agus/github_repos/argilla-io/distilabel/src/distilabel/\u001b[0m\u001b[1;33mpipeline.py\u001b[0m:\u001b[94m209\u001b[0m in                 \u001b[31m│\u001b[0m\n",
       "\u001b[31m│\u001b[0m \u001b[92m_get_batch_generations\u001b[0m                                                                           \u001b[31m│\u001b[0m\n",
       "\u001b[31m│\u001b[0m                                                                                                  \u001b[31m│\u001b[0m\n",
       "\u001b[31m│\u001b[0m   \u001b[2m206 \u001b[0m\u001b[2m│   │   \u001b[0m)                                                                                  \u001b[31m│\u001b[0m\n",
       "\u001b[31m│\u001b[0m   \u001b[2m207 \u001b[0m\u001b[2m│   │   \u001b[0mbatch_generations = []                                                             \u001b[31m│\u001b[0m\n",
       "\u001b[31m│\u001b[0m   \u001b[2m208 \u001b[0m\u001b[2m│   │   \u001b[0m\u001b[94mif\u001b[0m \u001b[96misinstance\u001b[0m(outputs, Future):                                                    \u001b[31m│\u001b[0m\n",
       "\u001b[31m│\u001b[0m \u001b[31m❱ \u001b[0m209 \u001b[2m│   │   │   \u001b[0mbatch_generations.extend(outputs.result())                                     \u001b[31m│\u001b[0m\n",
       "\u001b[31m│\u001b[0m   \u001b[2m210 \u001b[0m\u001b[2m│   │   \u001b[0m\u001b[94melse\u001b[0m:                                                                              \u001b[31m│\u001b[0m\n",
       "\u001b[31m│\u001b[0m   \u001b[2m211 \u001b[0m\u001b[2m│   │   │   \u001b[0mbatch_generations = outputs                                                    \u001b[31m│\u001b[0m\n",
       "\u001b[31m│\u001b[0m   \u001b[2m212 \u001b[0m\u001b[2m│   │   \u001b[0m\u001b[94mreturn\u001b[0m \u001b[96mself\u001b[0m._process_batch_generations(                                            \u001b[31m│\u001b[0m\n",
       "\u001b[31m│\u001b[0m                                                                                                  \u001b[31m│\u001b[0m\n",
       "\u001b[31m│\u001b[0m \u001b[2;33m/opt/homebrew/Cellar/python@3.10/3.10.13_1/Frameworks/Python.framework/Versions/3.10/lib/python3\u001b[0m \u001b[31m│\u001b[0m\n",
       "\u001b[31m│\u001b[0m \u001b[2;33m.10/concurrent/futures/\u001b[0m\u001b[1;33m_base.py\u001b[0m:\u001b[94m453\u001b[0m in \u001b[92mresult\u001b[0m                                                    \u001b[31m│\u001b[0m\n",
       "\u001b[31m│\u001b[0m                                                                                                  \u001b[31m│\u001b[0m\n",
       "\u001b[31m│\u001b[0m   \u001b[2m450 \u001b[0m\u001b[2m│   │   │   │   \u001b[0m\u001b[94melif\u001b[0m \u001b[96mself\u001b[0m._state == FINISHED:                                              \u001b[31m│\u001b[0m\n",
       "\u001b[31m│\u001b[0m   \u001b[2m451 \u001b[0m\u001b[2m│   │   │   │   │   \u001b[0m\u001b[94mreturn\u001b[0m \u001b[96mself\u001b[0m.__get_result()                                             \u001b[31m│\u001b[0m\n",
       "\u001b[31m│\u001b[0m   \u001b[2m452 \u001b[0m\u001b[2m│   │   │   │   \u001b[0m                                                                           \u001b[31m│\u001b[0m\n",
       "\u001b[31m│\u001b[0m \u001b[31m❱ \u001b[0m453 \u001b[2m│   │   │   │   \u001b[0m\u001b[96mself\u001b[0m._condition.wait(timeout)                                              \u001b[31m│\u001b[0m\n",
       "\u001b[31m│\u001b[0m   \u001b[2m454 \u001b[0m\u001b[2m│   │   │   │   \u001b[0m                                                                           \u001b[31m│\u001b[0m\n",
       "\u001b[31m│\u001b[0m   \u001b[2m455 \u001b[0m\u001b[2m│   │   │   │   \u001b[0m\u001b[94mif\u001b[0m \u001b[96mself\u001b[0m._state \u001b[95min\u001b[0m [CANCELLED, CANCELLED_AND_NOTIFIED]:                     \u001b[31m│\u001b[0m\n",
       "\u001b[31m│\u001b[0m   \u001b[2m456 \u001b[0m\u001b[2m│   │   │   │   │   \u001b[0m\u001b[94mraise\u001b[0m CancelledError()                                                 \u001b[31m│\u001b[0m\n",
       "\u001b[31m│\u001b[0m                                                                                                  \u001b[31m│\u001b[0m\n",
       "\u001b[31m│\u001b[0m \u001b[2;33m/opt/homebrew/Cellar/python@3.10/3.10.13_1/Frameworks/Python.framework/Versions/3.10/lib/python3\u001b[0m \u001b[31m│\u001b[0m\n",
       "\u001b[31m│\u001b[0m \u001b[2;33m.10/\u001b[0m\u001b[1;33mthreading.py\u001b[0m:\u001b[94m320\u001b[0m in \u001b[92mwait\u001b[0m                                                                     \u001b[31m│\u001b[0m\n",
       "\u001b[31m│\u001b[0m                                                                                                  \u001b[31m│\u001b[0m\n",
       "\u001b[31m│\u001b[0m   \u001b[2m 317 \u001b[0m\u001b[2m│   │   \u001b[0mgotit = \u001b[94mFalse\u001b[0m                                                                     \u001b[31m│\u001b[0m\n",
       "\u001b[31m│\u001b[0m   \u001b[2m 318 \u001b[0m\u001b[2m│   │   \u001b[0m\u001b[94mtry\u001b[0m:    \u001b[2m# restore state no matter what (e.g., KeyboardInterrupt)\u001b[0m                  \u001b[31m│\u001b[0m\n",
       "\u001b[31m│\u001b[0m   \u001b[2m 319 \u001b[0m\u001b[2m│   │   │   \u001b[0m\u001b[94mif\u001b[0m timeout \u001b[95mis\u001b[0m \u001b[94mNone\u001b[0m:                                                           \u001b[31m│\u001b[0m\n",
       "\u001b[31m│\u001b[0m \u001b[31m❱ \u001b[0m 320 \u001b[2m│   │   │   │   \u001b[0mwaiter.acquire()                                                          \u001b[31m│\u001b[0m\n",
       "\u001b[31m│\u001b[0m   \u001b[2m 321 \u001b[0m\u001b[2m│   │   │   │   \u001b[0mgotit = \u001b[94mTrue\u001b[0m                                                              \u001b[31m│\u001b[0m\n",
       "\u001b[31m│\u001b[0m   \u001b[2m 322 \u001b[0m\u001b[2m│   │   │   \u001b[0m\u001b[94melse\u001b[0m:                                                                         \u001b[31m│\u001b[0m\n",
       "\u001b[31m│\u001b[0m   \u001b[2m 323 \u001b[0m\u001b[2m│   │   │   │   \u001b[0m\u001b[94mif\u001b[0m timeout > \u001b[94m0\u001b[0m:                                                           \u001b[31m│\u001b[0m\n",
       "\u001b[31m╰──────────────────────────────────────────────────────────────────────────────────────────────────╯\u001b[0m\n",
       "\u001b[1;91mKeyboardInterrupt\u001b[0m\n"
      ]
     },
     "metadata": {},
     "output_type": "display_data"
    }
   ],
   "source": [
    "solutions_test = pipe_generation_solutions.generate(\n",
    "    dataset=problems_oss_instruct.select(range(4)),\n",
    "    num_generations=1,\n",
    "    batch_size=8,\n",
    "    checkpoint_strategy=None,\n",
    ")"
   ]
  },
  {
   "cell_type": "code",
   "execution_count": 91,
   "id": "33cd4384-8695-4530-924a-bf0ea92e4a3f",
   "metadata": {},
   "outputs": [
    {
     "name": "stdout",
     "output_type": "stream",
     "text": [
      "Here is an implementation of the `parse_template_boolean_value` function:\n",
      "\n",
      "```python\n",
      "def parse_template_boolean_value(data, parameter, default_value):\n",
      "    if parameter in data:\n",
      "        return data[parameter]\n",
      "    else:\n",
      "        return default_value\n",
      "```\n",
      "\n",
      "The function first checks if the `parameter` is present in the `data` dictionary using the `in` operator. If the `parameter` is present, it returns its corresponding value from the `data` dictionary. Otherwise, it returns the `default_value` provided as an argument.\n"
     ]
    }
   ],
   "source": [
    "print(solutions_test[\"generations\"][0][0])"
   ]
  }
 ],
 "metadata": {
  "kernelspec": {
   "display_name": "Python 3 (ipykernel)",
   "language": "python",
   "name": "python3"
  },
  "language_info": {
   "codemirror_mode": {
    "name": "ipython",
    "version": 3
   },
   "file_extension": ".py",
   "mimetype": "text/x-python",
   "name": "python",
   "nbconvert_exporter": "python",
   "pygments_lexer": "ipython3",
   "version": "3.10.13"
  }
 },
 "nbformat": 4,
 "nbformat_minor": 5
}
