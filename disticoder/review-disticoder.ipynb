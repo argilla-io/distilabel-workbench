{
 "cells": [
  {
   "cell_type": "code",
   "execution_count": 3,
   "id": "38064c89-4210-49fc-87b1-01004d5a4385",
   "metadata": {},
   "outputs": [],
   "source": [
    "from datasets import load_dataset"
   ]
  },
  {
   "cell_type": "code",
   "execution_count": 4,
   "id": "15525705-67e5-4175-af1a-7ca975a8702f",
   "metadata": {},
   "outputs": [
    {
     "data": {
      "application/vnd.jupyter.widget-view+json": {
       "model_id": "dab9439c44014a099f5f1165b267a5d9",
       "version_major": 2,
       "version_minor": 0
      },
      "text/plain": [
       "Downloading readme:   0%|          | 0.00/314 [00:00<?, ?B/s]"
      ]
     },
     "metadata": {},
     "output_type": "display_data"
    },
    {
     "data": {
      "application/vnd.jupyter.widget-view+json": {
       "model_id": "60b309d19efe49218cfef2eb39f00264",
       "version_major": 2,
       "version_minor": 0
      },
      "text/plain": [
       "Downloading data files:   0%|          | 0/1 [00:00<?, ?it/s]"
      ]
     },
     "metadata": {},
     "output_type": "display_data"
    },
    {
     "data": {
      "application/vnd.jupyter.widget-view+json": {
       "model_id": "065f4a71957a409c8030dc73bed567a3",
       "version_major": 2,
       "version_minor": 0
      },
      "text/plain": [
       "Downloading data:   0%|          | 0.00/203M [00:00<?, ?B/s]"
      ]
     },
     "metadata": {},
     "output_type": "display_data"
    },
    {
     "data": {
      "application/vnd.jupyter.widget-view+json": {
       "model_id": "29c80e70e1c546a7a392ccc08eae78a0",
       "version_major": 2,
       "version_minor": 0
      },
      "text/plain": [
       "Extracting data files:   0%|          | 0/1 [00:00<?, ?it/s]"
      ]
     },
     "metadata": {},
     "output_type": "display_data"
    },
    {
     "data": {
      "application/vnd.jupyter.widget-view+json": {
       "model_id": "7900531dd6b64d45a686f45b7411b641",
       "version_major": 2,
       "version_minor": 0
      },
      "text/plain": [
       "Generating train split: 0 examples [00:00, ? examples/s]"
      ]
     },
     "metadata": {},
     "output_type": "display_data"
    }
   ],
   "source": [
    "ds = load_dataset(\"ise-uiuc/Magicoder-OSS-Instruct-75K\", split=\"train\")"
   ]
  },
  {
   "cell_type": "code",
   "execution_count": 20,
   "id": "5892a25f-d8db-4806-a9f1-62f76f866162",
   "metadata": {},
   "outputs": [],
   "source": [
    "df = ds.shuffle(seed=422).select(range(30)).select_columns([\"lang\", \"seed\", \"problem\"]).to_pandas()"
   ]
  },
  {
   "cell_type": "code",
   "execution_count": 43,
   "id": "e57f64f3-8432-4379-b39d-ddb302c6ccb7",
   "metadata": {},
   "outputs": [
    {
     "name": "stdout",
     "output_type": "stream",
     "text": [
      "//-------------------------------------------------\n",
      "// Implementation of class BRequest_RemoteArrayTypes23_sendArraysObject\n",
      "// Generated from class byps.gen.cpp.GenApiClass\n",
      "__________\n",
      "You are tasked with implementing a class that manages remote array types in a distributed system. The class `BRequest_RemoteArrayTypes23_sendArraysObject` is generated from a template using a code generation tool. Your task is to create a method within this class that efficiently sends arrays of objects to a remote server. \n",
      "\n",
      "Your method should take an array of objects as input and send it to the remote server using the appropriate communication protocol. You should also handle any potential errors that may occur during the communication process.\n",
      "\n",
      "Your implementation should be efficient and robust, ensuring that the arrays of objects are transmitted accurately and reliably to the remote server.\n",
      "\n",
      "Write a method `sendArraysObject` within the `BRequest_RemoteArrayTypes23_sendArraysObject` class that fulfills the requirements outlined above.\n",
      "__________\n",
      "```cpp\n",
      "// Implementation of class BRequest_RemoteArrayTypes23_sendArraysObject\n",
      "// Generated from class byps.gen.cpp.GenApiClass\n",
      "\n",
      "#include <iostream>\n",
      "#include <vector>\n",
      "#include <byps/remote/RemoteArrayTypes23.hpp>\n",
      "\n",
      "class BRequest_RemoteArrayTypes23_sendArraysObject {\n",
      "public:\n",
      "    void sendArraysObject(const std::vector<Object>& objectArray) {\n",
      "        try {\n",
      "            // Connect to the remote server using the appropriate communication protocol\n",
      "            // For example, using a remote communication library like byps\n",
      "\n",
      "            // Send the objectArray to the remote server\n",
      "            // Example:\n",
      "            // remoteArrayTypes23.sendArraysObject(objectArray);\n",
      "\n",
      "            // Handle any potential errors that may occur during the communication process\n",
      "            // Example:\n",
      "            // if (errorOccurred) {\n",
      "            //     throw CommunicationException(\"Error occurred while sending arrays of objects\");\n",
      "            // }\n",
      "\n",
      "            std::cout << \"Arrays of objects sent successfully to the remote server\" << std::endl;\n",
      "        } catch (const CommunicationException& ex) {\n",
      "            // Handle communication exception\n",
      "            std::cerr << \"CommunicationException: \" << ex.what() << std::endl;\n",
      "        } catch (const std::exception& ex) {\n",
      "            // Handle other exceptions\n",
      "            std::cerr << \"Exception: \" << ex.what() << std::endl;\n",
      "        }\n",
      "    }\n",
      "};\n",
      "```\n",
      "\n",
      "In the solution, the `sendArraysObject` method within the `BRequest_RemoteArrayTypes23_sendArraysObject` class takes a vector of objects as input and sends it to the remote server using the appropriate communication protocol. It also handles potential errors that may occur during the communication process. This implementation ensures efficient and reliable transmission of arrays of objects to the remote server.\n"
     ]
    }
   ],
   "source": [
    "df = ds.shuffle(seed=1).select(range(30)).select_columns([\"lang\", \"seed\", \"problem\", \"solution\"]).to_pandas()\n",
    "idx = 0\n",
    "print(df[\"seed\"][idx].strip())\n",
    "print(\"__________\")\n",
    "print(df[\"problem\"][idx])\n",
    "print(\"__________\")\n",
    "print(df[\"solution\"][idx])\n"
   ]
  },
  {
   "cell_type": "code",
   "execution_count": 52,
   "id": "37ff5eb5-ad0c-4065-a028-d8aa41db322d",
   "metadata": {},
   "outputs": [],
   "source": [
    "from distilabel.pipeline import Pipeline\n",
    "from distilabel.llm import OpenAILLM\n",
    "from distilabel.tasks import TextGenerationTask\n",
    "from dataclasses import dataclass\n",
    "from distilabel.tasks import Prompt\n",
    "from typing import List, Dict\n",
    "import os"
   ]
  },
  {
   "cell_type": "code",
   "execution_count": 51,
   "id": "2f41e00f-2a1e-471f-bdc0-1fc13b6fee9c",
   "metadata": {},
   "outputs": [],
   "source": [
    "oss_instruct_prompt = \"\"\"Please gain inspiration from the following random code snippet to create a high-quality programming problem. Present your output in two distinct sections:\n",
    "[Problem Description] and [Solution].\n",
    "\n",
    "Code snippet for inspiration:\n",
    "```\n",
    "{code}\n",
    "```\n",
    "\n",
    "Guidelines for each section:\n",
    "1. [Problem Description]: This should be **completely self-contained**, providing all the contextual information one needs to understand and solve the problem. Assume common programming knowledge, but ensure that any specific context, variables, or code snippets pertinent to this problem are explicitly included.\n",
    "\n",
    "2. [Solution]: Offer a comprehensive, **correct** solution that accurately addresses the [Problem Description] you provided.\"\"\"\n",
    "\n",
    "@dataclass\n",
    "class OSSInstruct(TextGenerationTask):\n",
    "    system_prompt: str = \"You are exceptionally skilled at crafting high-quality programming problems and offering precise solutions.\"\n",
    "\n",
    "    def generate_prompt(self, input: str) -> Prompt:\n",
    "        return Prompt(\n",
    "            system_prompt=self.system_prompt,\n",
    "            formatted_prompt=oss_instruct_prompt.format(code=input)\n",
    "          )\n",
    "\n",
    "    def parse_output(self, output: str) -> List[Dict[str, str]]:\n",
    "        problem, solution = output.split(\"[Solution]\")\n",
    "        return {\n",
    "            \"problem\": problem.replace(\"[Problem Description]\", \"\").strip(),\n",
    "            \"solution\": solution.strip()\n",
    "        }"
   ]
  },
  {
   "cell_type": "code",
   "execution_count": 71,
   "id": "b477e53e-859a-4232-8ddd-e662b0e04bb1",
   "metadata": {},
   "outputs": [],
   "source": [
    "pipe_generation = Pipeline(\n",
    "    generator=OpenAILLM(\n",
    "        model=\"gpt-3.5-turbo\",\n",
    "        task=OSSInstruct(),\n",
    "        api_key=os.getenv(\"OPENAI_API_KEY\"),\n",
    "        max_new_tokens=1024,\n",
    "        num_threads=4,\n",
    "        temperature=1\n",
    "    )\n",
    ")\n",
    "\n",
    "pipe_generation_og = Pipeline(\n",
    "    generator=OpenAILLM(\n",
    "        model=\"gpt-3.5-turbo-1106\",\n",
    "        task=OSSInstruct(),\n",
    "        api_key=os.getenv(\"OPENAI_API_KEY\"),\n",
    "        max_new_tokens=1024,\n",
    "        num_threads=4,\n",
    "        temperature=1\n",
    "    )\n",
    ")"
   ]
  },
  {
   "cell_type": "code",
   "execution_count": 58,
   "id": "2d6798cd-49f9-4439-8198-0c9d9047bb2b",
   "metadata": {},
   "outputs": [],
   "source": [
    "subset = ds.shuffle(seed=422).select(range(30))"
   ]
  },
  {
   "cell_type": "code",
   "execution_count": 68,
   "id": "e329a9a0-8d97-4bf9-b42f-4494f56a0e2d",
   "metadata": {},
   "outputs": [],
   "source": [
    "distilabel_subset = subset.select_columns([\"seed\"]).rename_column(\"seed\", \"input\")"
   ]
  },
  {
   "cell_type": "code",
   "execution_count": 70,
   "id": "002a935d-d303-4a22-938f-63e1f924a7bd",
   "metadata": {},
   "outputs": [
    {
     "data": {
      "text/plain": [
       "{'input': 'def preprocess(data, lang):\\n    data[\"arg_negate\"] = parse_template_boolean_value(data, parameter=\"arg_negate\", default_value=False)\\n    data[\"arg_is_regex\"] = parse_template_boolean_value(data, parameter=\"arg_is_regex\", default_value=False)\\n    return data\\n'}"
      ]
     },
     "execution_count": 70,
     "metadata": {},
     "output_type": "execute_result"
    }
   ],
   "source": [
    "distilabel_subset[0]"
   ]
  },
  {
   "cell_type": "code",
   "execution_count": 72,
   "id": "d447ed01-82e5-443f-9670-907d40aa793a",
   "metadata": {},
   "outputs": [
    {
     "data": {
      "text/html": [
       "<pre style=\"white-space:pre;overflow-x:auto;line-height:normal;font-family:Menlo,'DejaVu Sans Mono',consolas,'Courier New',monospace\"><span style=\"color: #7fbfbf; text-decoration-color: #7fbfbf\">12:30:38 </span><span style=\"color: #000080; text-decoration-color: #000080\">INFO    </span> <span style=\"font-weight: bold\">[</span>PID: <span style=\"color: #008080; text-decoration-color: #008080; font-weight: bold\">98023</span><span style=\"font-weight: bold\">]</span> Executing dry-run<span style=\"color: #808000; text-decoration-color: #808000\">...</span>                                                 <a href=\"file:///Users/agus/github_repos/argilla-io/distilabel/src/distilabel/pipeline.py\" target=\"_blank\"><span style=\"color: #7f7f7f; text-decoration-color: #7f7f7f\">pipeline.py</span></a><span style=\"color: #7f7f7f; text-decoration-color: #7f7f7f\">:</span><a href=\"file:///Users/agus/github_repos/argilla-io/distilabel/src/distilabel/pipeline.py#742\" target=\"_blank\"><span style=\"color: #7f7f7f; text-decoration-color: #7f7f7f\">742</span></a>\n",
       "</pre>\n"
      ],
      "text/plain": [
       "\u001b[2;36m12:30:38\u001b[0m\u001b[2;36m \u001b[0m\u001b[34mINFO    \u001b[0m \u001b[1m[\u001b[0mPID: \u001b[1;36m98023\u001b[0m\u001b[1m]\u001b[0m Executing dry-run\u001b[33m...\u001b[0m                                                 \u001b]8;id=282952;file:///Users/agus/github_repos/argilla-io/distilabel/src/distilabel/pipeline.py\u001b\\\u001b[2mpipeline.py\u001b[0m\u001b]8;;\u001b\\\u001b[2m:\u001b[0m\u001b]8;id=222584;file:///Users/agus/github_repos/argilla-io/distilabel/src/distilabel/pipeline.py#742\u001b\\\u001b[2m742\u001b[0m\u001b]8;;\u001b\\\n"
      ]
     },
     "metadata": {},
     "output_type": "display_data"
    },
    {
     "data": {
      "text/html": [
       "<pre style=\"white-space:pre;overflow-x:auto;line-height:normal;font-family:Menlo,'DejaVu Sans Mono',consolas,'Courier New',monospace\"><span style=\"color: #7fbfbf; text-decoration-color: #7fbfbf\">         </span><span style=\"color: #000080; text-decoration-color: #000080\">INFO    </span> <span style=\"font-weight: bold\">[</span>PID: <span style=\"color: #008080; text-decoration-color: #008080; font-weight: bold\">98023</span><span style=\"font-weight: bold\">]</span> Processing batch <span style=\"color: #008080; text-decoration-color: #008080; font-weight: bold\">1</span> of <span style=\"color: #008080; text-decoration-color: #008080; font-weight: bold\">1</span><span style=\"color: #808000; text-decoration-color: #808000\">...</span>                                           <a href=\"file:///Users/agus/github_repos/argilla-io/distilabel/src/distilabel/pipeline.py\" target=\"_blank\"><span style=\"color: #7f7f7f; text-decoration-color: #7f7f7f\">pipeline.py</span></a><span style=\"color: #7f7f7f; text-decoration-color: #7f7f7f\">:</span><a href=\"file:///Users/agus/github_repos/argilla-io/distilabel/src/distilabel/pipeline.py#572\" target=\"_blank\"><span style=\"color: #7f7f7f; text-decoration-color: #7f7f7f\">572</span></a>\n",
       "</pre>\n"
      ],
      "text/plain": [
       "\u001b[2;36m        \u001b[0m\u001b[2;36m \u001b[0m\u001b[34mINFO    \u001b[0m \u001b[1m[\u001b[0mPID: \u001b[1;36m98023\u001b[0m\u001b[1m]\u001b[0m Processing batch \u001b[1;36m1\u001b[0m of \u001b[1;36m1\u001b[0m\u001b[33m...\u001b[0m                                           \u001b]8;id=125108;file:///Users/agus/github_repos/argilla-io/distilabel/src/distilabel/pipeline.py\u001b\\\u001b[2mpipeline.py\u001b[0m\u001b]8;;\u001b\\\u001b[2m:\u001b[0m\u001b]8;id=212492;file:///Users/agus/github_repos/argilla-io/distilabel/src/distilabel/pipeline.py#572\u001b\\\u001b[2m572\u001b[0m\u001b]8;;\u001b\\\n"
      ]
     },
     "metadata": {},
     "output_type": "display_data"
    },
    {
     "data": {
      "text/html": [
       "<pre style=\"white-space:pre;overflow-x:auto;line-height:normal;font-family:Menlo,'DejaVu Sans Mono',consolas,'Courier New',monospace\"><span style=\"color: #7fbfbf; text-decoration-color: #7fbfbf\">         </span><span style=\"color: #000080; text-decoration-color: #000080\">INFO    </span> <span style=\"font-weight: bold\">[</span>PID: <span style=\"color: #008080; text-decoration-color: #008080; font-weight: bold\">98023</span><span style=\"font-weight: bold\">]</span> Calling generator for batch <span style=\"color: #008080; text-decoration-color: #008080; font-weight: bold\">1</span><span style=\"color: #808000; text-decoration-color: #808000\">...</span>                                     <a href=\"file:///Users/agus/github_repos/argilla-io/distilabel/src/distilabel/pipeline.py\" target=\"_blank\"><span style=\"color: #7f7f7f; text-decoration-color: #7f7f7f\">pipeline.py</span></a><span style=\"color: #7f7f7f; text-decoration-color: #7f7f7f\">:</span><a href=\"file:///Users/agus/github_repos/argilla-io/distilabel/src/distilabel/pipeline.py#576\" target=\"_blank\"><span style=\"color: #7f7f7f; text-decoration-color: #7f7f7f\">576</span></a>\n",
       "</pre>\n"
      ],
      "text/plain": [
       "\u001b[2;36m        \u001b[0m\u001b[2;36m \u001b[0m\u001b[34mINFO    \u001b[0m \u001b[1m[\u001b[0mPID: \u001b[1;36m98023\u001b[0m\u001b[1m]\u001b[0m Calling generator for batch \u001b[1;36m1\u001b[0m\u001b[33m...\u001b[0m                                     \u001b]8;id=781323;file:///Users/agus/github_repos/argilla-io/distilabel/src/distilabel/pipeline.py\u001b\\\u001b[2mpipeline.py\u001b[0m\u001b]8;;\u001b\\\u001b[2m:\u001b[0m\u001b]8;id=684613;file:///Users/agus/github_repos/argilla-io/distilabel/src/distilabel/pipeline.py#576\u001b\\\u001b[2m576\u001b[0m\u001b]8;;\u001b\\\n"
      ]
     },
     "metadata": {},
     "output_type": "display_data"
    },
    {
     "data": {
      "text/html": [
       "<pre style=\"white-space:pre;overflow-x:auto;line-height:normal;font-family:Menlo,'DejaVu Sans Mono',consolas,'Courier New',monospace\">\n",
       "</pre>\n"
      ],
      "text/plain": [
       "\n"
      ]
     },
     "metadata": {},
     "output_type": "display_data"
    },
    {
     "data": {
      "application/vnd.jupyter.widget-view+json": {
       "model_id": "0939fab92aa74dcf8f2704a409dc6c99",
       "version_major": 2,
       "version_minor": 0
      },
      "text/plain": [
       "Flattening the indices:   0%|          | 0/1 [00:00<?, ? examples/s]"
      ]
     },
     "metadata": {},
     "output_type": "display_data"
    },
    {
     "data": {
      "text/html": [
       "<pre style=\"white-space:pre;overflow-x:auto;line-height:normal;font-family:Menlo,'DejaVu Sans Mono',consolas,'Courier New',monospace\"><span style=\"color: #7fbfbf; text-decoration-color: #7fbfbf\">12:30:47 </span><span style=\"color: #000080; text-decoration-color: #000080\">INFO    </span> <span style=\"font-weight: bold\">[</span>PID: <span style=\"color: #008080; text-decoration-color: #008080; font-weight: bold\">98023</span><span style=\"font-weight: bold\">]</span> Dry-run executed with no issues. Starting the actual generation<span style=\"color: #808000; text-decoration-color: #808000\">...</span>   <a href=\"file:///Users/agus/github_repos/argilla-io/distilabel/src/distilabel/pipeline.py\" target=\"_blank\"><span style=\"color: #7f7f7f; text-decoration-color: #7f7f7f\">pipeline.py</span></a><span style=\"color: #7f7f7f; text-decoration-color: #7f7f7f\">:</span><a href=\"file:///Users/agus/github_repos/argilla-io/distilabel/src/distilabel/pipeline.py#744\" target=\"_blank\"><span style=\"color: #7f7f7f; text-decoration-color: #7f7f7f\">744</span></a>\n",
       "</pre>\n"
      ],
      "text/plain": [
       "\u001b[2;36m12:30:47\u001b[0m\u001b[2;36m \u001b[0m\u001b[34mINFO    \u001b[0m \u001b[1m[\u001b[0mPID: \u001b[1;36m98023\u001b[0m\u001b[1m]\u001b[0m Dry-run executed with no issues. Starting the actual generation\u001b[33m...\u001b[0m   \u001b]8;id=64747;file:///Users/agus/github_repos/argilla-io/distilabel/src/distilabel/pipeline.py\u001b\\\u001b[2mpipeline.py\u001b[0m\u001b]8;;\u001b\\\u001b[2m:\u001b[0m\u001b]8;id=109331;file:///Users/agus/github_repos/argilla-io/distilabel/src/distilabel/pipeline.py#744\u001b\\\u001b[2m744\u001b[0m\u001b]8;;\u001b\\\n"
      ]
     },
     "metadata": {},
     "output_type": "display_data"
    },
    {
     "data": {
      "application/vnd.jupyter.widget-view+json": {
       "model_id": "f85c6811966a4d0088c77418f4bebf68",
       "version_major": 2,
       "version_minor": 0
      },
      "text/plain": [
       "Output()"
      ]
     },
     "metadata": {},
     "output_type": "display_data"
    },
    {
     "data": {
      "text/html": [
       "<pre style=\"white-space:pre;overflow-x:auto;line-height:normal;font-family:Menlo,'DejaVu Sans Mono',consolas,'Courier New',monospace\"><span style=\"color: #7fbfbf; text-decoration-color: #7fbfbf\">         </span><span style=\"color: #000080; text-decoration-color: #000080\">INFO    </span> <span style=\"font-weight: bold\">[</span>PID: <span style=\"color: #008080; text-decoration-color: #008080; font-weight: bold\">98023</span><span style=\"font-weight: bold\">]</span> Processing batch <span style=\"color: #008080; text-decoration-color: #008080; font-weight: bold\">1</span> of <span style=\"color: #008080; text-decoration-color: #008080; font-weight: bold\">4</span><span style=\"color: #808000; text-decoration-color: #808000\">...</span>                                           <a href=\"file:///Users/agus/github_repos/argilla-io/distilabel/src/distilabel/pipeline.py\" target=\"_blank\"><span style=\"color: #7f7f7f; text-decoration-color: #7f7f7f\">pipeline.py</span></a><span style=\"color: #7f7f7f; text-decoration-color: #7f7f7f\">:</span><a href=\"file:///Users/agus/github_repos/argilla-io/distilabel/src/distilabel/pipeline.py#572\" target=\"_blank\"><span style=\"color: #7f7f7f; text-decoration-color: #7f7f7f\">572</span></a>\n",
       "</pre>\n"
      ],
      "text/plain": [
       "\u001b[2;36m        \u001b[0m\u001b[2;36m \u001b[0m\u001b[34mINFO    \u001b[0m \u001b[1m[\u001b[0mPID: \u001b[1;36m98023\u001b[0m\u001b[1m]\u001b[0m Processing batch \u001b[1;36m1\u001b[0m of \u001b[1;36m4\u001b[0m\u001b[33m...\u001b[0m                                           \u001b]8;id=871520;file:///Users/agus/github_repos/argilla-io/distilabel/src/distilabel/pipeline.py\u001b\\\u001b[2mpipeline.py\u001b[0m\u001b]8;;\u001b\\\u001b[2m:\u001b[0m\u001b]8;id=435191;file:///Users/agus/github_repos/argilla-io/distilabel/src/distilabel/pipeline.py#572\u001b\\\u001b[2m572\u001b[0m\u001b]8;;\u001b\\\n"
      ]
     },
     "metadata": {},
     "output_type": "display_data"
    },
    {
     "data": {
      "text/html": [
       "<pre style=\"white-space:pre;overflow-x:auto;line-height:normal;font-family:Menlo,'DejaVu Sans Mono',consolas,'Courier New',monospace\"><span style=\"color: #7fbfbf; text-decoration-color: #7fbfbf\">         </span><span style=\"color: #000080; text-decoration-color: #000080\">INFO    </span> <span style=\"font-weight: bold\">[</span>PID: <span style=\"color: #008080; text-decoration-color: #008080; font-weight: bold\">98023</span><span style=\"font-weight: bold\">]</span> Calling generator for batch <span style=\"color: #008080; text-decoration-color: #008080; font-weight: bold\">1</span><span style=\"color: #808000; text-decoration-color: #808000\">...</span>                                     <a href=\"file:///Users/agus/github_repos/argilla-io/distilabel/src/distilabel/pipeline.py\" target=\"_blank\"><span style=\"color: #7f7f7f; text-decoration-color: #7f7f7f\">pipeline.py</span></a><span style=\"color: #7f7f7f; text-decoration-color: #7f7f7f\">:</span><a href=\"file:///Users/agus/github_repos/argilla-io/distilabel/src/distilabel/pipeline.py#576\" target=\"_blank\"><span style=\"color: #7f7f7f; text-decoration-color: #7f7f7f\">576</span></a>\n",
       "</pre>\n"
      ],
      "text/plain": [
       "\u001b[2;36m        \u001b[0m\u001b[2;36m \u001b[0m\u001b[34mINFO    \u001b[0m \u001b[1m[\u001b[0mPID: \u001b[1;36m98023\u001b[0m\u001b[1m]\u001b[0m Calling generator for batch \u001b[1;36m1\u001b[0m\u001b[33m...\u001b[0m                                     \u001b]8;id=297692;file:///Users/agus/github_repos/argilla-io/distilabel/src/distilabel/pipeline.py\u001b\\\u001b[2mpipeline.py\u001b[0m\u001b]8;;\u001b\\\u001b[2m:\u001b[0m\u001b]8;id=955879;file:///Users/agus/github_repos/argilla-io/distilabel/src/distilabel/pipeline.py#576\u001b\\\u001b[2m576\u001b[0m\u001b]8;;\u001b\\\n"
      ]
     },
     "metadata": {},
     "output_type": "display_data"
    },
    {
     "data": {
      "text/html": [
       "<pre style=\"white-space:pre;overflow-x:auto;line-height:normal;font-family:Menlo,'DejaVu Sans Mono',consolas,'Courier New',monospace\"><span style=\"color: #7fbfbf; text-decoration-color: #7fbfbf\">12:31:06 </span><span style=\"color: #000080; text-decoration-color: #000080\">INFO    </span> <span style=\"font-weight: bold\">[</span>PID: <span style=\"color: #008080; text-decoration-color: #008080; font-weight: bold\">98023</span><span style=\"font-weight: bold\">]</span> Processing batch <span style=\"color: #008080; text-decoration-color: #008080; font-weight: bold\">2</span> of <span style=\"color: #008080; text-decoration-color: #008080; font-weight: bold\">4</span><span style=\"color: #808000; text-decoration-color: #808000\">...</span>                                           <a href=\"file:///Users/agus/github_repos/argilla-io/distilabel/src/distilabel/pipeline.py\" target=\"_blank\"><span style=\"color: #7f7f7f; text-decoration-color: #7f7f7f\">pipeline.py</span></a><span style=\"color: #7f7f7f; text-decoration-color: #7f7f7f\">:</span><a href=\"file:///Users/agus/github_repos/argilla-io/distilabel/src/distilabel/pipeline.py#572\" target=\"_blank\"><span style=\"color: #7f7f7f; text-decoration-color: #7f7f7f\">572</span></a>\n",
       "</pre>\n"
      ],
      "text/plain": [
       "\u001b[2;36m12:31:06\u001b[0m\u001b[2;36m \u001b[0m\u001b[34mINFO    \u001b[0m \u001b[1m[\u001b[0mPID: \u001b[1;36m98023\u001b[0m\u001b[1m]\u001b[0m Processing batch \u001b[1;36m2\u001b[0m of \u001b[1;36m4\u001b[0m\u001b[33m...\u001b[0m                                           \u001b]8;id=481677;file:///Users/agus/github_repos/argilla-io/distilabel/src/distilabel/pipeline.py\u001b\\\u001b[2mpipeline.py\u001b[0m\u001b]8;;\u001b\\\u001b[2m:\u001b[0m\u001b]8;id=647871;file:///Users/agus/github_repos/argilla-io/distilabel/src/distilabel/pipeline.py#572\u001b\\\u001b[2m572\u001b[0m\u001b]8;;\u001b\\\n"
      ]
     },
     "metadata": {},
     "output_type": "display_data"
    },
    {
     "data": {
      "text/html": [
       "<pre style=\"white-space:pre;overflow-x:auto;line-height:normal;font-family:Menlo,'DejaVu Sans Mono',consolas,'Courier New',monospace\"><span style=\"color: #7fbfbf; text-decoration-color: #7fbfbf\">         </span><span style=\"color: #000080; text-decoration-color: #000080\">INFO    </span> <span style=\"font-weight: bold\">[</span>PID: <span style=\"color: #008080; text-decoration-color: #008080; font-weight: bold\">98023</span><span style=\"font-weight: bold\">]</span> Calling generator for batch <span style=\"color: #008080; text-decoration-color: #008080; font-weight: bold\">2</span><span style=\"color: #808000; text-decoration-color: #808000\">...</span>                                     <a href=\"file:///Users/agus/github_repos/argilla-io/distilabel/src/distilabel/pipeline.py\" target=\"_blank\"><span style=\"color: #7f7f7f; text-decoration-color: #7f7f7f\">pipeline.py</span></a><span style=\"color: #7f7f7f; text-decoration-color: #7f7f7f\">:</span><a href=\"file:///Users/agus/github_repos/argilla-io/distilabel/src/distilabel/pipeline.py#576\" target=\"_blank\"><span style=\"color: #7f7f7f; text-decoration-color: #7f7f7f\">576</span></a>\n",
       "</pre>\n"
      ],
      "text/plain": [
       "\u001b[2;36m        \u001b[0m\u001b[2;36m \u001b[0m\u001b[34mINFO    \u001b[0m \u001b[1m[\u001b[0mPID: \u001b[1;36m98023\u001b[0m\u001b[1m]\u001b[0m Calling generator for batch \u001b[1;36m2\u001b[0m\u001b[33m...\u001b[0m                                     \u001b]8;id=228719;file:///Users/agus/github_repos/argilla-io/distilabel/src/distilabel/pipeline.py\u001b\\\u001b[2mpipeline.py\u001b[0m\u001b]8;;\u001b\\\u001b[2m:\u001b[0m\u001b]8;id=796032;file:///Users/agus/github_repos/argilla-io/distilabel/src/distilabel/pipeline.py#576\u001b\\\u001b[2m576\u001b[0m\u001b]8;;\u001b\\\n"
      ]
     },
     "metadata": {},
     "output_type": "display_data"
    },
    {
     "data": {
      "text/html": [
       "<pre style=\"white-space:pre;overflow-x:auto;line-height:normal;font-family:Menlo,'DejaVu Sans Mono',consolas,'Courier New',monospace\"><span style=\"color: #7fbfbf; text-decoration-color: #7fbfbf\">12:31:26 </span><span style=\"color: #000080; text-decoration-color: #000080\">INFO    </span> <span style=\"font-weight: bold\">[</span>PID: <span style=\"color: #008080; text-decoration-color: #008080; font-weight: bold\">98023</span><span style=\"font-weight: bold\">]</span> Processing batch <span style=\"color: #008080; text-decoration-color: #008080; font-weight: bold\">3</span> of <span style=\"color: #008080; text-decoration-color: #008080; font-weight: bold\">4</span><span style=\"color: #808000; text-decoration-color: #808000\">...</span>                                           <a href=\"file:///Users/agus/github_repos/argilla-io/distilabel/src/distilabel/pipeline.py\" target=\"_blank\"><span style=\"color: #7f7f7f; text-decoration-color: #7f7f7f\">pipeline.py</span></a><span style=\"color: #7f7f7f; text-decoration-color: #7f7f7f\">:</span><a href=\"file:///Users/agus/github_repos/argilla-io/distilabel/src/distilabel/pipeline.py#572\" target=\"_blank\"><span style=\"color: #7f7f7f; text-decoration-color: #7f7f7f\">572</span></a>\n",
       "</pre>\n"
      ],
      "text/plain": [
       "\u001b[2;36m12:31:26\u001b[0m\u001b[2;36m \u001b[0m\u001b[34mINFO    \u001b[0m \u001b[1m[\u001b[0mPID: \u001b[1;36m98023\u001b[0m\u001b[1m]\u001b[0m Processing batch \u001b[1;36m3\u001b[0m of \u001b[1;36m4\u001b[0m\u001b[33m...\u001b[0m                                           \u001b]8;id=416599;file:///Users/agus/github_repos/argilla-io/distilabel/src/distilabel/pipeline.py\u001b\\\u001b[2mpipeline.py\u001b[0m\u001b]8;;\u001b\\\u001b[2m:\u001b[0m\u001b]8;id=583617;file:///Users/agus/github_repos/argilla-io/distilabel/src/distilabel/pipeline.py#572\u001b\\\u001b[2m572\u001b[0m\u001b]8;;\u001b\\\n"
      ]
     },
     "metadata": {},
     "output_type": "display_data"
    },
    {
     "data": {
      "text/html": [
       "<pre style=\"white-space:pre;overflow-x:auto;line-height:normal;font-family:Menlo,'DejaVu Sans Mono',consolas,'Courier New',monospace\"><span style=\"color: #7fbfbf; text-decoration-color: #7fbfbf\">         </span><span style=\"color: #000080; text-decoration-color: #000080\">INFO    </span> <span style=\"font-weight: bold\">[</span>PID: <span style=\"color: #008080; text-decoration-color: #008080; font-weight: bold\">98023</span><span style=\"font-weight: bold\">]</span> Calling generator for batch <span style=\"color: #008080; text-decoration-color: #008080; font-weight: bold\">3</span><span style=\"color: #808000; text-decoration-color: #808000\">...</span>                                     <a href=\"file:///Users/agus/github_repos/argilla-io/distilabel/src/distilabel/pipeline.py\" target=\"_blank\"><span style=\"color: #7f7f7f; text-decoration-color: #7f7f7f\">pipeline.py</span></a><span style=\"color: #7f7f7f; text-decoration-color: #7f7f7f\">:</span><a href=\"file:///Users/agus/github_repos/argilla-io/distilabel/src/distilabel/pipeline.py#576\" target=\"_blank\"><span style=\"color: #7f7f7f; text-decoration-color: #7f7f7f\">576</span></a>\n",
       "</pre>\n"
      ],
      "text/plain": [
       "\u001b[2;36m        \u001b[0m\u001b[2;36m \u001b[0m\u001b[34mINFO    \u001b[0m \u001b[1m[\u001b[0mPID: \u001b[1;36m98023\u001b[0m\u001b[1m]\u001b[0m Calling generator for batch \u001b[1;36m3\u001b[0m\u001b[33m...\u001b[0m                                     \u001b]8;id=218208;file:///Users/agus/github_repos/argilla-io/distilabel/src/distilabel/pipeline.py\u001b\\\u001b[2mpipeline.py\u001b[0m\u001b]8;;\u001b\\\u001b[2m:\u001b[0m\u001b]8;id=996058;file:///Users/agus/github_repos/argilla-io/distilabel/src/distilabel/pipeline.py#576\u001b\\\u001b[2m576\u001b[0m\u001b]8;;\u001b\\\n"
      ]
     },
     "metadata": {},
     "output_type": "display_data"
    },
    {
     "data": {
      "text/html": [
       "<pre style=\"white-space:pre;overflow-x:auto;line-height:normal;font-family:Menlo,'DejaVu Sans Mono',consolas,'Courier New',monospace\"><span style=\"color: #7fbfbf; text-decoration-color: #7fbfbf\">12:31:51 </span><span style=\"color: #000080; text-decoration-color: #000080\">INFO    </span> <span style=\"font-weight: bold\">[</span>PID: <span style=\"color: #008080; text-decoration-color: #008080; font-weight: bold\">98023</span><span style=\"font-weight: bold\">]</span> Processing batch <span style=\"color: #008080; text-decoration-color: #008080; font-weight: bold\">4</span> of <span style=\"color: #008080; text-decoration-color: #008080; font-weight: bold\">4</span><span style=\"color: #808000; text-decoration-color: #808000\">...</span>                                           <a href=\"file:///Users/agus/github_repos/argilla-io/distilabel/src/distilabel/pipeline.py\" target=\"_blank\"><span style=\"color: #7f7f7f; text-decoration-color: #7f7f7f\">pipeline.py</span></a><span style=\"color: #7f7f7f; text-decoration-color: #7f7f7f\">:</span><a href=\"file:///Users/agus/github_repos/argilla-io/distilabel/src/distilabel/pipeline.py#572\" target=\"_blank\"><span style=\"color: #7f7f7f; text-decoration-color: #7f7f7f\">572</span></a>\n",
       "</pre>\n"
      ],
      "text/plain": [
       "\u001b[2;36m12:31:51\u001b[0m\u001b[2;36m \u001b[0m\u001b[34mINFO    \u001b[0m \u001b[1m[\u001b[0mPID: \u001b[1;36m98023\u001b[0m\u001b[1m]\u001b[0m Processing batch \u001b[1;36m4\u001b[0m of \u001b[1;36m4\u001b[0m\u001b[33m...\u001b[0m                                           \u001b]8;id=705084;file:///Users/agus/github_repos/argilla-io/distilabel/src/distilabel/pipeline.py\u001b\\\u001b[2mpipeline.py\u001b[0m\u001b]8;;\u001b\\\u001b[2m:\u001b[0m\u001b]8;id=180517;file:///Users/agus/github_repos/argilla-io/distilabel/src/distilabel/pipeline.py#572\u001b\\\u001b[2m572\u001b[0m\u001b]8;;\u001b\\\n"
      ]
     },
     "metadata": {},
     "output_type": "display_data"
    },
    {
     "data": {
      "text/html": [
       "<pre style=\"white-space:pre;overflow-x:auto;line-height:normal;font-family:Menlo,'DejaVu Sans Mono',consolas,'Courier New',monospace\"><span style=\"color: #7fbfbf; text-decoration-color: #7fbfbf\">         </span><span style=\"color: #000080; text-decoration-color: #000080\">INFO    </span> <span style=\"font-weight: bold\">[</span>PID: <span style=\"color: #008080; text-decoration-color: #008080; font-weight: bold\">98023</span><span style=\"font-weight: bold\">]</span> Calling generator for batch <span style=\"color: #008080; text-decoration-color: #008080; font-weight: bold\">4</span><span style=\"color: #808000; text-decoration-color: #808000\">...</span>                                     <a href=\"file:///Users/agus/github_repos/argilla-io/distilabel/src/distilabel/pipeline.py\" target=\"_blank\"><span style=\"color: #7f7f7f; text-decoration-color: #7f7f7f\">pipeline.py</span></a><span style=\"color: #7f7f7f; text-decoration-color: #7f7f7f\">:</span><a href=\"file:///Users/agus/github_repos/argilla-io/distilabel/src/distilabel/pipeline.py#576\" target=\"_blank\"><span style=\"color: #7f7f7f; text-decoration-color: #7f7f7f\">576</span></a>\n",
       "</pre>\n"
      ],
      "text/plain": [
       "\u001b[2;36m        \u001b[0m\u001b[2;36m \u001b[0m\u001b[34mINFO    \u001b[0m \u001b[1m[\u001b[0mPID: \u001b[1;36m98023\u001b[0m\u001b[1m]\u001b[0m Calling generator for batch \u001b[1;36m4\u001b[0m\u001b[33m...\u001b[0m                                     \u001b]8;id=537577;file:///Users/agus/github_repos/argilla-io/distilabel/src/distilabel/pipeline.py\u001b\\\u001b[2mpipeline.py\u001b[0m\u001b]8;;\u001b\\\u001b[2m:\u001b[0m\u001b]8;id=651011;file:///Users/agus/github_repos/argilla-io/distilabel/src/distilabel/pipeline.py#576\u001b\\\u001b[2m576\u001b[0m\u001b]8;;\u001b\\\n"
      ]
     },
     "metadata": {},
     "output_type": "display_data"
    },
    {
     "data": {
      "text/html": [
       "<pre style=\"white-space:pre;overflow-x:auto;line-height:normal;font-family:Menlo,'DejaVu Sans Mono',consolas,'Courier New',monospace\"></pre>\n"
      ],
      "text/plain": []
     },
     "metadata": {},
     "output_type": "display_data"
    },
    {
     "data": {
      "text/html": [
       "<pre style=\"white-space:pre;overflow-x:auto;line-height:normal;font-family:Menlo,'DejaVu Sans Mono',consolas,'Courier New',monospace\">\n",
       "</pre>\n"
      ],
      "text/plain": [
       "\n"
      ]
     },
     "metadata": {},
     "output_type": "display_data"
    },
    {
     "data": {
      "application/vnd.jupyter.widget-view+json": {
       "model_id": "309b3bf815184daaafc13cdc857b64e5",
       "version_major": 2,
       "version_minor": 0
      },
      "text/plain": [
       "Flattening the indices:   0%|          | 0/30 [00:00<?, ? examples/s]"
      ]
     },
     "metadata": {},
     "output_type": "display_data"
    },
    {
     "data": {
      "application/vnd.jupyter.widget-view+json": {
       "model_id": "794d2ff896e84542ae109deca5ea1a45",
       "version_major": 2,
       "version_minor": 0
      },
      "text/plain": [
       "Saving the dataset (0/1 shards):   0%|          | 0/30 [00:00<?, ? examples/s]"
      ]
     },
     "metadata": {},
     "output_type": "display_data"
    },
    {
     "data": {
      "text/html": [
       "<pre style=\"white-space:pre;overflow-x:auto;line-height:normal;font-family:Menlo,'DejaVu Sans Mono',consolas,'Courier New',monospace\"><span style=\"color: #7fbfbf; text-decoration-color: #7fbfbf\">12:32:08 </span><span style=\"color: #000080; text-decoration-color: #000080\">INFO    </span> <span style=\"font-weight: bold\">[</span>PID: <span style=\"color: #008080; text-decoration-color: #008080; font-weight: bold\">98023</span><span style=\"font-weight: bold\">]</span> Checkpoint saved to disk:                                             <a href=\"file:///Users/agus/github_repos/argilla-io/distilabel/src/distilabel/dataset.py\" target=\"_blank\"><span style=\"color: #7f7f7f; text-decoration-color: #7f7f7f\">dataset.py</span></a><span style=\"color: #7f7f7f; text-decoration-color: #7f7f7f\">:</span><a href=\"file:///Users/agus/github_repos/argilla-io/distilabel/src/distilabel/dataset.py#408\" target=\"_blank\"><span style=\"color: #7f7f7f; text-decoration-color: #7f7f7f\">408</span></a>\n",
       "<span style=\"color: #7fbfbf; text-decoration-color: #7fbfbf\">         </span>         <span style=\"color: #800080; text-decoration-color: #800080\">/Users/agus/github_repos/argilla-io/distilabel/ENV/</span><span style=\"color: #ff00ff; text-decoration-color: #ff00ff\">ckpt.</span>                           <span style=\"color: #7f7f7f; text-decoration-color: #7f7f7f\">              </span>\n",
       "</pre>\n"
      ],
      "text/plain": [
       "\u001b[2;36m12:32:08\u001b[0m\u001b[2;36m \u001b[0m\u001b[34mINFO    \u001b[0m \u001b[1m[\u001b[0mPID: \u001b[1;36m98023\u001b[0m\u001b[1m]\u001b[0m Checkpoint saved to disk:                                             \u001b]8;id=676730;file:///Users/agus/github_repos/argilla-io/distilabel/src/distilabel/dataset.py\u001b\\\u001b[2mdataset.py\u001b[0m\u001b]8;;\u001b\\\u001b[2m:\u001b[0m\u001b]8;id=749684;file:///Users/agus/github_repos/argilla-io/distilabel/src/distilabel/dataset.py#408\u001b\\\u001b[2m408\u001b[0m\u001b]8;;\u001b\\\n",
       "\u001b[2;36m         \u001b[0m         \u001b[35m/Users/agus/github_repos/argilla-io/distilabel/ENV/\u001b[0m\u001b[95mckpt.\u001b[0m                           \u001b[2m              \u001b[0m\n"
      ]
     },
     "metadata": {},
     "output_type": "display_data"
    },
    {
     "data": {
      "text/html": [
       "<pre style=\"white-space:pre;overflow-x:auto;line-height:normal;font-family:Menlo,'DejaVu Sans Mono',consolas,'Courier New',monospace\"><span style=\"color: #7fbfbf; text-decoration-color: #7fbfbf\">         </span><span style=\"color: #000080; text-decoration-color: #000080\">INFO    </span> <span style=\"font-weight: bold\">[</span>PID: <span style=\"color: #008080; text-decoration-color: #008080; font-weight: bold\">98023</span><span style=\"font-weight: bold\">]</span> Final dataset saved at                                               <a href=\"file:///Users/agus/github_repos/argilla-io/distilabel/src/distilabel/pipeline.py\" target=\"_blank\"><span style=\"color: #7f7f7f; text-decoration-color: #7f7f7f\">pipeline.py</span></a><span style=\"color: #7f7f7f; text-decoration-color: #7f7f7f\">:</span><a href=\"file:///Users/agus/github_repos/argilla-io/distilabel/src/distilabel/pipeline.py#653\" target=\"_blank\"><span style=\"color: #7f7f7f; text-decoration-color: #7f7f7f\">653</span></a>\n",
       "<span style=\"color: #7fbfbf; text-decoration-color: #7fbfbf\">         </span>         <span style=\"color: #800080; text-decoration-color: #800080\">/Users/agus/github_repos/argilla-io/distilabel/ENV/</span><span style=\"color: #ff00ff; text-decoration-color: #ff00ff\">ckpt</span>                           <span style=\"color: #7f7f7f; text-decoration-color: #7f7f7f\">               </span>\n",
       "</pre>\n"
      ],
      "text/plain": [
       "\u001b[2;36m        \u001b[0m\u001b[2;36m \u001b[0m\u001b[34mINFO    \u001b[0m \u001b[1m[\u001b[0mPID: \u001b[1;36m98023\u001b[0m\u001b[1m]\u001b[0m Final dataset saved at                                               \u001b]8;id=312685;file:///Users/agus/github_repos/argilla-io/distilabel/src/distilabel/pipeline.py\u001b\\\u001b[2mpipeline.py\u001b[0m\u001b]8;;\u001b\\\u001b[2m:\u001b[0m\u001b]8;id=888832;file:///Users/agus/github_repos/argilla-io/distilabel/src/distilabel/pipeline.py#653\u001b\\\u001b[2m653\u001b[0m\u001b]8;;\u001b\\\n",
       "\u001b[2;36m         \u001b[0m         \u001b[35m/Users/agus/github_repos/argilla-io/distilabel/ENV/\u001b[0m\u001b[95mckpt\u001b[0m                           \u001b[2m               \u001b[0m\n"
      ]
     },
     "metadata": {},
     "output_type": "display_data"
    },
    {
     "data": {
      "text/html": [
       "<pre style=\"white-space:pre;overflow-x:auto;line-height:normal;font-family:Menlo,'DejaVu Sans Mono',consolas,'Courier New',monospace\">\n",
       "</pre>\n"
      ],
      "text/plain": [
       "\n"
      ]
     },
     "metadata": {},
     "output_type": "display_data"
    }
   ],
   "source": [
    "oss_instruct_ds = pipe_generation.generate(\n",
    "    dataset=distilabel_subset,\n",
    "    num_generations=1,\n",
    "    batch_size=8,\n",
    "#    checkpoint_strategy=dataset_checkpoint_sft,\n",
    ")"
   ]
  },
  {
   "cell_type": "code",
   "execution_count": 103,
   "id": "336484a0-349e-4184-9b06-612592f8c4d3",
   "metadata": {},
   "outputs": [
    {
     "data": {
      "text/html": [
       "<div>\n",
       "<style scoped>\n",
       "    .dataframe tbody tr th:only-of-type {\n",
       "        vertical-align: middle;\n",
       "    }\n",
       "\n",
       "    .dataframe tbody tr th {\n",
       "        vertical-align: top;\n",
       "    }\n",
       "\n",
       "    .dataframe thead th {\n",
       "        text-align: right;\n",
       "    }\n",
       "</style>\n",
       "<table border=\"1\" class=\"dataframe\">\n",
       "  <thead>\n",
       "    <tr style=\"text-align: right;\">\n",
       "      <th></th>\n",
       "      <th>input</th>\n",
       "      <th>generation_model</th>\n",
       "      <th>generation_prompt</th>\n",
       "      <th>raw_generation_responses</th>\n",
       "      <th>problem</th>\n",
       "      <th>solution</th>\n",
       "      <th>generations</th>\n",
       "    </tr>\n",
       "  </thead>\n",
       "  <tbody>\n",
       "    <tr>\n",
       "      <th>0</th>\n",
       "      <td>def preprocess(data, lang):\\n    data[\"arg_neg...</td>\n",
       "      <td>[gpt-3.5-turbo]</td>\n",
       "      <td>[[{'content': 'You are exceptionally skilled a...</td>\n",
       "      <td>[[Problem Description]\\nYou are given a code s...</td>\n",
       "      <td>[You are given a code snippet that defines a f...</td>\n",
       "      <td>[```python\\ndef preprocess(data, lang):\\n    \"...</td>\n",
       "      <td>None</td>\n",
       "    </tr>\n",
       "    <tr>\n",
       "      <th>1</th>\n",
       "      <td>bash start-datafari.sh\\n</td>\n",
       "      <td>[gpt-3.5-turbo]</td>\n",
       "      <td>[[{'content': 'You are exceptionally skilled a...</td>\n",
       "      <td>[[Problem Description]\\n\\nYou need to write a ...</td>\n",
       "      <td>[You need to write a Bash script that starts t...</td>\n",
       "      <td>[```bash\\n#!/bin/bash\\n\\n# Check if the Datafa...</td>\n",
       "      <td>None</td>\n",
       "    </tr>\n",
       "    <tr>\n",
       "      <th>2</th>\n",
       "      <td>sa.Column('is_deleted', sa.Boolean(), null...</td>\n",
       "      <td>[gpt-3.5-turbo]</td>\n",
       "      <td>[[{'content': 'You are exceptionally skilled a...</td>\n",
       "      <td>[[Problem Description]\\nYou have been given a ...</td>\n",
       "      <td>[You have been given a snippet of code that de...</td>\n",
       "      <td>[```\\ndef analyze_table_structure(code_snippet...</td>\n",
       "      <td>None</td>\n",
       "    </tr>\n",
       "    <tr>\n",
       "      <th>3</th>\n",
       "      <td>import com.google.common.collect.Lists;\\nimpor...</td>\n",
       "      <td>[gpt-3.5-turbo]</td>\n",
       "      <td>[[{'content': 'You are exceptionally skilled a...</td>\n",
       "      <td>[[Problem Description]\\n\\nYou are working on a...</td>\n",
       "      <td>[You are working on a project that involves in...</td>\n",
       "      <td>[```java\\nimport com.google.common.collect.Lis...</td>\n",
       "      <td>None</td>\n",
       "    </tr>\n",
       "    <tr>\n",
       "      <th>4</th>\n",
       "      <td>//\\n// This is an auto-generated file.\\n//\\n\\n...</td>\n",
       "      <td>[gpt-3.5-turbo]</td>\n",
       "      <td>[[{'content': 'You are exceptionally skilled a...</td>\n",
       "      <td>[[Problem Description]\\nYou are given a code s...</td>\n",
       "      <td>[You are given a code snippet that defines a s...</td>\n",
       "      <td>[A straightforward solution to this problem is...</td>\n",
       "      <td>None</td>\n",
       "    </tr>\n",
       "  </tbody>\n",
       "</table>\n",
       "</div>"
      ],
      "text/plain": [
       "                                               input generation_model  \\\n",
       "0  def preprocess(data, lang):\\n    data[\"arg_neg...  [gpt-3.5-turbo]   \n",
       "1                           bash start-datafari.sh\\n  [gpt-3.5-turbo]   \n",
       "2      sa.Column('is_deleted', sa.Boolean(), null...  [gpt-3.5-turbo]   \n",
       "3  import com.google.common.collect.Lists;\\nimpor...  [gpt-3.5-turbo]   \n",
       "4  //\\n// This is an auto-generated file.\\n//\\n\\n...  [gpt-3.5-turbo]   \n",
       "\n",
       "                                   generation_prompt  \\\n",
       "0  [[{'content': 'You are exceptionally skilled a...   \n",
       "1  [[{'content': 'You are exceptionally skilled a...   \n",
       "2  [[{'content': 'You are exceptionally skilled a...   \n",
       "3  [[{'content': 'You are exceptionally skilled a...   \n",
       "4  [[{'content': 'You are exceptionally skilled a...   \n",
       "\n",
       "                            raw_generation_responses  \\\n",
       "0  [[Problem Description]\\nYou are given a code s...   \n",
       "1  [[Problem Description]\\n\\nYou need to write a ...   \n",
       "2  [[Problem Description]\\nYou have been given a ...   \n",
       "3  [[Problem Description]\\n\\nYou are working on a...   \n",
       "4  [[Problem Description]\\nYou are given a code s...   \n",
       "\n",
       "                                             problem  \\\n",
       "0  [You are given a code snippet that defines a f...   \n",
       "1  [You need to write a Bash script that starts t...   \n",
       "2  [You have been given a snippet of code that de...   \n",
       "3  [You are working on a project that involves in...   \n",
       "4  [You are given a code snippet that defines a s...   \n",
       "\n",
       "                                            solution generations  \n",
       "0  [```python\\ndef preprocess(data, lang):\\n    \"...        None  \n",
       "1  [```bash\\n#!/bin/bash\\n\\n# Check if the Datafa...        None  \n",
       "2  [```\\ndef analyze_table_structure(code_snippet...        None  \n",
       "3  [```java\\nimport com.google.common.collect.Lis...        None  \n",
       "4  [A straightforward solution to this problem is...        None  "
      ]
     },
     "execution_count": 103,
     "metadata": {},
     "output_type": "execute_result"
    }
   ],
   "source": [
    "oss_instruct_ds.to_pandas().head()"
   ]
  },
  {
   "cell_type": "code",
   "execution_count": 76,
   "id": "eef6d63e-c9f2-41eb-a950-57c488fd36bb",
   "metadata": {},
   "outputs": [
    {
     "data": {
      "text/html": [
       "<pre style=\"white-space:pre;overflow-x:auto;line-height:normal;font-family:Menlo,'DejaVu Sans Mono',consolas,'Courier New',monospace\"><span style=\"color: #7fbfbf; text-decoration-color: #7fbfbf\">12:42:56 </span><span style=\"color: #000080; text-decoration-color: #000080\">INFO    </span> <span style=\"font-weight: bold\">[</span>PID: <span style=\"color: #008080; text-decoration-color: #008080; font-weight: bold\">98023</span><span style=\"font-weight: bold\">]</span> Executing dry-run<span style=\"color: #808000; text-decoration-color: #808000\">...</span>                                                 <a href=\"file:///Users/agus/github_repos/argilla-io/distilabel/src/distilabel/pipeline.py\" target=\"_blank\"><span style=\"color: #7f7f7f; text-decoration-color: #7f7f7f\">pipeline.py</span></a><span style=\"color: #7f7f7f; text-decoration-color: #7f7f7f\">:</span><a href=\"file:///Users/agus/github_repos/argilla-io/distilabel/src/distilabel/pipeline.py#742\" target=\"_blank\"><span style=\"color: #7f7f7f; text-decoration-color: #7f7f7f\">742</span></a>\n",
       "</pre>\n"
      ],
      "text/plain": [
       "\u001b[2;36m12:42:56\u001b[0m\u001b[2;36m \u001b[0m\u001b[34mINFO    \u001b[0m \u001b[1m[\u001b[0mPID: \u001b[1;36m98023\u001b[0m\u001b[1m]\u001b[0m Executing dry-run\u001b[33m...\u001b[0m                                                 \u001b]8;id=513055;file:///Users/agus/github_repos/argilla-io/distilabel/src/distilabel/pipeline.py\u001b\\\u001b[2mpipeline.py\u001b[0m\u001b]8;;\u001b\\\u001b[2m:\u001b[0m\u001b]8;id=469280;file:///Users/agus/github_repos/argilla-io/distilabel/src/distilabel/pipeline.py#742\u001b\\\u001b[2m742\u001b[0m\u001b]8;;\u001b\\\n"
      ]
     },
     "metadata": {},
     "output_type": "display_data"
    },
    {
     "data": {
      "text/html": [
       "<pre style=\"white-space:pre;overflow-x:auto;line-height:normal;font-family:Menlo,'DejaVu Sans Mono',consolas,'Courier New',monospace\"><span style=\"color: #7fbfbf; text-decoration-color: #7fbfbf\">         </span><span style=\"color: #000080; text-decoration-color: #000080\">INFO    </span> <span style=\"font-weight: bold\">[</span>PID: <span style=\"color: #008080; text-decoration-color: #008080; font-weight: bold\">98023</span><span style=\"font-weight: bold\">]</span> Processing batch <span style=\"color: #008080; text-decoration-color: #008080; font-weight: bold\">1</span> of <span style=\"color: #008080; text-decoration-color: #008080; font-weight: bold\">1</span><span style=\"color: #808000; text-decoration-color: #808000\">...</span>                                           <a href=\"file:///Users/agus/github_repos/argilla-io/distilabel/src/distilabel/pipeline.py\" target=\"_blank\"><span style=\"color: #7f7f7f; text-decoration-color: #7f7f7f\">pipeline.py</span></a><span style=\"color: #7f7f7f; text-decoration-color: #7f7f7f\">:</span><a href=\"file:///Users/agus/github_repos/argilla-io/distilabel/src/distilabel/pipeline.py#572\" target=\"_blank\"><span style=\"color: #7f7f7f; text-decoration-color: #7f7f7f\">572</span></a>\n",
       "</pre>\n"
      ],
      "text/plain": [
       "\u001b[2;36m        \u001b[0m\u001b[2;36m \u001b[0m\u001b[34mINFO    \u001b[0m \u001b[1m[\u001b[0mPID: \u001b[1;36m98023\u001b[0m\u001b[1m]\u001b[0m Processing batch \u001b[1;36m1\u001b[0m of \u001b[1;36m1\u001b[0m\u001b[33m...\u001b[0m                                           \u001b]8;id=449716;file:///Users/agus/github_repos/argilla-io/distilabel/src/distilabel/pipeline.py\u001b\\\u001b[2mpipeline.py\u001b[0m\u001b]8;;\u001b\\\u001b[2m:\u001b[0m\u001b]8;id=498176;file:///Users/agus/github_repos/argilla-io/distilabel/src/distilabel/pipeline.py#572\u001b\\\u001b[2m572\u001b[0m\u001b]8;;\u001b\\\n"
      ]
     },
     "metadata": {},
     "output_type": "display_data"
    },
    {
     "data": {
      "text/html": [
       "<pre style=\"white-space:pre;overflow-x:auto;line-height:normal;font-family:Menlo,'DejaVu Sans Mono',consolas,'Courier New',monospace\"><span style=\"color: #7fbfbf; text-decoration-color: #7fbfbf\">         </span><span style=\"color: #000080; text-decoration-color: #000080\">INFO    </span> <span style=\"font-weight: bold\">[</span>PID: <span style=\"color: #008080; text-decoration-color: #008080; font-weight: bold\">98023</span><span style=\"font-weight: bold\">]</span> Calling generator for batch <span style=\"color: #008080; text-decoration-color: #008080; font-weight: bold\">1</span><span style=\"color: #808000; text-decoration-color: #808000\">...</span>                                     <a href=\"file:///Users/agus/github_repos/argilla-io/distilabel/src/distilabel/pipeline.py\" target=\"_blank\"><span style=\"color: #7f7f7f; text-decoration-color: #7f7f7f\">pipeline.py</span></a><span style=\"color: #7f7f7f; text-decoration-color: #7f7f7f\">:</span><a href=\"file:///Users/agus/github_repos/argilla-io/distilabel/src/distilabel/pipeline.py#576\" target=\"_blank\"><span style=\"color: #7f7f7f; text-decoration-color: #7f7f7f\">576</span></a>\n",
       "</pre>\n"
      ],
      "text/plain": [
       "\u001b[2;36m        \u001b[0m\u001b[2;36m \u001b[0m\u001b[34mINFO    \u001b[0m \u001b[1m[\u001b[0mPID: \u001b[1;36m98023\u001b[0m\u001b[1m]\u001b[0m Calling generator for batch \u001b[1;36m1\u001b[0m\u001b[33m...\u001b[0m                                     \u001b]8;id=415073;file:///Users/agus/github_repos/argilla-io/distilabel/src/distilabel/pipeline.py\u001b\\\u001b[2mpipeline.py\u001b[0m\u001b]8;;\u001b\\\u001b[2m:\u001b[0m\u001b]8;id=87360;file:///Users/agus/github_repos/argilla-io/distilabel/src/distilabel/pipeline.py#576\u001b\\\u001b[2m576\u001b[0m\u001b]8;;\u001b\\\n"
      ]
     },
     "metadata": {},
     "output_type": "display_data"
    },
    {
     "data": {
      "text/html": [
       "<pre style=\"white-space:pre;overflow-x:auto;line-height:normal;font-family:Menlo,'DejaVu Sans Mono',consolas,'Courier New',monospace\">\n",
       "</pre>\n"
      ],
      "text/plain": [
       "\n"
      ]
     },
     "metadata": {},
     "output_type": "display_data"
    },
    {
     "data": {
      "application/vnd.jupyter.widget-view+json": {
       "model_id": "b800fe070e9a4d2c8f96d8a95b41c4be",
       "version_major": 2,
       "version_minor": 0
      },
      "text/plain": [
       "Flattening the indices:   0%|          | 0/1 [00:00<?, ? examples/s]"
      ]
     },
     "metadata": {},
     "output_type": "display_data"
    },
    {
     "data": {
      "text/html": [
       "<pre style=\"white-space:pre;overflow-x:auto;line-height:normal;font-family:Menlo,'DejaVu Sans Mono',consolas,'Courier New',monospace\"><span style=\"color: #7fbfbf; text-decoration-color: #7fbfbf\">12:43:05 </span><span style=\"color: #000080; text-decoration-color: #000080\">INFO    </span> <span style=\"font-weight: bold\">[</span>PID: <span style=\"color: #008080; text-decoration-color: #008080; font-weight: bold\">98023</span><span style=\"font-weight: bold\">]</span> Dry-run executed with no issues. Starting the actual generation<span style=\"color: #808000; text-decoration-color: #808000\">...</span>   <a href=\"file:///Users/agus/github_repos/argilla-io/distilabel/src/distilabel/pipeline.py\" target=\"_blank\"><span style=\"color: #7f7f7f; text-decoration-color: #7f7f7f\">pipeline.py</span></a><span style=\"color: #7f7f7f; text-decoration-color: #7f7f7f\">:</span><a href=\"file:///Users/agus/github_repos/argilla-io/distilabel/src/distilabel/pipeline.py#744\" target=\"_blank\"><span style=\"color: #7f7f7f; text-decoration-color: #7f7f7f\">744</span></a>\n",
       "</pre>\n"
      ],
      "text/plain": [
       "\u001b[2;36m12:43:05\u001b[0m\u001b[2;36m \u001b[0m\u001b[34mINFO    \u001b[0m \u001b[1m[\u001b[0mPID: \u001b[1;36m98023\u001b[0m\u001b[1m]\u001b[0m Dry-run executed with no issues. Starting the actual generation\u001b[33m...\u001b[0m   \u001b]8;id=875952;file:///Users/agus/github_repos/argilla-io/distilabel/src/distilabel/pipeline.py\u001b\\\u001b[2mpipeline.py\u001b[0m\u001b]8;;\u001b\\\u001b[2m:\u001b[0m\u001b]8;id=309698;file:///Users/agus/github_repos/argilla-io/distilabel/src/distilabel/pipeline.py#744\u001b\\\u001b[2m744\u001b[0m\u001b]8;;\u001b\\\n"
      ]
     },
     "metadata": {},
     "output_type": "display_data"
    },
    {
     "data": {
      "text/html": [
       "<pre style=\"white-space:pre;overflow-x:auto;line-height:normal;font-family:Menlo,'DejaVu Sans Mono',consolas,'Courier New',monospace\"><span style=\"color: #7fbfbf; text-decoration-color: #7fbfbf\">         </span><span style=\"color: #000080; text-decoration-color: #000080\">INFO    </span> <span style=\"font-weight: bold\">[</span>PID: <span style=\"color: #008080; text-decoration-color: #008080; font-weight: bold\">98023</span><span style=\"font-weight: bold\">]</span> Processing batch <span style=\"color: #008080; text-decoration-color: #008080; font-weight: bold\">1</span> of <span style=\"color: #008080; text-decoration-color: #008080; font-weight: bold\">4</span><span style=\"color: #808000; text-decoration-color: #808000\">...</span>                                           <a href=\"file:///Users/agus/github_repos/argilla-io/distilabel/src/distilabel/pipeline.py\" target=\"_blank\"><span style=\"color: #7f7f7f; text-decoration-color: #7f7f7f\">pipeline.py</span></a><span style=\"color: #7f7f7f; text-decoration-color: #7f7f7f\">:</span><a href=\"file:///Users/agus/github_repos/argilla-io/distilabel/src/distilabel/pipeline.py#572\" target=\"_blank\"><span style=\"color: #7f7f7f; text-decoration-color: #7f7f7f\">572</span></a>\n",
       "</pre>\n"
      ],
      "text/plain": [
       "\u001b[2;36m        \u001b[0m\u001b[2;36m \u001b[0m\u001b[34mINFO    \u001b[0m \u001b[1m[\u001b[0mPID: \u001b[1;36m98023\u001b[0m\u001b[1m]\u001b[0m Processing batch \u001b[1;36m1\u001b[0m of \u001b[1;36m4\u001b[0m\u001b[33m...\u001b[0m                                           \u001b]8;id=790682;file:///Users/agus/github_repos/argilla-io/distilabel/src/distilabel/pipeline.py\u001b\\\u001b[2mpipeline.py\u001b[0m\u001b]8;;\u001b\\\u001b[2m:\u001b[0m\u001b]8;id=366874;file:///Users/agus/github_repos/argilla-io/distilabel/src/distilabel/pipeline.py#572\u001b\\\u001b[2m572\u001b[0m\u001b]8;;\u001b\\\n"
      ]
     },
     "metadata": {},
     "output_type": "display_data"
    },
    {
     "data": {
      "text/html": [
       "<pre style=\"white-space:pre;overflow-x:auto;line-height:normal;font-family:Menlo,'DejaVu Sans Mono',consolas,'Courier New',monospace\"><span style=\"color: #7fbfbf; text-decoration-color: #7fbfbf\">         </span><span style=\"color: #000080; text-decoration-color: #000080\">INFO    </span> <span style=\"font-weight: bold\">[</span>PID: <span style=\"color: #008080; text-decoration-color: #008080; font-weight: bold\">98023</span><span style=\"font-weight: bold\">]</span> Calling generator for batch <span style=\"color: #008080; text-decoration-color: #008080; font-weight: bold\">1</span><span style=\"color: #808000; text-decoration-color: #808000\">...</span>                                     <a href=\"file:///Users/agus/github_repos/argilla-io/distilabel/src/distilabel/pipeline.py\" target=\"_blank\"><span style=\"color: #7f7f7f; text-decoration-color: #7f7f7f\">pipeline.py</span></a><span style=\"color: #7f7f7f; text-decoration-color: #7f7f7f\">:</span><a href=\"file:///Users/agus/github_repos/argilla-io/distilabel/src/distilabel/pipeline.py#576\" target=\"_blank\"><span style=\"color: #7f7f7f; text-decoration-color: #7f7f7f\">576</span></a>\n",
       "</pre>\n"
      ],
      "text/plain": [
       "\u001b[2;36m        \u001b[0m\u001b[2;36m \u001b[0m\u001b[34mINFO    \u001b[0m \u001b[1m[\u001b[0mPID: \u001b[1;36m98023\u001b[0m\u001b[1m]\u001b[0m Calling generator for batch \u001b[1;36m1\u001b[0m\u001b[33m...\u001b[0m                                     \u001b]8;id=388726;file:///Users/agus/github_repos/argilla-io/distilabel/src/distilabel/pipeline.py\u001b\\\u001b[2mpipeline.py\u001b[0m\u001b]8;;\u001b\\\u001b[2m:\u001b[0m\u001b]8;id=177909;file:///Users/agus/github_repos/argilla-io/distilabel/src/distilabel/pipeline.py#576\u001b\\\u001b[2m576\u001b[0m\u001b]8;;\u001b\\\n"
      ]
     },
     "metadata": {},
     "output_type": "display_data"
    },
    {
     "data": {
      "text/html": [
       "<pre style=\"white-space:pre;overflow-x:auto;line-height:normal;font-family:Menlo,'DejaVu Sans Mono',consolas,'Courier New',monospace\"><span style=\"color: #7fbfbf; text-decoration-color: #7fbfbf\">12:43:22 </span><span style=\"color: #000080; text-decoration-color: #000080\">INFO    </span> <span style=\"font-weight: bold\">[</span>PID: <span style=\"color: #008080; text-decoration-color: #008080; font-weight: bold\">98023</span><span style=\"font-weight: bold\">]</span> Processing batch <span style=\"color: #008080; text-decoration-color: #008080; font-weight: bold\">2</span> of <span style=\"color: #008080; text-decoration-color: #008080; font-weight: bold\">4</span><span style=\"color: #808000; text-decoration-color: #808000\">...</span>                                           <a href=\"file:///Users/agus/github_repos/argilla-io/distilabel/src/distilabel/pipeline.py\" target=\"_blank\"><span style=\"color: #7f7f7f; text-decoration-color: #7f7f7f\">pipeline.py</span></a><span style=\"color: #7f7f7f; text-decoration-color: #7f7f7f\">:</span><a href=\"file:///Users/agus/github_repos/argilla-io/distilabel/src/distilabel/pipeline.py#572\" target=\"_blank\"><span style=\"color: #7f7f7f; text-decoration-color: #7f7f7f\">572</span></a>\n",
       "</pre>\n"
      ],
      "text/plain": [
       "\u001b[2;36m12:43:22\u001b[0m\u001b[2;36m \u001b[0m\u001b[34mINFO    \u001b[0m \u001b[1m[\u001b[0mPID: \u001b[1;36m98023\u001b[0m\u001b[1m]\u001b[0m Processing batch \u001b[1;36m2\u001b[0m of \u001b[1;36m4\u001b[0m\u001b[33m...\u001b[0m                                           \u001b]8;id=204274;file:///Users/agus/github_repos/argilla-io/distilabel/src/distilabel/pipeline.py\u001b\\\u001b[2mpipeline.py\u001b[0m\u001b]8;;\u001b\\\u001b[2m:\u001b[0m\u001b]8;id=613717;file:///Users/agus/github_repos/argilla-io/distilabel/src/distilabel/pipeline.py#572\u001b\\\u001b[2m572\u001b[0m\u001b]8;;\u001b\\\n"
      ]
     },
     "metadata": {},
     "output_type": "display_data"
    },
    {
     "data": {
      "text/html": [
       "<pre style=\"white-space:pre;overflow-x:auto;line-height:normal;font-family:Menlo,'DejaVu Sans Mono',consolas,'Courier New',monospace\"><span style=\"color: #7fbfbf; text-decoration-color: #7fbfbf\">         </span><span style=\"color: #000080; text-decoration-color: #000080\">INFO    </span> <span style=\"font-weight: bold\">[</span>PID: <span style=\"color: #008080; text-decoration-color: #008080; font-weight: bold\">98023</span><span style=\"font-weight: bold\">]</span> Calling generator for batch <span style=\"color: #008080; text-decoration-color: #008080; font-weight: bold\">2</span><span style=\"color: #808000; text-decoration-color: #808000\">...</span>                                     <a href=\"file:///Users/agus/github_repos/argilla-io/distilabel/src/distilabel/pipeline.py\" target=\"_blank\"><span style=\"color: #7f7f7f; text-decoration-color: #7f7f7f\">pipeline.py</span></a><span style=\"color: #7f7f7f; text-decoration-color: #7f7f7f\">:</span><a href=\"file:///Users/agus/github_repos/argilla-io/distilabel/src/distilabel/pipeline.py#576\" target=\"_blank\"><span style=\"color: #7f7f7f; text-decoration-color: #7f7f7f\">576</span></a>\n",
       "</pre>\n"
      ],
      "text/plain": [
       "\u001b[2;36m        \u001b[0m\u001b[2;36m \u001b[0m\u001b[34mINFO    \u001b[0m \u001b[1m[\u001b[0mPID: \u001b[1;36m98023\u001b[0m\u001b[1m]\u001b[0m Calling generator for batch \u001b[1;36m2\u001b[0m\u001b[33m...\u001b[0m                                     \u001b]8;id=424628;file:///Users/agus/github_repos/argilla-io/distilabel/src/distilabel/pipeline.py\u001b\\\u001b[2mpipeline.py\u001b[0m\u001b]8;;\u001b\\\u001b[2m:\u001b[0m\u001b]8;id=247136;file:///Users/agus/github_repos/argilla-io/distilabel/src/distilabel/pipeline.py#576\u001b\\\u001b[2m576\u001b[0m\u001b]8;;\u001b\\\n"
      ]
     },
     "metadata": {},
     "output_type": "display_data"
    },
    {
     "data": {
      "text/html": [
       "<pre style=\"white-space:pre;overflow-x:auto;line-height:normal;font-family:Menlo,'DejaVu Sans Mono',consolas,'Courier New',monospace\"><span style=\"color: #7fbfbf; text-decoration-color: #7fbfbf\">12:43:39 </span><span style=\"color: #000080; text-decoration-color: #000080\">INFO    </span> <span style=\"font-weight: bold\">[</span>PID: <span style=\"color: #008080; text-decoration-color: #008080; font-weight: bold\">98023</span><span style=\"font-weight: bold\">]</span> Processing batch <span style=\"color: #008080; text-decoration-color: #008080; font-weight: bold\">3</span> of <span style=\"color: #008080; text-decoration-color: #008080; font-weight: bold\">4</span><span style=\"color: #808000; text-decoration-color: #808000\">...</span>                                           <a href=\"file:///Users/agus/github_repos/argilla-io/distilabel/src/distilabel/pipeline.py\" target=\"_blank\"><span style=\"color: #7f7f7f; text-decoration-color: #7f7f7f\">pipeline.py</span></a><span style=\"color: #7f7f7f; text-decoration-color: #7f7f7f\">:</span><a href=\"file:///Users/agus/github_repos/argilla-io/distilabel/src/distilabel/pipeline.py#572\" target=\"_blank\"><span style=\"color: #7f7f7f; text-decoration-color: #7f7f7f\">572</span></a>\n",
       "</pre>\n"
      ],
      "text/plain": [
       "\u001b[2;36m12:43:39\u001b[0m\u001b[2;36m \u001b[0m\u001b[34mINFO    \u001b[0m \u001b[1m[\u001b[0mPID: \u001b[1;36m98023\u001b[0m\u001b[1m]\u001b[0m Processing batch \u001b[1;36m3\u001b[0m of \u001b[1;36m4\u001b[0m\u001b[33m...\u001b[0m                                           \u001b]8;id=894550;file:///Users/agus/github_repos/argilla-io/distilabel/src/distilabel/pipeline.py\u001b\\\u001b[2mpipeline.py\u001b[0m\u001b]8;;\u001b\\\u001b[2m:\u001b[0m\u001b]8;id=338005;file:///Users/agus/github_repos/argilla-io/distilabel/src/distilabel/pipeline.py#572\u001b\\\u001b[2m572\u001b[0m\u001b]8;;\u001b\\\n"
      ]
     },
     "metadata": {},
     "output_type": "display_data"
    },
    {
     "data": {
      "text/html": [
       "<pre style=\"white-space:pre;overflow-x:auto;line-height:normal;font-family:Menlo,'DejaVu Sans Mono',consolas,'Courier New',monospace\"><span style=\"color: #7fbfbf; text-decoration-color: #7fbfbf\">         </span><span style=\"color: #000080; text-decoration-color: #000080\">INFO    </span> <span style=\"font-weight: bold\">[</span>PID: <span style=\"color: #008080; text-decoration-color: #008080; font-weight: bold\">98023</span><span style=\"font-weight: bold\">]</span> Calling generator for batch <span style=\"color: #008080; text-decoration-color: #008080; font-weight: bold\">3</span><span style=\"color: #808000; text-decoration-color: #808000\">...</span>                                     <a href=\"file:///Users/agus/github_repos/argilla-io/distilabel/src/distilabel/pipeline.py\" target=\"_blank\"><span style=\"color: #7f7f7f; text-decoration-color: #7f7f7f\">pipeline.py</span></a><span style=\"color: #7f7f7f; text-decoration-color: #7f7f7f\">:</span><a href=\"file:///Users/agus/github_repos/argilla-io/distilabel/src/distilabel/pipeline.py#576\" target=\"_blank\"><span style=\"color: #7f7f7f; text-decoration-color: #7f7f7f\">576</span></a>\n",
       "</pre>\n"
      ],
      "text/plain": [
       "\u001b[2;36m        \u001b[0m\u001b[2;36m \u001b[0m\u001b[34mINFO    \u001b[0m \u001b[1m[\u001b[0mPID: \u001b[1;36m98023\u001b[0m\u001b[1m]\u001b[0m Calling generator for batch \u001b[1;36m3\u001b[0m\u001b[33m...\u001b[0m                                     \u001b]8;id=58186;file:///Users/agus/github_repos/argilla-io/distilabel/src/distilabel/pipeline.py\u001b\\\u001b[2mpipeline.py\u001b[0m\u001b]8;;\u001b\\\u001b[2m:\u001b[0m\u001b]8;id=483412;file:///Users/agus/github_repos/argilla-io/distilabel/src/distilabel/pipeline.py#576\u001b\\\u001b[2m576\u001b[0m\u001b]8;;\u001b\\\n"
      ]
     },
     "metadata": {},
     "output_type": "display_data"
    },
    {
     "data": {
      "text/html": [
       "<pre style=\"white-space:pre;overflow-x:auto;line-height:normal;font-family:Menlo,'DejaVu Sans Mono',consolas,'Courier New',monospace\"><span style=\"color: #7fbfbf; text-decoration-color: #7fbfbf\">12:43:59 </span><span style=\"color: #000080; text-decoration-color: #000080\">INFO    </span> <span style=\"font-weight: bold\">[</span>PID: <span style=\"color: #008080; text-decoration-color: #008080; font-weight: bold\">98023</span><span style=\"font-weight: bold\">]</span> Processing batch <span style=\"color: #008080; text-decoration-color: #008080; font-weight: bold\">4</span> of <span style=\"color: #008080; text-decoration-color: #008080; font-weight: bold\">4</span><span style=\"color: #808000; text-decoration-color: #808000\">...</span>                                           <a href=\"file:///Users/agus/github_repos/argilla-io/distilabel/src/distilabel/pipeline.py\" target=\"_blank\"><span style=\"color: #7f7f7f; text-decoration-color: #7f7f7f\">pipeline.py</span></a><span style=\"color: #7f7f7f; text-decoration-color: #7f7f7f\">:</span><a href=\"file:///Users/agus/github_repos/argilla-io/distilabel/src/distilabel/pipeline.py#572\" target=\"_blank\"><span style=\"color: #7f7f7f; text-decoration-color: #7f7f7f\">572</span></a>\n",
       "</pre>\n"
      ],
      "text/plain": [
       "\u001b[2;36m12:43:59\u001b[0m\u001b[2;36m \u001b[0m\u001b[34mINFO    \u001b[0m \u001b[1m[\u001b[0mPID: \u001b[1;36m98023\u001b[0m\u001b[1m]\u001b[0m Processing batch \u001b[1;36m4\u001b[0m of \u001b[1;36m4\u001b[0m\u001b[33m...\u001b[0m                                           \u001b]8;id=822396;file:///Users/agus/github_repos/argilla-io/distilabel/src/distilabel/pipeline.py\u001b\\\u001b[2mpipeline.py\u001b[0m\u001b]8;;\u001b\\\u001b[2m:\u001b[0m\u001b]8;id=628401;file:///Users/agus/github_repos/argilla-io/distilabel/src/distilabel/pipeline.py#572\u001b\\\u001b[2m572\u001b[0m\u001b]8;;\u001b\\\n"
      ]
     },
     "metadata": {},
     "output_type": "display_data"
    },
    {
     "data": {
      "text/html": [
       "<pre style=\"white-space:pre;overflow-x:auto;line-height:normal;font-family:Menlo,'DejaVu Sans Mono',consolas,'Courier New',monospace\"></pre>\n"
      ],
      "text/plain": []
     },
     "metadata": {},
     "output_type": "display_data"
    },
    {
     "data": {
      "text/html": [
       "<pre style=\"white-space:pre;overflow-x:auto;line-height:normal;font-family:Menlo,'DejaVu Sans Mono',consolas,'Courier New',monospace\">\n",
       "</pre>\n"
      ],
      "text/plain": [
       "\n"
      ]
     },
     "metadata": {},
     "output_type": "display_data"
    },
    {
     "data": {
      "application/vnd.jupyter.widget-view+json": {
       "model_id": "0ca7e6f90ee143649597228f10ba00b4",
       "version_major": 2,
       "version_minor": 0
      },
      "text/plain": [
       "Saving the dataset (0/1 shards):   0%|          | 0/30 [00:00<?, ? examples/s]"
      ]
     },
     "metadata": {},
     "output_type": "display_data"
    },
    {
     "data": {
      "text/html": [
       "<pre style=\"white-space:pre;overflow-x:auto;line-height:normal;font-family:Menlo,'DejaVu Sans Mono',consolas,'Courier New',monospace\"><span style=\"color: #7fbfbf; text-decoration-color: #7fbfbf\">12:44:17 </span><span style=\"color: #000080; text-decoration-color: #000080\">INFO    </span> <span style=\"font-weight: bold\">[</span>PID: <span style=\"color: #008080; text-decoration-color: #008080; font-weight: bold\">98023</span><span style=\"font-weight: bold\">]</span> Checkpoint saved to disk:                                             <a href=\"file:///Users/agus/github_repos/argilla-io/distilabel/src/distilabel/dataset.py\" target=\"_blank\"><span style=\"color: #7f7f7f; text-decoration-color: #7f7f7f\">dataset.py</span></a><span style=\"color: #7f7f7f; text-decoration-color: #7f7f7f\">:</span><a href=\"file:///Users/agus/github_repos/argilla-io/distilabel/src/distilabel/dataset.py#408\" target=\"_blank\"><span style=\"color: #7f7f7f; text-decoration-color: #7f7f7f\">408</span></a>\n",
       "<span style=\"color: #7fbfbf; text-decoration-color: #7fbfbf\">         </span>         <span style=\"color: #800080; text-decoration-color: #800080\">/Users/agus/github_repos/argilla-io/distilabel/ENV/</span><span style=\"color: #ff00ff; text-decoration-color: #ff00ff\">ckpt.</span>                           <span style=\"color: #7f7f7f; text-decoration-color: #7f7f7f\">              </span>\n",
       "</pre>\n"
      ],
      "text/plain": [
       "\u001b[2;36m12:44:17\u001b[0m\u001b[2;36m \u001b[0m\u001b[34mINFO    \u001b[0m \u001b[1m[\u001b[0mPID: \u001b[1;36m98023\u001b[0m\u001b[1m]\u001b[0m Checkpoint saved to disk:                                             \u001b]8;id=160680;file:///Users/agus/github_repos/argilla-io/distilabel/src/distilabel/dataset.py\u001b\\\u001b[2mdataset.py\u001b[0m\u001b]8;;\u001b\\\u001b[2m:\u001b[0m\u001b]8;id=671300;file:///Users/agus/github_repos/argilla-io/distilabel/src/distilabel/dataset.py#408\u001b\\\u001b[2m408\u001b[0m\u001b]8;;\u001b\\\n",
       "\u001b[2;36m         \u001b[0m         \u001b[35m/Users/agus/github_repos/argilla-io/distilabel/ENV/\u001b[0m\u001b[95mckpt.\u001b[0m                           \u001b[2m              \u001b[0m\n"
      ]
     },
     "metadata": {},
     "output_type": "display_data"
    },
    {
     "data": {
      "text/html": [
       "<pre style=\"white-space:pre;overflow-x:auto;line-height:normal;font-family:Menlo,'DejaVu Sans Mono',consolas,'Courier New',monospace\"><span style=\"color: #7fbfbf; text-decoration-color: #7fbfbf\">         </span><span style=\"color: #000080; text-decoration-color: #000080\">INFO    </span> <span style=\"font-weight: bold\">[</span>PID: <span style=\"color: #008080; text-decoration-color: #008080; font-weight: bold\">98023</span><span style=\"font-weight: bold\">]</span> Final dataset saved at                                               <a href=\"file:///Users/agus/github_repos/argilla-io/distilabel/src/distilabel/pipeline.py\" target=\"_blank\"><span style=\"color: #7f7f7f; text-decoration-color: #7f7f7f\">pipeline.py</span></a><span style=\"color: #7f7f7f; text-decoration-color: #7f7f7f\">:</span><a href=\"file:///Users/agus/github_repos/argilla-io/distilabel/src/distilabel/pipeline.py#653\" target=\"_blank\"><span style=\"color: #7f7f7f; text-decoration-color: #7f7f7f\">653</span></a>\n",
       "<span style=\"color: #7fbfbf; text-decoration-color: #7fbfbf\">         </span>         <span style=\"color: #800080; text-decoration-color: #800080\">/Users/agus/github_repos/argilla-io/distilabel/ENV/</span><span style=\"color: #ff00ff; text-decoration-color: #ff00ff\">ckpt</span>                           <span style=\"color: #7f7f7f; text-decoration-color: #7f7f7f\">               </span>\n",
       "</pre>\n"
      ],
      "text/plain": [
       "\u001b[2;36m        \u001b[0m\u001b[2;36m \u001b[0m\u001b[34mINFO    \u001b[0m \u001b[1m[\u001b[0mPID: \u001b[1;36m98023\u001b[0m\u001b[1m]\u001b[0m Final dataset saved at                                               \u001b]8;id=482510;file:///Users/agus/github_repos/argilla-io/distilabel/src/distilabel/pipeline.py\u001b\\\u001b[2mpipeline.py\u001b[0m\u001b]8;;\u001b\\\u001b[2m:\u001b[0m\u001b]8;id=823985;file:///Users/agus/github_repos/argilla-io/distilabel/src/distilabel/pipeline.py#653\u001b\\\u001b[2m653\u001b[0m\u001b]8;;\u001b\\\n",
       "\u001b[2;36m         \u001b[0m         \u001b[35m/Users/agus/github_repos/argilla-io/distilabel/ENV/\u001b[0m\u001b[95mckpt\u001b[0m                           \u001b[2m               \u001b[0m\n"
      ]
     },
     "metadata": {},
     "output_type": "display_data"
    },
    {
     "data": {
      "text/html": [
       "<pre style=\"white-space:pre;overflow-x:auto;line-height:normal;font-family:Menlo,'DejaVu Sans Mono',consolas,'Courier New',monospace\">\n",
       "</pre>\n"
      ],
      "text/plain": [
       "\n"
      ]
     },
     "metadata": {},
     "output_type": "display_data"
    }
   ],
   "source": [
    "oss_instruct_og = pipe_generation_og.generate(\n",
    "    dataset=distilabel_subset,\n",
    "    num_generations=1,\n",
    "    batch_size=8,\n",
    "#    checkpoint_strategy=dataset_checkpoint_sft,\n",
    ")"
   ]
  },
  {
   "cell_type": "code",
   "execution_count": 81,
   "id": "1cab61d4-e096-4e72-9168-881dc734d8e0",
   "metadata": {},
   "outputs": [],
   "source": [
    "#rg_dataset_0 = oss_instruct_ds.to_argilla()\n",
    "#rg_dataset_og = oss_instruct_og.to_argilla()\n",
    "#rg_dataset.push_to_argilla(name=name, workspace=workspace)"
   ]
  },
  {
   "cell_type": "code",
   "execution_count": 78,
   "id": "b71e6c69-33a6-4ce6-97a6-9377c61d51e2",
   "metadata": {},
   "outputs": [],
   "source": [
    "from huggingface_hub import duplicate_space\n",
    "\n",
    "import uuid"
   ]
  },
  {
   "cell_type": "code",
   "execution_count": 82,
   "id": "425f140c-21fa-4fc2-bd5c-705bea0e8ac7",
   "metadata": {},
   "outputs": [],
   "source": [
    "from_id = \"argilla/argilla-template-space\"  # default template\n",
    "to_id = f\"distilabel-dataset-{str(uuid.uuid4()).split('-')[0]}\"  # New id of the dataset, will reuse the user, otherwise update to your HF account\n",
    "new_space = duplicate_space(from_id, to_id=to_id)"
   ]
  },
  {
   "cell_type": "code",
   "execution_count": 83,
   "id": "a9268565-28c2-4eba-b7ec-62fad77f8fde",
   "metadata": {},
   "outputs": [],
   "source": [
    "argilla_api_key = \"admin.apikey\"\n",
    "argilla_space_url = f\"https://{new_space.namespace}-{to_id}.hf.space\""
   ]
  },
  {
   "cell_type": "code",
   "execution_count": 102,
   "id": "a82e99a0-f843-4554-952f-5d19473d0684",
   "metadata": {},
   "outputs": [
    {
     "data": {
      "text/plain": [
       "'https://plaguss-distilabel-dataset-cddf4f3e.hf.space'"
      ]
     },
     "execution_count": 102,
     "metadata": {},
     "output_type": "execute_result"
    }
   ],
   "source": [
    "argilla_space_url"
   ]
  },
  {
   "cell_type": "code",
   "execution_count": 95,
   "id": "4680e825-30a1-48bd-8a4b-82b7e1fe4bf0",
   "metadata": {},
   "outputs": [],
   "source": [
    "import argilla as rg\n",
    "\n",
    "default_workspace = \"admin\"\n",
    "\n",
    "rg.init(\n",
    "    api_key=argilla_api_key,\n",
    "    api_url=argilla_space_url,\n",
    "    workspace=default_workspace\n",
    ")"
   ]
  },
  {
   "cell_type": "code",
   "execution_count": 98,
   "id": "c705ec22-213d-4cb1-9492-a5bd51d6fc2b",
   "metadata": {},
   "outputs": [],
   "source": [
    "import argilla as rg\n",
    "#dataset = dstaset.select(range(10))\n",
    "\n",
    "fields = [\n",
    "    rg.TextField(name=\"seed\", title=\"seed\", use_markdown=True),\n",
    "    rg.TextField(name=\"problem\", title=\"problem\", use_markdown=True),\n",
    "    rg.TextField(name=\"solution\", title=\"solution\", use_markdown=True)\n",
    "]\n",
    "questions = [\n",
    "    rg.TextQuestion(\n",
    "        name=\"explorer\",\n",
    "        title=\"Review the fields of the dataset.\",\n",
    "        required=True,\n",
    "        use_markdown=True\n",
    "    )\n",
    "]\n",
    "\n",
    "# Create dataset\n",
    "rg_dataset = rg.FeedbackDataset(\n",
    "    fields=fields,\n",
    "    questions=questions,\n",
    ")\n"
   ]
  },
  {
   "cell_type": "code",
   "execution_count": 89,
   "id": "275d6782-0187-4d6f-aecf-56e4de0b6c4f",
   "metadata": {},
   "outputs": [
    {
     "data": {
      "text/plain": [
       "['input',\n",
       " 'generation_model',\n",
       " 'generation_prompt',\n",
       " 'raw_generation_responses',\n",
       " 'problem',\n",
       " 'solution',\n",
       " 'generations']"
      ]
     },
     "execution_count": 89,
     "metadata": {},
     "output_type": "execute_result"
    }
   ],
   "source": [
    "oss_instruct_ds.column_names"
   ]
  },
  {
   "cell_type": "code",
   "execution_count": 90,
   "id": "2a5fbc34-ef3b-4247-a3db-5eca032e2b26",
   "metadata": {},
   "outputs": [
    {
     "data": {
      "text/plain": [
       "{'input': 'def preprocess(data, lang):\\n    data[\"arg_negate\"] = parse_template_boolean_value(data, parameter=\"arg_negate\", default_value=False)\\n    data[\"arg_is_regex\"] = parse_template_boolean_value(data, parameter=\"arg_is_regex\", default_value=False)\\n    return data\\n',\n",
       " 'problem': ['You are given a code snippet that defines a function `preprocess(data, lang)`. The function takes two parameters:\\n- `data`: A dictionary representing some data.\\n- `lang`: A string representing the language of the data.\\n\\nThe `preprocess` function performs some preprocessing on the input `data`. It adds two new key-value pairs to the dictionary `data`:\\n- Key: `\"arg_negate\"`, Value: The result of calling a function `parse_template_boolean_value(data, parameter=\"arg_negate\", default_value=False)`.\\n- Key: `\"arg_is_regex\"`, Value: The result of calling a function `parse_template_boolean_value(data, parameter=\"arg_is_regex\", default_value=False)`.\\n\\nYou need to implement the `preprocess` function to correctly perform the preprocessing steps.\\n\\nYour task is to implement the `preprocess` function.'],\n",
       " 'solution': ['```python\\ndef preprocess(data, lang):\\n    \"\"\"\\n    Preprocess the input data dictionary.\\n\\n    Parameters:\\n    - data: A dictionary representing some data.\\n    - lang: A string representing the language of the data.\\n\\n    Returns:\\n    The preprocessed data dictionary with two additional key-value pairs:\\n    - \"arg_negate\": The result of calling parse_template_boolean_value(data, parameter=\"arg_negate\", default_value=False).\\n    - \"arg_is_regex\": The result of calling parse_template_boolean_value(data, parameter=\"arg_is_regex\", default_value=False).\\n    \"\"\"\\n    data[\"arg_negate\"] = parse_template_boolean_value(data, parameter=\"arg_negate\", default_value=False)\\n    data[\"arg_is_regex\"] = parse_template_boolean_value(data, parameter=\"arg_is_regex\", default_value=False)\\n    return data\\n```\\n\\nNote: The implementation assumes that the function `parse_template_boolean_value` is already defined and available for use.']}"
      ]
     },
     "execution_count": 90,
     "metadata": {},
     "output_type": "execute_result"
    }
   ],
   "source": [
    "oss_instruct_ds.select_columns([\"input\", \"problem\", \"solution\"])[0]"
   ]
  },
  {
   "cell_type": "code",
   "execution_count": null,
   "id": "1338940f-a98d-47bd-9b1f-2a1a940afb9d",
   "metadata": {},
   "outputs": [],
   "source": []
  },
  {
   "cell_type": "code",
   "execution_count": 99,
   "id": "684eddc3-374f-47ed-befc-fa7c7b332ae4",
   "metadata": {},
   "outputs": [],
   "source": [
    "# Add rows\n",
    "for row in oss_instruct_og:  # oss_instruct_og\n",
    "    try:\n",
    "        fields = {\n",
    "            \"seed\": row[\"input\"],\n",
    "            \"problem\": row[\"problem\"][0],\n",
    "            \"solution\": row[\"solution\"][0],\n",
    "        }\n",
    "        suggestions = []\n",
    "        if \"chosen_rationale\" in oss_instruct_ds.column_names and \"rejected_rationale\" in oss_instruct_ds.column_names:\n",
    "            suggestions = [\n",
    "                {\n",
    "                    \"question_name\": \"chosen-rationale\",\n",
    "                    \"value\": row[\"chosen_rationale\"]\n",
    "                },\n",
    "                {\n",
    "                    \"question_name\": \"rejected-rationale\",\n",
    "                    \"value\": row[\"rejected_rationale\"]\n",
    "                }\n",
    "            ]\n",
    "        rg_dataset.add_records(rg.FeedbackRecord(fields=fields, suggestions=suggestions))\n",
    "    except Exception as e:\n",
    "        print(e)"
   ]
  },
  {
   "cell_type": "code",
   "execution_count": 101,
   "id": "61cd532a-c9cb-44b5-a910-287e0dd143e5",
   "metadata": {},
   "outputs": [
    {
     "data": {
      "application/vnd.jupyter.widget-view+json": {
       "model_id": "c42c07ef90c943f19f7c1466faa45003",
       "version_major": 2,
       "version_minor": 0
      },
      "text/plain": [
       "Output()"
      ]
     },
     "metadata": {},
     "output_type": "display_data"
    },
    {
     "data": {
      "text/html": [
       "<pre style=\"white-space:pre;overflow-x:auto;line-height:normal;font-family:Menlo,'DejaVu Sans Mono',consolas,'Courier New',monospace\"></pre>\n"
      ],
      "text/plain": []
     },
     "metadata": {},
     "output_type": "display_data"
    },
    {
     "data": {
      "text/html": [
       "<pre style=\"white-space:pre;overflow-x:auto;line-height:normal;font-family:Menlo,'DejaVu Sans Mono',consolas,'Courier New',monospace\">\n",
       "</pre>\n"
      ],
      "text/plain": [
       "\n"
      ]
     },
     "metadata": {},
     "output_type": "display_data"
    },
    {
     "data": {
      "text/html": [
       "<pre style=\"white-space:pre;overflow-x:auto;line-height:normal;font-family:Menlo,'DejaVu Sans Mono',consolas,'Courier New',monospace\"><span style=\"color: #7fbfbf; text-decoration-color: #7fbfbf\">12:53:14 </span><span style=\"color: #000080; text-decoration-color: #000080\">INFO    </span> <span style=\"font-weight: bold\">[</span>PID: <span style=\"color: #008080; text-decoration-color: #008080; font-weight: bold\">98023</span><span style=\"font-weight: bold\">]</span> ✓ Dataset succesfully pushed to Argilla                                <a href=\"file:///Users/agus/github_repos/argilla-io/distilabel/.venv/lib/python3.10/site-packages/argilla/client/feedback/dataset/local/mixins.py\" target=\"_blank\"><span style=\"color: #7f7f7f; text-decoration-color: #7f7f7f\">mixins.py</span></a><span style=\"color: #7f7f7f; text-decoration-color: #7f7f7f\">:</span><a href=\"file:///Users/agus/github_repos/argilla-io/distilabel/.venv/lib/python3.10/site-packages/argilla/client/feedback/dataset/local/mixins.py#281\" target=\"_blank\"><span style=\"color: #7f7f7f; text-decoration-color: #7f7f7f\">281</span></a>\n",
       "</pre>\n"
      ],
      "text/plain": [
       "\u001b[2;36m12:53:14\u001b[0m\u001b[2;36m \u001b[0m\u001b[34mINFO    \u001b[0m \u001b[1m[\u001b[0mPID: \u001b[1;36m98023\u001b[0m\u001b[1m]\u001b[0m ✓ Dataset succesfully pushed to Argilla                                \u001b]8;id=799057;file:///Users/agus/github_repos/argilla-io/distilabel/.venv/lib/python3.10/site-packages/argilla/client/feedback/dataset/local/mixins.py\u001b\\\u001b[2mmixins.py\u001b[0m\u001b]8;;\u001b\\\u001b[2m:\u001b[0m\u001b]8;id=683804;file:///Users/agus/github_repos/argilla-io/distilabel/.venv/lib/python3.10/site-packages/argilla/client/feedback/dataset/local/mixins.py#281\u001b\\\u001b[2m281\u001b[0m\u001b]8;;\u001b\\\n"
      ]
     },
     "metadata": {},
     "output_type": "display_data"
    },
    {
     "data": {
      "text/html": [
       "<pre style=\"white-space:pre;overflow-x:auto;line-height:normal;font-family:Menlo,'DejaVu Sans Mono',consolas,'Courier New',monospace\"><span style=\"color: #7fbfbf; text-decoration-color: #7fbfbf\">         </span><span style=\"color: #000080; text-decoration-color: #000080\">INFO    </span> <span style=\"font-weight: bold\">[</span>PID: <span style=\"color: #008080; text-decoration-color: #008080; font-weight: bold\">98023</span><span style=\"font-weight: bold\">]</span> <span style=\"color: #800080; text-decoration-color: #800080; font-weight: bold\">RemoteFeedbackDataset</span><span style=\"font-weight: bold\">(</span>                                                 <a href=\"file:///Users/agus/github_repos/argilla-io/distilabel/.venv/lib/python3.10/site-packages/argilla/client/feedback/dataset/local/mixins.py\" target=\"_blank\"><span style=\"color: #7f7f7f; text-decoration-color: #7f7f7f\">mixins.py</span></a><span style=\"color: #7f7f7f; text-decoration-color: #7f7f7f\">:</span><a href=\"file:///Users/agus/github_repos/argilla-io/distilabel/.venv/lib/python3.10/site-packages/argilla/client/feedback/dataset/local/mixins.py#282\" target=\"_blank\"><span style=\"color: #7f7f7f; text-decoration-color: #7f7f7f\">282</span></a>\n",
       "<span style=\"color: #7fbfbf; text-decoration-color: #7fbfbf\">         </span>            <span style=\"color: #808000; text-decoration-color: #808000\">id</span>=<span style=\"color: #ffff00; text-decoration-color: #ffff00\">c157097d</span><span style=\"color: #ffff00; text-decoration-color: #ffff00\">-7ed0-471b-a8fa-db42e339016a</span>                                          <span style=\"color: #7f7f7f; text-decoration-color: #7f7f7f\">             </span>\n",
       "<span style=\"color: #7fbfbf; text-decoration-color: #7fbfbf\">         </span>            <span style=\"color: #808000; text-decoration-color: #808000\">name</span>=<span style=\"color: #800080; text-decoration-color: #800080\">oss_instruct_gpt</span>-3p5-<span style=\"color: #008080; text-decoration-color: #008080; font-weight: bold\">1106</span>                                                   <span style=\"color: #7f7f7f; text-decoration-color: #7f7f7f\">             </span>\n",
       "<span style=\"color: #7fbfbf; text-decoration-color: #7fbfbf\">         </span>            <span style=\"color: #808000; text-decoration-color: #808000\">workspace</span>=<span style=\"color: #800080; text-decoration-color: #800080; font-weight: bold\">Workspace</span><span style=\"font-weight: bold\">(</span><span style=\"color: #808000; text-decoration-color: #808000\">id</span>=<span style=\"color: #ffff00; text-decoration-color: #ffff00\">61543500</span><span style=\"color: #ffff00; text-decoration-color: #ffff00\">-24a8-4a5e-b91d-65c7ce541c6e</span>, <span style=\"color: #808000; text-decoration-color: #808000\">name</span>=<span style=\"color: #800080; text-decoration-color: #800080\">admin</span>,         <span style=\"color: #7f7f7f; text-decoration-color: #7f7f7f\">             </span>\n",
       "<span style=\"color: #7fbfbf; text-decoration-color: #7fbfbf\">         </span>         <span style=\"color: #808000; text-decoration-color: #808000\">inserted_at</span>=<span style=\"color: #008080; text-decoration-color: #008080; font-weight: bold\">2024</span>-<span style=\"color: #008080; text-decoration-color: #008080; font-weight: bold\">02</span>-<span style=\"color: #008080; text-decoration-color: #008080; font-weight: bold\">16</span> <span style=\"color: #00ff00; text-decoration-color: #00ff00; font-weight: bold\">11:48:08</span>.<span style=\"color: #008080; text-decoration-color: #008080; font-weight: bold\">311578</span>, <span style=\"color: #808000; text-decoration-color: #808000\">updated_at</span>=<span style=\"color: #008080; text-decoration-color: #008080; font-weight: bold\">2024</span>-<span style=\"color: #008080; text-decoration-color: #008080; font-weight: bold\">02</span>-<span style=\"color: #008080; text-decoration-color: #008080; font-weight: bold\">16</span> <span style=\"color: #00ff00; text-decoration-color: #00ff00; font-weight: bold\">11:48:08</span>.<span style=\"color: #008080; text-decoration-color: #008080; font-weight: bold\">311578</span><span style=\"font-weight: bold\">)</span>      <span style=\"color: #7f7f7f; text-decoration-color: #7f7f7f\">             </span>\n",
       "<span style=\"color: #7fbfbf; text-decoration-color: #7fbfbf\">         </span>            <span style=\"color: #808000; text-decoration-color: #808000\">url</span>=<span style=\"color: #0000ff; text-decoration-color: #0000ff; text-decoration: underline\">https://plaguss-distilabel-dataset-cddf4f3e.hf.space/dataset/c157097d-7ed0-4</span> <span style=\"color: #7f7f7f; text-decoration-color: #7f7f7f\">             </span>\n",
       "<span style=\"color: #7fbfbf; text-decoration-color: #7fbfbf\">         </span>         <span style=\"color: #0000ff; text-decoration-color: #0000ff; text-decoration: underline\">71b-a8fa-db42e339016a/annotation-mode</span>                                               <span style=\"color: #7f7f7f; text-decoration-color: #7f7f7f\">             </span>\n",
       "<span style=\"color: #7fbfbf; text-decoration-color: #7fbfbf\">         </span>            <span style=\"color: #808000; text-decoration-color: #808000\">fields</span>=<span style=\"font-weight: bold\">[</span><span style=\"color: #800080; text-decoration-color: #800080; font-weight: bold\">RemoteTextField</span><span style=\"font-weight: bold\">(</span><span style=\"color: #808000; text-decoration-color: #808000\">id</span>=<span style=\"color: #800080; text-decoration-color: #800080; font-weight: bold\">UUID</span><span style=\"font-weight: bold\">(</span><span style=\"color: #008000; text-decoration-color: #008000\">'0140ea76-c66d-4329-9f79-177634824881'</span><span style=\"font-weight: bold\">)</span>,         <span style=\"color: #7f7f7f; text-decoration-color: #7f7f7f\">             </span>\n",
       "<span style=\"color: #7fbfbf; text-decoration-color: #7fbfbf\">         </span>         <span style=\"color: #808000; text-decoration-color: #808000\">client</span>=<span style=\"color: #800080; text-decoration-color: #800080; font-style: italic\">None</span>, <span style=\"color: #808000; text-decoration-color: #808000\">name</span>=<span style=\"color: #008000; text-decoration-color: #008000\">'seed'</span>, <span style=\"color: #808000; text-decoration-color: #808000\">title</span>=<span style=\"color: #008000; text-decoration-color: #008000\">'seed'</span>, <span style=\"color: #808000; text-decoration-color: #808000\">required</span>=<span style=\"color: #00ff00; text-decoration-color: #00ff00; font-style: italic\">True</span>, <span style=\"color: #808000; text-decoration-color: #808000\">type</span>=<span style=\"color: #008000; text-decoration-color: #008000\">'text'</span>,                 <span style=\"color: #7f7f7f; text-decoration-color: #7f7f7f\">             </span>\n",
       "<span style=\"color: #7fbfbf; text-decoration-color: #7fbfbf\">         </span>         <span style=\"color: #808000; text-decoration-color: #808000\">use_markdown</span>=<span style=\"color: #00ff00; text-decoration-color: #00ff00; font-style: italic\">True</span><span style=\"font-weight: bold\">)</span>,                                                                 <span style=\"color: #7f7f7f; text-decoration-color: #7f7f7f\">             </span>\n",
       "<span style=\"color: #7fbfbf; text-decoration-color: #7fbfbf\">         </span>         <span style=\"color: #800080; text-decoration-color: #800080; font-weight: bold\">RemoteTextField</span><span style=\"font-weight: bold\">(</span><span style=\"color: #808000; text-decoration-color: #808000\">id</span>=<span style=\"color: #800080; text-decoration-color: #800080; font-weight: bold\">UUID</span><span style=\"font-weight: bold\">(</span><span style=\"color: #008000; text-decoration-color: #008000\">'864237a9-1ef6-44a6-a103-32b0551c092b'</span><span style=\"font-weight: bold\">)</span>, <span style=\"color: #808000; text-decoration-color: #808000\">client</span>=<span style=\"color: #800080; text-decoration-color: #800080; font-style: italic\">None</span>,       <span style=\"color: #7f7f7f; text-decoration-color: #7f7f7f\">             </span>\n",
       "<span style=\"color: #7fbfbf; text-decoration-color: #7fbfbf\">         </span>         <span style=\"color: #808000; text-decoration-color: #808000\">name</span>=<span style=\"color: #008000; text-decoration-color: #008000\">'problem'</span>, <span style=\"color: #808000; text-decoration-color: #808000\">title</span>=<span style=\"color: #008000; text-decoration-color: #008000\">'problem'</span>, <span style=\"color: #808000; text-decoration-color: #808000\">required</span>=<span style=\"color: #00ff00; text-decoration-color: #00ff00; font-style: italic\">True</span>, <span style=\"color: #808000; text-decoration-color: #808000\">type</span>=<span style=\"color: #008000; text-decoration-color: #008000\">'text'</span>, <span style=\"color: #808000; text-decoration-color: #808000\">use_markdown</span>=<span style=\"color: #00ff00; text-decoration-color: #00ff00; font-style: italic\">True</span><span style=\"font-weight: bold\">)</span>,    <span style=\"color: #7f7f7f; text-decoration-color: #7f7f7f\">             </span>\n",
       "<span style=\"color: #7fbfbf; text-decoration-color: #7fbfbf\">         </span>         <span style=\"color: #800080; text-decoration-color: #800080; font-weight: bold\">RemoteTextField</span><span style=\"font-weight: bold\">(</span><span style=\"color: #808000; text-decoration-color: #808000\">id</span>=<span style=\"color: #800080; text-decoration-color: #800080; font-weight: bold\">UUID</span><span style=\"font-weight: bold\">(</span><span style=\"color: #008000; text-decoration-color: #008000\">'63c6847b-30ff-4c1c-a223-606c4459a137'</span><span style=\"font-weight: bold\">)</span>, <span style=\"color: #808000; text-decoration-color: #808000\">client</span>=<span style=\"color: #800080; text-decoration-color: #800080; font-style: italic\">None</span>,       <span style=\"color: #7f7f7f; text-decoration-color: #7f7f7f\">             </span>\n",
       "<span style=\"color: #7fbfbf; text-decoration-color: #7fbfbf\">         </span>         <span style=\"color: #808000; text-decoration-color: #808000\">name</span>=<span style=\"color: #008000; text-decoration-color: #008000\">'solution'</span>, <span style=\"color: #808000; text-decoration-color: #808000\">title</span>=<span style=\"color: #008000; text-decoration-color: #008000\">'solution'</span>, <span style=\"color: #808000; text-decoration-color: #808000\">required</span>=<span style=\"color: #00ff00; text-decoration-color: #00ff00; font-style: italic\">True</span>, <span style=\"color: #808000; text-decoration-color: #808000\">type</span>=<span style=\"color: #008000; text-decoration-color: #008000\">'text'</span>, <span style=\"color: #808000; text-decoration-color: #808000\">use_markdown</span>=<span style=\"color: #00ff00; text-decoration-color: #00ff00; font-style: italic\">True</span><span style=\"font-weight: bold\">)]</span>  <span style=\"color: #7f7f7f; text-decoration-color: #7f7f7f\">             </span>\n",
       "<span style=\"color: #7fbfbf; text-decoration-color: #7fbfbf\">         </span>            <span style=\"color: #808000; text-decoration-color: #808000\">questions</span>=<span style=\"font-weight: bold\">[</span><span style=\"color: #800080; text-decoration-color: #800080; font-weight: bold\">RemoteTextQuestion</span><span style=\"font-weight: bold\">(</span><span style=\"color: #808000; text-decoration-color: #808000\">id</span>=<span style=\"color: #800080; text-decoration-color: #800080; font-weight: bold\">UUID</span><span style=\"font-weight: bold\">(</span><span style=\"color: #008000; text-decoration-color: #008000\">'364f4976-d8e9-4c00-8294-95f551ef5657'</span><span style=\"font-weight: bold\">)</span>,   <span style=\"color: #7f7f7f; text-decoration-color: #7f7f7f\">             </span>\n",
       "<span style=\"color: #7fbfbf; text-decoration-color: #7fbfbf\">         </span>         <span style=\"color: #808000; text-decoration-color: #808000\">client</span>=<span style=\"color: #800080; text-decoration-color: #800080; font-style: italic\">None</span>, <span style=\"color: #808000; text-decoration-color: #808000\">name</span>=<span style=\"color: #008000; text-decoration-color: #008000\">'explorer'</span>, <span style=\"color: #808000; text-decoration-color: #808000\">title</span>=<span style=\"color: #008000; text-decoration-color: #008000\">'Review the fields of the dataset.'</span>,            <span style=\"color: #7f7f7f; text-decoration-color: #7f7f7f\">             </span>\n",
       "<span style=\"color: #7fbfbf; text-decoration-color: #7fbfbf\">         </span>         <span style=\"color: #808000; text-decoration-color: #808000\">description</span>=<span style=\"color: #800080; text-decoration-color: #800080; font-style: italic\">None</span>, <span style=\"color: #808000; text-decoration-color: #808000\">required</span>=<span style=\"color: #00ff00; text-decoration-color: #00ff00; font-style: italic\">True</span>, <span style=\"color: #808000; text-decoration-color: #808000\">type</span>=<span style=\"color: #008000; text-decoration-color: #008000\">'text'</span>, <span style=\"color: #808000; text-decoration-color: #808000\">use_markdown</span>=<span style=\"color: #00ff00; text-decoration-color: #00ff00; font-style: italic\">True</span><span style=\"font-weight: bold\">)]</span>                   <span style=\"color: #7f7f7f; text-decoration-color: #7f7f7f\">             </span>\n",
       "<span style=\"color: #7fbfbf; text-decoration-color: #7fbfbf\">         </span>            <span style=\"color: #808000; text-decoration-color: #808000\">guidelines</span>=<span style=\"color: #800080; text-decoration-color: #800080; font-style: italic\">None</span>                                                                  <span style=\"color: #7f7f7f; text-decoration-color: #7f7f7f\">             </span>\n",
       "<span style=\"color: #7fbfbf; text-decoration-color: #7fbfbf\">         </span>            <span style=\"color: #808000; text-decoration-color: #808000\">metadata_properties</span>=<span style=\"font-weight: bold\">[]</span>                                                           <span style=\"color: #7f7f7f; text-decoration-color: #7f7f7f\">             </span>\n",
       "<span style=\"color: #7fbfbf; text-decoration-color: #7fbfbf\">         </span>            <span style=\"color: #808000; text-decoration-color: #808000\">vectors_settings</span>=<span style=\"font-weight: bold\">[]</span>                                                              <span style=\"color: #7f7f7f; text-decoration-color: #7f7f7f\">             </span>\n",
       "<span style=\"color: #7fbfbf; text-decoration-color: #7fbfbf\">         </span>         <span style=\"font-weight: bold\">)</span>                                                                                   <span style=\"color: #7f7f7f; text-decoration-color: #7f7f7f\">             </span>\n",
       "</pre>\n"
      ],
      "text/plain": [
       "\u001b[2;36m        \u001b[0m\u001b[2;36m \u001b[0m\u001b[34mINFO    \u001b[0m \u001b[1m[\u001b[0mPID: \u001b[1;36m98023\u001b[0m\u001b[1m]\u001b[0m \u001b[1;35mRemoteFeedbackDataset\u001b[0m\u001b[1m(\u001b[0m                                                 \u001b]8;id=146794;file:///Users/agus/github_repos/argilla-io/distilabel/.venv/lib/python3.10/site-packages/argilla/client/feedback/dataset/local/mixins.py\u001b\\\u001b[2mmixins.py\u001b[0m\u001b]8;;\u001b\\\u001b[2m:\u001b[0m\u001b]8;id=306796;file:///Users/agus/github_repos/argilla-io/distilabel/.venv/lib/python3.10/site-packages/argilla/client/feedback/dataset/local/mixins.py#282\u001b\\\u001b[2m282\u001b[0m\u001b]8;;\u001b\\\n",
       "\u001b[2;36m         \u001b[0m            \u001b[33mid\u001b[0m=\u001b[93mc157097d\u001b[0m\u001b[93m-7ed0-471b-a8fa-db42e339016a\u001b[0m                                          \u001b[2m             \u001b[0m\n",
       "\u001b[2;36m         \u001b[0m            \u001b[33mname\u001b[0m=\u001b[35moss_instruct_gpt\u001b[0m-3p5-\u001b[1;36m1106\u001b[0m                                                   \u001b[2m             \u001b[0m\n",
       "\u001b[2;36m         \u001b[0m            \u001b[33mworkspace\u001b[0m=\u001b[1;35mWorkspace\u001b[0m\u001b[1m(\u001b[0m\u001b[33mid\u001b[0m=\u001b[93m61543500\u001b[0m\u001b[93m-24a8-4a5e-b91d-65c7ce541c6e\u001b[0m, \u001b[33mname\u001b[0m=\u001b[35madmin\u001b[0m,         \u001b[2m             \u001b[0m\n",
       "\u001b[2;36m         \u001b[0m         \u001b[33minserted_at\u001b[0m=\u001b[1;36m2024\u001b[0m-\u001b[1;36m02\u001b[0m-\u001b[1;36m16\u001b[0m \u001b[1;92m11:48:08\u001b[0m.\u001b[1;36m311578\u001b[0m, \u001b[33mupdated_at\u001b[0m=\u001b[1;36m2024\u001b[0m-\u001b[1;36m02\u001b[0m-\u001b[1;36m16\u001b[0m \u001b[1;92m11:48:08\u001b[0m.\u001b[1;36m311578\u001b[0m\u001b[1m)\u001b[0m      \u001b[2m             \u001b[0m\n",
       "\u001b[2;36m         \u001b[0m            \u001b[33murl\u001b[0m=\u001b[4;94mhttps\u001b[0m\u001b[4;94m://plaguss-distilabel-dataset-cddf4f3e.hf.space/dataset/c157097d-7ed0-4\u001b[0m \u001b[2m             \u001b[0m\n",
       "\u001b[2;36m         \u001b[0m         \u001b[4;94m71b-a8fa-db42e339016a/annotation-mode\u001b[0m                                               \u001b[2m             \u001b[0m\n",
       "\u001b[2;36m         \u001b[0m            \u001b[33mfields\u001b[0m=\u001b[1m[\u001b[0m\u001b[1;35mRemoteTextField\u001b[0m\u001b[1m(\u001b[0m\u001b[33mid\u001b[0m=\u001b[1;35mUUID\u001b[0m\u001b[1m(\u001b[0m\u001b[32m'0140ea76-c66d-4329-9f79-177634824881'\u001b[0m\u001b[1m)\u001b[0m,         \u001b[2m             \u001b[0m\n",
       "\u001b[2;36m         \u001b[0m         \u001b[33mclient\u001b[0m=\u001b[3;35mNone\u001b[0m, \u001b[33mname\u001b[0m=\u001b[32m'seed'\u001b[0m, \u001b[33mtitle\u001b[0m=\u001b[32m'seed'\u001b[0m, \u001b[33mrequired\u001b[0m=\u001b[3;92mTrue\u001b[0m, \u001b[33mtype\u001b[0m=\u001b[32m'text'\u001b[0m,                 \u001b[2m             \u001b[0m\n",
       "\u001b[2;36m         \u001b[0m         \u001b[33muse_markdown\u001b[0m=\u001b[3;92mTrue\u001b[0m\u001b[1m)\u001b[0m,                                                                 \u001b[2m             \u001b[0m\n",
       "\u001b[2;36m         \u001b[0m         \u001b[1;35mRemoteTextField\u001b[0m\u001b[1m(\u001b[0m\u001b[33mid\u001b[0m=\u001b[1;35mUUID\u001b[0m\u001b[1m(\u001b[0m\u001b[32m'864237a9-1ef6-44a6-a103-32b0551c092b'\u001b[0m\u001b[1m)\u001b[0m, \u001b[33mclient\u001b[0m=\u001b[3;35mNone\u001b[0m,       \u001b[2m             \u001b[0m\n",
       "\u001b[2;36m         \u001b[0m         \u001b[33mname\u001b[0m=\u001b[32m'problem'\u001b[0m, \u001b[33mtitle\u001b[0m=\u001b[32m'problem'\u001b[0m, \u001b[33mrequired\u001b[0m=\u001b[3;92mTrue\u001b[0m, \u001b[33mtype\u001b[0m=\u001b[32m'text'\u001b[0m, \u001b[33muse_markdown\u001b[0m=\u001b[3;92mTrue\u001b[0m\u001b[1m)\u001b[0m,    \u001b[2m             \u001b[0m\n",
       "\u001b[2;36m         \u001b[0m         \u001b[1;35mRemoteTextField\u001b[0m\u001b[1m(\u001b[0m\u001b[33mid\u001b[0m=\u001b[1;35mUUID\u001b[0m\u001b[1m(\u001b[0m\u001b[32m'63c6847b-30ff-4c1c-a223-606c4459a137'\u001b[0m\u001b[1m)\u001b[0m, \u001b[33mclient\u001b[0m=\u001b[3;35mNone\u001b[0m,       \u001b[2m             \u001b[0m\n",
       "\u001b[2;36m         \u001b[0m         \u001b[33mname\u001b[0m=\u001b[32m'solution'\u001b[0m, \u001b[33mtitle\u001b[0m=\u001b[32m'solution'\u001b[0m, \u001b[33mrequired\u001b[0m=\u001b[3;92mTrue\u001b[0m, \u001b[33mtype\u001b[0m=\u001b[32m'text'\u001b[0m, \u001b[33muse_markdown\u001b[0m=\u001b[3;92mTrue\u001b[0m\u001b[1m)\u001b[0m\u001b[1m]\u001b[0m  \u001b[2m             \u001b[0m\n",
       "\u001b[2;36m         \u001b[0m            \u001b[33mquestions\u001b[0m=\u001b[1m[\u001b[0m\u001b[1;35mRemoteTextQuestion\u001b[0m\u001b[1m(\u001b[0m\u001b[33mid\u001b[0m=\u001b[1;35mUUID\u001b[0m\u001b[1m(\u001b[0m\u001b[32m'364f4976-d8e9-4c00-8294-95f551ef5657'\u001b[0m\u001b[1m)\u001b[0m,   \u001b[2m             \u001b[0m\n",
       "\u001b[2;36m         \u001b[0m         \u001b[33mclient\u001b[0m=\u001b[3;35mNone\u001b[0m, \u001b[33mname\u001b[0m=\u001b[32m'explorer'\u001b[0m, \u001b[33mtitle\u001b[0m=\u001b[32m'Review the fields of the dataset.'\u001b[0m,            \u001b[2m             \u001b[0m\n",
       "\u001b[2;36m         \u001b[0m         \u001b[33mdescription\u001b[0m=\u001b[3;35mNone\u001b[0m, \u001b[33mrequired\u001b[0m=\u001b[3;92mTrue\u001b[0m, \u001b[33mtype\u001b[0m=\u001b[32m'text'\u001b[0m, \u001b[33muse_markdown\u001b[0m=\u001b[3;92mTrue\u001b[0m\u001b[1m)\u001b[0m\u001b[1m]\u001b[0m                   \u001b[2m             \u001b[0m\n",
       "\u001b[2;36m         \u001b[0m            \u001b[33mguidelines\u001b[0m=\u001b[3;35mNone\u001b[0m                                                                  \u001b[2m             \u001b[0m\n",
       "\u001b[2;36m         \u001b[0m            \u001b[33mmetadata_properties\u001b[0m=\u001b[1m[\u001b[0m\u001b[1m]\u001b[0m                                                           \u001b[2m             \u001b[0m\n",
       "\u001b[2;36m         \u001b[0m            \u001b[33mvectors_settings\u001b[0m=\u001b[1m[\u001b[0m\u001b[1m]\u001b[0m                                                              \u001b[2m             \u001b[0m\n",
       "\u001b[2;36m         \u001b[0m         \u001b[1m)\u001b[0m                                                                                   \u001b[2m             \u001b[0m\n"
      ]
     },
     "metadata": {},
     "output_type": "display_data"
    },
    {
     "data": {
      "text/plain": [
       "RemoteFeedbackDataset(\n",
       "   id=c157097d-7ed0-471b-a8fa-db42e339016a\n",
       "   name=oss_instruct_gpt-3p5-1106\n",
       "   workspace=Workspace(id=61543500-24a8-4a5e-b91d-65c7ce541c6e, name=admin, inserted_at=2024-02-16 11:48:08.311578, updated_at=2024-02-16 11:48:08.311578)\n",
       "   url=https://plaguss-distilabel-dataset-cddf4f3e.hf.space/dataset/c157097d-7ed0-471b-a8fa-db42e339016a/annotation-mode\n",
       "   fields=[RemoteTextField(id=UUID('0140ea76-c66d-4329-9f79-177634824881'), client=None, name='seed', title='seed', required=True, type='text', use_markdown=True), RemoteTextField(id=UUID('864237a9-1ef6-44a6-a103-32b0551c092b'), client=None, name='problem', title='problem', required=True, type='text', use_markdown=True), RemoteTextField(id=UUID('63c6847b-30ff-4c1c-a223-606c4459a137'), client=None, name='solution', title='solution', required=True, type='text', use_markdown=True)]\n",
       "   questions=[RemoteTextQuestion(id=UUID('364f4976-d8e9-4c00-8294-95f551ef5657'), client=None, name='explorer', title='Review the fields of the dataset.', description=None, required=True, type='text', use_markdown=True)]\n",
       "   guidelines=None\n",
       "   metadata_properties=[]\n",
       "   vectors_settings=[]\n",
       ")"
      ]
     },
     "execution_count": 101,
     "metadata": {},
     "output_type": "execute_result"
    }
   ],
   "source": [
    "rg_dataset.push_to_argilla(name=\"oss_instruct_gpt-3p5-1106\", workspace=\"admin\")"
   ]
  }
 ],
 "metadata": {
  "kernelspec": {
   "display_name": "Python 3 (ipykernel)",
   "language": "python",
   "name": "python3"
  },
  "language_info": {
   "codemirror_mode": {
    "name": "ipython",
    "version": 3
   },
   "file_extension": ".py",
   "mimetype": "text/x-python",
   "name": "python",
   "nbconvert_exporter": "python",
   "pygments_lexer": "ipython3",
   "version": "3.10.13"
  }
 },
 "nbformat": 4,
 "nbformat_minor": 5
}
