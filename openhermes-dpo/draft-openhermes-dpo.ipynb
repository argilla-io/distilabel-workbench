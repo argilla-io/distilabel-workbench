{
 "cells": [
  {
   "cell_type": "markdown",
   "id": "b77542c7-a61f-4233-ae58-1f887b26154d",
   "metadata": {},
   "source": [
    "### Merging datasets generated in different steps"
   ]
  },
  {
   "cell_type": "code",
   "execution_count": 20,
   "id": "2593200f-e4bb-4564-9f61-07dd430e700f",
   "metadata": {},
   "outputs": [
    {
     "data": {
      "application/vnd.jupyter.widget-view+json": {
       "model_id": "1be2565863d546019987314d571ed194",
       "version_major": 2,
       "version_minor": 0
      },
      "text/plain": [
       "Downloading readme:   0%|          | 0.00/668 [00:00<?, ?B/s]"
      ]
     },
     "metadata": {},
     "output_type": "display_data"
    },
    {
     "data": {
      "application/vnd.jupyter.widget-view+json": {
       "model_id": "7fac107269984b329a623bda9ac359f5",
       "version_major": 2,
       "version_minor": 0
      },
      "text/plain": [
       "Downloading data:   0%|          | 0.00/183M [00:00<?, ?B/s]"
      ]
     },
     "metadata": {},
     "output_type": "display_data"
    },
    {
     "data": {
      "application/vnd.jupyter.widget-view+json": {
       "model_id": "e9637ea2009b4f98b501583ddd8a8ca5",
       "version_major": 2,
       "version_minor": 0
      },
      "text/plain": [
       "Downloading data:   0%|          | 0.00/184M [00:00<?, ?B/s]"
      ]
     },
     "metadata": {},
     "output_type": "display_data"
    },
    {
     "data": {
      "application/vnd.jupyter.widget-view+json": {
       "model_id": "04b1a1fce67f480a867909f5abb2877d",
       "version_major": 2,
       "version_minor": 0
      },
      "text/plain": [
       "Downloading data:   0%|          | 0.00/252M [00:00<?, ?B/s]"
      ]
     },
     "metadata": {},
     "output_type": "display_data"
    },
    {
     "data": {
      "application/vnd.jupyter.widget-view+json": {
       "model_id": "2cef4798f8d647969ebbf8050552edd7",
       "version_major": 2,
       "version_minor": 0
      },
      "text/plain": [
       "Downloading data:   0%|          | 0.00/217M [00:00<?, ?B/s]"
      ]
     },
     "metadata": {},
     "output_type": "display_data"
    },
    {
     "data": {
      "application/vnd.jupyter.widget-view+json": {
       "model_id": "cdfed640dafc430b98fd9806d930f2a1",
       "version_major": 2,
       "version_minor": 0
      },
      "text/plain": [
       "Downloading data:   0%|          | 0.00/220M [00:00<?, ?B/s]"
      ]
     },
     "metadata": {},
     "output_type": "display_data"
    },
    {
     "data": {
      "application/vnd.jupyter.widget-view+json": {
       "model_id": "cf334eba5ee648a18e8b614d31babf64",
       "version_major": 2,
       "version_minor": 0
      },
      "text/plain": [
       "Downloading data:   0%|          | 0.00/168M [00:00<?, ?B/s]"
      ]
     },
     "metadata": {},
     "output_type": "display_data"
    },
    {
     "data": {
      "application/vnd.jupyter.widget-view+json": {
       "model_id": "9cad26764c6a407284691d19ed1af526",
       "version_major": 2,
       "version_minor": 0
      },
      "text/plain": [
       "Downloading data:   0%|          | 0.00/253M [00:00<?, ?B/s]"
      ]
     },
     "metadata": {},
     "output_type": "display_data"
    },
    {
     "data": {
      "application/vnd.jupyter.widget-view+json": {
       "model_id": "3b09196e24c044c294e4dad584ff7761",
       "version_major": 2,
       "version_minor": 0
      },
      "text/plain": [
       "Downloading data:   0%|          | 0.00/250M [00:00<?, ?B/s]"
      ]
     },
     "metadata": {},
     "output_type": "display_data"
    },
    {
     "data": {
      "application/vnd.jupyter.widget-view+json": {
       "model_id": "49212a94d32942a8bf48636062c3ca86",
       "version_major": 2,
       "version_minor": 0
      },
      "text/plain": [
       "Downloading data:   0%|          | 0.00/291M [00:00<?, ?B/s]"
      ]
     },
     "metadata": {},
     "output_type": "display_data"
    },
    {
     "data": {
      "application/vnd.jupyter.widget-view+json": {
       "model_id": "7d5a6701543e45fb85cba3a921bc1e53",
       "version_major": 2,
       "version_minor": 0
      },
      "text/plain": [
       "Generating train split:   0%|          | 0/805335 [00:00<?, ? examples/s]"
      ]
     },
     "metadata": {},
     "output_type": "display_data"
    }
   ],
   "source": [
    "ds_argilla = load_dataset(\"argilla/OpenHermes-2.5-dpo-row-index-v2\", split=\"train\")"
   ]
  },
  {
   "cell_type": "code",
   "execution_count": 21,
   "id": "de870f0d-764c-41a4-92c6-4af9e9d8bc10",
   "metadata": {},
   "outputs": [
    {
     "data": {
      "application/vnd.jupyter.widget-view+json": {
       "model_id": "641cc68fd8db4a4fa1a3596207693e87",
       "version_major": 2,
       "version_minor": 0
      },
      "text/plain": [
       "Downloading readme:   0%|          | 0.00/1.19k [00:00<?, ?B/s]"
      ]
     },
     "metadata": {},
     "output_type": "display_data"
    },
    {
     "data": {
      "application/vnd.jupyter.widget-view+json": {
       "model_id": "78beee77d5aa47d4a581ffc5fbf8bbd9",
       "version_major": 2,
       "version_minor": 0
      },
      "text/plain": [
       "Downloading data:   0%|          | 0.00/181M [00:00<?, ?B/s]"
      ]
     },
     "metadata": {},
     "output_type": "display_data"
    },
    {
     "data": {
      "application/vnd.jupyter.widget-view+json": {
       "model_id": "024eb53907f24b56a2a5896d6bc4284e",
       "version_major": 2,
       "version_minor": 0
      },
      "text/plain": [
       "Downloading data:   0%|          | 0.00/180M [00:00<?, ?B/s]"
      ]
     },
     "metadata": {},
     "output_type": "display_data"
    },
    {
     "data": {
      "application/vnd.jupyter.widget-view+json": {
       "model_id": "baa5e2241d8a4ed1b6f3c97e413f6842",
       "version_major": 2,
       "version_minor": 0
      },
      "text/plain": [
       "Downloading data:   0%|          | 0.00/167M [00:00<?, ?B/s]"
      ]
     },
     "metadata": {},
     "output_type": "display_data"
    },
    {
     "data": {
      "application/vnd.jupyter.widget-view+json": {
       "model_id": "8f8feea4796e45c9bb5c3607583d1ea6",
       "version_major": 2,
       "version_minor": 0
      },
      "text/plain": [
       "Generating train split:   0%|          | 0/192649 [00:00<?, ? examples/s]"
      ]
     },
     "metadata": {},
     "output_type": "display_data"
    }
   ],
   "source": [
    "ds_to_update = load_dataset(\"vwxyzjn/OpenHermes-2.5-dpo-with-system-ckpt-2\", split=\"train\")"
   ]
  },
  {
   "cell_type": "code",
   "execution_count": 22,
   "id": "38ad5ecb-2bc4-49fb-995e-95cf7ed0173b",
   "metadata": {},
   "outputs": [],
   "source": [
    "cols = ['conversations', 'input', 'generation_model', 'generation_prompt', 'raw_generation_responses', 'generations']\n",
    "\n",
    "ds_argilla_updated = Dataset.from_pandas(\n",
    "    pd.concat(\n",
    "        [\n",
    "            ds_argilla.select_columns(cols).to_pandas(),\n",
    "            ds_to_update.select_columns(cols).to_pandas()\n",
    "        ],\n",
    "        axis=0\n",
    "    ),\n",
    "    preserve_index=False\n",
    ")"
   ]
  },
  {
   "cell_type": "code",
   "execution_count": 23,
   "id": "cc5feb31-b270-488a-a7c7-cf0626443e34",
   "metadata": {},
   "outputs": [
    {
     "data": {
      "text/plain": [
       "Dataset({\n",
       "    features: ['conversations', 'input', 'generation_model', 'generation_prompt', 'raw_generation_responses', 'generations'],\n",
       "    num_rows: 997984\n",
       "})"
      ]
     },
     "execution_count": 23,
     "metadata": {},
     "output_type": "execute_result"
    }
   ],
   "source": [
    "ds_argilla_updated"
   ]
  },
  {
   "cell_type": "code",
   "execution_count": 8,
   "id": "2cf00a44-7924-4bd4-a04b-3f4cb96c25bc",
   "metadata": {},
   "outputs": [],
   "source": [
    "from datasets import load_dataset\n",
    "import multiprocessing\n",
    "\n",
    "og_ds = load_dataset(\"teknium/OpenHermes-2.5\", split=\"train\")\n",
    "og_ds = og_ds.add_column(\"row_index\", list(range(len(og_ds))))\n",
    "#long_conversations = og_ds.filter(lambda row: len(row[\"conversations\"]) > 2, num_proc=multiprocessing.cpu_count())\n",
    "\n",
    "def merge_with_system(row):\n",
    "    conversations = row[\"conversations\"]\n",
    "    if conversations[0][\"from\"] == \"system\":\n",
    "        conversations[1][\"value\"] = conversations[0][\"value\"] + \" \" + conversations[1][\"value\"]\n",
    "        conversations = conversations[1:]\n",
    "\n",
    "    return {\"conversations\": conversations, \"input\": conversations[0][\"value\"]}\n",
    "\n",
    "ds_merged = og_ds.map(merge_with_system, num_proc=multiprocessing.cpu_count())\n",
    "ds_merged = ds_merged.map(lambda x: {\"conv-str\": str(x[\"conversations\"])}, num_proc=multiprocessing.cpu_count())\n",
    "\n",
    "ds_filtered = ds_merged.filter(lambda row: len(row[\"conversations\"]) < 3, num_proc=multiprocessing.cpu_count())\n",
    "\n",
    "# TO REMOVE DUPLICATES AT THE CONVERSATION LEVEL, UNUSED FOR THE GENERAL DATASET\n",
    "#df_filtered = ds_filtered.to_pandas().drop_duplicates(subset=\"input\")\n",
    "#from datasets import Dataset\n",
    "#ds_filtered = Dataset.from_pandas(df_filtered, preserve_index=False)\n",
    "\n",
    "#ds_filtered.select(range(192648)).push_to_hub(\"argilla/OpenHermes-2.5-with-system-1\", split=\"train\")\n",
    "#ds_filtered.select(range(192648, len(filtered_res))).push_to_hub(\"argilla/OpenHermes-2.5-with-system-2\", split=\"train\")"
   ]
  },
  {
   "cell_type": "code",
   "execution_count": 27,
   "id": "4f428b31-6963-486a-a847-4bf4cf2dc627",
   "metadata": {},
   "outputs": [
    {
     "data": {
      "application/vnd.jupyter.widget-view+json": {
       "model_id": "14e3595cad0c4d159583cf961cd99095",
       "version_major": 2,
       "version_minor": 0
      },
      "text/plain": [
       "Map:   0%|          | 0/997984 [00:00<?, ? examples/s]"
      ]
     },
     "metadata": {},
     "output_type": "display_data"
    }
   ],
   "source": [
    "ds_argilla_updated_with_str = ds_argilla_updated.map(lambda x: {\"conv-str\": str(x[\"conversations\"])}, num_proc=1)"
   ]
  },
  {
   "cell_type": "code",
   "execution_count": 29,
   "id": "e5af77cb-afbd-486c-9d30-85ce69f1e68d",
   "metadata": {},
   "outputs": [],
   "source": [
    "df_argilla = ds_argilla_updated_with_str.to_pandas()\n",
    "#df_filtered = og_ds_with_str.to_pandas()\n",
    "df_filtered = ds_filtered.to_pandas()\n",
    "\n",
    "df_argilla[\"row_index\"] = list(range(len(df_argilla)))\n",
    "df_filtered[\"row_index\"] = list(range(len(df_filtered)))\n",
    "\n",
    "df_merged = df_filtered[[\"row_index\", \"conv-str\"]].merge(df_argilla, on=\"conv-str\")\n",
    "del df_argilla, df_filtered\n",
    "df_merged = df_merged.rename(columns={\"row_index_x\": \"index_filtered\", \"row_index_y\": \"index_argilla\"})\n"
   ]
  },
  {
   "cell_type": "code",
   "execution_count": 30,
   "id": "d09d3406-1f6f-4a5a-b3fc-3dcbbdae4255",
   "metadata": {},
   "outputs": [
    {
     "data": {
      "text/plain": [
       "(997984, 9)"
      ]
     },
     "execution_count": 30,
     "metadata": {},
     "output_type": "execute_result"
    }
   ],
   "source": [
    "df_merged.shape"
   ]
  },
  {
   "cell_type": "code",
   "execution_count": 11,
   "id": "abc3517b-c6ce-4188-a7be-90f7d2814649",
   "metadata": {},
   "outputs": [
    {
     "data": {
      "text/html": [
       "<div>\n",
       "<style scoped>\n",
       "    .dataframe tbody tr th:only-of-type {\n",
       "        vertical-align: middle;\n",
       "    }\n",
       "\n",
       "    .dataframe tbody tr th {\n",
       "        vertical-align: top;\n",
       "    }\n",
       "\n",
       "    .dataframe thead th {\n",
       "        text-align: right;\n",
       "    }\n",
       "</style>\n",
       "<table border=\"1\" class=\"dataframe\">\n",
       "  <thead>\n",
       "    <tr style=\"text-align: right;\">\n",
       "      <th></th>\n",
       "      <th>index_filtered</th>\n",
       "      <th>conv-str</th>\n",
       "      <th>conversations</th>\n",
       "      <th>input</th>\n",
       "      <th>generation_model</th>\n",
       "      <th>generation_prompt</th>\n",
       "      <th>raw_generation_responses</th>\n",
       "      <th>generations</th>\n",
       "      <th>index_argilla</th>\n",
       "    </tr>\n",
       "  </thead>\n",
       "  <tbody>\n",
       "    <tr>\n",
       "      <th>0</th>\n",
       "      <td>0</td>\n",
       "      <td>[{'from': 'human', 'value': 'Every day, a tree...</td>\n",
       "      <td>[{'from': 'human', 'value': 'Every day, a tree...</td>\n",
       "      <td>Every day, a tree drops 7 leaves. How many lea...</td>\n",
       "      <td>[NousResearch/Nous-Hermes-2-Yi-34B]</td>\n",
       "      <td>[&lt;|im_start|&gt;system\\nYou are a helpful, respec...</td>\n",
       "      <td>[First, let's convert February in a non-leap y...</td>\n",
       "      <td>[First, let's convert February in a non-leap y...</td>\n",
       "      <td>0</td>\n",
       "    </tr>\n",
       "    <tr>\n",
       "      <th>1</th>\n",
       "      <td>1</td>\n",
       "      <td>[{'from': 'human', 'value': 'In analytical che...</td>\n",
       "      <td>[{'from': 'human', 'value': 'In analytical che...</td>\n",
       "      <td>In analytical chemistry, what is the principle...</td>\n",
       "      <td>[NousResearch/Nous-Hermes-2-Yi-34B]</td>\n",
       "      <td>[&lt;|im_start|&gt;system\\nYou are a helpful, respec...</td>\n",
       "      <td>[A. It compensates for variations in sample pr...</td>\n",
       "      <td>[A. It compensates for variations in sample pr...</td>\n",
       "      <td>1</td>\n",
       "    </tr>\n",
       "    <tr>\n",
       "      <th>2</th>\n",
       "      <td>2</td>\n",
       "      <td>[{'from': 'human', 'value': 'A rectangular gar...</td>\n",
       "      <td>[{'from': 'human', 'value': 'A rectangular gar...</td>\n",
       "      <td>A rectangular garden has a length of 25 feet a...</td>\n",
       "      <td>[NousResearch/Nous-Hermes-2-Yi-34B]</td>\n",
       "      <td>[&lt;|im_start|&gt;system\\nYou are a helpful, respec...</td>\n",
       "      <td>[To determine the amount of fencing needed to ...</td>\n",
       "      <td>[To determine the amount of fencing needed to ...</td>\n",
       "      <td>2</td>\n",
       "    </tr>\n",
       "    <tr>\n",
       "      <th>3</th>\n",
       "      <td>3</td>\n",
       "      <td>[{'from': 'human', 'value': 'What was the purp...</td>\n",
       "      <td>[{'from': 'human', 'value': 'What was the purp...</td>\n",
       "      <td>What was the purpose of the Colosseum in Rome?</td>\n",
       "      <td>[NousResearch/Nous-Hermes-2-Yi-34B]</td>\n",
       "      <td>[&lt;|im_start|&gt;system\\nYou are a helpful, respec...</td>\n",
       "      <td>[The primary purpose of the Colosseum in Rome ...</td>\n",
       "      <td>[The primary purpose of the Colosseum in Rome ...</td>\n",
       "      <td>3</td>\n",
       "    </tr>\n",
       "    <tr>\n",
       "      <th>4</th>\n",
       "      <td>4</td>\n",
       "      <td>[{'from': 'human', 'value': \"A man claims he c...</td>\n",
       "      <td>[{'from': 'human', 'value': 'A man claims he c...</td>\n",
       "      <td>A man claims he can predict the outcome of a d...</td>\n",
       "      <td>[NousResearch/Nous-Hermes-2-Yi-34B]</td>\n",
       "      <td>[&lt;|im_start|&gt;system\\nYou are a helpful, respec...</td>\n",
       "      <td>[Since we already know that the man is able to...</td>\n",
       "      <td>[Since we already know that the man is able to...</td>\n",
       "      <td>4</td>\n",
       "    </tr>\n",
       "  </tbody>\n",
       "</table>\n",
       "</div>"
      ],
      "text/plain": [
       "   index_filtered                                           conv-str  \\\n",
       "0               0  [{'from': 'human', 'value': 'Every day, a tree...   \n",
       "1               1  [{'from': 'human', 'value': 'In analytical che...   \n",
       "2               2  [{'from': 'human', 'value': 'A rectangular gar...   \n",
       "3               3  [{'from': 'human', 'value': 'What was the purp...   \n",
       "4               4  [{'from': 'human', 'value': \"A man claims he c...   \n",
       "\n",
       "                                       conversations  \\\n",
       "0  [{'from': 'human', 'value': 'Every day, a tree...   \n",
       "1  [{'from': 'human', 'value': 'In analytical che...   \n",
       "2  [{'from': 'human', 'value': 'A rectangular gar...   \n",
       "3  [{'from': 'human', 'value': 'What was the purp...   \n",
       "4  [{'from': 'human', 'value': 'A man claims he c...   \n",
       "\n",
       "                                               input  \\\n",
       "0  Every day, a tree drops 7 leaves. How many lea...   \n",
       "1  In analytical chemistry, what is the principle...   \n",
       "2  A rectangular garden has a length of 25 feet a...   \n",
       "3     What was the purpose of the Colosseum in Rome?   \n",
       "4  A man claims he can predict the outcome of a d...   \n",
       "\n",
       "                      generation_model  \\\n",
       "0  [NousResearch/Nous-Hermes-2-Yi-34B]   \n",
       "1  [NousResearch/Nous-Hermes-2-Yi-34B]   \n",
       "2  [NousResearch/Nous-Hermes-2-Yi-34B]   \n",
       "3  [NousResearch/Nous-Hermes-2-Yi-34B]   \n",
       "4  [NousResearch/Nous-Hermes-2-Yi-34B]   \n",
       "\n",
       "                                   generation_prompt  \\\n",
       "0  [<|im_start|>system\\nYou are a helpful, respec...   \n",
       "1  [<|im_start|>system\\nYou are a helpful, respec...   \n",
       "2  [<|im_start|>system\\nYou are a helpful, respec...   \n",
       "3  [<|im_start|>system\\nYou are a helpful, respec...   \n",
       "4  [<|im_start|>system\\nYou are a helpful, respec...   \n",
       "\n",
       "                            raw_generation_responses  \\\n",
       "0  [First, let's convert February in a non-leap y...   \n",
       "1  [A. It compensates for variations in sample pr...   \n",
       "2  [To determine the amount of fencing needed to ...   \n",
       "3  [The primary purpose of the Colosseum in Rome ...   \n",
       "4  [Since we already know that the man is able to...   \n",
       "\n",
       "                                         generations  index_argilla  \n",
       "0  [First, let's convert February in a non-leap y...              0  \n",
       "1  [A. It compensates for variations in sample pr...              1  \n",
       "2  [To determine the amount of fencing needed to ...              2  \n",
       "3  [The primary purpose of the Colosseum in Rome ...              3  \n",
       "4  [Since we already know that the man is able to...              4  "
      ]
     },
     "execution_count": 11,
     "metadata": {},
     "output_type": "execute_result"
    }
   ],
   "source": [
    "df_merged.head()"
   ]
  },
  {
   "cell_type": "code",
   "execution_count": 31,
   "id": "291506ba-d6b0-46e6-bb90-2824457e03ea",
   "metadata": {},
   "outputs": [],
   "source": [
    "ds_argilla_new = Dataset.from_pandas(df_merged, preserve_index=False)\n",
    "ds_argilla_new = ds_argilla_new.rename_column(\"index_filtered\", \"row_index\").select_columns([\"conversations\", \"input\", \"generation_model\", \"generation_prompt\", \"raw_generation_responses\", \"generations\", \"row_index\"])"
   ]
  },
  {
   "cell_type": "code",
   "execution_count": 32,
   "id": "6bc6721c-fa7a-42f2-9079-7ff5c4660c62",
   "metadata": {},
   "outputs": [
    {
     "data": {
      "text/plain": [
       "Dataset({\n",
       "    features: ['conversations', 'input', 'generation_model', 'generation_prompt', 'raw_generation_responses', 'generations', 'row_index'],\n",
       "    num_rows: 997984\n",
       "})"
      ]
     },
     "execution_count": 32,
     "metadata": {},
     "output_type": "execute_result"
    }
   ],
   "source": [
    "ds_argilla_new"
   ]
  },
  {
   "cell_type": "code",
   "execution_count": 14,
   "id": "9a86077b-24e5-4a01-96fa-20baa6295b32",
   "metadata": {},
   "outputs": [
    {
     "data": {
      "text/plain": [
       "Dataset({\n",
       "    features: ['topic', 'hash', 'category', 'language', 'model_name', 'title', 'source', 'custom_instruction', 'views', 'avatarUrl', 'skip_prompt_formatting', 'conversations', 'model', 'idx', 'system_prompt', 'id', 'row_index', 'input', 'conv-str'],\n",
       "    num_rows: 998862\n",
       "})"
      ]
     },
     "execution_count": 14,
     "metadata": {},
     "output_type": "execute_result"
    }
   ],
   "source": [
    "ds_filtered"
   ]
  },
  {
   "cell_type": "code",
   "execution_count": 33,
   "id": "12451103-1dea-44c6-8262-7932c7b12364",
   "metadata": {},
   "outputs": [
    {
     "name": "stderr",
     "output_type": "stream",
     "text": [
      "100%|███████████████████████████████████████████████████████████████████████████████████████████████████████████████████████████████████| 997984/997984 [02:14<00:00, 7440.18it/s]\n"
     ]
    }
   ],
   "source": [
    "from tqdm import tqdm\n",
    "\n",
    "for i in tqdm(range(len(ds_argilla_new)), total=len(ds_argilla_new)):\n",
    "    if ds_argilla_new[i][\"conversations\"] != ds_filtered[ds_argilla_new[i][\"row_index\"]][\"conversations\"]:\n",
    "        raise ValueError(f\"Row {i} does not match\")"
   ]
  },
  {
   "cell_type": "code",
   "execution_count": 34,
   "id": "b23a2547-6144-44b1-b9fc-4c829f98fd1c",
   "metadata": {},
   "outputs": [
    {
     "data": {
      "text/plain": [
       "Dataset({\n",
       "    features: ['conversations', 'input', 'generation_model', 'generation_prompt', 'raw_generation_responses', 'generations', 'row_index'],\n",
       "    num_rows: 997984\n",
       "})"
      ]
     },
     "execution_count": 34,
     "metadata": {},
     "output_type": "execute_result"
    }
   ],
   "source": [
    "ds_argilla_new"
   ]
  },
  {
   "cell_type": "code",
   "execution_count": 35,
   "id": "f2e99b89-81d6-4d50-b1cc-712b2daab263",
   "metadata": {},
   "outputs": [
    {
     "data": {
      "application/vnd.jupyter.widget-view+json": {
       "model_id": "4623178be64144e4b39df24789ee0a12",
       "version_major": 2,
       "version_minor": 0
      },
      "text/plain": [
       "Uploading the dataset shards:   0%|          | 0/11 [00:00<?, ?it/s]"
      ]
     },
     "metadata": {},
     "output_type": "display_data"
    },
    {
     "data": {
      "application/vnd.jupyter.widget-view+json": {
       "model_id": "49cff5f17e83445f89fea999ab6a0098",
       "version_major": 2,
       "version_minor": 0
      },
      "text/plain": [
       "Creating parquet from Arrow format:   0%|          | 0/91 [00:00<?, ?ba/s]"
      ]
     },
     "metadata": {},
     "output_type": "display_data"
    },
    {
     "data": {
      "application/vnd.jupyter.widget-view+json": {
       "model_id": "9bdd23151e264cbebf9f9a0dcb61d948",
       "version_major": 2,
       "version_minor": 0
      },
      "text/plain": [
       "Creating parquet from Arrow format:   0%|          | 0/91 [00:00<?, ?ba/s]"
      ]
     },
     "metadata": {},
     "output_type": "display_data"
    },
    {
     "data": {
      "application/vnd.jupyter.widget-view+json": {
       "model_id": "3ea24d6958584b4ab7131e9c81225b0a",
       "version_major": 2,
       "version_minor": 0
      },
      "text/plain": [
       "Creating parquet from Arrow format:   0%|          | 0/91 [00:00<?, ?ba/s]"
      ]
     },
     "metadata": {},
     "output_type": "display_data"
    },
    {
     "data": {
      "application/vnd.jupyter.widget-view+json": {
       "model_id": "f2c1e69c136f4b05859de9b3a8c41ee8",
       "version_major": 2,
       "version_minor": 0
      },
      "text/plain": [
       "Creating parquet from Arrow format:   0%|          | 0/91 [00:00<?, ?ba/s]"
      ]
     },
     "metadata": {},
     "output_type": "display_data"
    },
    {
     "data": {
      "application/vnd.jupyter.widget-view+json": {
       "model_id": "53109088a0d94b4c95b63e0d68c5a60e",
       "version_major": 2,
       "version_minor": 0
      },
      "text/plain": [
       "Creating parquet from Arrow format:   0%|          | 0/91 [00:00<?, ?ba/s]"
      ]
     },
     "metadata": {},
     "output_type": "display_data"
    },
    {
     "data": {
      "application/vnd.jupyter.widget-view+json": {
       "model_id": "629981cf733d44efa3933bf742ca1e7f",
       "version_major": 2,
       "version_minor": 0
      },
      "text/plain": [
       "Creating parquet from Arrow format:   0%|          | 0/91 [00:00<?, ?ba/s]"
      ]
     },
     "metadata": {},
     "output_type": "display_data"
    },
    {
     "data": {
      "application/vnd.jupyter.widget-view+json": {
       "model_id": "69cc2be9559849c192d70d103942e304",
       "version_major": 2,
       "version_minor": 0
      },
      "text/plain": [
       "Creating parquet from Arrow format:   0%|          | 0/91 [00:00<?, ?ba/s]"
      ]
     },
     "metadata": {},
     "output_type": "display_data"
    },
    {
     "data": {
      "application/vnd.jupyter.widget-view+json": {
       "model_id": "3b15d5791ce046208dc6db82a553dab2",
       "version_major": 2,
       "version_minor": 0
      },
      "text/plain": [
       "Creating parquet from Arrow format:   0%|          | 0/91 [00:00<?, ?ba/s]"
      ]
     },
     "metadata": {},
     "output_type": "display_data"
    },
    {
     "data": {
      "application/vnd.jupyter.widget-view+json": {
       "model_id": "eb3889fc9a6a49f0ab16ca2061bfb9e6",
       "version_major": 2,
       "version_minor": 0
      },
      "text/plain": [
       "Creating parquet from Arrow format:   0%|          | 0/91 [00:00<?, ?ba/s]"
      ]
     },
     "metadata": {},
     "output_type": "display_data"
    },
    {
     "data": {
      "application/vnd.jupyter.widget-view+json": {
       "model_id": "90152711b4304af0a8bfdb351664bec2",
       "version_major": 2,
       "version_minor": 0
      },
      "text/plain": [
       "Creating parquet from Arrow format:   0%|          | 0/91 [00:00<?, ?ba/s]"
      ]
     },
     "metadata": {},
     "output_type": "display_data"
    },
    {
     "data": {
      "application/vnd.jupyter.widget-view+json": {
       "model_id": "74542ddeacdc4e5abeaf66a03232c437",
       "version_major": 2,
       "version_minor": 0
      },
      "text/plain": [
       "Creating parquet from Arrow format:   0%|          | 0/91 [00:00<?, ?ba/s]"
      ]
     },
     "metadata": {},
     "output_type": "display_data"
    },
    {
     "data": {
      "application/vnd.jupyter.widget-view+json": {
       "model_id": "2c206060ae714cf09f7a95ae74c4daa7",
       "version_major": 2,
       "version_minor": 0
      },
      "text/plain": [
       "README.md:   0%|          | 0.00/668 [00:00<?, ?B/s]"
      ]
     },
     "metadata": {},
     "output_type": "display_data"
    },
    {
     "data": {
      "text/plain": [
       "CommitInfo(commit_url='https://huggingface.co/datasets/argilla/OpenHermes-2.5-dpo/commit/d5084bfd4effcba5aabf2bf3ee2b887f076f84d7', commit_message='Upload dataset', commit_description='', oid='d5084bfd4effcba5aabf2bf3ee2b887f076f84d7', pr_url=None, pr_revision=None, pr_num=None)"
      ]
     },
     "execution_count": 35,
     "metadata": {},
     "output_type": "execute_result"
    }
   ],
   "source": [
    "ds_new_name = \"argilla/OpenHermes-2.5-dpo\"\n",
    "#Old name: \"argilla/OpenHermes-2.5-dpo-row-index-v2\"\n",
    "ds_argilla_new.push_to_hub(ds_new_name, split=\"train\")\n"
   ]
  }
 ],
 "metadata": {
  "kernelspec": {
   "display_name": "Python 3 (ipykernel)",
   "language": "python",
   "name": "python3"
  },
  "language_info": {
   "codemirror_mode": {
    "name": "ipython",
    "version": 3
   },
   "file_extension": ".py",
   "mimetype": "text/x-python",
   "name": "python",
   "nbconvert_exporter": "python",
   "pygments_lexer": "ipython3",
   "version": "3.10.13"
  }
 },
 "nbformat": 4,
 "nbformat_minor": 5
}
