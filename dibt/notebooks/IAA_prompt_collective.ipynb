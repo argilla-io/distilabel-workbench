{
  "cells": [
    {
      "cell_type": "markdown",
      "metadata": {
        "id": "GJK7qJwCYzi7"
      },
      "source": []
    },
    {
      "cell_type": "markdown",
      "metadata": {
        "id": "0argR9hCUze4"
      },
      "source": [
        "# Post-processing Prompt Collective\n"
      ]
    },
    {
      "cell_type": "code",
      "execution_count": 2,
      "metadata": {
        "id": "UPHz6OxDW8_Y"
      },
      "outputs": [
        {
          "data": {
            "text/plain": [
              "True"
            ]
          },
          "execution_count": 2,
          "metadata": {},
          "output_type": "execute_result"
        }
      ],
      "source": [
        "import dotenv\n",
        "\n",
        "dotenv.load_dotenv()"
      ]
    },
    {
      "cell_type": "code",
      "execution_count": 3,
      "metadata": {
        "id": "9fMV_hrlUyrZ"
      },
      "outputs": [],
      "source": [
        "from collections import Counter\n",
        "\n",
        "\n",
        "def unify_responses(rec):\n",
        "    counter = Counter()\n",
        "    total_quality = 0\n",
        "    num_responses = 0\n",
        "    rating_values = []\n",
        "\n",
        "    responses = [resp for resp in rec[\"quality\"] if resp[\"status\"] == \"submitted\"]\n",
        "    raw_responses = [int(resp[\"value\"]) + 1 for resp in responses]\n",
        "    for resp in responses:\n",
        "        quality = int(resp[\"value\"]) + 1\n",
        "        rating_values.append(quality)\n",
        "        counter.update([quality])\n",
        "        total_quality += quality\n",
        "        num_responses += 1\n",
        "\n",
        "    average_quality = total_quality / num_responses\n",
        "\n",
        "    # Compute raw agreement\n",
        "    most_common_count = counter.most_common(1)[0][1]\n",
        "    raw_agreement = most_common_count / num_responses\n",
        "\n",
        "    # Adjust the raw agreement to scale from 0 (no agreement) to 1 (full agreement)\n",
        "    # The adjustment here is more heuristic and might need more refinement\n",
        "    agreement = (raw_agreement - 1 / 5) / (1 - 1 / 5)\n",
        "\n",
        "    return {\n",
        "        \"avg_rating\": average_quality,\n",
        "        \"num_responses\": num_responses,\n",
        "        \"agreement_ratio\": agreement,\n",
        "        \"raw_responses\": raw_responses,\n",
        "    }"
      ]
    },
    {
      "cell_type": "code",
      "execution_count": 4,
      "metadata": {
        "colab": {
          "base_uri": "https://localhost:8080/"
        },
        "id": "0BLgQ3kDVGks",
        "outputId": "85c8e257-faf7-4896-d1c4-8353597b2193"
      },
      "outputs": [
        {
          "name": "stderr",
          "output_type": "stream",
          "text": [
            "/home/ben/anaconda3/envs/py310/lib/python3.10/site-packages/tqdm/auto.py:21: TqdmWarning: IProgress not found. Please update jupyter and ipywidgets. See https://ipywidgets.readthedocs.io/en/stable/user_install.html\n",
            "  from .autonotebook import tqdm as notebook_tqdm\n"
          ]
        },
        {
          "data": {
            "text/plain": [
              "DatasetDict({\n",
              "    train: Dataset({\n",
              "        features: ['prompt', 'quality', 'quality-suggestion', 'quality-suggestion-metadata', 'external_id', 'metadata'],\n",
              "        num_rows: 10331\n",
              "    })\n",
              "})"
            ]
          },
          "execution_count": 4,
          "metadata": {},
          "output_type": "execute_result"
        }
      ],
      "source": [
        "from datasets import load_dataset\n",
        "\n",
        "dataset = load_dataset(\n",
        "    \"DIBT/10k-prompt-collective-argilla-format\",\n",
        ")\n",
        "dataset"
      ]
    },
    {
      "cell_type": "code",
      "execution_count": 6,
      "metadata": {
        "id": "vQrLRTcLcka3"
      },
      "outputs": [],
      "source": [
        "processed_dataset = dataset.map(unify_responses)"
      ]
    },
    {
      "cell_type": "markdown",
      "metadata": {
        "id": "kiED8NKqCS6W"
      },
      "source": [
        "# Inter rater agreement\n"
      ]
    },
    {
      "cell_type": "code",
      "execution_count": 68,
      "metadata": {
        "id": "Pt8cGfCYCVEH"
      },
      "outputs": [
        {
          "name": "stdout",
          "output_type": "stream",
          "text": [
            "krippendorff's alpha: 0.291\n"
          ]
        }
      ],
      "source": [
        "import numpy as np\n",
        "from collections import defaultdict\n",
        "import krippendorff\n",
        "\n",
        "\n",
        "def prepare_reliability_data(data):\n",
        "    # Extract unique raters across all units\n",
        "    unique_raters = set()\n",
        "    for unit_responses in data:\n",
        "        for response in unit_responses:\n",
        "            unique_raters.add(response[\"user_id\"])\n",
        "\n",
        "    # Map raters to column indices\n",
        "    rater_to_index = {rater: index for index, rater in enumerate(unique_raters)}\n",
        "\n",
        "    # Initialize the reliability data matrix with NaNs\n",
        "    reliability_data = np.full((len(data), len(unique_raters)), np.nan)\n",
        "\n",
        "    # Populate the matrix with ratings\n",
        "    for unit_index, unit_responses in enumerate(data):\n",
        "        for response in unit_responses:\n",
        "            if response[\"status\"] == \"submitted\":\n",
        "                rater_index = rater_to_index[response[\"user_id\"]]\n",
        "                rating = int(response[\"value\"]) + 1  # Adjust rating as necessary\n",
        "                reliability_data[unit_index, rater_index] = rating\n",
        "\n",
        "    return reliability_data.T\n",
        "\n",
        "\n",
        "df = processed_dataset[\"train\"].to_pandas()\n",
        "recs = df.loc[df.num_responses >= 2][\"quality\"]\n",
        "reliability_data = prepare_reliability_data(recs)\n",
        "alpha_score = krippendorff.alpha(\n",
        "    reliability_data=reliability_data, level_of_measurement=\"ordinal\"\n",
        ")\n",
        "alpha_score = round(alpha_score, 3)\n",
        "print(f\"krippendorff's alpha: {alpha_score}\")"
      ]
    },
    {
      "cell_type": "markdown",
      "metadata": {},
      "source": [
        "# Rating at Labels\n"
      ]
    },
    {
      "cell_type": "code",
      "execution_count": 54,
      "metadata": {},
      "outputs": [
        {
          "name": "stderr",
          "output_type": "stream",
          "text": [
            "/tmp/ipykernel_2897372/3354853807.py:10: FutureWarning: The default of observed=False is deprecated and will be changed to True in a future version of pandas. Pass observed=False to retain current behavior or observed=True to adopt the future default and silence this warning.\n",
            "  for bin, avg_rating in df.groupby(bins)[\"avg_rating\"]:\n"
          ]
        }
      ],
      "source": [
        "import pandas as pd\n",
        "\n",
        "df = df.loc[df.num_responses >= 2]\n",
        "\n",
        "# Create bins for the 'avg_rating' column\n",
        "bins = pd.cut(df[\"avg_rating\"], bins=5)\n",
        "\n",
        "label_rating = pd.Series()\n",
        "# Group the DataFrame by these bins and count the rows in each bin\n",
        "for bin, avg_rating in df.groupby(bins)[\"avg_rating\"]:\n",
        "    _df = df.loc[avg_rating.index]\n",
        "    alpha_score = krippendorff.alpha(\n",
        "        reliability_data=prepare_reliability_data(_df[\"quality\"]),\n",
        "        level_of_measurement=\"ordinal\",\n",
        "    )\n",
        "    label_rating[bin] = alpha_score"
      ]
    },
    {
      "cell_type": "code",
      "execution_count": 55,
      "metadata": {},
      "outputs": [
        {
          "data": {
            "text/plain": [
              "<Axes: title={'center': \"Krippendorff's Alpha by Average Rating\"}, xlabel=\"Krippendorff's Alpha\", ylabel='Average Rating'>"
            ]
          },
          "execution_count": 55,
          "metadata": {},
          "output_type": "execute_result"
        },
        {
          "data": {
            "image/png": "[encoded data removed]",
            "text/plain": [
              "<Figure size 640x480 with 1 Axes>"
            ]
          },
          "metadata": {},
          "output_type": "display_data"
        }
      ],
      "source": [
        "# set axis labels\n",
        "\n",
        "label_rating.plot(\n",
        "    kind=\"barh\",\n",
        "    title=\"Krippendorff's Alpha by Average Rating\",\n",
        "    ylabel=\"Average Rating\",\n",
        "    xlabel=\"Krippendorff's Alpha\",\n",
        ")"
      ]
    },
    {
      "cell_type": "markdown",
      "metadata": {},
      "source": [
        "# Agreement by user\n"
      ]
    },
    {
      "cell_type": "code",
      "execution_count": 69,
      "metadata": {},
      "outputs": [],
      "source": [
        "user_df = df.explode(\"quality\")\n",
        "user_df[\"user_id\"] = user_df[\"quality\"].apply(lambda x: x.get(\"user_id\"))"
      ]
    },
    {
      "cell_type": "markdown",
      "metadata": {},
      "source": [
        "## User agreement by average rating\n"
      ]
    },
    {
      "cell_type": "code",
      "execution_count": 70,
      "metadata": {},
      "outputs": [
        {
          "data": {
            "text/html": [
              "<div>\n",
              "<style scoped>\n",
              "    .dataframe tbody tr th:only-of-type {\n",
              "        vertical-align: middle;\n",
              "    }\n",
              "\n",
              "    .dataframe tbody tr th {\n",
              "        vertical-align: top;\n",
              "    }\n",
              "\n",
              "    .dataframe thead th {\n",
              "        text-align: right;\n",
              "    }\n",
              "</style>\n",
              "<table border=\"1\" class=\"dataframe\">\n",
              "  <thead>\n",
              "    <tr style=\"text-align: right;\">\n",
              "      <th></th>\n",
              "      <th>count</th>\n",
              "      <th>mean</th>\n",
              "      <th>std</th>\n",
              "      <th>min</th>\n",
              "      <th>25%</th>\n",
              "      <th>50%</th>\n",
              "      <th>75%</th>\n",
              "      <th>max</th>\n",
              "    </tr>\n",
              "    <tr>\n",
              "      <th>user_id</th>\n",
              "      <th></th>\n",
              "      <th></th>\n",
              "      <th></th>\n",
              "      <th></th>\n",
              "      <th></th>\n",
              "      <th></th>\n",
              "      <th></th>\n",
              "      <th></th>\n",
              "    </tr>\n",
              "  </thead>\n",
              "  <tbody>\n",
              "    <tr>\n",
              "      <th>0092c596-7348-4760-ad34-6790169a95fa</th>\n",
              "      <td>66.0</td>\n",
              "      <td>3.451010</td>\n",
              "      <td>1.012139</td>\n",
              "      <td>1.0</td>\n",
              "      <td>3.000000</td>\n",
              "      <td>3.500000</td>\n",
              "      <td>4.000000</td>\n",
              "      <td>5.000000</td>\n",
              "    </tr>\n",
              "    <tr>\n",
              "      <th>03612c05-3c69-48fc-8bc1-624b436b1906</th>\n",
              "      <td>65.0</td>\n",
              "      <td>3.507253</td>\n",
              "      <td>0.802303</td>\n",
              "      <td>2.0</td>\n",
              "      <td>3.000000</td>\n",
              "      <td>4.000000</td>\n",
              "      <td>4.000000</td>\n",
              "      <td>5.000000</td>\n",
              "    </tr>\n",
              "    <tr>\n",
              "      <th>0383bb61-7cc6-4025-943f-411864163fb2</th>\n",
              "      <td>10.0</td>\n",
              "      <td>3.415000</td>\n",
              "      <td>0.828149</td>\n",
              "      <td>2.4</td>\n",
              "      <td>2.750000</td>\n",
              "      <td>3.291667</td>\n",
              "      <td>4.000000</td>\n",
              "      <td>5.000000</td>\n",
              "    </tr>\n",
              "    <tr>\n",
              "      <th>0583afc2-2cd8-43b6-a61b-d73dbf2ad9d9</th>\n",
              "      <td>2512.0</td>\n",
              "      <td>3.786663</td>\n",
              "      <td>0.829184</td>\n",
              "      <td>1.0</td>\n",
              "      <td>3.000000</td>\n",
              "      <td>4.000000</td>\n",
              "      <td>4.500000</td>\n",
              "      <td>5.000000</td>\n",
              "    </tr>\n",
              "    <tr>\n",
              "      <th>067b1ce7-25f9-4cfd-a9cb-e95eba158c4b</th>\n",
              "      <td>23.0</td>\n",
              "      <td>3.344203</td>\n",
              "      <td>1.338132</td>\n",
              "      <td>1.0</td>\n",
              "      <td>2.125000</td>\n",
              "      <td>4.000000</td>\n",
              "      <td>4.166667</td>\n",
              "      <td>5.000000</td>\n",
              "    </tr>\n",
              "    <tr>\n",
              "      <th>...</th>\n",
              "      <td>...</td>\n",
              "      <td>...</td>\n",
              "      <td>...</td>\n",
              "      <td>...</td>\n",
              "      <td>...</td>\n",
              "      <td>...</td>\n",
              "      <td>...</td>\n",
              "      <td>...</td>\n",
              "    </tr>\n",
              "    <tr>\n",
              "      <th>fae7553a-e4d2-471d-96cc-78a7a094fb2c</th>\n",
              "      <td>14.0</td>\n",
              "      <td>3.630952</td>\n",
              "      <td>1.033992</td>\n",
              "      <td>2.0</td>\n",
              "      <td>3.125000</td>\n",
              "      <td>4.000000</td>\n",
              "      <td>4.000000</td>\n",
              "      <td>5.000000</td>\n",
              "    </tr>\n",
              "    <tr>\n",
              "      <th>fbc67e4b-8b9e-4aa3-9ffe-277c0ee46f65</th>\n",
              "      <td>3.0</td>\n",
              "      <td>3.000000</td>\n",
              "      <td>1.000000</td>\n",
              "      <td>2.0</td>\n",
              "      <td>2.500000</td>\n",
              "      <td>3.000000</td>\n",
              "      <td>3.500000</td>\n",
              "      <td>4.000000</td>\n",
              "    </tr>\n",
              "    <tr>\n",
              "      <th>fc6528f0-10ca-461d-82d1-3501fbc1b826</th>\n",
              "      <td>3.0</td>\n",
              "      <td>4.246032</td>\n",
              "      <td>0.647835</td>\n",
              "      <td>3.5</td>\n",
              "      <td>4.035714</td>\n",
              "      <td>4.571429</td>\n",
              "      <td>4.619048</td>\n",
              "      <td>4.666667</td>\n",
              "    </tr>\n",
              "    <tr>\n",
              "      <th>fc7fe6c4-9027-4095-b86e-534cdc85efb1</th>\n",
              "      <td>3.0</td>\n",
              "      <td>4.166667</td>\n",
              "      <td>0.577350</td>\n",
              "      <td>3.5</td>\n",
              "      <td>4.000000</td>\n",
              "      <td>4.500000</td>\n",
              "      <td>4.500000</td>\n",
              "      <td>4.500000</td>\n",
              "    </tr>\n",
              "    <tr>\n",
              "      <th>ffa4cef0-0919-4470-91cb-6a1fc41bffe7</th>\n",
              "      <td>110.0</td>\n",
              "      <td>3.670152</td>\n",
              "      <td>0.903307</td>\n",
              "      <td>1.0</td>\n",
              "      <td>3.000000</td>\n",
              "      <td>4.000000</td>\n",
              "      <td>4.333333</td>\n",
              "      <td>5.000000</td>\n",
              "    </tr>\n",
              "  </tbody>\n",
              "</table>\n",
              "<p>314 rows × 8 columns</p>\n",
              "</div>"
            ],
            "text/plain": [
              "                                       count      mean       std  min  \\\n",
              "user_id                                                                 \n",
              "0092c596-7348-4760-ad34-6790169a95fa    66.0  3.451010  1.012139  1.0   \n",
              "03612c05-3c69-48fc-8bc1-624b436b1906    65.0  3.507253  0.802303  2.0   \n",
              "0383bb61-7cc6-4025-943f-411864163fb2    10.0  3.415000  0.828149  2.4   \n",
              "0583afc2-2cd8-43b6-a61b-d73dbf2ad9d9  2512.0  3.786663  0.829184  1.0   \n",
              "067b1ce7-25f9-4cfd-a9cb-e95eba158c4b    23.0  3.344203  1.338132  1.0   \n",
              "...                                      ...       ...       ...  ...   \n",
              "fae7553a-e4d2-471d-96cc-78a7a094fb2c    14.0  3.630952  1.033992  2.0   \n",
              "fbc67e4b-8b9e-4aa3-9ffe-277c0ee46f65     3.0  3.000000  1.000000  2.0   \n",
              "fc6528f0-10ca-461d-82d1-3501fbc1b826     3.0  4.246032  0.647835  3.5   \n",
              "fc7fe6c4-9027-4095-b86e-534cdc85efb1     3.0  4.166667  0.577350  3.5   \n",
              "ffa4cef0-0919-4470-91cb-6a1fc41bffe7   110.0  3.670152  0.903307  1.0   \n",
              "\n",
              "                                           25%       50%       75%       max  \n",
              "user_id                                                                       \n",
              "0092c596-7348-4760-ad34-6790169a95fa  3.000000  3.500000  4.000000  5.000000  \n",
              "03612c05-3c69-48fc-8bc1-624b436b1906  3.000000  4.000000  4.000000  5.000000  \n",
              "0383bb61-7cc6-4025-943f-411864163fb2  2.750000  3.291667  4.000000  5.000000  \n",
              "0583afc2-2cd8-43b6-a61b-d73dbf2ad9d9  3.000000  4.000000  4.500000  5.000000  \n",
              "067b1ce7-25f9-4cfd-a9cb-e95eba158c4b  2.125000  4.000000  4.166667  5.000000  \n",
              "...                                        ...       ...       ...       ...  \n",
              "fae7553a-e4d2-471d-96cc-78a7a094fb2c  3.125000  4.000000  4.000000  5.000000  \n",
              "fbc67e4b-8b9e-4aa3-9ffe-277c0ee46f65  2.500000  3.000000  3.500000  4.000000  \n",
              "fc6528f0-10ca-461d-82d1-3501fbc1b826  4.035714  4.571429  4.619048  4.666667  \n",
              "fc7fe6c4-9027-4095-b86e-534cdc85efb1  4.000000  4.500000  4.500000  4.500000  \n",
              "ffa4cef0-0919-4470-91cb-6a1fc41bffe7  3.000000  4.000000  4.333333  5.000000  \n",
              "\n",
              "[314 rows x 8 columns]"
            ]
          },
          "execution_count": 70,
          "metadata": {},
          "output_type": "execute_result"
        }
      ],
      "source": [
        "user_df.groupby(\"user_id\")[\"avg_rating\"].describe()"
      ]
    },
    {
      "cell_type": "code",
      "execution_count": 71,
      "metadata": {},
      "outputs": [
        {
          "name": "stderr",
          "output_type": "stream",
          "text": [
            "/tmp/ipykernel_2897372/2558243833.py:4: FutureWarning: The default of observed=False is deprecated and will be changed to True in a future version of pandas. Pass observed=False to retain current behavior or observed=True to adopt the future default and silence this warning.\n",
            "  for bin, avg_rating in user_df.groupby(bins)[\"avg_rating\"]:\n"
          ]
        }
      ],
      "source": [
        "bins = pd.cut(user_df[\"avg_rating\"], bins=5)\n",
        "\n",
        "avg_rating_agreement = pd.Series()\n",
        "for bin, avg_rating in user_df.groupby(bins)[\"avg_rating\"]:\n",
        "    _user_df = user_df.loc[avg_rating.index]\n",
        "    _df_quality = _user_df.groupby(level=0)[\"quality\"].apply(list)\n",
        "    alpha_score = krippendorff.alpha(\n",
        "        reliability_data=prepare_reliability_data(_df_quality),\n",
        "        level_of_measurement=\"ordinal\",\n",
        "    )\n",
        "    avg_rating_agreement[bin] = alpha_score"
      ]
    },
    {
      "cell_type": "code",
      "execution_count": 72,
      "metadata": {},
      "outputs": [
        {
          "data": {
            "text/plain": [
              "<Axes: title={'center': \"Krippendorff's Alpha by User Average Rating\"}, xlabel=\"Krippendorff's Alpha\", ylabel='User Average Rating'>"
            ]
          },
          "execution_count": 72,
          "metadata": {},
          "output_type": "execute_result"
        },
        {
          "data": {
            "image/png": "[encoded data removed]",
            "text/plain": [
              "<Figure size 640x480 with 1 Axes>"
            ]
          },
          "metadata": {},
          "output_type": "display_data"
        }
      ],
      "source": [
        "# add title and axis labels\n",
        "avg_rating_agreement.plot(\n",
        "    kind=\"barh\",\n",
        "    title=\"Krippendorff's Alpha by User Average Rating\",\n",
        "    ylabel=\"User Average Rating\",\n",
        "    xlabel=\"Krippendorff's Alpha\",\n",
        ")"
      ]
    },
    {
      "cell_type": "markdown",
      "metadata": {},
      "source": [
        "## User agreement by agreement ratio\n"
      ]
    },
    {
      "cell_type": "code",
      "execution_count": 73,
      "metadata": {},
      "outputs": [
        {
          "data": {
            "text/html": [
              "<div>\n",
              "<style scoped>\n",
              "    .dataframe tbody tr th:only-of-type {\n",
              "        vertical-align: middle;\n",
              "    }\n",
              "\n",
              "    .dataframe tbody tr th {\n",
              "        vertical-align: top;\n",
              "    }\n",
              "\n",
              "    .dataframe thead th {\n",
              "        text-align: right;\n",
              "    }\n",
              "</style>\n",
              "<table border=\"1\" class=\"dataframe\">\n",
              "  <thead>\n",
              "    <tr style=\"text-align: right;\">\n",
              "      <th></th>\n",
              "      <th>count</th>\n",
              "      <th>mean</th>\n",
              "      <th>std</th>\n",
              "      <th>min</th>\n",
              "      <th>25%</th>\n",
              "      <th>50%</th>\n",
              "      <th>75%</th>\n",
              "      <th>max</th>\n",
              "    </tr>\n",
              "    <tr>\n",
              "      <th>user_id</th>\n",
              "      <th></th>\n",
              "      <th></th>\n",
              "      <th></th>\n",
              "      <th></th>\n",
              "      <th></th>\n",
              "      <th></th>\n",
              "      <th></th>\n",
              "      <th></th>\n",
              "    </tr>\n",
              "  </thead>\n",
              "  <tbody>\n",
              "    <tr>\n",
              "      <th>0092c596-7348-4760-ad34-6790169a95fa</th>\n",
              "      <td>66.0</td>\n",
              "      <td>0.766098</td>\n",
              "      <td>0.311179</td>\n",
              "      <td>0.166667</td>\n",
              "      <td>0.375000</td>\n",
              "      <td>1.000000</td>\n",
              "      <td>1.00000</td>\n",
              "      <td>1.000000</td>\n",
              "    </tr>\n",
              "    <tr>\n",
              "      <th>03612c05-3c69-48fc-8bc1-624b436b1906</th>\n",
              "      <td>65.0</td>\n",
              "      <td>0.805540</td>\n",
              "      <td>0.287275</td>\n",
              "      <td>0.166667</td>\n",
              "      <td>0.583333</td>\n",
              "      <td>1.000000</td>\n",
              "      <td>1.00000</td>\n",
              "      <td>1.000000</td>\n",
              "    </tr>\n",
              "    <tr>\n",
              "      <th>0383bb61-7cc6-4025-943f-411864163fb2</th>\n",
              "      <td>10.0</td>\n",
              "      <td>0.495833</td>\n",
              "      <td>0.356515</td>\n",
              "      <td>0.166667</td>\n",
              "      <td>0.250000</td>\n",
              "      <td>0.375000</td>\n",
              "      <td>0.84375</td>\n",
              "      <td>1.000000</td>\n",
              "    </tr>\n",
              "    <tr>\n",
              "      <th>0583afc2-2cd8-43b6-a61b-d73dbf2ad9d9</th>\n",
              "      <td>2512.0</td>\n",
              "      <td>0.795195</td>\n",
              "      <td>0.291165</td>\n",
              "      <td>0.062500</td>\n",
              "      <td>0.375000</td>\n",
              "      <td>1.000000</td>\n",
              "      <td>1.00000</td>\n",
              "      <td>1.000000</td>\n",
              "    </tr>\n",
              "    <tr>\n",
              "      <th>067b1ce7-25f9-4cfd-a9cb-e95eba158c4b</th>\n",
              "      <td>23.0</td>\n",
              "      <td>0.773551</td>\n",
              "      <td>0.294045</td>\n",
              "      <td>0.375000</td>\n",
              "      <td>0.375000</td>\n",
              "      <td>1.000000</td>\n",
              "      <td>1.00000</td>\n",
              "      <td>1.000000</td>\n",
              "    </tr>\n",
              "    <tr>\n",
              "      <th>...</th>\n",
              "      <td>...</td>\n",
              "      <td>...</td>\n",
              "      <td>...</td>\n",
              "      <td>...</td>\n",
              "      <td>...</td>\n",
              "      <td>...</td>\n",
              "      <td>...</td>\n",
              "      <td>...</td>\n",
              "    </tr>\n",
              "    <tr>\n",
              "      <th>fae7553a-e4d2-471d-96cc-78a7a094fb2c</th>\n",
              "      <td>14.0</td>\n",
              "      <td>0.747024</td>\n",
              "      <td>0.318359</td>\n",
              "      <td>0.166667</td>\n",
              "      <td>0.427083</td>\n",
              "      <td>1.000000</td>\n",
              "      <td>1.00000</td>\n",
              "      <td>1.000000</td>\n",
              "    </tr>\n",
              "    <tr>\n",
              "      <th>fbc67e4b-8b9e-4aa3-9ffe-277c0ee46f65</th>\n",
              "      <td>3.0</td>\n",
              "      <td>0.791667</td>\n",
              "      <td>0.360844</td>\n",
              "      <td>0.375000</td>\n",
              "      <td>0.687500</td>\n",
              "      <td>1.000000</td>\n",
              "      <td>1.00000</td>\n",
              "      <td>1.000000</td>\n",
              "    </tr>\n",
              "    <tr>\n",
              "      <th>fc6528f0-10ca-461d-82d1-3501fbc1b826</th>\n",
              "      <td>3.0</td>\n",
              "      <td>0.474206</td>\n",
              "      <td>0.104520</td>\n",
              "      <td>0.375000</td>\n",
              "      <td>0.419643</td>\n",
              "      <td>0.464286</td>\n",
              "      <td>0.52381</td>\n",
              "      <td>0.583333</td>\n",
              "    </tr>\n",
              "    <tr>\n",
              "      <th>fc7fe6c4-9027-4095-b86e-534cdc85efb1</th>\n",
              "      <td>3.0</td>\n",
              "      <td>0.375000</td>\n",
              "      <td>0.000000</td>\n",
              "      <td>0.375000</td>\n",
              "      <td>0.375000</td>\n",
              "      <td>0.375000</td>\n",
              "      <td>0.37500</td>\n",
              "      <td>0.375000</td>\n",
              "    </tr>\n",
              "    <tr>\n",
              "      <th>ffa4cef0-0919-4470-91cb-6a1fc41bffe7</th>\n",
              "      <td>110.0</td>\n",
              "      <td>0.724811</td>\n",
              "      <td>0.292459</td>\n",
              "      <td>0.166667</td>\n",
              "      <td>0.375000</td>\n",
              "      <td>0.875000</td>\n",
              "      <td>1.00000</td>\n",
              "      <td>1.000000</td>\n",
              "    </tr>\n",
              "  </tbody>\n",
              "</table>\n",
              "<p>314 rows × 8 columns</p>\n",
              "</div>"
            ],
            "text/plain": [
              "                                       count      mean       std       min  \\\n",
              "user_id                                                                      \n",
              "0092c596-7348-4760-ad34-6790169a95fa    66.0  0.766098  0.311179  0.166667   \n",
              "03612c05-3c69-48fc-8bc1-624b436b1906    65.0  0.805540  0.287275  0.166667   \n",
              "0383bb61-7cc6-4025-943f-411864163fb2    10.0  0.495833  0.356515  0.166667   \n",
              "0583afc2-2cd8-43b6-a61b-d73dbf2ad9d9  2512.0  0.795195  0.291165  0.062500   \n",
              "067b1ce7-25f9-4cfd-a9cb-e95eba158c4b    23.0  0.773551  0.294045  0.375000   \n",
              "...                                      ...       ...       ...       ...   \n",
              "fae7553a-e4d2-471d-96cc-78a7a094fb2c    14.0  0.747024  0.318359  0.166667   \n",
              "fbc67e4b-8b9e-4aa3-9ffe-277c0ee46f65     3.0  0.791667  0.360844  0.375000   \n",
              "fc6528f0-10ca-461d-82d1-3501fbc1b826     3.0  0.474206  0.104520  0.375000   \n",
              "fc7fe6c4-9027-4095-b86e-534cdc85efb1     3.0  0.375000  0.000000  0.375000   \n",
              "ffa4cef0-0919-4470-91cb-6a1fc41bffe7   110.0  0.724811  0.292459  0.166667   \n",
              "\n",
              "                                           25%       50%      75%       max  \n",
              "user_id                                                                      \n",
              "0092c596-7348-4760-ad34-6790169a95fa  0.375000  1.000000  1.00000  1.000000  \n",
              "03612c05-3c69-48fc-8bc1-624b436b1906  0.583333  1.000000  1.00000  1.000000  \n",
              "0383bb61-7cc6-4025-943f-411864163fb2  0.250000  0.375000  0.84375  1.000000  \n",
              "0583afc2-2cd8-43b6-a61b-d73dbf2ad9d9  0.375000  1.000000  1.00000  1.000000  \n",
              "067b1ce7-25f9-4cfd-a9cb-e95eba158c4b  0.375000  1.000000  1.00000  1.000000  \n",
              "...                                        ...       ...      ...       ...  \n",
              "fae7553a-e4d2-471d-96cc-78a7a094fb2c  0.427083  1.000000  1.00000  1.000000  \n",
              "fbc67e4b-8b9e-4aa3-9ffe-277c0ee46f65  0.687500  1.000000  1.00000  1.000000  \n",
              "fc6528f0-10ca-461d-82d1-3501fbc1b826  0.419643  0.464286  0.52381  0.583333  \n",
              "fc7fe6c4-9027-4095-b86e-534cdc85efb1  0.375000  0.375000  0.37500  0.375000  \n",
              "ffa4cef0-0919-4470-91cb-6a1fc41bffe7  0.375000  0.875000  1.00000  1.000000  \n",
              "\n",
              "[314 rows x 8 columns]"
            ]
          },
          "execution_count": 73,
          "metadata": {},
          "output_type": "execute_result"
        }
      ],
      "source": [
        "user_df.groupby(\"user_id\")[\"agreement_ratio\"].describe()"
      ]
    },
    {
      "cell_type": "code",
      "execution_count": 74,
      "metadata": {},
      "outputs": [
        {
          "name": "stderr",
          "output_type": "stream",
          "text": [
            "/tmp/ipykernel_2897372/3295316802.py:4: FutureWarning: The default of observed=False is deprecated and will be changed to True in a future version of pandas. Pass observed=False to retain current behavior or observed=True to adopt the future default and silence this warning.\n",
            "  for bin_range, grouped_df in user_df.groupby(bins):\n"
          ]
        }
      ],
      "source": [
        "avg_rating_agreement = {}\n",
        "bins = pd.cut(user_df[\"agreement_ratio\"], bins=5)\n",
        "\n",
        "for bin_range, grouped_df in user_df.groupby(bins):\n",
        "    _df_quality = grouped_df.groupby(level=0)[\"quality\"].apply(list)\n",
        "    _df_quality = _df_quality.loc[_df_quality.apply(len) >= 2]\n",
        "    if len(_df_quality) >= 10:\n",
        "        reliability_data = prepare_reliability_data(_df_quality)\n",
        "        alpha_score = krippendorff.alpha(\n",
        "            reliability_data=reliability_data, level_of_measurement=\"ordinal\"\n",
        "        )\n",
        "        avg_rating_agreement[bin_range] = alpha_score\n",
        "\n",
        "\n",
        "avg_rating_agreement = pd.Series(avg_rating_agreement)"
      ]
    },
    {
      "cell_type": "code",
      "execution_count": 75,
      "metadata": {},
      "outputs": [
        {
          "data": {
            "text/plain": [
              "<Axes: title={'center': \"Krippendorff's Alpha by User Agreement Ratio\"}, xlabel=\"Krippendorff's Alpha\", ylabel='User Agreement Ratio'>"
            ]
          },
          "execution_count": 75,
          "metadata": {},
          "output_type": "execute_result"
        },
        {
          "data": {
            "image/png": "[encoded data removed]",
            "text/plain": [
              "<Figure size 640x480 with 1 Axes>"
            ]
          },
          "metadata": {},
          "output_type": "display_data"
        }
      ],
      "source": [
        "avg_rating_agreement.plot(\n",
        "    kind=\"barh\",\n",
        "    title=\"Krippendorff's Alpha by User Agreement Ratio\",\n",
        "    ylabel=\"User Agreement Ratio\",\n",
        "    xlabel=\"Krippendorff's Alpha\",\n",
        ")"
      ]
    },
    {
      "cell_type": "code",
      "execution_count": null,
      "metadata": {},
      "outputs": [],
      "source": []
    },
    {
      "cell_type": "markdown",
      "metadata": {},
      "source": [
        "# filter on deviation of ratings\n"
      ]
    },
    {
      "cell_type": "code",
      "execution_count": 76,
      "metadata": {},
      "outputs": [
        {
          "data": {
            "text/plain": [
              "<Axes: ylabel='raw_responses'>"
            ]
          },
          "execution_count": 76,
          "metadata": {},
          "output_type": "execute_result"
        },
        {
          "data": {
            "image/png": "[encoded data removed]",
            "text/plain": [
              "<Figure size 640x480 with 1 Axes>"
            ]
          },
          "metadata": {},
          "output_type": "display_data"
        }
      ],
      "source": [
        "df = df.loc[df.num_responses == 2]\n",
        "df[\"raw_responses\"].apply(lambda x: max(x) - min(x)).value_counts().plot.barh()"
      ]
    },
    {
      "cell_type": "code",
      "execution_count": 77,
      "metadata": {},
      "outputs": [],
      "source": [
        "df[\"diff_max_min\"] = df[\"raw_responses\"].apply(lambda x: max(x) - min(x))"
      ]
    },
    {
      "cell_type": "code",
      "execution_count": 78,
      "metadata": {},
      "outputs": [
        {
          "name": "stderr",
          "output_type": "stream",
          "text": [
            "/tmp/ipykernel_2897372/482961092.py:4: FutureWarning: The default of observed=False is deprecated and will be changed to True in a future version of pandas. Pass observed=False to retain current behavior or observed=True to adopt the future default and silence this warning.\n",
            "  for bin, diff_max_min in df.groupby(bins)[\"diff_max_min\"]:\n"
          ]
        }
      ],
      "source": [
        "bins = pd.cut(df[\"diff_max_min\"], bins=2)\n",
        "\n",
        "diff_max_min_agreement = pd.Series()\n",
        "for bin, diff_max_min in df.groupby(bins)[\"diff_max_min\"]:\n",
        "    _df = df.loc[diff_max_min.index]\n",
        "    alpha_score = krippendorff.alpha(\n",
        "        reliability_data=prepare_reliability_data(_df[\"quality\"]),\n",
        "        level_of_measurement=\"ordinal\",\n",
        "    )\n",
        "    diff_max_min_agreement[bin] = alpha_score"
      ]
    },
    {
      "cell_type": "code",
      "execution_count": 79,
      "metadata": {},
      "outputs": [
        {
          "data": {
            "text/plain": [
              "<Axes: title={'center': \"Krippendorff's Alpha by Average Rating\"}, xlabel=\"Krippendorff's Alpha\", ylabel='Average Rating'>"
            ]
          },
          "execution_count": 79,
          "metadata": {},
          "output_type": "execute_result"
        },
        {
          "data": {
            "image/png": "[encoded data removed]",
            "text/plain": [
              "<Figure size 640x480 with 1 Axes>"
            ]
          },
          "metadata": {},
          "output_type": "display_data"
        }
      ],
      "source": [
        "# set axis labels\n",
        "\n",
        "diff_max_min_agreement.plot(\n",
        "    kind=\"barh\",\n",
        "    title=\"Krippendorff's Alpha by Average Rating\",\n",
        "    ylabel=\"Average Rating\",\n",
        "    xlabel=\"Krippendorff's Alpha\",\n",
        ")"
      ]
    },
    {
      "cell_type": "code",
      "execution_count": 80,
      "metadata": {},
      "outputs": [
        {
          "data": {
            "text/plain": [
              "array([[nan, nan, nan, ..., nan, nan, nan],\n",
              "       [nan, nan, nan, ..., nan, nan, nan],\n",
              "       [nan, nan, nan, ..., nan, nan, nan],\n",
              "       ...,\n",
              "       [nan, nan, nan, ..., nan, nan, nan],\n",
              "       [nan, nan, nan, ..., nan, nan, nan],\n",
              "       [nan, nan, nan, ..., nan, nan, nan]])"
            ]
          },
          "execution_count": 80,
          "metadata": {},
          "output_type": "execute_result"
        }
      ],
      "source": [
        "prepare_reliability_data(_df[\"quality\"])"
      ]
    },
    {
      "cell_type": "code",
      "execution_count": 81,
      "metadata": {},
      "outputs": [
        {
          "data": {
            "text/plain": [
              "diff_max_min\n",
              "(-0.004, 2.0]    2429\n",
              "(2.0, 4.0]        171\n",
              "Name: count, dtype: int64"
            ]
          },
          "execution_count": 81,
          "metadata": {},
          "output_type": "execute_result"
        }
      ],
      "source": [
        "bins.value_counts()"
      ]
    },
    {
      "cell_type": "code",
      "execution_count": null,
      "metadata": {},
      "outputs": [],
      "source": []
    }
  ],
  "metadata": {
    "colab": {
      "provenance": []
    },
    "kernelspec": {
      "display_name": "Python 3",
      "name": "python3"
    },
    "language_info": {
      "codemirror_mode": {
        "name": "ipython",
        "version": 3
      },
      "file_extension": ".py",
      "mimetype": "text/x-python",
      "name": "python",
      "nbconvert_exporter": "python",
      "pygments_lexer": "ipython3",
      "version": "3.10.13"
    },
    "widgets": {
      "application/vnd.jupyter.widget-state+json": {
        "0363dba4409b460fb79728de3736327d": {
          "model_module": "@jupyter-widgets/controls",
          "model_module_version": "1.5.0",
          "model_name": "ProgressStyleModel",
          "state": {
            "_model_module": "@jupyter-widgets/controls",
            "_model_module_version": "1.5.0",
            "_model_name": "ProgressStyleModel",
            "_view_count": null,
            "_view_module": "@jupyter-widgets/base",
            "_view_module_version": "1.2.0",
            "_view_name": "StyleView",
            "bar_color": null,
            "description_width": ""
          }
        },
        "06466d1100674ec7a25f94b2d21cb804": {
          "model_module": "@jupyter-widgets/base",
          "model_module_version": "1.2.0",
          "model_name": "LayoutModel",
          "state": {
            "_model_module": "@jupyter-widgets/base",
            "_model_module_version": "1.2.0",
            "_model_name": "LayoutModel",
            "_view_count": null,
            "_view_module": "@jupyter-widgets/base",
            "_view_module_version": "1.2.0",
            "_view_name": "LayoutView",
            "align_content": null,
            "align_items": null,
            "align_self": null,
            "border": null,
            "bottom": null,
            "display": null,
            "flex": null,
            "flex_flow": null,
            "grid_area": null,
            "grid_auto_columns": null,
            "grid_auto_flow": null,
            "grid_auto_rows": null,
            "grid_column": null,
            "grid_gap": null,
            "grid_row": null,
            "grid_template_areas": null,
            "grid_template_columns": null,
            "grid_template_rows": null,
            "height": null,
            "justify_content": null,
            "justify_items": null,
            "left": null,
            "margin": null,
            "max_height": null,
            "max_width": null,
            "min_height": null,
            "min_width": null,
            "object_fit": null,
            "object_position": null,
            "order": null,
            "overflow": null,
            "overflow_x": null,
            "overflow_y": null,
            "padding": null,
            "right": null,
            "top": null,
            "visibility": null,
            "width": null
          }
        },
        "1380dc92f1294782ad0f73979c5a1a5c": {
          "model_module": "@jupyter-widgets/base",
          "model_module_version": "1.2.0",
          "model_name": "LayoutModel",
          "state": {
            "_model_module": "@jupyter-widgets/base",
            "_model_module_version": "1.2.0",
            "_model_name": "LayoutModel",
            "_view_count": null,
            "_view_module": "@jupyter-widgets/base",
            "_view_module_version": "1.2.0",
            "_view_name": "LayoutView",
            "align_content": null,
            "align_items": null,
            "align_self": null,
            "border": null,
            "bottom": null,
            "display": null,
            "flex": null,
            "flex_flow": null,
            "grid_area": null,
            "grid_auto_columns": null,
            "grid_auto_flow": null,
            "grid_auto_rows": null,
            "grid_column": null,
            "grid_gap": null,
            "grid_row": null,
            "grid_template_areas": null,
            "grid_template_columns": null,
            "grid_template_rows": null,
            "height": null,
            "justify_content": null,
            "justify_items": null,
            "left": null,
            "margin": null,
            "max_height": null,
            "max_width": null,
            "min_height": null,
            "min_width": null,
            "object_fit": null,
            "object_position": null,
            "order": null,
            "overflow": null,
            "overflow_x": null,
            "overflow_y": null,
            "padding": null,
            "right": null,
            "top": null,
            "visibility": null,
            "width": null
          }
        },
        "1cdbb8ec88bb41b199cb8a5f7b580d45": {
          "model_module": "@jupyter-widgets/controls",
          "model_module_version": "1.5.0",
          "model_name": "HBoxModel",
          "state": {
            "_dom_classes": [],
            "_model_module": "@jupyter-widgets/controls",
            "_model_module_version": "1.5.0",
            "_model_name": "HBoxModel",
            "_view_count": null,
            "_view_module": "@jupyter-widgets/controls",
            "_view_module_version": "1.5.0",
            "_view_name": "HBoxView",
            "box_style": "",
            "children": [
              "IPY_MODEL_ad8c9948615141eab0818b67033cf71e",
              "IPY_MODEL_c60cb0f5c88f4e9fa9f118b30d1536b2",
              "IPY_MODEL_732b71b095774851b47bfcd900bb2399"
            ],
            "layout": "IPY_MODEL_4f012b5fcf644961bf9cd2e4197e6b9b"
          }
        },
        "1dc1b8128ed94763b23e6fba8771bbb3": {
          "model_module": "@jupyter-widgets/base",
          "model_module_version": "1.2.0",
          "model_name": "LayoutModel",
          "state": {
            "_model_module": "@jupyter-widgets/base",
            "_model_module_version": "1.2.0",
            "_model_name": "LayoutModel",
            "_view_count": null,
            "_view_module": "@jupyter-widgets/base",
            "_view_module_version": "1.2.0",
            "_view_name": "LayoutView",
            "align_content": null,
            "align_items": null,
            "align_self": null,
            "border": null,
            "bottom": null,
            "display": null,
            "flex": null,
            "flex_flow": null,
            "grid_area": null,
            "grid_auto_columns": null,
            "grid_auto_flow": null,
            "grid_auto_rows": null,
            "grid_column": null,
            "grid_gap": null,
            "grid_row": null,
            "grid_template_areas": null,
            "grid_template_columns": null,
            "grid_template_rows": null,
            "height": null,
            "justify_content": null,
            "justify_items": null,
            "left": null,
            "margin": null,
            "max_height": null,
            "max_width": null,
            "min_height": null,
            "min_width": null,
            "object_fit": null,
            "object_position": null,
            "order": null,
            "overflow": null,
            "overflow_x": null,
            "overflow_y": null,
            "padding": null,
            "right": null,
            "top": null,
            "visibility": null,
            "width": null
          }
        },
        "362612205e244803ba50eec09b5dc22c": {
          "model_module": "@jupyter-widgets/controls",
          "model_module_version": "1.5.0",
          "model_name": "ProgressStyleModel",
          "state": {
            "_model_module": "@jupyter-widgets/controls",
            "_model_module_version": "1.5.0",
            "_model_name": "ProgressStyleModel",
            "_view_count": null,
            "_view_module": "@jupyter-widgets/base",
            "_view_module_version": "1.2.0",
            "_view_name": "StyleView",
            "bar_color": null,
            "description_width": ""
          }
        },
        "4f012b5fcf644961bf9cd2e4197e6b9b": {
          "model_module": "@jupyter-widgets/base",
          "model_module_version": "1.2.0",
          "model_name": "LayoutModel",
          "state": {
            "_model_module": "@jupyter-widgets/base",
            "_model_module_version": "1.2.0",
            "_model_name": "LayoutModel",
            "_view_count": null,
            "_view_module": "@jupyter-widgets/base",
            "_view_module_version": "1.2.0",
            "_view_name": "LayoutView",
            "align_content": null,
            "align_items": null,
            "align_self": null,
            "border": null,
            "bottom": null,
            "display": null,
            "flex": null,
            "flex_flow": null,
            "grid_area": null,
            "grid_auto_columns": null,
            "grid_auto_flow": null,
            "grid_auto_rows": null,
            "grid_column": null,
            "grid_gap": null,
            "grid_row": null,
            "grid_template_areas": null,
            "grid_template_columns": null,
            "grid_template_rows": null,
            "height": null,
            "justify_content": null,
            "justify_items": null,
            "left": null,
            "margin": null,
            "max_height": null,
            "max_width": null,
            "min_height": null,
            "min_width": null,
            "object_fit": null,
            "object_position": null,
            "order": null,
            "overflow": null,
            "overflow_x": null,
            "overflow_y": null,
            "padding": null,
            "right": null,
            "top": null,
            "visibility": null,
            "width": null
          }
        },
        "67fb57377407451d88a14f0aebe3ec3c": {
          "model_module": "@jupyter-widgets/controls",
          "model_module_version": "1.5.0",
          "model_name": "DescriptionStyleModel",
          "state": {
            "_model_module": "@jupyter-widgets/controls",
            "_model_module_version": "1.5.0",
            "_model_name": "DescriptionStyleModel",
            "_view_count": null,
            "_view_module": "@jupyter-widgets/base",
            "_view_module_version": "1.2.0",
            "_view_name": "StyleView",
            "description_width": ""
          }
        },
        "6ab367b309954374a3227c77eae4362a": {
          "model_module": "@jupyter-widgets/controls",
          "model_module_version": "1.5.0",
          "model_name": "HTMLModel",
          "state": {
            "_dom_classes": [],
            "_model_module": "@jupyter-widgets/controls",
            "_model_module_version": "1.5.0",
            "_model_name": "HTMLModel",
            "_view_count": null,
            "_view_module": "@jupyter-widgets/controls",
            "_view_module_version": "1.5.0",
            "_view_name": "HTMLView",
            "description": "",
            "description_tooltip": null,
            "layout": "IPY_MODEL_873ec7287d2644a0b9d92b316fcb66d5",
            "placeholder": "​",
            "style": "IPY_MODEL_b488bee6e628471db5fa31b1434fbf51",
            "value": "Map: 100%"
          }
        },
        "6d62975b2b104be1952605e0b7123899": {
          "model_module": "@jupyter-widgets/controls",
          "model_module_version": "1.5.0",
          "model_name": "DescriptionStyleModel",
          "state": {
            "_model_module": "@jupyter-widgets/controls",
            "_model_module_version": "1.5.0",
            "_model_name": "DescriptionStyleModel",
            "_view_count": null,
            "_view_module": "@jupyter-widgets/base",
            "_view_module_version": "1.2.0",
            "_view_name": "StyleView",
            "description_width": ""
          }
        },
        "732b71b095774851b47bfcd900bb2399": {
          "model_module": "@jupyter-widgets/controls",
          "model_module_version": "1.5.0",
          "model_name": "HTMLModel",
          "state": {
            "_dom_classes": [],
            "_model_module": "@jupyter-widgets/controls",
            "_model_module_version": "1.5.0",
            "_model_name": "HTMLModel",
            "_view_count": null,
            "_view_module": "@jupyter-widgets/controls",
            "_view_module_version": "1.5.0",
            "_view_name": "HTMLView",
            "description": "",
            "description_tooltip": null,
            "layout": "IPY_MODEL_9ed2659d996b43d985e1fd9e93b514b0",
            "placeholder": "​",
            "style": "IPY_MODEL_6d62975b2b104be1952605e0b7123899",
            "value": " 10331/10331 [00:01&lt;00:00, 7731.93 examples/s]"
          }
        },
        "873ec7287d2644a0b9d92b316fcb66d5": {
          "model_module": "@jupyter-widgets/base",
          "model_module_version": "1.2.0",
          "model_name": "LayoutModel",
          "state": {
            "_model_module": "@jupyter-widgets/base",
            "_model_module_version": "1.2.0",
            "_model_name": "LayoutModel",
            "_view_count": null,
            "_view_module": "@jupyter-widgets/base",
            "_view_module_version": "1.2.0",
            "_view_name": "LayoutView",
            "align_content": null,
            "align_items": null,
            "align_self": null,
            "border": null,
            "bottom": null,
            "display": null,
            "flex": null,
            "flex_flow": null,
            "grid_area": null,
            "grid_auto_columns": null,
            "grid_auto_flow": null,
            "grid_auto_rows": null,
            "grid_column": null,
            "grid_gap": null,
            "grid_row": null,
            "grid_template_areas": null,
            "grid_template_columns": null,
            "grid_template_rows": null,
            "height": null,
            "justify_content": null,
            "justify_items": null,
            "left": null,
            "margin": null,
            "max_height": null,
            "max_width": null,
            "min_height": null,
            "min_width": null,
            "object_fit": null,
            "object_position": null,
            "order": null,
            "overflow": null,
            "overflow_x": null,
            "overflow_y": null,
            "padding": null,
            "right": null,
            "top": null,
            "visibility": null,
            "width": null
          }
        },
        "9ed2659d996b43d985e1fd9e93b514b0": {
          "model_module": "@jupyter-widgets/base",
          "model_module_version": "1.2.0",
          "model_name": "LayoutModel",
          "state": {
            "_model_module": "@jupyter-widgets/base",
            "_model_module_version": "1.2.0",
            "_model_name": "LayoutModel",
            "_view_count": null,
            "_view_module": "@jupyter-widgets/base",
            "_view_module_version": "1.2.0",
            "_view_name": "LayoutView",
            "align_content": null,
            "align_items": null,
            "align_self": null,
            "border": null,
            "bottom": null,
            "display": null,
            "flex": null,
            "flex_flow": null,
            "grid_area": null,
            "grid_auto_columns": null,
            "grid_auto_flow": null,
            "grid_auto_rows": null,
            "grid_column": null,
            "grid_gap": null,
            "grid_row": null,
            "grid_template_areas": null,
            "grid_template_columns": null,
            "grid_template_rows": null,
            "height": null,
            "justify_content": null,
            "justify_items": null,
            "left": null,
            "margin": null,
            "max_height": null,
            "max_width": null,
            "min_height": null,
            "min_width": null,
            "object_fit": null,
            "object_position": null,
            "order": null,
            "overflow": null,
            "overflow_x": null,
            "overflow_y": null,
            "padding": null,
            "right": null,
            "top": null,
            "visibility": null,
            "width": null
          }
        },
        "abfbdfd58a624834a8e5569c9dcd9052": {
          "model_module": "@jupyter-widgets/controls",
          "model_module_version": "1.5.0",
          "model_name": "HBoxModel",
          "state": {
            "_dom_classes": [],
            "_model_module": "@jupyter-widgets/controls",
            "_model_module_version": "1.5.0",
            "_model_name": "HBoxModel",
            "_view_count": null,
            "_view_module": "@jupyter-widgets/controls",
            "_view_module_version": "1.5.0",
            "_view_name": "HBoxView",
            "box_style": "",
            "children": [
              "IPY_MODEL_6ab367b309954374a3227c77eae4362a",
              "IPY_MODEL_bf0a07ea5ca24fa4b3256f7a175c09c3",
              "IPY_MODEL_b3c62e9419b94a2fb3467f04076b86b3"
            ],
            "layout": "IPY_MODEL_f9261583da51414f92f9489905151cd6"
          }
        },
        "ad8c9948615141eab0818b67033cf71e": {
          "model_module": "@jupyter-widgets/controls",
          "model_module_version": "1.5.0",
          "model_name": "HTMLModel",
          "state": {
            "_dom_classes": [],
            "_model_module": "@jupyter-widgets/controls",
            "_model_module_version": "1.5.0",
            "_model_name": "HTMLModel",
            "_view_count": null,
            "_view_module": "@jupyter-widgets/controls",
            "_view_module_version": "1.5.0",
            "_view_name": "HTMLView",
            "description": "",
            "description_tooltip": null,
            "layout": "IPY_MODEL_1380dc92f1294782ad0f73979c5a1a5c",
            "placeholder": "​",
            "style": "IPY_MODEL_67fb57377407451d88a14f0aebe3ec3c",
            "value": "Map: 100%"
          }
        },
        "b3c62e9419b94a2fb3467f04076b86b3": {
          "model_module": "@jupyter-widgets/controls",
          "model_module_version": "1.5.0",
          "model_name": "HTMLModel",
          "state": {
            "_dom_classes": [],
            "_model_module": "@jupyter-widgets/controls",
            "_model_module_version": "1.5.0",
            "_model_name": "HTMLModel",
            "_view_count": null,
            "_view_module": "@jupyter-widgets/controls",
            "_view_module_version": "1.5.0",
            "_view_name": "HTMLView",
            "description": "",
            "description_tooltip": null,
            "layout": "IPY_MODEL_06466d1100674ec7a25f94b2d21cb804",
            "placeholder": "​",
            "style": "IPY_MODEL_eb2eaaf203b14cff97e98a781c469345",
            "value": " 10331/10331 [00:01&lt;00:00, 8113.66 examples/s]"
          }
        },
        "b488bee6e628471db5fa31b1434fbf51": {
          "model_module": "@jupyter-widgets/controls",
          "model_module_version": "1.5.0",
          "model_name": "DescriptionStyleModel",
          "state": {
            "_model_module": "@jupyter-widgets/controls",
            "_model_module_version": "1.5.0",
            "_model_name": "DescriptionStyleModel",
            "_view_count": null,
            "_view_module": "@jupyter-widgets/base",
            "_view_module_version": "1.2.0",
            "_view_name": "StyleView",
            "description_width": ""
          }
        },
        "bb897471f38b42e9a884ca861f420bf3": {
          "model_module": "@jupyter-widgets/base",
          "model_module_version": "1.2.0",
          "model_name": "LayoutModel",
          "state": {
            "_model_module": "@jupyter-widgets/base",
            "_model_module_version": "1.2.0",
            "_model_name": "LayoutModel",
            "_view_count": null,
            "_view_module": "@jupyter-widgets/base",
            "_view_module_version": "1.2.0",
            "_view_name": "LayoutView",
            "align_content": null,
            "align_items": null,
            "align_self": null,
            "border": null,
            "bottom": null,
            "display": null,
            "flex": null,
            "flex_flow": null,
            "grid_area": null,
            "grid_auto_columns": null,
            "grid_auto_flow": null,
            "grid_auto_rows": null,
            "grid_column": null,
            "grid_gap": null,
            "grid_row": null,
            "grid_template_areas": null,
            "grid_template_columns": null,
            "grid_template_rows": null,
            "height": null,
            "justify_content": null,
            "justify_items": null,
            "left": null,
            "margin": null,
            "max_height": null,
            "max_width": null,
            "min_height": null,
            "min_width": null,
            "object_fit": null,
            "object_position": null,
            "order": null,
            "overflow": null,
            "overflow_x": null,
            "overflow_y": null,
            "padding": null,
            "right": null,
            "top": null,
            "visibility": null,
            "width": null
          }
        },
        "bf0a07ea5ca24fa4b3256f7a175c09c3": {
          "model_module": "@jupyter-widgets/controls",
          "model_module_version": "1.5.0",
          "model_name": "FloatProgressModel",
          "state": {
            "_dom_classes": [],
            "_model_module": "@jupyter-widgets/controls",
            "_model_module_version": "1.5.0",
            "_model_name": "FloatProgressModel",
            "_view_count": null,
            "_view_module": "@jupyter-widgets/controls",
            "_view_module_version": "1.5.0",
            "_view_name": "ProgressView",
            "bar_style": "success",
            "description": "",
            "description_tooltip": null,
            "layout": "IPY_MODEL_1dc1b8128ed94763b23e6fba8771bbb3",
            "max": 10331,
            "min": 0,
            "orientation": "horizontal",
            "style": "IPY_MODEL_362612205e244803ba50eec09b5dc22c",
            "value": 10331
          }
        },
        "c60cb0f5c88f4e9fa9f118b30d1536b2": {
          "model_module": "@jupyter-widgets/controls",
          "model_module_version": "1.5.0",
          "model_name": "FloatProgressModel",
          "state": {
            "_dom_classes": [],
            "_model_module": "@jupyter-widgets/controls",
            "_model_module_version": "1.5.0",
            "_model_name": "FloatProgressModel",
            "_view_count": null,
            "_view_module": "@jupyter-widgets/controls",
            "_view_module_version": "1.5.0",
            "_view_name": "ProgressView",
            "bar_style": "success",
            "description": "",
            "description_tooltip": null,
            "layout": "IPY_MODEL_bb897471f38b42e9a884ca861f420bf3",
            "max": 10331,
            "min": 0,
            "orientation": "horizontal",
            "style": "IPY_MODEL_0363dba4409b460fb79728de3736327d",
            "value": 10331
          }
        },
        "eb2eaaf203b14cff97e98a781c469345": {
          "model_module": "@jupyter-widgets/controls",
          "model_module_version": "1.5.0",
          "model_name": "DescriptionStyleModel",
          "state": {
            "_model_module": "@jupyter-widgets/controls",
            "_model_module_version": "1.5.0",
            "_model_name": "DescriptionStyleModel",
            "_view_count": null,
            "_view_module": "@jupyter-widgets/base",
            "_view_module_version": "1.2.0",
            "_view_name": "StyleView",
            "description_width": ""
          }
        },
        "f9261583da51414f92f9489905151cd6": {
          "model_module": "@jupyter-widgets/base",
          "model_module_version": "1.2.0",
          "model_name": "LayoutModel",
          "state": {
            "_model_module": "@jupyter-widgets/base",
            "_model_module_version": "1.2.0",
            "_model_name": "LayoutModel",
            "_view_count": null,
            "_view_module": "@jupyter-widgets/base",
            "_view_module_version": "1.2.0",
            "_view_name": "LayoutView",
            "align_content": null,
            "align_items": null,
            "align_self": null,
            "border": null,
            "bottom": null,
            "display": null,
            "flex": null,
            "flex_flow": null,
            "grid_area": null,
            "grid_auto_columns": null,
            "grid_auto_flow": null,
            "grid_auto_rows": null,
            "grid_column": null,
            "grid_gap": null,
            "grid_row": null,
            "grid_template_areas": null,
            "grid_template_columns": null,
            "grid_template_rows": null,
            "height": null,
            "justify_content": null,
            "justify_items": null,
            "left": null,
            "margin": null,
            "max_height": null,
            "max_width": null,
            "min_height": null,
            "min_width": null,
            "object_fit": null,
            "object_position": null,
            "order": null,
            "overflow": null,
            "overflow_x": null,
            "overflow_y": null,
            "padding": null,
            "right": null,
            "top": null,
            "visibility": null,
            "width": null
          }
        }
      }
    }
  },
  "nbformat": 4,
  "nbformat_minor": 0
}
