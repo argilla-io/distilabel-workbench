{
 "cells": [
  {
   "cell_type": "code",
   "execution_count": 1,
   "metadata": {},
   "outputs": [
    {
     "name": "stderr",
     "output_type": "stream",
     "text": [
      "/home/ben/.local/lib/python3.10/site-packages/tqdm/auto.py:21: TqdmWarning: IProgress not found. Please update jupyter and ipywidgets. See https://ipywidgets.readthedocs.io/en/stable/user_install.html\n",
      "  from .autonotebook import tqdm as notebook_tqdm\n"
     ]
    },
    {
     "data": {
      "text/plain": [
       "generation_model\n",
       "gpt-4-1106-preview    11000\n",
       "gpt-3.5-turbo-1106     1000\n",
       "Name: count, dtype: int64"
      ]
     },
     "execution_count": 1,
     "metadata": {},
     "output_type": "execute_result"
    }
   ],
   "source": [
    "from datasets import load_dataset, concatenate_datasets\n",
    "\n",
    "synthetic_dataset_gpt35_gpt4 = load_dataset(\n",
    "    \"argilla/DIBT_prompts_ranked_synthetic_n3_s1000\",\n",
    "    split=\"train\",\n",
    "    revision=\"dc853cebc7c39163c814624dd1ff2dfcc5bc154f\",\n",
    ")\n",
    "synthetic_dataset_gpt35_gpt4.to_pandas()[\"generation_model\"].explode().value_counts()"
   ]
  },
  {
   "cell_type": "code",
   "execution_count": 2,
   "metadata": {},
   "outputs": [
    {
     "name": "stderr",
     "output_type": "stream",
     "text": [
      "Creating parquet from Arrow format: 100%|██████████| 12/12 [00:00<00:00, 35.92ba/s]\n",
      "Uploading the dataset shards: 100%|██████████| 1/1 [00:30<00:00, 30.39s/it]\n"
     ]
    },
    {
     "data": {
      "text/plain": [
       "CommitInfo(commit_url='https://huggingface.co/datasets/argilla/DIBT_prompts_ranked_synthetic_n3_s1000/commit/d3683d04ee02f8879246756284d351b128643926', commit_message='Upload dataset', commit_description='', oid='d3683d04ee02f8879246756284d351b128643926', pr_url=None, pr_revision=None, pr_num=None)"
      ]
     },
     "execution_count": 2,
     "metadata": {},
     "output_type": "execute_result"
    }
   ],
   "source": [
    "synthetic_dataset_gpt35_gpt4.push_to_hub(\n",
    "    \"argilla/DIBT_prompts_ranked_synthetic_n3_s1000\"\n",
    ")"
   ]
  },
  {
   "cell_type": "code",
   "execution_count": 3,
   "metadata": {},
   "outputs": [
    {
     "data": {
      "text/plain": [
       "generation_model\n",
       "mistral-large-latest    6000\n",
       "Name: count, dtype: int64"
      ]
     },
     "execution_count": 3,
     "metadata": {},
     "output_type": "execute_result"
    }
   ],
   "source": [
    "synthetic_dataset_mistral_large_6k = load_dataset(\n",
    "    \"argilla/DIBT_prompts_ranked_synthetic_n3_s1000\",\n",
    "    split=\"train\",\n",
    "    revision=\"6de026f90328b9f1a48f7b0651e57085edf6bdb8\",\n",
    ")\n",
    "synthetic_dataset_mistral_large_6k.to_pandas()[\n",
    "    \"generation_model\"\n",
    "].explode().value_counts()"
   ]
  },
  {
   "cell_type": "code",
   "execution_count": 7,
   "metadata": {},
   "outputs": [
    {
     "name": "stderr",
     "output_type": "stream",
     "text": [
      "Creating parquet from Arrow format: 100%|██████████| 10/10 [00:00<00:00, 27.62ba/s]\n",
      "Uploading the dataset shards: 100%|██████████| 1/1 [00:17<00:00, 17.10s/it]\n"
     ]
    },
    {
     "data": {
      "text/plain": [
       "CommitInfo(commit_url='https://huggingface.co/datasets/burtenshaw/DIBT_prompts_ranked_synthetic_mistral_large/commit/b660cc49e5b41592fb67e74c2e49680698a16c91', commit_message='Upload dataset', commit_description='', oid='b660cc49e5b41592fb67e74c2e49680698a16c91', pr_url=None, pr_revision=None, pr_num=None)"
      ]
     },
     "execution_count": 7,
     "metadata": {},
     "output_type": "execute_result"
    }
   ],
   "source": [
    "synthetic_dataset_mistral_large_6k.push_to_hub(\n",
    "    \"burtenshaw/DIBT_prompts_ranked_synthetic_mistral_large\"\n",
    ")"
   ]
  },
  {
   "cell_type": "code",
   "execution_count": 6,
   "metadata": {},
   "outputs": [
    {
     "data": {
      "text/plain": [
       "num_responses\n",
       "1    3638\n",
       "2    1644\n",
       "3     544\n",
       "4     135\n",
       "5      33\n",
       "7       3\n",
       "6       3\n",
       "Name: count, dtype: int64"
      ]
     },
     "execution_count": 6,
     "metadata": {},
     "output_type": "execute_result"
    }
   ],
   "source": [
    "df = synthetic_dataset_mistral_large_6k.to_pandas()\n",
    "df.loc[df.generation_model == \"mistral-large-latest\"][\"num_responses\"].value_counts()"
   ]
  },
  {
   "cell_type": "code",
   "execution_count": 13,
   "metadata": {},
   "outputs": [
    {
     "data": {
      "text/plain": [
       "Series([], Name: count, dtype: int64)"
      ]
     },
     "execution_count": 13,
     "metadata": {},
     "output_type": "execute_result"
    }
   ],
   "source": [
    "synthetic_dataset_mistral_large_4k = load_dataset(\n",
    "    \"argilla/DIBT_prompts_ranked_synthetic_n3_s1000\",\n",
    "    split=\"train\",\n",
    "    revision=\"6ee6e360976f2c44820322c6092d577e43910e7b\",\n",
    ")\n",
    "synthetic_dataset_mistral_large_4k.to_pandas()[\n",
    "    \"generation_model\"\n",
    "].explode().value_counts()"
   ]
  },
  {
   "cell_type": "code",
   "execution_count": null,
   "metadata": {},
   "outputs": [
    {
     "name": "stderr",
     "output_type": "stream",
     "text": [
      "Creating parquet from Arrow format: 100%|██████████| 12/12 [00:00<00:00, 33.33ba/s]\n",
      "Uploading the dataset shards: 100%|██████████| 1/1 [00:00<00:00,  1.03it/s]\n"
     ]
    },
    {
     "data": {
      "text/plain": [
       "CommitInfo(commit_url='https://huggingface.co/datasets/argilla/DIBT_prompts_ranked_synthetic_n3_s1000/commit/dc853cebc7c39163c814624dd1ff2dfcc5bc154f', commit_message='Upload dataset', commit_description='', oid='dc853cebc7c39163c814624dd1ff2dfcc5bc154f', pr_url=None, pr_revision=None, pr_num=None)"
      ]
     },
     "metadata": {},
     "output_type": "display_data"
    }
   ],
   "source": [
    "concatenated_datasets = concatenate_datasets(\n",
    "    [synthetic_dataset_mistral_large_6k, synthetic_dataset_gpt35_gpt4]\n",
    ")"
   ]
  },
  {
   "cell_type": "code",
   "execution_count": 7,
   "metadata": {},
   "outputs": [
    {
     "name": "stderr",
     "output_type": "stream",
     "text": [
      "Creating parquet from Arrow format: 100%|██████████| 10/10 [00:00<00:00, 28.72ba/s]\n",
      "Uploading the dataset shards: 100%|██████████| 1/1 [00:00<00:00,  1.47it/s]\n"
     ]
    },
    {
     "data": {
      "text/plain": [
       "CommitInfo(commit_url='https://huggingface.co/datasets/argilla/DIBT_prompts_ranked_synthetic_n3_s1000/commit/ea02a52d231a2eeb2fd44ae1b2004170dc8cc520', commit_message='Upload dataset', commit_description='', oid='ea02a52d231a2eeb2fd44ae1b2004170dc8cc520', pr_url=None, pr_revision=None, pr_num=None)"
      ]
     },
     "execution_count": 7,
     "metadata": {},
     "output_type": "execute_result"
    }
   ],
   "source": [
    "synthetic_dataset_mistral_large_6k.push_to_hub(\n",
    "    \"argilla/DIBT_prompts_ranked_synthetic_n3_s1000\",\n",
    ")"
   ]
  },
  {
   "cell_type": "code",
   "execution_count": null,
   "metadata": {},
   "outputs": [],
   "source": []
  }
 ],
 "metadata": {
  "kernelspec": {
   "display_name": "py310",
   "language": "python",
   "name": "python3"
  },
  "language_info": {
   "codemirror_mode": {
    "name": "ipython",
    "version": 3
   },
   "file_extension": ".py",
   "mimetype": "text/x-python",
   "name": "python",
   "nbconvert_exporter": "python",
   "pygments_lexer": "ipython3",
   "version": "3.10.13"
  }
 },
 "nbformat": 4,
 "nbformat_minor": 2
}
