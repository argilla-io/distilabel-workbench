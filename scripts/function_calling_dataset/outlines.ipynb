{
 "cells": [
  {
   "cell_type": "code",
   "execution_count": null,
   "metadata": {},
   "outputs": [],
   "source": [
    "!pip install datasets\n",
    "!pip install openai"
   ]
  },
  {
   "cell_type": "code",
   "execution_count": 1,
   "metadata": {},
   "outputs": [
    {
     "name": "stderr",
     "output_type": "stream",
     "text": [
      "/root/.cache/pypoetry/virtualenvs/function-calling-dataset-8EcABAN_-py3.10/lib/python3.10/site-packages/tqdm/auto.py:21: TqdmWarning: IProgress not found. Please update jupyter and ipywidgets. See https://ipywidgets.readthedocs.io/en/stable/user_install.html\n",
      "  from .autonotebook import tqdm as notebook_tqdm\n"
     ]
    }
   ],
   "source": [
    "from datasets import load_dataset\n",
    "\n",
    "dataset = load_dataset(\"burtenshaw/function_calling_dataset\", split=\"train\")"
   ]
  },
  {
   "cell_type": "code",
   "execution_count": 2,
   "metadata": {},
   "outputs": [],
   "source": [
    "example = dataset[1]"
   ]
  },
  {
   "cell_type": "markdown",
   "metadata": {},
   "source": [
    "# Functionary in VLLM server"
   ]
  },
  {
   "cell_type": "code",
   "execution_count": 3,
   "metadata": {},
   "outputs": [],
   "source": [
    "import json\n",
    "from openai import OpenAI\n",
    "\n",
    "client = OpenAI(base_url=\"http://localhost:8000/v1\", api_key=\"functionary\")\n",
    "\n",
    "\n",
    "function = json.loads(example[\"function\"].replace(\"```json\",\"\").replace(\"```\",\"\"))\n",
    "function[\"type\"] = \"function\"\n",
    "\n",
    "\n",
    "output = client.chat.completions.create(\n",
    "    model=\"meetkai/functionary-small-v2.2\",\n",
    "    messages = [\n",
    "    {\"role\": \"user\", \"content\": example[\"instruction\"]}\n",
    "    ],\n",
    "    tools = [function],\n",
    "    tool_choice=\"auto\"\n",
    ")"
   ]
  },
  {
   "cell_type": "code",
   "execution_count": 4,
   "metadata": {},
   "outputs": [
    {
     "data": {
      "text/plain": [
       "Function(arguments='{\"query\": \"sedentary lifestyle effects\", \"indexName\": \"HealthToday\"}', name='performSearch')"
      ]
     },
     "execution_count": 4,
     "metadata": {},
     "output_type": "execute_result"
    }
   ],
   "source": [
    "output.choices[0].message.tool_calls[0].function"
   ]
  },
  {
   "cell_type": "markdown",
   "metadata": {},
   "source": [
    "# Distilabel"
   ]
  },
  {
   "cell_type": "code",
   "execution_count": 5,
   "metadata": {},
   "outputs": [
    {
     "name": "stderr",
     "output_type": "stream",
     "text": [
      "2024-03-01 09:26:08,280\tINFO util.py:154 -- Missing packages: ['ipywidgets']. Run `pip install -U ipywidgets`, then restart the notebook server for rich notebook output.\n"
     ]
    }
   ],
   "source": [
    "from distilabel.llm import OpenAILLM\n",
    "from distilabel.tasks import TextGenerationTask\n",
    "from openai import OpenAI\n",
    "import json\n",
    "\n",
    "\n",
    "client = OpenAI(base_url=\"http://localhost:8000/v1\", api_key=\"functionary\")"
   ]
  },
  {
   "cell_type": "code",
   "execution_count": 21,
   "metadata": {},
   "outputs": [],
   "source": [
    "# function = json.loads(example[\"function\"].replace(\"```json\",\"\").replace(\"```\",\"\"))\n",
    "# function[\"type\"] = \"function\"\n",
    "\n",
    "\n",
    "# output = client.chat.completions.create(\n",
    "#     model=\"meetkai/functionary-small-v2.2\",\n",
    "#     messages = [\n",
    "#     {\"role\": \"user\", \"content\": example[\"instruction\"]}\n",
    "#     ],\n",
    "#     tools = [function],\n",
    "#     tool_choice=\"auto\"\n",
    "# )\n",
    "\n",
    "class FunctionResponseGeneratorTask(TextGenerationTask):\n",
    "\n",
    "    @property\n",
    "    def input_args_names(self):\n",
    "        return [\"instruction\", \"function\"]\n",
    "\n",
    "    def parse_output(self, output: str):\n",
    "        return {\"function_call\" : output[0].model_dump()}\n",
    "\n",
    "    def generate_prompt(self, instruction: str, function: str, **_):\n",
    "        return instruction, function"
   ]
  },
  {
   "cell_type": "code",
   "execution_count": 22,
   "metadata": {},
   "outputs": [],
   "source": [
    "from distilabel.llm.utils import LLMOutput\n",
    "\n",
    "class FunctionUseOpenAILLM(OpenAILLM):\n",
    "\n",
    "    def _make_messages(self, inputs):\n",
    "        return [\n",
    "            {\"role\": \"user\", \"content\": inputs[\"instruction\"]}\n",
    "        ]\n",
    "\n",
    "    def _load_function(self, inputs):\n",
    "        return json.loads(inputs[\"function\"].replace(\"```json\",\"\").replace(\"```\",\"\"))\n",
    "\n",
    "    def _generate(\n",
    "        self,\n",
    "        inputs,\n",
    "        num_generations,\n",
    "    ):\n",
    "        outputs = []\n",
    "        for input in inputs:\n",
    "            function = self._load_function(input)\n",
    "            messages = self._make_messages(input)\n",
    "            chat_completions = self.client.chat.completions.create(\n",
    "                messages=messages,\n",
    "                model=self.model,\n",
    "                n=num_generations,\n",
    "                max_tokens=self.max_tokens,\n",
    "                frequency_penalty=self.frequency_penalty,\n",
    "                presence_penalty=self.presence_penalty,\n",
    "                temperature=self.temperature,\n",
    "                top_p=self.top_p,\n",
    "                timeout=50,\n",
    "                tools = [function],\n",
    "                tool_choice=\"auto\"\n",
    "            )\n",
    "\n",
    "            output = []\n",
    "            for chat_completion in chat_completions.choices:\n",
    "                try:\n",
    "                    parsed_response = self.task.parse_output(\n",
    "                        chat_completion.message.tool_calls\n",
    "                    )\n",
    "                except Exception as e:\n",
    "                    # logger.error(f\"Error parsing OpenAI response: {e}\")\n",
    "                    parsed_response = None\n",
    "                output.append(\n",
    "                    LLMOutput(\n",
    "                        model_name=self.model_name,\n",
    "                        prompt_used=messages,\n",
    "                        raw_output=chat_completion.message.content,\n",
    "                        parsed_output=parsed_response,\n",
    "                    )\n",
    "                )\n",
    "            outputs.append(output)\n",
    "        return outputs\n",
    "\n",
    "llm = FunctionUseOpenAILLM(client=client, model=\"meetkai/functionary-small-v2.2\", task=FunctionResponseGeneratorTask())"
   ]
  },
  {
   "cell_type": "code",
   "execution_count": 23,
   "metadata": {},
   "outputs": [
    {
     "data": {
      "text/plain": [
       "[[{'model_name': 'meetkai/functionary-small-v2.2',\n",
       "   'prompt_used': [{'role': 'user',\n",
       "     'content': \"Show me documents on 'nanotechnology advancements' from the 'ScienceJournal' index sorted by most recent first.\"}],\n",
       "   'raw_output': None,\n",
       "   'parsed_output': {'function_call': {'id': 'call_kSRn9XdYRk2kvHqhM6CQlaER',\n",
       "     'function': {'arguments': '{\"query\": \"nanotechnology advancements\", \"indexName\": \"ScienceJournal\", \"sortOrder\": \"desc\"}',\n",
       "      'name': 'performSearch'},\n",
       "     'type': 'function',\n",
       "     'index': None}}}],\n",
       " [{'model_name': 'meetkai/functionary-small-v2.2',\n",
       "   'prompt_used': [{'role': 'user',\n",
       "     'content': \"Are there any recent publications from 'HealthToday' index about the effects of a sedentary lifestyle?\"}],\n",
       "   'raw_output': None,\n",
       "   'parsed_output': {'function_call': {'id': 'call_A5K3G6tPwy1QqjJSaDVfvVcI',\n",
       "     'function': {'arguments': '{\"query\": \"sedentary lifestyle effects\", \"indexName\": \"HealthToday\"}',\n",
       "      'name': 'performSearch'},\n",
       "     'type': 'function',\n",
       "     'index': None}}}],\n",
       " [{'model_name': 'meetkai/functionary-small-v2.2',\n",
       "   'prompt_used': [{'role': 'user',\n",
       "     'content': \"Find testimonials on 'customer satisfaction' in the 'MarketInsights' database, and please apply a filter for reviews in the past year.\"}],\n",
       "   'raw_output': None,\n",
       "   'parsed_output': {'function_call': {'id': 'call_ripW9EwNsRwL85O2NiTtyVA1',\n",
       "     'function': {'arguments': '{\"query\": \"customer satisfaction\", \"indexName\": \"MarketInsights\", \"filters\": \"date:[2022-01-01T00:00:00Z TO2023-01-01T00:00:00Z]\", \"pageSize\": -1}',\n",
       "      'name': 'performSearch'},\n",
       "     'type': 'function',\n",
       "     'index': None}}}]]"
      ]
     },
     "execution_count": 23,
     "metadata": {},
     "output_type": "execute_result"
    }
   ],
   "source": [
    "llm.generate(dataset.to_list()[:3])"
   ]
  },
  {
   "cell_type": "code",
   "execution_count": 18,
   "metadata": {},
   "outputs": [
    {
     "data": {
      "text/plain": [
       "[{'instruction': \"Show me documents on 'nanotechnology advancements' from the 'ScienceJournal' index sorted by most recent first.\",\n",
       "  'function_call': '```json\\n{\\n    \"name\": \"performSearch\",\\n    \"arguments\": {\\n        \"query\": \"nanotechnology advancements\",\\n        \"indexName\": \"ScienceJournal\",\\n        \"sortOrder\": \"most recent first\"\\n    }\\n}\\n```',\n",
       "  'function': '```json\\n{\\n    \"function\": {\\n        \"name\": \"performSearch\",\\n        \"description\": \"Executes a search query against a specified index or dataset and returns matching documents.\",\\n        \"parameters\": {\\n            \"properties\": {\\n                \"query\": {\\n                    \"type\": \"string\",\\n                    \"description\": \"The search query input by the user to find relevant documents in the dataset.\",\\n                    \"items\": null\\n                },\\n                \"indexName\": {\\n                    \"type\": \"string\",\\n                    \"description\": \"The name of the index to run the search query against.\",\\n                    \"items\": null\\n                },\\n                \"filters\": {\\n                    \"type\": \"string\",\\n                    \"description\": \"Optional filters to apply to narrow down the search results.\",\\n                    \"items\": null\\n                },\\n                \"pageNumber\": {\\n                    \"type\": \"integer\",\\n                    \"description\": \"The number of the results page to return.\",\\n                    \"items\": null\\n                },\\n                \"pageSize\": {\\n                    \"type\": \"integer\",\\n                    \"description\": \"The number of documents to return per page.\",\\n                    \"items\": null\\n                },\\n                \"sortOrder\": {\\n                    \"type\": \"string\",\\n                    \"description\": \"Specifies the order in which the search results should be returned.\",\\n                    \"items\": null\\n                }\\n            },\\n            \"required\": [\\n                \"query\",\\n                \"indexName\"\\n            ]\\n        }\\n    }\\n}\\n```',\n",
       "  'distractors': '',\n",
       "  'rating': [{'user_id': '5bb2a532-36f6-4af8-b5b8-ad2fbba4b7d3',\n",
       "    'value': 4,\n",
       "    'status': 'submitted'}],\n",
       "  'rating-suggestion': 4,\n",
       "  'rating-suggestion-metadata': {'type': None,\n",
       "   'score': None,\n",
       "   'agent': 'gpt-4'},\n",
       "  'feedback': [],\n",
       "  'feedback-suggestion': \"The function call is accurate, follows the instruction correctly, and is complete. All relevant parameters including the 'query', 'indexName', and 'sortOrder' have been provided according to the instruction. The function call is clear and easy to understand.\",\n",
       "  'feedback-suggestion-metadata': {'type': None,\n",
       "   'score': None,\n",
       "   'agent': 'gpt-4'},\n",
       "  'improved_function_call': [],\n",
       "  'improved_function_call-suggestion': None,\n",
       "  'improved_function_call-suggestion-metadata': {'type': None,\n",
       "   'score': None,\n",
       "   'agent': None},\n",
       "  'improved_instruction': [],\n",
       "  'improved_instruction-suggestion': None,\n",
       "  'improved_instruction-suggestion-metadata': {'type': None,\n",
       "   'score': None,\n",
       "   'agent': None},\n",
       "  'improved_function': [],\n",
       "  'improved_function-suggestion': None,\n",
       "  'improved_function-suggestion-metadata': {'type': None,\n",
       "   'score': None,\n",
       "   'agent': None},\n",
       "  'external_id': None,\n",
       "  'metadata': '{\"domain\": \"Functions for search APIs\", \"rating\": 4}'},\n",
       " {'instruction': \"Are there any recent publications from 'HealthToday' index about the effects of a sedentary lifestyle?\",\n",
       "  'function_call': '```json\\n{\\n    \"name\": \"performSearch\",\\n    \"arguments\": {\\n        \"query\": \"effects of a sedentary lifestyle\",\\n        \"indexName\": \"HealthToday\"\\n    }\\n}\\n```',\n",
       "  'function': '```json\\n{\\n    \"function\": {\\n        \"name\": \"performSearch\",\\n        \"description\": \"Executes a search query against a specified index or dataset and returns matching documents.\",\\n        \"parameters\": {\\n            \"properties\": {\\n                \"query\": {\\n                    \"type\": \"string\",\\n                    \"description\": \"The search query input by the user to find relevant documents in the dataset.\",\\n                    \"items\": null\\n                },\\n                \"indexName\": {\\n                    \"type\": \"string\",\\n                    \"description\": \"The name of the index to run the search query against.\",\\n                    \"items\": null\\n                },\\n                \"filters\": {\\n                    \"type\": \"string\",\\n                    \"description\": \"Optional filters to apply to narrow down the search results.\",\\n                    \"items\": null\\n                },\\n                \"pageNumber\": {\\n                    \"type\": \"integer\",\\n                    \"description\": \"The number of the results page to return.\",\\n                    \"items\": null\\n                },\\n                \"pageSize\": {\\n                    \"type\": \"integer\",\\n                    \"description\": \"The number of documents to return per page.\",\\n                    \"items\": null\\n                },\\n                \"sortOrder\": {\\n                    \"type\": \"string\",\\n                    \"description\": \"Specifies the order in which the search results should be returned.\",\\n                    \"items\": null\\n                }\\n            },\\n            \"required\": [\\n                \"query\",\\n                \"indexName\"\\n            ]\\n        }\\n    }\\n}\\n```',\n",
       "  'distractors': '',\n",
       "  'rating': [{'user_id': '5bb2a532-36f6-4af8-b5b8-ad2fbba4b7d3',\n",
       "    'value': 4,\n",
       "    'status': 'submitted'}],\n",
       "  'rating-suggestion': 4,\n",
       "  'rating-suggestion-metadata': {'type': None,\n",
       "   'score': None,\n",
       "   'agent': 'gpt-4'},\n",
       "  'feedback': [],\n",
       "  'feedback-suggestion': \"The function call is correct and complete. It accurately represents the instruction and includes all relevant parameters, 'query' and 'indexName'.\",\n",
       "  'feedback-suggestion-metadata': {'type': None,\n",
       "   'score': None,\n",
       "   'agent': 'gpt-4'},\n",
       "  'improved_function_call': [],\n",
       "  'improved_function_call-suggestion': None,\n",
       "  'improved_function_call-suggestion-metadata': {'type': None,\n",
       "   'score': None,\n",
       "   'agent': None},\n",
       "  'improved_instruction': [],\n",
       "  'improved_instruction-suggestion': None,\n",
       "  'improved_instruction-suggestion-metadata': {'type': None,\n",
       "   'score': None,\n",
       "   'agent': None},\n",
       "  'improved_function': [],\n",
       "  'improved_function-suggestion': None,\n",
       "  'improved_function-suggestion-metadata': {'type': None,\n",
       "   'score': None,\n",
       "   'agent': None},\n",
       "  'external_id': None,\n",
       "  'metadata': '{\"domain\": \"Functions for search APIs\", \"rating\": 4}'},\n",
       " {'instruction': \"Find testimonials on 'customer satisfaction' in the 'MarketInsights' database, and please apply a filter for reviews in the past year.\",\n",
       "  'function_call': '```json\\n{\\n    \"name\": \"performSearch\",\\n    \"arguments\": {\\n        \"query\": \"customer satisfaction\",\\n        \"indexName\": \"MarketInsights\",\\n        \"filters\": \"reviews in the past year\"\\n    }\\n}\\n```',\n",
       "  'function': '```json\\n{\\n    \"function\": {\\n        \"name\": \"performSearch\",\\n        \"description\": \"Executes a search query against a specified index or dataset and returns matching documents.\",\\n        \"parameters\": {\\n            \"properties\": {\\n                \"query\": {\\n                    \"type\": \"string\",\\n                    \"description\": \"The search query input by the user to find relevant documents in the dataset.\",\\n                    \"items\": null\\n                },\\n                \"indexName\": {\\n                    \"type\": \"string\",\\n                    \"description\": \"The name of the index to run the search query against.\",\\n                    \"items\": null\\n                },\\n                \"filters\": {\\n                    \"type\": \"string\",\\n                    \"description\": \"Optional filters to apply to narrow down the search results.\",\\n                    \"items\": null\\n                },\\n                \"pageNumber\": {\\n                    \"type\": \"integer\",\\n                    \"description\": \"The number of the results page to return.\",\\n                    \"items\": null\\n                },\\n                \"pageSize\": {\\n                    \"type\": \"integer\",\\n                    \"description\": \"The number of documents to return per page.\",\\n                    \"items\": null\\n                },\\n                \"sortOrder\": {\\n                    \"type\": \"string\",\\n                    \"description\": \"Specifies the order in which the search results should be returned.\",\\n                    \"items\": null\\n                }\\n            },\\n            \"required\": [\\n                \"query\",\\n                \"indexName\"\\n            ]\\n        }\\n    }\\n}\\n```',\n",
       "  'distractors': '',\n",
       "  'rating': [{'user_id': '5bb2a532-36f6-4af8-b5b8-ad2fbba4b7d3',\n",
       "    'value': 4,\n",
       "    'status': 'submitted'}],\n",
       "  'rating-suggestion': 4,\n",
       "  'rating-suggestion-metadata': {'type': None,\n",
       "   'score': None,\n",
       "   'agent': 'gpt-4'},\n",
       "  'feedback': [],\n",
       "  'feedback-suggestion': \"The function call is correct, complete, and represents the instruction adequately. It includes all the required parameters, 'query' and 'indexName', along with an optional parameter, 'filters', that was specified in the instruction.\",\n",
       "  'feedback-suggestion-metadata': {'type': None,\n",
       "   'score': None,\n",
       "   'agent': 'gpt-4'},\n",
       "  'improved_function_call': [],\n",
       "  'improved_function_call-suggestion': None,\n",
       "  'improved_function_call-suggestion-metadata': {'type': None,\n",
       "   'score': None,\n",
       "   'agent': None},\n",
       "  'improved_instruction': [],\n",
       "  'improved_instruction-suggestion': None,\n",
       "  'improved_instruction-suggestion-metadata': {'type': None,\n",
       "   'score': None,\n",
       "   'agent': None},\n",
       "  'improved_function': [],\n",
       "  'improved_function-suggestion': None,\n",
       "  'improved_function-suggestion-metadata': {'type': None,\n",
       "   'score': None,\n",
       "   'agent': None},\n",
       "  'external_id': None,\n",
       "  'metadata': '{\"domain\": \"Functions for search APIs\", \"rating\": 4}'}]"
      ]
     },
     "execution_count": 18,
     "metadata": {},
     "output_type": "execute_result"
    }
   ],
   "source": [
    "dataset.to_list()[:3]"
   ]
  },
  {
   "cell_type": "code",
   "execution_count": null,
   "metadata": {},
   "outputs": [],
   "source": []
  }
 ],
 "metadata": {
  "kernelspec": {
   "display_name": "Python 3 (ipykernel)",
   "language": "python",
   "name": "python3"
  },
  "language_info": {
   "codemirror_mode": {
    "name": "ipython",
    "version": 3
   },
   "file_extension": ".py",
   "mimetype": "text/x-python",
   "name": "python",
   "nbconvert_exporter": "python",
   "pygments_lexer": "ipython3",
   "version": "3.10.12"
  }
 },
 "nbformat": 4,
 "nbformat_minor": 2
}
